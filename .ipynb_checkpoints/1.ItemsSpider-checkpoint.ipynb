{
 "cells": [
  {
   "cell_type": "markdown",
   "metadata": {},
   "source": [
    "# 获取天猫左侧菜单一二级目录"
   ]
  },
  {
   "cell_type": "markdown",
   "metadata": {},
   "source": [
    "本部分代码主要是抓取天猫左侧菜单栏的一二级类目下的分类信息，如下图所示\n",
    "\n",
    "[![knfplQ.md.png](https://s2.ax1x.com/2019/01/26/knfplQ.md.png)](https://imgchr.com/i/knfplQ)\n",
    "\n",
    "在图像的左方是一级菜单，显示了天猫所有产品的一级类目，当我们吧鼠标移到一级类目上时，就会弹出二级类目菜单，通过Chrome的控制台我们可以了解到一二级类目是异步加载（按照用户的不同操作时间先后加载）的，从常规思维讲，我们需要做的是把用selenium操作了浏览器，把鼠标移到所有的一级类目菜单上，在试用`find_elements_by_XX`之类的webdriver方法获取text文本。\n",
    "\n",
    "但后来通过chrome查看后台的交互逻辑发现，原来当用户鼠标移动到一级类目菜单上时，浏览器实际上作了一个request请求；服务器后台返回了一个JSON包（异步加载的常用形式），而我们所需要的数据都包含在这个包中，知道了这一点，我们就得到了获取一二级分类的思路：\n",
    "\n",
    "- 1. 直接向后台请求JSON包的地址\n",
    "- 2. 解析JSON包，获取所需数据。\n",
    "\n"
   ]
  },
  {
   "cell_type": "markdown",
   "metadata": {},
   "source": [
    "## 请求连接构建"
   ]
  },
  {
   "cell_type": "markdown",
   "metadata": {},
   "source": [
    "之后我们获取到了天猫`Request URL`请求的地址，请求地址基本大同小异，异常之处就是我们要修改的地方，如下所示是`母婴用品`的请求地址：\n",
    "```\n",
    "https://www.tmall.com/wow/chaoshi/act/catpopup?wh_id=myyp&wh_logica=HD&wh_callback=__chaoshi_category_popup_myyp\n",
    "```\n",
    "接下来是`家庭清洁`的`Request URL`的请求地址：\n",
    "```\n",
    "ttps://www.tmall.com/wow/chaoshi/act/catpopup?wh_id=jtqj&wh_logica=HD&wh_callback=__chaoshi_category_popup_jtqj\n",
    "```\n",
    "可以看到两句中只有两处不同之处（`myyp`和`jtqj`），这两处分别是母婴用品和家庭情节的拼音首字母。\n",
    "\n",
    "到此为止我们已经知道该如何构建天猫一二级分类的Request URL了，接下来我们要做的就是获取JSON并解析。"
   ]
  },
  {
   "cell_type": "code",
   "execution_count": 1,
   "metadata": {},
   "outputs": [],
   "source": [
    "# 全部的需求包\n",
    "from urllib import request\n",
    "from urllib.request import Request\n",
    "from bs4 import BeautifulSoup\n",
    "from lxml import etree\n",
    "import requests\n",
    "import pandas as pd\n",
    "import json\n",
    "import time\n",
    "from pandas.io.json import json_normalize\n",
    "import re"
   ]
  },
  {
   "cell_type": "code",
   "execution_count": 2,
   "metadata": {},
   "outputs": [
    {
     "name": "stdout",
     "output_type": "stream",
     "text": [
      "https://www.tmall.com/wow/chaoshi/act/catpopup?wh_id=jksp&wh_logica=HD&wh_callback=__chaoshi_category_popup_jksp\n",
      "https://www.tmall.com/wow/chaoshi/act/catpopup?wh_id=spyl&wh_logica=HD&wh_callback=__chaoshi_category_popup_spyl\n",
      "https://www.tmall.com/wow/chaoshi/act/catpopup?wh_id=lyfs&wh_logica=HD&wh_callback=__chaoshi_category_popup_lyfs\n",
      "https://www.tmall.com/wow/chaoshi/act/catpopup?wh_id=mrxh&wh_logica=HD&wh_callback=__chaoshi_category_popup_mrxh\n",
      "https://www.tmall.com/wow/chaoshi/act/catpopup?wh_id=jjjd&wh_logica=HD&wh_callback=__chaoshi_category_popup_jjjd\n",
      "https://www.tmall.com/wow/chaoshi/act/catpopup?wh_id=jtqj&wh_logica=HD&wh_callback=__chaoshi_category_popup_jtqj\n",
      "https://www.tmall.com/wow/chaoshi/act/catpopup?wh_id=myyp&wh_logica=HD&wh_callback=__chaoshi_category_popup_myyp\n"
     ]
    }
   ],
   "source": [
    "import requests\n",
    "# 根据Json文件的请求链接得到主菜单的排序方式，于是制作链接片段\n",
    "url_forwards = 'https://www.tmall.com/wow/chaoshi/act/catpopup?wh_id='\n",
    "url_back = '&wh_logica=HD&wh_callback=__chaoshi_category_popup_'\n",
    "url_small = ['jksp','spyl','lyfs','mrxh','jjjd','jtqj','myyp']\n",
    "\n",
    "# 制作链接列表\n",
    "result = []\n",
    "for i in url_small:\n",
    "    result.append(url_forwards+i+url_back+i)\n",
    "# 遍历列表，访问服务器，得到所有的Json结果\n",
    "JsonResult = []\n",
    "for jsonURL in result:\n",
    "    JsonResult.append(requests.get(jsonURL))\n",
    "    print(jsonURL)\n",
    "    time.sleep(5)"
   ]
  },
  {
   "cell_type": "markdown",
   "metadata": {},
   "source": [
    "我们已经获得了全部的数据，接下来就是清洗这部分数据了，首先我们来看一下这部分数据长什么样子。"
   ]
  },
  {
   "cell_type": "code",
   "execution_count": 3,
   "metadata": {},
   "outputs": [
    {
     "data": {
      "text/plain": [
       "'\\r\\n\\r\\n\\n\\n\\n      \\n        \\n      \\n    \\n\\n\\n\\n\\n\\n\\n\\n    \\n\\n\\n\\n\\n    __chaoshi_category_popup_jksp({\"data\":{\"cats\":[{\"cats\":[{\"highlight\":false,\"link\":\"//list.tmall.com/search_product.htm?spm=1.1.0.0.PJMbwM&user_id=725677994&cat=51440019&active=1&acm=lb-zebra-26901-351264.1003.4.468294&style=g&sort=s&scm=1003.4.lb-zebra-26901-351264.OTHER_14440874222721_468294&industryCatId=51462017\",\"text\":\"进口纯牛奶\"},{\"highlight\":true,\"link\":\"//list.tmall.com/search_product.htm?spm=1.1.0.0.1n8FE3&user_id=725677994&cat=51456017&active=1&acm=lb-zebra-26901-351264.1003.4.468294&style=g&sort=s&scm=1003.4.lb-zebra-26901-351264.OTHER_14440870375242_468294&industryCatId=51462017\",\"text\":\"进口酸奶\"},{\"highlight\":false,\"link\":\"//list.tmall.com/search_product.htm?spm=1.1.0.0.Pp5jwS&user_id=725677994&cat=53992015&active=1&acm=lb-zebra-26901-351264.1003.4.468294&style=g&sort=td&search_condition=23&scm=1003.4.lb-zebra-26901-351264.OTHER_14440881917703_468294&industryCatId=51462017\",\"text\":\"进口成人奶粉\"},{\"highlight\":false,\"link\":\"//list.tmall.com/search_product.htm?spm=1.1.0.0.3gPZwb&user_id=725677994&cat=51470006&active=1&acm=lb-zebra-26901-351264.1003.4.468294&style=g&sort=s&scm=1003.4.lb-zebra-26901-351264.OTHER_14440878070214_468294&industryCatId=51462017\",\"text\":\"进口含乳饮料\"},{\"highlight\":false,\"link\":\"//list.tmall.com/search_product.htm?spm=1.1.0.0.xWLqBi&user_id=725677994&cat=51462017&prop=2445415:21958&active=1&is=prop&acm=lb-zebra-26901-351264.1003.4.468294&style=g&sort=s&scm=1003.4.lb-zebra-26901-351264.OTHER_14440858832775_468294&industryCatId=51462017#J_crumbs\",\"text\":\"进口有机牛奶\"},{\"highlight\":false,\"link\":\"//list.tmall.com/search_product.htm?spm=1.1.0.0.mg24Hs&user_id=725677994&cat=51462017&active=1&is=brand&acm=lb-zebra-26901-351264.1003.4.468294&style=g&sort=s&scm=1003.4.lb-zebra-26901-351264.OTHER_14440854985286_468294&industryCatId=51462017&brand=8551740\",\"text\":\"进口酸奶粉\"}],\"link\":\"//list.tmall.com/search_product.htm?spm=3.405264.315613.3.NggqAe&user_id=725677994&cat=51462017&active=1&acm=lb-zebra-26901-329683.1003.4.468295&style=g&scm=1003.4.lb-zebra-26901-329683.OTHER_9_468295\",\"title\":\"进口牛奶\"},{\"cats\":[{\"highlight\":false,\"link\":\"//list.tmall.com/search_product.htm?spm=1.1.0.0.6Db6yC&user_id=725677994&cat=51456019&active=1&acm=lb-zebra-26901-330370.1003.4.456139&style=g&search_condition=23&scm=1003.4.lb-zebra-26901-330370.OTHER_14434798671511_456139&industryCatId=51462017\",\"text\":\"进口蜜饯果干\"},{\"highlight\":false,\"link\":\"//list.tmall.com/search_product.htm?spm=1.1.0.0.KR6xOF&user_id=725677994&cat=51462016&active=1&acm=lb-zebra-26901-330370.1003.4.456139&style=g&search_condition=23&scm=1003.4.lb-zebra-26901-330370.OTHER_14434794824032_456139&industryCatId=51462017\",\"text\":\"进口薯片/膨化\"},{\"highlight\":false,\"link\":\"//list.tmall.com/search_product.htm?spm=1.1.0.0.RTK7H7&user_id=725677994&cat=51456020&active=1&acm=lb-zebra-26901-330370.1003.4.456139&style=g&search_condition=23&scm=1003.4.lb-zebra-26901-330370.OTHER_14434806366493_456139&industryCatId=51462017\",\"text\":\"进口坚果\"},{\"highlight\":false,\"link\":\"//list.tmall.com/search_product.htm?spm=1.1.0.0.vA1gmV&user_id=725677994&cat=51440016&active=1&acm=lb-zebra-26901-330370.1003.4.456139&style=g&sort=td&search_condition=23&scm=1003.4.lb-zebra-26901-330370.OTHER_14434802519004_456139&industryCatId=51448011\",\"text\":\"进口糖果\"},{\"highlight\":false,\"link\":\"//list.tmall.com/search_product.htm?spm=1.1.0.0.hBxsM3&user_id=725677994&cat=51444010&active=1&acm=lb-zebra-26901-330370.1003.4.456139&style=g&sort=td&search_condition=23&scm=1003.4.lb-zebra-26901-330370.OTHER_14434783281565_456139&industryCatId=51448011\",\"text\":\"进口果冻布丁\"},{\"highlight\":false,\"link\":\"//list.tmall.com/search_product.htm?spm=1.1.0.0.V6TB3O&user_id=725677994&cat=51464015&active=1&acm=lb-zebra-26901-330370.1003.4.456139&style=g&sort=td&search_condition=23&scm=1003.4.lb-zebra-26901-330370.OTHER_14434779434076_456139&industryCatId=51446014\",\"text\":\"进口海产品\"},{\"highlight\":false,\"link\":\"//list.tmall.com/search_product.htm?spm=1.1.0.0.jdpEn9&user_id=725677994&cat=51450017&active=1&acm=lb-zebra-26901-330370.1003.4.456139&style=g&search_condition=23&scm=1003.4.lb-zebra-26901-330370.OTHER_14434790976547_456139\",\"text\":\"进口肉干\"},{\"highlight\":false,\"link\":\"//list.tmall.com//search_product.htm?q=%BD%F8%BF%DA%C7%C9%BF%CB%C1%A6&spm=1.1.0.0.dAkJYT&user_id=725677994&cat=50512020&acm=lb-zebra-26901-330370.1003.4.456139&style=g&from=chaoshi..pc_1_searchbutton&sort=s&search_condition=23&scm=1003.4.lb-zebra-26901-330370.OTHER_14434787129058_456139&industryCatId=50514010\",\"text\":\"进口巧克力\"}],\"link\":\"//list.tmall.com/search_product.htm?spm=1.1.0.0.jDBRKO&user_id=725677994&cat=51448014&active=1&acm=lb-zebra-26901-329683.1003.4.468295&style=g&search_condition=23&scm=1003.4.lb-zebra-26901-329683.OTHER_1_468295&industryCatId=51462017\",\"title\":\"进口零食\"},{\"cats\":[{\"highlight\":false,\"link\":\"//list.tmall.com/search_product.htm?spm=1.1.0.0.Ify9QE&user_id=725677994&cat=51444011&active=1&acm=lb-zebra-26901-330388.1003.4.456178&style=g&search_condition=23&scm=1003.4.lb-zebra-26901-330388.OTHER_14434802421421_456178\",\"text\":\"进口葡萄酒\"},{\"highlight\":false,\"link\":\"//list.tmall.com/search_product.htm?spm=1.1.0.0.qTFEG8&user_id=725677994&cat=51464014&active=1&acm=lb-zebra-26901-330388.1003.4.456178&style=g&search_condition=23&scm=1003.4.lb-zebra-26901-330388.OTHER_14434798573932_456178\",\"text\":\"进口啤酒\"},{\"highlight\":false,\"link\":\"//list.tmall.com/search_product.htm?q=%C6%F0%C5%DD%BE%C6&spm=1.1.0.0.X7EQIP&user_id=725677994&cat=51454011&acm=lb-zebra-26901-330388.1003.4.456178&style=g&from=chaoshi.index.pc_1_searchbutton&sort=s&scm=1003.4.lb-zebra-26901-330388.OTHER_14434810116393_456178&industryCatId=50514008\",\"text\":\"进口起泡酒\"},{\"highlight\":false,\"link\":\"//list.tmall.com/search_product.htm?spm=1.1.0.0.XJyCD5&user_id=725677994&cat=51452017&active=1&acm=lb-zebra-26901-330388.1003.4.456178&style=g&search_condition=23&scm=1003.4.lb-zebra-26901-330388.OTHER_14434806268904_456178\",\"text\":\"进口洋酒\"},{\"highlight\":false,\"link\":\"//list.tmall.com/search_product.htm?spm=1.1.0.0.YZc2oQ&user_id=725677994&cat=51454014&active=1&acm=lb-zebra-26901-330388.1003.4.456178&style=g&search_condition=23&scm=1003.4.lb-zebra-26901-330388.OTHER_14434787031465_456178\",\"text\":\"进口果汁\"},{\"highlight\":true,\"link\":\"//list.tmall.com/search_product.htm?spm=1.1.0.0.I3Tbsx&user_id=725677994&cat=51448012&active=1&acm=lb-zebra-26901-330388.1003.4.456178&style=g&search_condition=23&scm=1003.4.lb-zebra-26901-330388.OTHER_14434783183976_456178\",\"text\":\"进口水\"},{\"highlight\":false,\"link\":\"//list.tmall.com/search_product.htm?spm=1.1.0.0.qTueOM&user_id=725677994&cat=51456015&active=1&acm=lb-zebra-26901-330388.1003.4.456178&style=g&search_condition=23&scm=1003.4.lb-zebra-26901-330388.OTHER_14434794726447_456178\",\"text\":\"进口咖啡饮料\"},{\"highlight\":false,\"link\":\"//list.tmall.com/search_product.htm?spm=1.1.0.0.hA4dfm&user_id=725677994&cat=51460015&active=1&acm=lb-zebra-26901-330388.1003.4.456178&style=g&search_condition=23&scm=1003.4.lb-zebra-26901-330388.OTHER_14434790878958_456178\",\"text\":\"进口碳酸饮料\"}],\"link\":\"//list.tmall.com/search_product.htm?spm=1.1.0.0.THQCLg&user_id=725677994&cat=51456014&active=1&acm=lb-zebra-26901-329683.1003.4.468295&style=g&search_condition=23&scm=1003.4.lb-zebra-26901-329683.OTHER_2_468295\",\"title\":\"进口酒饮\"},{\"cats\":[{\"highlight\":false,\"link\":\"//list.tmall.com/search_product.htm?spm=1.1.0.0.Lnmuxl&q=%E9%CF%E9%AD%D3%CD&user_id=725677994&cat=51454011&active=1&style=g&from=chaoshi..pc_1_searchbutton&acm=lb-zebra-26901-351247.1003.4.468267&sort=td&scm=1003.4.lb-zebra-26901-351247.OTHER_14440872025381_468267&industryCatId=50514008#J_Filter\",\"text\":\"进口橄榄油\"},{\"highlight\":false,\"link\":\"//list.tmall.com//search_product.htm?spm=1.1.0.0.5GF3Da&q=%CA%B3%D3%C3%D3%CD&user_id=725677994&cat=51454011&style=g&from=chaoshi..pc_1_searchbutton&acm=lb-zebra-26901-351247.1003.4.468267&sort=s&scm=1003.4.lb-zebra-26901-351247.OTHER_14440868177892_468267&industryCatId=50514008\",\"text\":\"进口其他油\"},{\"highlight\":true,\"link\":\"//list.tmall.com/search_product.htm?spm=1.1.0.0.83qNbM&user_id=725677994&cat=51442019&active=1&style=g&acm=lb-zebra-26901-351247.1003.4.468267&sort=td&scm=1003.4.lb-zebra-26901-351247.OTHER_14440879720353_468267&industryCatId=51462017\",\"text\":\"进口大米\"},{\"highlight\":false,\"link\":\"//list.tmall.com/search_product.htm?spm=1.1.0.0.pG4rrB&user_id=725677994&cat=51440020&active=1&style=g&acm=lb-zebra-26901-351247.1003.4.468267&sort=td&search_condition=23&scm=1003.4.lb-zebra-26901-351247.OTHER_14440875872864_468267&industryCatId=51462017\",\"text\":\"进口方便面\"},{\"highlight\":false,\"link\":\"//list.tmall.com/search_product.htm?spm=1.1.0.0.GatMz7&user_id=725677994&cat=51460021&active=1&style=g&acm=lb-zebra-26901-351247.1003.4.468267&search_condition=23&scm=1003.4.lb-zebra-26901-351247.OTHER_14440856635425_468267\",\"text\":\"进口意面\"},{\"highlight\":false,\"link\":\"//list.tmall.com/search_product.htm?spm=1.1.0.0.7McD63&user_id=725677994&cat=51450018&active=1&style=g&acm=lb-zebra-26901-351247.1003.4.468267&sort=td&search_condition=23&scm=1003.4.lb-zebra-26901-351247.OTHER_14440852787936_468267&industryCatId=51462017\",\"text\":\"其他速食\"},{\"highlight\":false,\"link\":\"//list.tmall.com/search_product.htm?spm=1.1.0.0.IH4xPN&user_id=725677994&cat=51452021&active=1&style=g&acm=lb-zebra-26901-351247.1003.4.468267&search_condition=23&scm=1003.4.lb-zebra-26901-351247.OTHER_14440864330407_468267\",\"text\":\"进口罐头\"},{\"highlight\":false,\"link\":\"//list.tmall.com/search_product.htm?spm=1.1.0.0.OfXElj&user_id=725677994&cat=51440022&active=1&style=g&acm=lb-zebra-26901-351247.1003.4.468267&sort=td&search_condition=23&scm=1003.4.lb-zebra-26901-351247.OTHER_14440860482918_468267&industryCatId=51462017\",\"text\":\"进口调味料\"},{\"highlight\":false,\"link\":\"//list.tmall.com/search_product.htm?spm=1.1.0.0.IXw6PJ&user_id=725677994&cat=51466012&active=1&style=g&acm=lb-zebra-26901-351247.1003.4.468267&sort=td&search_condition=23&scm=1003.4.lb-zebra-26901-351247.OTHER_14440841245469_468267&industryCatId=51462017\",\"text\":\"进口调味酱\"},{\"highlight\":false,\"link\":\"//list.tmall.com/search_product.htm?spm=1.1.0.0.ucqrUX&user_id=725677994&cat=51456021&active=1&style=g&acm=lb-zebra-26901-351247.1003.4.468267&sort=s&search_condition=23&scm=1003.4.lb-zebra-26901-351247.OTHER_144408373979710_468267&industryCatId=51462017#J_Filter\",\"text\":\"进口调味汁\"}],\"link\":\"//list.tmall.com/search_product.htm?spm=1.1.0.0.KhAYm7&user_id=725677994&cat=51444014&active=1&style=g&acm=lb-zebra-26901-329683.1003.4.468295&scm=1003.4.lb-zebra-26901-329683.OTHER_3_468295\",\"title\":\"进口粮油/速食/调料\"},{\"cats\":[{\"highlight\":false,\"link\":\"//list.tmall.com/search_product.htm?spm=3.405264.315613.170.be1SZA&user_id=725677994&cat=51468017&active=1&acm=lb-zebra-26901-351249.1003.4.468273&style=g&scm=1003.4.lb-zebra-26901-351249.OTHER_14440872187931_468273\",\"text\":\"进口纸尿裤\"},{\"highlight\":false,\"link\":\"//list.tmall.com/search_product.htm?spm=3.405264.315613.171.be1SZA&user_id=725677994&cat=51464019&active=1&acm=lb-zebra-26901-351249.1003.4.468273&style=g&search_condition=23&scm=1003.4.lb-zebra-26901-351249.OTHER_14440868340442_468273\",\"text\":\"进口母婴洗护\"},{\"highlight\":false,\"link\":\"//list.tmall.com/search_product.htm?spm=1.1.0.0.NscFSS&user_id=725677994&cat=51460025&active=1&acm=lb-zebra-26901-351249.1003.4.468273&style=g&search_condition=23&scm=1003.4.lb-zebra-26901-351249.OTHER_14440879882903_468273\",\"text\":\"进口婴儿奶粉\"},{\"highlight\":false,\"link\":\"//list.tmall.com/search_product.htm?spm=1.1.0.0.pTjS0x&user_id=725677994&cat=51454018&active=1&acm=lb-zebra-26901-351249.1003.4.468273&style=g&search_condition=23&scm=1003.4.lb-zebra-26901-351249.OTHER_14440876035414_468273\",\"text\":\"进口辅食\"},{\"highlight\":false,\"link\":\"//list.tmall.com/search_product.htm?spm=1.1.0.0.in7Oug&user_id=725677994&cat=51456023&active=1&acm=lb-zebra-26901-351249.1003.4.468273&style=g&search_condition=23&scm=1003.4.lb-zebra-26901-351249.OTHER_14440856797975_468273\",\"text\":\"进口婴幼儿营养品\"},{\"highlight\":false,\"link\":\"//list.tmall.com/search_product.htm?spm=1.1.0.0.U8EAaF&user_id=725677994&cat=51458017&active=1&acm=lb-zebra-26901-351249.1003.4.468273&style=g&search_condition=23&scm=1003.4.lb-zebra-26901-351249.OTHER_14440852950486_468273\",\"text\":\"进口孕产妇营养品\"},{\"highlight\":false,\"link\":\"//list.tmall.com/search_product.htm?spm=1.1.0.0.h5WWue&user_id=725677994&cat=51456024&active=1&acm=lb-zebra-26901-351249.1003.4.468273&style=g&search_condition=23&scm=1003.4.lb-zebra-26901-351249.OTHER_14440864492957_468273\",\"text\":\"进口奶瓶/奶嘴/牙胶\"},{\"highlight\":false,\"link\":\"//list.tmall.com/search_product.htm?spm=1.1.0.0.UF9twS&user_id=725677994&cat=51466014&active=1&acm=lb-zebra-26901-351249.1003.4.468273&style=g&search_condition=23&scm=1003.4.lb-zebra-26901-351249.OTHER_14440860645478_468273\",\"text\":\"进口日常生活用品\"}],\"link\":\"//list.tmall.com/list/search_product.htm?end_price=&start_price=&acm=lb-zebra-26901-329683.1003.4.468295&sort=s&type=&chaoshi_imported=&spm=3.405264.315613.169.Aux4Dr&q=%BD%F8%BF%DA&user_id=725677994&prop=&cat=50510007&catName=&scm=1003.4.lb-zebra-26901-329683.OTHER_4_468295&brand=\",\"title\":\"进口母婴用品\"},{\"cats\":[{\"highlight\":true,\"link\":\"//list.tmall.com/search_product.htm?spm=1.1.0.0.RMuwyk&user_id=725677994&cat=51464012&active=1&acm=lb-zebra-26901-351250.1003.4.468276&style=g&search_condition=23&scm=1003.4.lb-zebra-26901-351250.OTHER_14440872358051_468276&industryCatId=50514008\",\"text\":\"进口咖啡\"},{\"highlight\":false,\"link\":\"//list.tmall.com/search_product.htm?spm=1.1.0.0.r3JQZa&user_id=725677994&cat=51456013&active=1&acm=lb-zebra-26901-351250.1003.4.468276&style=g&search_condition=23&scm=1003.4.lb-zebra-26901-351250.OTHER_14440868510562_468276&industryCatId=50514008\",\"text\":\"进口茶/蜂蜜\"},{\"highlight\":false,\"link\":\"//list.tmall.com/search_product.htm?spm=1.1.0.0.xmXpkS&user_id=725677994&cat=51446011&active=1&acm=lb-zebra-26901-351250.1003.4.468276&style=g&search_condition=23&scm=1003.4.lb-zebra-26901-351250.OTHER_14440880053023_468276&industryCatId=50514008\",\"text\":\"进口谷物冲饮\"},{\"highlight\":false,\"link\":\"//list.tmall.com/search_product.htm?spm=1.1.0.0.t6yW7M&user_id=725677994&cat=51460014&active=1&acm=lb-zebra-26901-351250.1003.4.468276&style=g&search_condition=23&scm=1003.4.lb-zebra-26901-351250.OTHER_14440876205534_468276&industryCatId=50514008\",\"text\":\"进口奶茶\"},{\"highlight\":false,\"link\":\"//list.tmall.com/search_product.htm?spm=1.1.0.0.GOOxdT&user_id=725677994&cat=51452015&active=1&acm=lb-zebra-26901-351250.1003.4.468276&style=g&search_condition=23&scm=1003.4.lb-zebra-26901-351250.OTHER_14440856968095_468276&industryCatId=50514008\",\"text\":\"进口茶叶\"},{\"highlight\":false,\"link\":\"//list.tmall.com/search_product.htm?spm=1.1.0.0.msIBLP&user_id=725677994&cat=51452023&active=1&acm=lb-zebra-26901-351250.1003.4.468276&style=g&sort=td&scm=1003.4.lb-zebra-26901-351250.OTHER_14440853120606_468276&industryCatId=51462017\",\"text\":\"进口保健品\"},{\"highlight\":false,\"link\":\"//list.tmall.com/search_product.htm?q=&user_id=725677994&cat=51452023&end_price=&acm=lb-zebra-26901-351250.1003.4.468276&start_price=&scm=1003.4.lb-zebra-26901-351250.OTHER_14440864663077_468276&brand=3229544%2C110134%2C44932\",\"text\":\"进口维生素\"}],\"link\":\"//list.tmall.com/search_product.htm?spm=1.1.0.0.ZEo5ys&user_id=725677994&cat=51456012&active=1&style=g&acm=lb-zebra-26901-329683.1003.4.468295&sort=s&search_condition=23&scm=1003.4.lb-zebra-26901-329683.OTHER_5_468295&industryCatId=51462017#J_Filter\",\"title\":\"进口冲调保健\"},{\"cats\":[{\"highlight\":false,\"link\":\"//list.tmall.com/search_product.htm?spm=1.1.0.0.8KbOAa&user_id=725677994&cat=51442021&active=1&style=g&acm=lb-zebra-26901-351256.1003.4.468278&search_condition=23&scm=1003.4.lb-zebra-26901-351256.OTHER_14440872521661_468278\",\"text\":\"进口餐具/水杯\"},{\"highlight\":false,\"link\":\"//list.tmall.com/search_product.htm?spm=1.1.0.0.2xtEik&user_id=725677994&cat=51442020&active=1&style=g&acm=lb-zebra-26901-351256.1003.4.468278&search_condition=23&scm=1003.4.lb-zebra-26901-351256.OTHER_14440868674182_468278\",\"text\":\"进口厨具/锅具\"},{\"highlight\":false,\"link\":\"//list.tmall.com/search_product.htm?spm=1.1.0.0.qeoTET&user_id=725677994&cat=51466011&active=1&style=g&acm=lb-zebra-26901-351256.1003.4.468278&search_condition=23&scm=1003.4.lb-zebra-26901-351256.OTHER_14440880216643_468278\",\"text\":\"进口一次性用品\"}],\"link\":\"//list.tmall.com/search_product.htm?spm=1.1.0.0.G1ibet&user_id=725677994&cat=51448015&active=1&style=g&acm=lb-zebra-26901-329683.1003.4.468295&search_condition=23&scm=1003.4.lb-zebra-26901-329683.OTHER_6_468295\",\"title\":\"进口厨房用品\"},{\"cats\":[{\"highlight\":false,\"link\":\"//list.tmall.com/search_product.htm?q=%BD%F8%BF%DA%B1%FD%B8%C9&spm=a3204.7084713.a2227oh.d100&user_id=725677994&cat=50514008&acm=lb-zebra-26901-351258.1003.4.468280&from=chaoshi.index.pc_1_searchbutton&type=p&scm=1003.4.lb-zebra-26901-351258.OTHER_14440872664241_468280\",\"text\":\"进口饼干\"},{\"highlight\":false,\"link\":\"//list.tmall.com/search_product.htm?spm=1.1.0.0.xleKDG&user_id=725677994&cat=51440015&active=1&acm=lb-zebra-26901-351258.1003.4.468280&style=g&sort=td&search_condition=23&scm=1003.4.lb-zebra-26901-351258.OTHER_14440868816752_468280&industryCatId=51454012\",\"text\":\"进口糕点\"},{\"highlight\":false,\"link\":\"//list.tmall.com//search_product.htm?q=%BD%F8%BF%DA%C3%E6%B0%FC%B8%C9&spm=1.1.a2227oh.d100&user_id=725677994&cat=50514008&acm=lb-zebra-26901-351258.1003.4.468280&from=chaoshi..pc_1_searchbutton&type=p&scm=1003.4.lb-zebra-26901-351258.OTHER_14440880359213_468280\",\"text\":\"进口面包干\"},{\"highlight\":true,\"link\":\"//list.tmall.com//search_product.htm?q=%BD%F8%BF%DA+%CD%FE%BB%AF&spm=1.1.a2227oh.d100&user_id=725677994&cat=50514008&acm=lb-zebra-26901-351258.1003.4.468280&from=chaoshi..pc_1_searchbutton&type=p&scm=1003.4.lb-zebra-26901-351258.OTHER_14440876511724_468280\",\"text\":\"进口威化\"},{\"highlight\":false,\"link\":\"//list.tmall.com//search_product.htm?q=%BD%F8%BF%DA%CB%D5%B4%F2&spm=1.1.0.0.lNOkO3&user_id=725677994&cat=50514010&acm=lb-zebra-26901-351258.1003.4.468280&style=g&from=chaoshi..pc_1_searchbutton&sort=s&scm=1003.4.lb-zebra-26901-351258.OTHER_14440857274285_468280&industryCatId=50514008\",\"text\":\"进口苏打饼干\"},{\"highlight\":false,\"link\":\"//list.tmall.com//search_product.htm?q=%C7%FA%C6%E6&spm=1.1.0.0.0eKHwC&user_id=725677994&cat=51454011&acm=lb-zebra-26901-351258.1003.4.468280&style=g&from=chaoshi..pc_1_searchbutton&sort=s&scm=1003.4.lb-zebra-26901-351258.OTHER_14440853426796_468280&industryCatId=50514008\",\"text\":\"进口曲奇\"}],\"link\":\"//list.tmall.com/search_product.htm?spm=1.1.0.0.h58vaN&user_id=725677994&cat=51454012&active=1&style=g&acm=lb-zebra-26901-329683.1003.4.468295&search_condition=23&scm=1003.4.lb-zebra-26901-329683.OTHER_7_468295&industryCatId=51462017\",\"title\":\"进口饼干/糕点\"},{\"cats\":[{\"highlight\":false,\"link\":\"//list.tmall.com/search_product.htm?spm=3.405264.315613.148.AbaIRi&user_id=725677994&cat=51452020&active=1&style=g&acm=lb-zebra-26901-351260.1003.4.468284&search_condition=1&scm=1003.4.lb-zebra-26901-351260.OTHER_14440872926491_468284\",\"text\":\"进口洗发水\"},{\"highlight\":false,\"link\":\"//list.tmall.com/search_product.htm?spm=1.1.0.0.KlUiO4&user_id=725677994&cat=51460020&active=1&style=g&acm=lb-zebra-26901-351260.1003.4.468284&search_condition=23&scm=1003.4.lb-zebra-26901-351260.OTHER_14440869079002_468284&industryCatId=51452020\",\"text\":\"进口护发\"},{\"highlight\":false,\"link\":\"//list.tmall.com/search_product.htm?spm=1.1.0.0.sH2U2m&user_id=725677994&cat=51468012&active=1&style=g&acm=lb-zebra-26901-351260.1003.4.468284&search_condition=23&scm=1003.4.lb-zebra-26901-351260.OTHER_14440880621463_468284&industryCatId=51458014\",\"text\":\"进口沐浴\"},{\"highlight\":false,\"link\":\"//list.tmall.com/search_product.htm?spm=1.1.0.0.K0Cktr&user_id=725677994&cat=51444012&active=1&style=g&acm=lb-zebra-26901-351260.1003.4.468284&search_condition=23&scm=1003.4.lb-zebra-26901-351260.OTHER_14440876773984_468284&industryCatId=51458014\",\"text\":\"进口私处洗液\"},{\"highlight\":false,\"link\":\"//list.tmall.com/search_product.htm?spm=1.1.0.0.t14hYm&user_id=725677994&cat=51448016&active=1&style=g&acm=lb-zebra-26901-351260.1003.4.468284&search_condition=23&scm=1003.4.lb-zebra-26901-351260.OTHER_14440857536545_468284\",\"text\":\"进口牙膏\"},{\"highlight\":false,\"link\":\"//list.tmall.com/search_product.htm?spm=1.1.0.0.DxjTsK&user_id=725677994&cat=51458015&active=1&style=g&acm=lb-zebra-26901-351260.1003.4.468284&search_condition=23&scm=1003.4.lb-zebra-26901-351260.OTHER_14440853689056_468284\",\"text\":\"进口牙刷\"},{\"highlight\":false,\"link\":\"//list.tmall.com/search_product.htm?spm=1.1.0.0.lsh3pf&user_id=725677994&cat=51452024&active=1&style=g&acm=lb-zebra-26901-351260.1003.4.468284&search_condition=23&scm=1003.4.lb-zebra-26901-351260.OTHER_14440865231527_468284\",\"text\":\"进口漱口水\"},{\"highlight\":false,\"link\":\"//list.tmall.com/search_product.htm?spm=1.1.0.0.jlXKKG&user_id=725677994&cat=51462014&active=1&style=g&acm=lb-zebra-26901-351260.1003.4.468284&search_condition=23&scm=1003.4.lb-zebra-26901-351260.OTHER_14440861384038_468284&industryCatId=51452013\",\"text\":\"进口面部护理\"},{\"highlight\":false,\"link\":\"//list.tmall.com/search_product.htm?spm=1.1.0.0.AmrFEr&user_id=725677994&cat=51468013&active=1&style=g&acm=lb-zebra-26901-351260.1003.4.468284&search_condition=23&scm=1003.4.lb-zebra-26901-351260.OTHER_14440842146589_468284&industryCatId=51458014\",\"text\":\"进口香皂\"}],\"link\":\"//list.tmall.com/search_product.htm?spm=0.0.0.0.SVyuFH&user_id=725677994&cat=51458014&active=1&style=g&acm=lb-zebra-26901-329683.1003.4.468295&search_condition=23&scm=1003.4.lb-zebra-26901-329683.OTHER_8_468295\",\"title\":\"进口个人护理\"}],\"acts\":[{\"link\":\"//content.tmall.com/wow/pegasus/subject/1/725677994/8693488?site=ALL&channel=chaoshi&acm=lb-zebra-26901-329725.1003.4.456557&id=8693488&scm=1003.4.lb-zebra-26901-329725.OTHER_14434850491331_456557&gccpm=0.815.2.subject-chaoshi-2004.709074&wh_channel=chaoshi4\",\"text\":\"德亚牛奶\"},{\"link\":\"//pages.tmall.com/wow/chaoshi/act/dwchongyin?acm=lb-zebra-26901-329725.1003.4.456557&scm=1003.4.lb-zebra-26901-329725.OTHER_14440882365282_456557\",\"text\":\"进口谷物冲饮\"}],\"brands\":[{\"highlight\":false,\"link\":\"//list.tmall.com//search_product.htm?q=%B0%B2%BC%D1+&spm=a3204.7933263.a2227oh.d100&user_id=725677994&cat=50514008&from=chaoshi..pc_1_searchbutton&acm=lb-zebra-26901-329724.1003.4.456572&type=p&scm=1003.4.lb-zebra-26901-329724.OTHER_14434852827331_456572\",\"text\":\"安佳牛奶\"},{\"highlight\":false,\"link\":\"//list.tmall.com/search_product.htm?q=%D6%D0%D4%ADG7+&spm=1.1.a2227oh.d100&user_id=725677994&cat=50514008&from=chaoshi..pc_1_searchbutton&acm=lb-zebra-26901-329724.1003.4.456572&type=p&scm=1003.4.lb-zebra-26901-329724.OTHER_14434848979852_456572\",\"text\":\"中原G7\"},{\"highlight\":false,\"link\":\"//list.tmall.com//search_product.htm?q=%BC%D2%C0%D6%CA%CF&spm=a3204.7933263.a2227oh.d100&user_id=725677994&cat=50514008&from=chaoshi..pc_1_searchbutton&acm=lb-zebra-26901-329724.1003.4.456572&type=p&scm=1003.4.lb-zebra-26901-329724.OTHER_14434860522313_456572\",\"text\":\"家乐氏\"},{\"highlight\":false,\"link\":\"//list.tmall.com//search_product.htm?q=%B0%CD%C0%E8%CB%AE&spm=a3204.7933263.a2227oh.d100&user_id=725677994&cat=50514008&from=chaoshi..pc_1_searchbutton&acm=lb-zebra-26901-329724.1003.4.456572&type=p&scm=1003.4.lb-zebra-26901-329724.OTHER_14434856674824_456572\",\"text\":\"巴黎水\"},{\"highlight\":false,\"link\":\"//list.tmall.com//search_product.htm?q=%CC%C0%C4%B7%C5%A9%B3%A1&spm=a3204.7933263.a2227oh.d100&user_id=725677994&cat=50514008&from=chaoshi..pc_1_searchbutton&acm=lb-zebra-26901-329724.1003.4.456572&type=p&scm=1003.4.lb-zebra-26901-329724.OTHER_14434837437385_456572\",\"text\":\"汤姆农场\"},{\"highlight\":false,\"link\":\"//list.tmall.com//search_product.htm?q=%D0%A1%C0%CF%B0%E5&spm=a3204.7933263.a2227oh.d100&user_id=725677994&cat=50514008&from=chaoshi..pc_1_searchbutton&acm=lb-zebra-26901-329724.1003.4.456572&type=p&scm=1003.4.lb-zebra-26901-329724.OTHER_14434833589896_456572\",\"text\":\"小老板\"}],\"banner\":{\"img\":\"//img.alicdn.com/tfs/TB1lyxzSXXXXXaPapXXXXXXXXXX-196-90.jpg\",\"link\":\"//pages.tmall.com/wow/chaoshi/act/mcjknzp?acm=lb-zebra-26901-329726.1003.4.456608&scm=1003.4.lb-zebra-26901-329726.OTHER_14434855470411_456608\"}},\"code\":\"100\",\"desc\":\"success\"})\\n'"
      ]
     },
     "execution_count": 3,
     "metadata": {},
     "output_type": "execute_result"
    }
   ],
   "source": [
    "JsonResult[0].text"
   ]
  },
  {
   "cell_type": "code",
   "execution_count": 4,
   "metadata": {},
   "outputs": [
    {
     "data": {
      "text/plain": [
       "'\\r\\n\\r\\n\\n\\n\\n      \\n        \\n      \\n    \\n\\n\\n\\n\\n\\n\\n\\n    \\n\\n\\n\\n\\n    __chaoshi_category_popup_jksp({\"data\":{\"cats\"'"
      ]
     },
     "execution_count": 4,
     "metadata": {},
     "output_type": "execute_result"
    }
   ],
   "source": [
    "JsonResult[0].text[:100]"
   ]
  },
  {
   "cell_type": "code",
   "execution_count": 5,
   "metadata": {},
   "outputs": [
    {
     "data": {
      "text/plain": [
       "'608&scm=1003.4.lb-zebra-26901-329726.OTHER_14434855470411_456608\"}},\"code\":\"100\",\"desc\":\"success\"})\\n'"
      ]
     },
     "execution_count": 5,
     "metadata": {},
     "output_type": "execute_result"
    }
   ],
   "source": [
    "JsonResult[0].text[-100:]"
   ]
  },
  {
   "cell_type": "markdown",
   "metadata": {},
   "source": [
    "从数据的展示我们可以看到，在数据的开头和结尾有一大段数据是没有用处的：\n",
    "\n",
    "```'\\r\\n\\r\\n\\n\\n\\n      \\n        \\n      \\n    \\n\\n\\n\\n\\n\\n\\n\\n    \\n\\n\\n\\n\\n    __chaoshi_category_popup_jksp(`JSON内容`)\\n'```\n",
    "\n",
    "我们需要的是`JSON内容部分`，那么首先我们先进行数据提取，把有用的数据提取出来。"
   ]
  },
  {
   "cell_type": "code",
   "execution_count": 6,
   "metadata": {
    "scrolled": true
   },
   "outputs": [],
   "source": [
    "JsonToloads = []\n",
    "# Json的原始数据不规范，先对原始数据进行处理，取(*)之间的值\n",
    "for i in JsonResult:\n",
    "    JsonToloads.append(re.split(r'\\(|\\)',i.text)[1])"
   ]
  },
  {
   "cell_type": "markdown",
   "metadata": {},
   "source": [
    "就下来我们使用pandas包中的json_normalize包来对获取到的JSON文件进行解析，在解析过程中，我们遇到了很多语法陷阱，比如在不同的一二级类目中，活动`acts`和品牌`brands`的存在与否是不一样，我们的目的是为了提取一级类目下的所有二级类目，自然=也想把活动和品牌的信息也提取出来，于是在处理中，我们设置了两个判断语句。"
   ]
  },
  {
   "cell_type": "code",
   "execution_count": 9,
   "metadata": {},
   "outputs": [],
   "source": [
    "import json\n",
    "from pandas.io.json import json_normalize\n",
    "\n",
    "# 创建list作为一级菜单\n",
    "url_small_name = ['进口食品','食品饮料','粮油副食','美容洗护','家居家电','家庭清洁','母婴用品']\n",
    "\n",
    "# 将Json数据转为DataFrame数据\n",
    "def JsonToDataFrame(result):\n",
    "    mergeOne = json_normalize(result['data'],'cats')[['title','link']]\n",
    "\n",
    "    mergeTwo = json_normalize(result['data']['cats'],'cats',['cats','title'])[['title','text','link']]\n",
    "    mergeTwo.rename(columns={'link':'productLink'},inplace=True)\n",
    "    result_save = pd.merge(mergeOne,mergeTwo,on = 'title')\n",
    "\n",
    "    acts = json_normalize(result['data']['acts'])\n",
    "    # 这个判断是为了判断出活动是否为空，为空不执行这一步\n",
    "    if acts.shape[0]!=0:\n",
    "        acts = acts[['text','link']]\n",
    "        acts.rename(columns={'link':'productLink'},inplace=True)\n",
    "        result_save = pd.merge(result_save,acts,how = 'outer')\n",
    "    # 这个判断是为了判断出品牌是否为空，为空不执行\n",
    "    brands = json_normalize(result['data']['brands'])\n",
    "    if brands.shape[0]!=0:\n",
    "        brands = brands[['text','link']]\n",
    "        brands.rename(columns={'link':'productLink'},inplace=True)\n",
    "        result_save = pd.merge(result_save,brands,how = 'outer')\n",
    "\n",
    "    return result_save\n",
    "# 将不同的类目的DataFrame表拼接成一张表并返回\n",
    "\n",
    "def ResultSave(JsonToloads):\n",
    "    for i in range(len(JsonToloads)):\n",
    "        name = url_small[i]\n",
    "        values = json.loads(JsonToloads[i])\n",
    "        if i == 0:\n",
    "            result = JsonToDataFrame(values)\n",
    "            result['Main']=url_small_name[i]\n",
    "        else:\n",
    "            temp = JsonToDataFrame(values)\n",
    "            # 增加一级菜单列\n",
    "            temp['Main']=url_small_name[i]\n",
    "            result = pd.merge(result,temp,how='outer')\n",
    "        print(url_small_name[i],'OK',end = '\\t')\n",
    "    return result"
   ]
  },
  {
   "cell_type": "markdown",
   "metadata": {},
   "source": [
    "查看返回的数据形式"
   ]
  },
  {
   "cell_type": "code",
   "execution_count": 10,
   "metadata": {
    "scrolled": true
   },
   "outputs": [
    {
     "name": "stdout",
     "output_type": "stream",
     "text": [
      "进口食品 OK\t食品饮料 OK\t粮油副食 OK\t美容洗护 OK\t家居家电 OK\t家庭清洁 OK\t母婴用品 OK\t"
     ]
    },
    {
     "data": {
      "text/html": [
       "<div>\n",
       "<style scoped>\n",
       "    .dataframe tbody tr th:only-of-type {\n",
       "        vertical-align: middle;\n",
       "    }\n",
       "\n",
       "    .dataframe tbody tr th {\n",
       "        vertical-align: top;\n",
       "    }\n",
       "\n",
       "    .dataframe thead th {\n",
       "        text-align: right;\n",
       "    }\n",
       "</style>\n",
       "<table border=\"1\" class=\"dataframe\">\n",
       "  <thead>\n",
       "    <tr style=\"text-align: right;\">\n",
       "      <th></th>\n",
       "      <th>title</th>\n",
       "      <th>link</th>\n",
       "      <th>text</th>\n",
       "      <th>productLink</th>\n",
       "      <th>Main</th>\n",
       "    </tr>\n",
       "  </thead>\n",
       "  <tbody>\n",
       "    <tr>\n",
       "      <th>0</th>\n",
       "      <td>进口牛奶</td>\n",
       "      <td>//list.tmall.com/search_product.htm?spm=3.4052...</td>\n",
       "      <td>进口纯牛奶</td>\n",
       "      <td>//list.tmall.com/search_product.htm?spm=1.1.0....</td>\n",
       "      <td>进口食品</td>\n",
       "    </tr>\n",
       "    <tr>\n",
       "      <th>1</th>\n",
       "      <td>进口牛奶</td>\n",
       "      <td>//list.tmall.com/search_product.htm?spm=3.4052...</td>\n",
       "      <td>进口酸奶</td>\n",
       "      <td>//list.tmall.com/search_product.htm?spm=1.1.0....</td>\n",
       "      <td>进口食品</td>\n",
       "    </tr>\n",
       "    <tr>\n",
       "      <th>2</th>\n",
       "      <td>进口牛奶</td>\n",
       "      <td>//list.tmall.com/search_product.htm?spm=3.4052...</td>\n",
       "      <td>进口成人奶粉</td>\n",
       "      <td>//list.tmall.com/search_product.htm?spm=1.1.0....</td>\n",
       "      <td>进口食品</td>\n",
       "    </tr>\n",
       "    <tr>\n",
       "      <th>3</th>\n",
       "      <td>进口牛奶</td>\n",
       "      <td>//list.tmall.com/search_product.htm?spm=3.4052...</td>\n",
       "      <td>进口含乳饮料</td>\n",
       "      <td>//list.tmall.com/search_product.htm?spm=1.1.0....</td>\n",
       "      <td>进口食品</td>\n",
       "    </tr>\n",
       "    <tr>\n",
       "      <th>4</th>\n",
       "      <td>进口牛奶</td>\n",
       "      <td>//list.tmall.com/search_product.htm?spm=3.4052...</td>\n",
       "      <td>进口有机牛奶</td>\n",
       "      <td>//list.tmall.com/search_product.htm?spm=1.1.0....</td>\n",
       "      <td>进口食品</td>\n",
       "    </tr>\n",
       "  </tbody>\n",
       "</table>\n",
       "</div>"
      ],
      "text/plain": [
       "  title                                               link    text  \\\n",
       "0  进口牛奶  //list.tmall.com/search_product.htm?spm=3.4052...   进口纯牛奶   \n",
       "1  进口牛奶  //list.tmall.com/search_product.htm?spm=3.4052...    进口酸奶   \n",
       "2  进口牛奶  //list.tmall.com/search_product.htm?spm=3.4052...  进口成人奶粉   \n",
       "3  进口牛奶  //list.tmall.com/search_product.htm?spm=3.4052...  进口含乳饮料   \n",
       "4  进口牛奶  //list.tmall.com/search_product.htm?spm=3.4052...  进口有机牛奶   \n",
       "\n",
       "                                         productLink  Main  \n",
       "0  //list.tmall.com/search_product.htm?spm=1.1.0....  进口食品  \n",
       "1  //list.tmall.com/search_product.htm?spm=1.1.0....  进口食品  \n",
       "2  //list.tmall.com/search_product.htm?spm=1.1.0....  进口食品  \n",
       "3  //list.tmall.com/search_product.htm?spm=1.1.0....  进口食品  \n",
       "4  //list.tmall.com/search_product.htm?spm=1.1.0....  进口食品  "
      ]
     },
     "execution_count": 10,
     "metadata": {},
     "output_type": "execute_result"
    }
   ],
   "source": [
    "result = ResultSave(JsonToloads)\n",
    "result.iloc[0:5]"
   ]
  },
  {
   "cell_type": "markdown",
   "metadata": {},
   "source": [
    "通过浏览数据发现表中的`link`和`productLink`的连接缺了`https:`部分，我们用正则表达式补全这一部分。"
   ]
  },
  {
   "cell_type": "code",
   "execution_count": 11,
   "metadata": {},
   "outputs": [],
   "source": [
    "result['link'] = result['link'].str.replace('//list.','https://list.')\n",
    "result['productLink'] = result['productLink'].str.replace('//list.','https://list.')"
   ]
  },
  {
   "cell_type": "code",
   "execution_count": 12,
   "metadata": {
    "scrolled": true
   },
   "outputs": [
    {
     "data": {
      "text/html": [
       "<div>\n",
       "<style scoped>\n",
       "    .dataframe tbody tr th:only-of-type {\n",
       "        vertical-align: middle;\n",
       "    }\n",
       "\n",
       "    .dataframe tbody tr th {\n",
       "        vertical-align: top;\n",
       "    }\n",
       "\n",
       "    .dataframe thead th {\n",
       "        text-align: right;\n",
       "    }\n",
       "</style>\n",
       "<table border=\"1\" class=\"dataframe\">\n",
       "  <thead>\n",
       "    <tr style=\"text-align: right;\">\n",
       "      <th></th>\n",
       "      <th>title</th>\n",
       "      <th>link</th>\n",
       "      <th>text</th>\n",
       "      <th>productLink</th>\n",
       "      <th>Main</th>\n",
       "    </tr>\n",
       "  </thead>\n",
       "  <tbody>\n",
       "    <tr>\n",
       "      <th>0</th>\n",
       "      <td>进口牛奶</td>\n",
       "      <td>https://list.tmall.com/search_product.htm?spm=...</td>\n",
       "      <td>进口纯牛奶</td>\n",
       "      <td>https://list.tmall.com/search_product.htm?spm=...</td>\n",
       "      <td>进口食品</td>\n",
       "    </tr>\n",
       "    <tr>\n",
       "      <th>1</th>\n",
       "      <td>进口牛奶</td>\n",
       "      <td>https://list.tmall.com/search_product.htm?spm=...</td>\n",
       "      <td>进口酸奶</td>\n",
       "      <td>https://list.tmall.com/search_product.htm?spm=...</td>\n",
       "      <td>进口食品</td>\n",
       "    </tr>\n",
       "    <tr>\n",
       "      <th>2</th>\n",
       "      <td>进口牛奶</td>\n",
       "      <td>https://list.tmall.com/search_product.htm?spm=...</td>\n",
       "      <td>进口成人奶粉</td>\n",
       "      <td>https://list.tmall.com/search_product.htm?spm=...</td>\n",
       "      <td>进口食品</td>\n",
       "    </tr>\n",
       "    <tr>\n",
       "      <th>3</th>\n",
       "      <td>进口牛奶</td>\n",
       "      <td>https://list.tmall.com/search_product.htm?spm=...</td>\n",
       "      <td>进口含乳饮料</td>\n",
       "      <td>https://list.tmall.com/search_product.htm?spm=...</td>\n",
       "      <td>进口食品</td>\n",
       "    </tr>\n",
       "    <tr>\n",
       "      <th>4</th>\n",
       "      <td>进口牛奶</td>\n",
       "      <td>https://list.tmall.com/search_product.htm?spm=...</td>\n",
       "      <td>进口有机牛奶</td>\n",
       "      <td>https://list.tmall.com/search_product.htm?spm=...</td>\n",
       "      <td>进口食品</td>\n",
       "    </tr>\n",
       "  </tbody>\n",
       "</table>\n",
       "</div>"
      ],
      "text/plain": [
       "  title                                               link    text  \\\n",
       "0  进口牛奶  https://list.tmall.com/search_product.htm?spm=...   进口纯牛奶   \n",
       "1  进口牛奶  https://list.tmall.com/search_product.htm?spm=...    进口酸奶   \n",
       "2  进口牛奶  https://list.tmall.com/search_product.htm?spm=...  进口成人奶粉   \n",
       "3  进口牛奶  https://list.tmall.com/search_product.htm?spm=...  进口含乳饮料   \n",
       "4  进口牛奶  https://list.tmall.com/search_product.htm?spm=...  进口有机牛奶   \n",
       "\n",
       "                                         productLink  Main  \n",
       "0  https://list.tmall.com/search_product.htm?spm=...  进口食品  \n",
       "1  https://list.tmall.com/search_product.htm?spm=...  进口食品  \n",
       "2  https://list.tmall.com/search_product.htm?spm=...  进口食品  \n",
       "3  https://list.tmall.com/search_product.htm?spm=...  进口食品  \n",
       "4  https://list.tmall.com/search_product.htm?spm=...  进口食品  "
      ]
     },
     "execution_count": 12,
     "metadata": {},
     "output_type": "execute_result"
    }
   ],
   "source": [
    "result[0:5]"
   ]
  },
  {
   "cell_type": "markdown",
   "metadata": {},
   "source": [
    "保存数据(到TmallInformation.db中），完成对天猫左侧一二级菜单栏的抓取。"
   ]
  },
  {
   "cell_type": "code",
   "execution_count": 18,
   "metadata": {},
   "outputs": [],
   "source": [
    "import sqlite3\n",
    "\n",
    "with sqlite3.connect('TmallInformation.db') as con :\n",
    "    # 保存数据如果在数据库中表存在，则取代它\n",
    "    result[['Main','title','link','text','productLink']].to_sql(name= 'brands',con = con ,if_exists='replace')"
   ]
  }
 ],
 "metadata": {
  "kernelspec": {
   "display_name": "Python 3",
   "language": "python",
   "name": "python3"
  },
  "language_info": {
   "codemirror_mode": {
    "name": "ipython",
    "version": 3
   },
   "file_extension": ".py",
   "mimetype": "text/x-python",
   "name": "python",
   "nbconvert_exporter": "python",
   "pygments_lexer": "ipython3",
   "version": "3.7.0"
  },
  "toc": {
   "base_numbering": 1,
   "nav_menu": {},
   "number_sections": true,
   "sideBar": true,
   "skip_h1_title": false,
   "title_cell": "Table of Contents",
   "title_sidebar": "Contents",
   "toc_cell": false,
   "toc_position": {},
   "toc_section_display": true,
   "toc_window_display": false
  },
  "varInspector": {
   "cols": {
    "lenName": 16,
    "lenType": 16,
    "lenVar": 40
   },
   "kernels_config": {
    "python": {
     "delete_cmd_postfix": "",
     "delete_cmd_prefix": "del ",
     "library": "var_list.py",
     "varRefreshCmd": "print(var_dic_list())"
    },
    "r": {
     "delete_cmd_postfix": ") ",
     "delete_cmd_prefix": "rm(",
     "library": "var_list.r",
     "varRefreshCmd": "cat(var_dic_list()) "
    }
   },
   "types_to_exclude": [
    "module",
    "function",
    "builtin_function_or_method",
    "instance",
    "_Feature"
   ],
   "window_display": false
  }
 },
 "nbformat": 4,
 "nbformat_minor": 2
}
