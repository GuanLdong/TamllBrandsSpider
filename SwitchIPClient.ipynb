{
 "cells": [
  {
   "cell_type": "markdown",
   "metadata": {},
   "source": [
    "## TCP Client"
   ]
  },
  {
   "cell_type": "code",
   "execution_count": 71,
   "metadata": {},
   "outputs": [
    {
     "name": "stdout",
     "output_type": "stream",
     "text": [
      "b'Welcome!'\n",
      "b'Hello, dog!'\n"
     ]
    }
   ],
   "source": [
    "import socket\n",
    "\n",
    "s = socket.socket(socket.AF_INET, socket.SOCK_STREAM)\n",
    "s.connect(('127.0.0.1', 8898))\n",
    "print(s.recv(1024))\n",
    "\n",
    "for data in [b'dog']:\n",
    "    s.send(data)\n",
    "    print(s.recv(1024))\n",
    "s.close()"
   ]
  },
  {
   "cell_type": "markdown",
   "metadata": {},
   "source": [
    "## UDP Client"
   ]
  },
  {
   "cell_type": "code",
   "execution_count": 78,
   "metadata": {},
   "outputs": [
    {
     "name": "stdout",
     "output_type": "stream",
     "text": [
      "b'Hello, dog'\n"
     ]
    }
   ],
   "source": [
    "import socket\n",
    "\n",
    "s = socket.socket(socket.AF_INET, socket.SOCK_DGRAM)\n",
    "\n",
    "for data in [b'dog']:\n",
    "    s.sendto(data, ('127.0.0.1', 8898))\n",
    "    print(s.recv(1024))\n",
    "s.close()"
   ]
  },
  {
   "cell_type": "markdown",
   "metadata": {},
   "source": [
    "## Socket"
   ]
  },
  {
   "cell_type": "code",
   "execution_count": 90,
   "metadata": {},
   "outputs": [
    {
     "name": "stdout",
     "output_type": "stream",
     "text": [
      "b'HTTP/1.1 400 Bad Request\\r\\nServer: WeiBo\\r\\nDate: Sun, 20 Jan 2019 07:18:11 GMT\\r\\nContent-Type: text/html\\r\\nContent-Length: 578\\r\\nConnection: close\\r\\n\\r\\n<!DOCTYPE HTML PUBLIC \"-//IETF//DTD HTML 2.0//EN\">\\r\\n<html>\\r\\n<head><title>400 Bad Request</title></head>\\r\\n<body bgcolor=\"white\">\\r\\n<h1>400 Bad Request</h1>\\r\\n<p>Your browser sent a request that this server could not understand. Sorry for the inconvenience.<br/>\\r\\nPlease report this message and include the following information to us.<br/>\\r\\nThank you very much!</p>\\r\\n<table>\\r\\n<tr>\\r\\n<td>URL:</td>\\r\\n<td>http:///</td>\\r\\n</tr>\\r\\n<tr>\\r\\n<td>Server:</td>\\r\\n<td>venus243</td>\\r\\n</tr>\\r\\n<tr>\\r\\n<td>Date:</td>\\r\\n<td>2019/01/20 15:18:11</td>\\r\\n</tr>\\r\\n</table>\\r\\n<hr/>Powered by WeiBo</body>\\r\\n</html>\\r\\n'\n"
     ]
    }
   ],
   "source": [
    "import socks\n",
    "s = socks.socksocket() # Same API as socket.socket in the standard lib\n",
    "s.set_proxy(socks.SOCKS5, \"localhost\", 8898)\n",
    "\n",
    "s.connect((\"weibo.com\", 80))\n",
    "s.sendall(b\"GET / HTTP/1.1 \\r\\n\\r\\n\")\n",
    "# byte like objects\n",
    "print(s.recv(4096))"
   ]
  }
 ],
 "metadata": {
  "kernelspec": {
   "display_name": "Python 3",
   "language": "python",
   "name": "python3"
  },
  "language_info": {
   "codemirror_mode": {
    "name": "ipython",
    "version": 3
   },
   "file_extension": ".py",
   "mimetype": "text/x-python",
   "name": "python",
   "nbconvert_exporter": "python",
   "pygments_lexer": "ipython3",
   "version": "3.7.0"
  },
  "toc": {
   "base_numbering": 1,
   "nav_menu": {},
   "number_sections": true,
   "sideBar": true,
   "skip_h1_title": false,
   "title_cell": "Table of Contents",
   "title_sidebar": "Contents",
   "toc_cell": false,
   "toc_position": {},
   "toc_section_display": true,
   "toc_window_display": false
  },
  "varInspector": {
   "cols": {
    "lenName": 16,
    "lenType": 16,
    "lenVar": 40
   },
   "kernels_config": {
    "python": {
     "delete_cmd_postfix": "",
     "delete_cmd_prefix": "del ",
     "library": "var_list.py",
     "varRefreshCmd": "print(var_dic_list())"
    },
    "r": {
     "delete_cmd_postfix": ") ",
     "delete_cmd_prefix": "rm(",
     "library": "var_list.r",
     "varRefreshCmd": "cat(var_dic_list()) "
    }
   },
   "types_to_exclude": [
    "module",
    "function",
    "builtin_function_or_method",
    "instance",
    "_Feature"
   ],
   "window_display": false
  }
 },
 "nbformat": 4,
 "nbformat_minor": 2
}
