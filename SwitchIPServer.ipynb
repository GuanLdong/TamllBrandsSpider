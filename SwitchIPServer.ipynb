{
 "cells": [
  {
   "cell_type": "code",
   "execution_count": 4,
   "metadata": {},
   "outputs": [],
   "source": [
    "from urllib.error import URLError\n",
    "from urllib.request import ProxyHandler,build_opener"
   ]
  },
  {
   "cell_type": "code",
   "execution_count": 14,
   "metadata": {
    "scrolled": true
   },
   "outputs": [
    {
     "name": "stdout",
     "output_type": "stream",
     "text": [
      "{\n",
      "  \"args\": {}, \n",
      "  \"headers\": {\n",
      "    \"Accept-Encoding\": \"identity\", \n",
      "    \"Cache-Control\": \"max-age=259200\", \n",
      "    \"Connection\": \"close\", \n",
      "    \"Host\": \"httpbin.org\", \n",
      "    \"User-Agent\": \"Python-urllib/3.7\"\n",
      "  }, \n",
      "  \"origin\": \"110.52.235.85\", \n",
      "  \"url\": \"http://httpbin.org/get\"\n",
      "}\n",
      "\n"
     ]
    }
   ],
   "source": [
    "proxy = '110.52.235.85:9999'\n",
    "proxy_handler = ProxyHandler({\n",
    "    'http':'http://'+proxy,\n",
    "    'https':'https://'+proxy\n",
    "})\n",
    "opener = build_opener(proxy_handler)\n",
    "response = opener.open('http://httpbin.org/get')\n",
    "print(response.read().decode('utf-8'))"
   ]
  },
  {
   "cell_type": "code",
   "execution_count": 6,
   "metadata": {},
   "outputs": [],
   "source": [
    "from urllib.request import urlopen"
   ]
  },
  {
   "cell_type": "code",
   "execution_count": 9,
   "metadata": {
    "scrolled": true
   },
   "outputs": [
    {
     "name": "stdout",
     "output_type": "stream",
     "text": [
      "b'{\\n  \"args\": {}, \\n  \"headers\": {\\n    \"Accept-Encoding\": \"identity\", \\n    \"Connection\": \"close\", \\n    \"Host\": \"httpbin.org\", \\n    \"User-Agent\": \"Python-urllib/3.7\"\\n  }, \\n  \"origin\": \"112.5.203.142\", \\n  \"url\": \"http://httpbin.org/get\"\\n}\\n'\n"
     ]
    }
   ],
   "source": [
    "doc = urlopen(\"http://httpbin.org/get\").read()\n",
    "print(doc)"
   ]
  },
  {
   "cell_type": "code",
   "execution_count": 10,
   "metadata": {},
   "outputs": [
    {
     "data": {
      "text/plain": [
       "<bound method OpenerDirector.open of <urllib.request.OpenerDirector object at 0x7f11d87ed128>>"
      ]
     },
     "execution_count": 10,
     "metadata": {},
     "output_type": "execute_result"
    }
   ],
   "source": [
    "opener.open"
   ]
  },
  {
   "cell_type": "markdown",
   "metadata": {},
   "source": [
    " # Socket"
   ]
  },
  {
   "cell_type": "markdown",
   "metadata": {},
   "source": [
    "因为jupyter notebook只支持一个进程，所以我们在这里新建了另一个文件来实现客户端\n",
    "## 服务端(TCP编程)\n",
    "在使用WireShark进行抓包的时候，因为wireshark本身不支持本地回炉抓包，要设置本地回路抓包才可以看到三次握手的结果。\n",
    "> Capture-> Option->Manage Interfaces->LoopBook:IO\n",
    "\n",
    "Go!"
   ]
  },
  {
   "cell_type": "code",
   "execution_count": null,
   "metadata": {},
   "outputs": [
    {
     "name": "stdout",
     "output_type": "stream",
     "text": [
      "new connection from 127.0.0.1:42282\n",
      "new connection from 127.0.0.1:42288\n"
     ]
    }
   ],
   "source": [
    "import socket\n",
    "import threading\n",
    "\n",
    "# AF_INET: 基于 IPV4 的网络通信 SOCK_STREAM: 基于 TCP 的流式 socket 通信\n",
    "s = socket.socket(socket.AF_INET, socket.SOCK_STREAM)\n",
    "# 将套接字绑定到地址\n",
    "s.bind(('127.0.0.1', 8898))\n",
    "# 监听TCP传入连接\n",
    "s.listen(5)\n",
    "def handle_tcp(sock, addr):\n",
    "    print(\"new connection from %s:%s\" % addr)\n",
    "    sock.send(b'Welcome!')\n",
    "\n",
    "    while True:\n",
    "        data = sock.recv(1024)\n",
    "        if not data:\n",
    "            break\n",
    "        sock.send(b'Hello, %s!' % data)\n",
    "    sock.close()\n",
    "\n",
    "\n",
    "while True:\n",
    "    sock, addr = s.accept()\n",
    "    t = threading.Thread(target=handle_tcp, args=(sock, addr))\n",
    "    t.start()"
   ]
  },
  {
   "cell_type": "markdown",
   "metadata": {},
   "source": [
    "## UDP编程（服务端）"
   ]
  },
  {
   "cell_type": "code",
   "execution_count": 2,
   "metadata": {},
   "outputs": [
    {
     "name": "stdout",
     "output_type": "stream",
     "text": [
      "Received from 127.0.0.1,35198\n",
      "Received from 127.0.0.1,57098\n",
      "Received from 127.0.0.1,47767\n",
      "Received from 127.0.0.1,35973\n",
      "Received from 127.0.0.1,45160\n"
     ]
    },
    {
     "ename": "KeyboardInterrupt",
     "evalue": "",
     "output_type": "error",
     "traceback": [
      "\u001b[0;31m---------------------------------------------------------------------------\u001b[0m",
      "\u001b[0;31mKeyboardInterrupt\u001b[0m                         Traceback (most recent call last)",
      "\u001b[0;32m<ipython-input-2-4e150fcb0cc3>\u001b[0m in \u001b[0;36m<module>\u001b[0;34m()\u001b[0m\n\u001b[1;32m      6\u001b[0m \u001b[0;34m\u001b[0m\u001b[0m\n\u001b[1;32m      7\u001b[0m \u001b[0;32mwhile\u001b[0m \u001b[0;32mTrue\u001b[0m\u001b[0;34m:\u001b[0m\u001b[0;34m\u001b[0m\u001b[0m\n\u001b[0;32m----> 8\u001b[0;31m     \u001b[0mdata\u001b[0m\u001b[0;34m,\u001b[0m \u001b[0maddr\u001b[0m \u001b[0;34m=\u001b[0m \u001b[0ms\u001b[0m\u001b[0;34m.\u001b[0m\u001b[0mrecvfrom\u001b[0m\u001b[0;34m(\u001b[0m\u001b[0;36m1024\u001b[0m\u001b[0;34m)\u001b[0m\u001b[0;34m\u001b[0m\u001b[0m\n\u001b[0m\u001b[1;32m      9\u001b[0m     \u001b[0mprint\u001b[0m\u001b[0;34m(\u001b[0m\u001b[0;34m'Received from %s,%s'\u001b[0m\u001b[0;34m%\u001b[0m\u001b[0maddr\u001b[0m\u001b[0;34m)\u001b[0m\u001b[0;34m\u001b[0m\u001b[0m\n\u001b[1;32m     10\u001b[0m     \u001b[0ms\u001b[0m\u001b[0;34m.\u001b[0m\u001b[0msendto\u001b[0m\u001b[0;34m(\u001b[0m\u001b[0;34mb'Hello, %s'\u001b[0m\u001b[0;34m%\u001b[0m\u001b[0mdata\u001b[0m\u001b[0;34m,\u001b[0m\u001b[0maddr\u001b[0m\u001b[0;34m)\u001b[0m\u001b[0;34m\u001b[0m\u001b[0m\n",
      "\u001b[0;31mKeyboardInterrupt\u001b[0m: "
     ]
    }
   ],
   "source": [
    "import socket\n",
    "\n",
    "s = socket.socket(socket.AF_INET, socket.SOCK_DGRAM)\n",
    "\n",
    "s.bind(('127.0.0.1',8898))\n",
    "\n",
    "while True:\n",
    "    data, addr = s.recvfrom(1024)\n",
    "    print('Received from %s,%s'%addr)\n",
    "    s.sendto(b'Hello, %s'%data,addr)"
   ]
  },
  {
   "cell_type": "markdown",
   "metadata": {},
   "source": [
    "## socks5"
   ]
  },
  {
   "cell_type": "code",
   "execution_count": 5,
   "metadata": {},
   "outputs": [
    {
     "name": "stderr",
     "output_type": "stream",
     "text": [
      "ERROR:root:[Errno -2] Name or service not known\n",
      "ERROR:root:[Errno -2] Name or service not known\n",
      "ERROR:root:[Errno -2] Name or service not known\n"
     ]
    },
    {
     "name": "stdout",
     "output_type": "stream",
     "text": [
      "b'GET / HTTP/1.1 \\r\\n\\r\\n'\n",
      "b'HTTP/1.1 400 Bad Request\\r\\nServer: WeiBo\\r\\nDate: Sun, 20 Jan 2019 07:17:33 GMT\\r\\nContent-Type: text/html\\r\\nContent-Length: 578\\r\\nConnection: close\\r\\n\\r\\n<!DOCTYPE HTML PUBLIC \"-//IETF//DTD HTML 2.0//EN\">\\r\\n<html>\\r\\n<head><title>400 Bad Request</title></head>\\r\\n<body bgcolor=\"white\">\\r\\n<h1>400 Bad Request</h1>\\r\\n<p>Your browser sent a request that this server could not understand. Sorry for the inconvenience.<br/>\\r\\nPlease report this message and include the following information to us.<br/>\\r\\nThank you very much!</p>\\r\\n<table>\\r\\n<tr>\\r\\n<td>URL:</td>\\r\\n<td>http:///</td>\\r\\n</tr>\\r\\n<tr>\\r\\n<td>Server:</td>\\r\\n<td>venus245</td>\\r\\n</tr>\\r\\n<tr>\\r\\n<td>Date:</td>\\r\\n<td>2019/01/20 15:17:33</td>\\r\\n</tr>\\r\\n</table>\\r\\n<hr/>Powered by WeiBo</body>\\r\\n</html>\\r\\n'\n",
      "b'GET / HTTP/1.1 \\r\\n\\r\\n'\n",
      "b'HTTP/1.1 400 Bad Request\\r\\nServer: WeiBo\\r\\nDate: Sun, 20 Jan 2019 07:18:00 GMT\\r\\nContent-Type: text/html\\r\\nContent-Length: 578\\r\\nConnection: close\\r\\n\\r\\n<!DOCTYPE HTML PUBLIC \"-//IETF//DTD HTML 2.0//EN\">\\r\\n<html>\\r\\n<head><title>400 Bad Request</title></head>\\r\\n<body bgcolor=\"white\">\\r\\n<h1>400 Bad Request</h1>\\r\\n<p>Your browser sent a request that this server could not understand. Sorry for the inconvenience.<br/>\\r\\nPlease report this message and include the following information to us.<br/>\\r\\nThank you very much!</p>\\r\\n<table>\\r\\n<tr>\\r\\n<td>URL:</td>\\r\\n<td>http:///</td>\\r\\n</tr>\\r\\n<tr>\\r\\n<td>Server:</td>\\r\\n<td>venus241</td>\\r\\n</tr>\\r\\n<tr>\\r\\n<td>Date:</td>\\r\\n<td>2019/01/20 15:18:00</td>\\r\\n</tr>\\r\\n</table>\\r\\n<hr/>Powered by WeiBo</body>\\r\\n</html>\\r\\n'\n",
      "b'GET / HTTP/1.1 \\r\\n\\r\\n'\n",
      "b'HTTP/1.1 400 Bad Request\\r\\nServer: WeiBo\\r\\nDate: Sun, 20 Jan 2019 07:18:11 GMT\\r\\nContent-Type: text/html\\r\\nContent-Length: 578\\r\\nConnection: close\\r\\n\\r\\n<!DOCTYPE HTML PUBLIC \"-//IETF//DTD HTML 2.0//EN\">\\r\\n<html>\\r\\n<head><title>400 Bad Request</title></head>\\r\\n<body bgcolor=\"white\">\\r\\n<h1>400 Bad Request</h1>\\r\\n<p>Your browser sent a request that this server could not understand. Sorry for the inconvenience.<br/>\\r\\nPlease report this message and include the following information to us.<br/>\\r\\nThank you very much!</p>\\r\\n<table>\\r\\n<tr>\\r\\n<td>URL:</td>\\r\\n<td>http:///</td>\\r\\n</tr>\\r\\n<tr>\\r\\n<td>Server:</td>\\r\\n<td>venus243</td>\\r\\n</tr>\\r\\n<tr>\\r\\n<td>Date:</td>\\r\\n<td>2019/01/20 15:18:11</td>\\r\\n</tr>\\r\\n</table>\\r\\n<hr/>Powered by WeiBo</body>\\r\\n</html>\\r\\n'\n"
     ]
    }
   ],
   "source": [
    "import logging\n",
    "import socket\n",
    "import struct\n",
    "import select\n",
    "import threading\n",
    "\n",
    "\n",
    "def send_data(sock, data):\n",
    "    print(data)\n",
    "    bytes_sent = 0\n",
    "    while True:\n",
    "        r = sock.send(data[bytes_sent:])\n",
    "        if r < 0:\n",
    "            return r\n",
    "        bytes_sent += r\n",
    "        if bytes_sent == len(data):\n",
    "            return bytes_sent\n",
    "\n",
    "\n",
    "def handle_tcp(sock, remote):\n",
    "    # 处理 client socket 和 remote socket 的数据流\n",
    "    try:\n",
    "        fdset = [sock, remote]\n",
    "        while True:\n",
    "            # 用 IO 多路复用 select 监听套接字是否有数据流\n",
    "            r, w, e = select.select(fdset, [], [])\n",
    "            if sock in r:\n",
    "                data = sock.recv(4096)\n",
    "                if len(data) <= 0:\n",
    "                    break\n",
    "                result = send_data(remote, data)\n",
    "                if result < len(data):\n",
    "                    raise Exception('failed to send all data')\n",
    "\n",
    "            if remote in r:\n",
    "                data = remote.recv(4096)\n",
    "                if len(data) <= 0:\n",
    "                    break\n",
    "                result = send_data(sock, data)\n",
    "                if result < len(data):\n",
    "                    raise Exception('failed to send all data')\n",
    "    except Exception as e:\n",
    "        raise(e)\n",
    "    finally:\n",
    "        sock.close()\n",
    "        remote.close()\n",
    "\n",
    "\n",
    "def handle_con(sock, addr):\n",
    "    # 接受客户端来的请求，socks5 的 认证和连接过程\n",
    "\n",
    "    sock.recv(256)\n",
    "    # 无需进一步认证信息\n",
    "    sock.send(b\"\\x05\\x00\")\n",
    "    data = sock.recv(4) or '\\x00' * 4\n",
    "    # CMD 为 0x01 也就是 CONNECT 继续\n",
    "    mode = data[1]\n",
    "    if mode != 1:\n",
    "        return\n",
    "    # DST.ADDR 有三种形式，分别做判断\n",
    "    addr_type = data[3]\n",
    "    if addr_type == 1:\n",
    "        addr_ip = sock.recv(4)\n",
    "        remote_addr = socket.inet_ntoa(addr_ip)\n",
    "    elif addr_type == 3:\n",
    "        addr_len = int.from_bytes(sock.recv(1), byteorder='big')\n",
    "        remote_addr = sock.recv(addr_len)\n",
    "    elif addr_type == 4:\n",
    "        addr_ip = sock.recv(16)\n",
    "        remote_addr = socket.inet_ntop(socket.AF_INET6, addr_ip)\n",
    "    else:\n",
    "        return\n",
    "    # DST.PORT\n",
    "    remote_addr_port = struct.unpack('>H', sock.recv(2))\n",
    "\n",
    "    # 返回给客户端 success\n",
    "    reply = b\"\\x05\\x00\\x00\\x01\"\n",
    "    reply += socket.inet_aton('0.0.0.0') + struct.pack(\">H\", 8888)\n",
    "    sock.send(reply)\n",
    "\n",
    "    # 拿到 remote address 的信息后，建立连接\n",
    "    try:\n",
    "        remote = socket.create_connection((remote_addr, remote_addr_port[0]))\n",
    "        logging.info('connecting %s:%d' % (remote_addr, remote_addr_port[0]))\n",
    "    except socket.error as e:\n",
    "        logging.error(e)\n",
    "        return\n",
    "\n",
    "    handle_tcp(sock, remote)\n",
    "\n",
    "\n",
    "def main():\n",
    "    socketServer = socket.socket(socket.AF_INET, socket.SOCK_STREAM)\n",
    "    socketServer.setsockopt(socket.SOL_SOCKET, socket.SO_REUSEADDR, 1)\n",
    "\n",
    "    socketServer.bind(('', 8898))\n",
    "    socketServer.listen(5)\n",
    "\n",
    "    try:\n",
    "        while True:\n",
    "            sock, addr = socketServer.accept()\n",
    "            t = threading.Thread(target=handle_con, args=(sock, addr))\n",
    "            t.start()\n",
    "    except socket.error as e:\n",
    "        logging.error(e)\n",
    "    except KeyboardInterrupt:\n",
    "        socketServer.close()\n",
    "\n",
    "\n",
    "if __name__ == '__main__':\n",
    "    main()"
   ]
  },
  {
   "cell_type": "code",
   "execution_count": null,
   "metadata": {},
   "outputs": [],
   "source": []
  }
 ],
 "metadata": {
  "kernelspec": {
   "display_name": "Python 3",
   "language": "python",
   "name": "python3"
  },
  "language_info": {
   "codemirror_mode": {
    "name": "ipython",
    "version": 3
   },
   "file_extension": ".py",
   "mimetype": "text/x-python",
   "name": "python",
   "nbconvert_exporter": "python",
   "pygments_lexer": "ipython3",
   "version": "3.7.0"
  },
  "toc": {
   "base_numbering": 1,
   "nav_menu": {},
   "number_sections": true,
   "sideBar": true,
   "skip_h1_title": false,
   "title_cell": "Table of Contents",
   "title_sidebar": "Contents",
   "toc_cell": false,
   "toc_position": {},
   "toc_section_display": true,
   "toc_window_display": false
  },
  "varInspector": {
   "cols": {
    "lenName": 16,
    "lenType": 16,
    "lenVar": 40
   },
   "kernels_config": {
    "python": {
     "delete_cmd_postfix": "",
     "delete_cmd_prefix": "del ",
     "library": "var_list.py",
     "varRefreshCmd": "print(var_dic_list())"
    },
    "r": {
     "delete_cmd_postfix": ") ",
     "delete_cmd_prefix": "rm(",
     "library": "var_list.r",
     "varRefreshCmd": "cat(var_dic_list()) "
    }
   },
   "types_to_exclude": [
    "module",
    "function",
    "builtin_function_or_method",
    "instance",
    "_Feature"
   ],
   "window_display": false
  }
 },
 "nbformat": 4,
 "nbformat_minor": 2
}
