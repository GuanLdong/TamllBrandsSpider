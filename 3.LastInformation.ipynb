{
 "cells": [
  {
   "cell_type": "code",
   "execution_count": 2,
   "metadata": {
    "scrolled": true
   },
   "outputs": [],
   "source": [
    "import time\n",
    "from selenium import webdriver\n",
    "import pandas as pd\n",
    "import threading\n",
    "import random\n",
    "import sqlite3\n",
    "RANGE =10\n",
    "THEADING =3\n",
    "def InitChrome():\n",
    "    options = webdriver.ChromeOptions()\n",
    "\n",
    "    options.add_argument('lang=zh_CN.UTF-8')\n",
    "#    options.add_argument('user-agent=\"Mozilla/5.0 (iPod; U; CPU iPhone OS 2_1 like Mac OS X; ja-jp) AppleWebKit/525.18.1 (KHTML, like Gecko) Version/3.1.1 Mobile/5F137 Safari/525.20\"')\n",
    "    prefs = {\n",
    "        'profile.default_content_setting_values': {\n",
    "        'images': 2\n",
    "        }\n",
    "    }\n",
    "    options.add_argument('--headless') \n",
    "#    options.add_argument('--proxy-server='+ip)\n",
    "    options.add_experimental_option('prefs',prefs)\n",
    "    browser = webdriver.Chrome(chrome_options=options)\n",
    "    return browser\n",
    "\n",
    "def InitSQL():\n",
    "    conn = sqlite3.connect('TmallInformation.db')\n",
    "    conn.execute('create table content (Id int primary key,Brands text,Content text);')\n",
    "    print('Init SQL Success')\n",
    "    \n",
    "def SaveSQL(data):\n",
    "    with sqlite3.connect('TmallInformation.db') as con:\n",
    "        data.to_sql(name='brands',con = con ,if_exists='append')\n",
    "    print('save success')\n",
    "    \n",
    "def getInformation(data,number):\n",
    "    print('Th-',number,end = '\\t')\n",
    "    content=[]\n",
    "    for i in data.Brands:\n",
    "        if '/' in i[0]:\n",
    "            i = re.split('/',i[0])[1]\n",
    "        if '（' in i[0]:\n",
    "            i = re.split('（',i[0])[0]\n",
    "        print(i)\n",
    "        browser = InitChrome()\n",
    "        browser.get('https://www.tmall.com/')\n",
    "        browser.find_element_by_xpath('//*[@id=\"mq\"]').clear()\n",
    "        # 传入数据\n",
    "        browser.find_element_by_xpath('//*[@id=\"mq\"]').send_keys(i)\n",
    "        time.sleep(random.randint(3,5))\n",
    "        browser.find_element_by_xpath('//*[@id=\"mallSearch\"]/form/fieldset/div/button').click()\n",
    "        try:\n",
    "            content.append(browser.find_element_by_xpath('//*[@id=\"J_ItemList\"]').text)\n",
    "        except:\n",
    "            content.append('LOST')\n",
    "        browser.close()\n",
    "    me=pd.DataFrame(content,index= data.index,columns=['Content'])\n",
    "    result = pd.concat((data,me),axis=1)\n",
    "    SaveSQL(result)\n",
    "    \n",
    "\n",
    "\n",
    "def InputData():\n",
    "    data = pd.read_csv('Brands.csv',header=None)\n",
    "    data.rename(columns={0:'Brands'},inplace=True)\n",
    "    data.index.name = 'Id'\n",
    "    return data\n",
    "\n",
    "def ChromeThread(listRange):\n",
    "    temp = []\n",
    "    for i in range(len(listRange)//THEADING):\n",
    "        print('Wheel',i,'-',(i+1)*THEADING*RANGE)\n",
    "        temp = listRange[i*THEADING:(i+1)*THEADING]\n",
    "        count = 0\n",
    "        pool = []\n",
    "        for packgae in temp:\n",
    "            count+=1\n",
    "            pool.append(threading.Thread(target = getInformation, args = (packgae, count)))\n",
    "        for j in pool:\n",
    "            j.start()\n",
    "        for j in pool:\n",
    "            j.join()\n",
    "        print('Wheel ' ,i ,' OVER')\n",
    "\n",
    "def main():\n",
    "#    InitSQL()\n",
    "    ToSidata = InputData()\n",
    "    with sqlite3.connect('Tmall.db') as con:\n",
    "        alreadyData = pd.read_sql_query('select * from content;',con=con,index_col='Id')\n",
    "    result=ToSidata[~ToSidata.index.isin(alreadyData.index)]\n",
    "    listRange = []\n",
    "    for i in range(len(result)//RANGE):\n",
    "        listRange.append(result.iloc[i*RANGE:(i+1)*RANGE])\n",
    "    ChromeThread(listRange)\n",
    "        \n",
    "if __name__ =='__main__':\n",
    "    main()"
   ]
  },
  {
   "cell_type": "code",
   "execution_count": 3,
   "metadata": {
    "scrolled": true
   },
   "outputs": [
    {
     "name": "stdout",
     "output_type": "stream",
     "text": [
      "Wheel 0 - 30\n",
      "Th- 1\t椰子日记\n",
      "Th- 2\telis/怡丽\n",
      "Th- 3\tGL/格朗\n"
     ]
    },
    {
     "name": "stderr",
     "output_type": "stream",
     "text": [
      "/home/carlous/.pyenv/versions/anaconda3-5.3.1/lib/python3.7/site-packages/ipykernel_launcher.py:23: DeprecationWarning: use options instead of chrome_options\n"
     ]
    },
    {
     "name": "stdout",
     "output_type": "stream",
     "text": [
      "Free/飞\n",
      "save success\n"
     ]
    },
    {
     "name": "stderr",
     "output_type": "stream",
     "text": [
      "/home/carlous/.pyenv/versions/anaconda3-5.3.1/lib/python3.7/site-packages/ipykernel_launcher.py:23: DeprecationWarning: use options instead of chrome_options\n"
     ]
    },
    {
     "name": "stdout",
     "output_type": "stream",
     "text": [
      "樱惠（日本）\n"
     ]
    },
    {
     "name": "stderr",
     "output_type": "stream",
     "text": [
      "/home/carlous/.pyenv/versions/anaconda3-5.3.1/lib/python3.7/site-packages/ipykernel_launcher.py:23: DeprecationWarning: use options instead of chrome_options\n"
     ]
    },
    {
     "name": "stdout",
     "output_type": "stream",
     "text": [
      "Ladycare/洁婷\n"
     ]
    },
    {
     "name": "stderr",
     "output_type": "stream",
     "text": [
      "/home/carlous/.pyenv/versions/anaconda3-5.3.1/lib/python3.7/site-packages/ipykernel_launcher.py:23: DeprecationWarning: use options instead of chrome_options\n"
     ]
    },
    {
     "name": "stdout",
     "output_type": "stream",
     "text": [
      "HOW CHIAO/好乔\n"
     ]
    },
    {
     "name": "stderr",
     "output_type": "stream",
     "text": [
      "/home/carlous/.pyenv/versions/anaconda3-5.3.1/lib/python3.7/site-packages/ipykernel_launcher.py:23: DeprecationWarning: use options instead of chrome_options\n"
     ]
    },
    {
     "name": "stdout",
     "output_type": "stream",
     "text": [
      "LAURIER/乐而雅\n"
     ]
    },
    {
     "name": "stderr",
     "output_type": "stream",
     "text": [
      "/home/carlous/.pyenv/versions/anaconda3-5.3.1/lib/python3.7/site-packages/ipykernel_launcher.py:23: DeprecationWarning: use options instead of chrome_options\n"
     ]
    },
    {
     "name": "stdout",
     "output_type": "stream",
     "text": [
      "凤小酥\n"
     ]
    },
    {
     "name": "stderr",
     "output_type": "stream",
     "text": [
      "/home/carlous/.pyenv/versions/anaconda3-5.3.1/lib/python3.7/site-packages/ipykernel_launcher.py:23: DeprecationWarning: use options instead of chrome_options\n"
     ]
    },
    {
     "name": "stdout",
     "output_type": "stream",
     "text": [
      "555\n"
     ]
    },
    {
     "name": "stderr",
     "output_type": "stream",
     "text": [
      "/home/carlous/.pyenv/versions/anaconda3-5.3.1/lib/python3.7/site-packages/ipykernel_launcher.py:23: DeprecationWarning: use options instead of chrome_options\n"
     ]
    },
    {
     "name": "stdout",
     "output_type": "stream",
     "text": [
      "TIPO/友谊牌（越南）\n"
     ]
    },
    {
     "name": "stderr",
     "output_type": "stream",
     "text": [
      "/home/carlous/.pyenv/versions/anaconda3-5.3.1/lib/python3.7/site-packages/ipykernel_launcher.py:23: DeprecationWarning: use options instead of chrome_options\n"
     ]
    },
    {
     "name": "stdout",
     "output_type": "stream",
     "text": [
      "Goodbaby/好孩子\n"
     ]
    },
    {
     "name": "stderr",
     "output_type": "stream",
     "text": [
      "/home/carlous/.pyenv/versions/anaconda3-5.3.1/lib/python3.7/site-packages/ipykernel_launcher.py:23: DeprecationWarning: use options instead of chrome_options\n"
     ]
    },
    {
     "name": "stdout",
     "output_type": "stream",
     "text": [
      "三特\n"
     ]
    },
    {
     "name": "stderr",
     "output_type": "stream",
     "text": [
      "/home/carlous/.pyenv/versions/anaconda3-5.3.1/lib/python3.7/site-packages/ipykernel_launcher.py:23: DeprecationWarning: use options instead of chrome_options\n"
     ]
    },
    {
     "name": "stdout",
     "output_type": "stream",
     "text": [
      "Flyco/飞科\n"
     ]
    },
    {
     "name": "stderr",
     "output_type": "stream",
     "text": [
      "/home/carlous/.pyenv/versions/anaconda3-5.3.1/lib/python3.7/site-packages/ipykernel_launcher.py:23: DeprecationWarning: use options instead of chrome_options\n"
     ]
    },
    {
     "name": "stdout",
     "output_type": "stream",
     "text": [
      "昇田\n"
     ]
    },
    {
     "name": "stderr",
     "output_type": "stream",
     "text": [
      "/home/carlous/.pyenv/versions/anaconda3-5.3.1/lib/python3.7/site-packages/ipykernel_launcher.py:23: DeprecationWarning: use options instead of chrome_options\n"
     ]
    },
    {
     "name": "stdout",
     "output_type": "stream",
     "text": [
      "newyerbay/纽因贝\n"
     ]
    },
    {
     "name": "stderr",
     "output_type": "stream",
     "text": [
      "/home/carlous/.pyenv/versions/anaconda3-5.3.1/lib/python3.7/site-packages/ipykernel_launcher.py:23: DeprecationWarning: use options instead of chrome_options\n"
     ]
    },
    {
     "name": "stdout",
     "output_type": "stream",
     "text": [
      "雅娜\n"
     ]
    },
    {
     "name": "stderr",
     "output_type": "stream",
     "text": [
      "/home/carlous/.pyenv/versions/anaconda3-5.3.1/lib/python3.7/site-packages/ipykernel_launcher.py:23: DeprecationWarning: use options instead of chrome_options\n"
     ]
    },
    {
     "name": "stdout",
     "output_type": "stream",
     "text": [
      "康夫\n"
     ]
    },
    {
     "name": "stderr",
     "output_type": "stream",
     "text": [
      "/home/carlous/.pyenv/versions/anaconda3-5.3.1/lib/python3.7/site-packages/ipykernel_launcher.py:23: DeprecationWarning: use options instead of chrome_options\n"
     ]
    },
    {
     "name": "stdout",
     "output_type": "stream",
     "text": [
      "LonttonWF\n"
     ]
    },
    {
     "name": "stderr",
     "output_type": "stream",
     "text": [
      "/home/carlous/.pyenv/versions/anaconda3-5.3.1/lib/python3.7/site-packages/ipykernel_launcher.py:23: DeprecationWarning: use options instead of chrome_options\n"
     ]
    },
    {
     "name": "stdout",
     "output_type": "stream",
     "text": [
      "新贝\n"
     ]
    },
    {
     "name": "stderr",
     "output_type": "stream",
     "text": [
      "/home/carlous/.pyenv/versions/anaconda3-5.3.1/lib/python3.7/site-packages/ipykernel_launcher.py:23: DeprecationWarning: use options instead of chrome_options\n"
     ]
    },
    {
     "name": "stdout",
     "output_type": "stream",
     "text": [
      "bikeboy（台湾）\n"
     ]
    },
    {
     "name": "stderr",
     "output_type": "stream",
     "text": [
      "/home/carlous/.pyenv/versions/anaconda3-5.3.1/lib/python3.7/site-packages/ipykernel_launcher.py:23: DeprecationWarning: use options instead of chrome_options\n"
     ]
    },
    {
     "name": "stdout",
     "output_type": "stream",
     "text": [
      "save success\n",
      "save success\n",
      "Wheel  0  OVER\n"
     ]
    }
   ],
   "source": [
    "ToSidata = InputData()\n",
    "with sqlite3.connect('Tmall.db') as con:\n",
    "    alreadyData = pd.read_sql_query('select * from content;',con=con,index_col='Id')\n",
    "result=ToSidata[~ToSidata.index.isin(alreadyData.index)]\n",
    "listRange = []\n",
    "for i in range(len(result)//RANGE+1):\n",
    "    listRange.append(result.iloc[i*RANGE:(i+1)*RANGE])\n",
    "ChromeThread(listRange)"
   ]
  }
 ],
 "metadata": {
  "kernelspec": {
   "display_name": "Python 3",
   "language": "python",
   "name": "python3"
  },
  "language_info": {
   "codemirror_mode": {
    "name": "ipython",
    "version": 3
   },
   "file_extension": ".py",
   "mimetype": "text/x-python",
   "name": "python",
   "nbconvert_exporter": "python",
   "pygments_lexer": "ipython3",
   "version": "3.7.0"
  },
  "toc": {
   "base_numbering": 1,
   "nav_menu": {},
   "number_sections": true,
   "sideBar": true,
   "skip_h1_title": false,
   "title_cell": "Table of Contents",
   "title_sidebar": "Contents",
   "toc_cell": false,
   "toc_position": {},
   "toc_section_display": true,
   "toc_window_display": false
  }
 },
 "nbformat": 4,
 "nbformat_minor": 2
}
