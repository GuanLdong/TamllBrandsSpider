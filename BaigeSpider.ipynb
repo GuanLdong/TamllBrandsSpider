{
 "cells": [
  {
   "cell_type": "markdown",
   "metadata": {},
   "source": [
    "# 简单的开始"
   ]
  },
  {
   "cell_type": "code",
   "execution_count": 242,
   "metadata": {},
   "outputs": [],
   "source": [
    "from urllib.request import urlopen\n",
    "import requests"
   ]
  },
  {
   "cell_type": "code",
   "execution_count": 202,
   "metadata": {},
   "outputs": [],
   "source": [
    "url = \"http://www.tybai.com/category\""
   ]
  },
  {
   "cell_type": "code",
   "execution_count": 203,
   "metadata": {
    "scrolled": true
   },
   "outputs": [
    {
     "data": {
      "text/plain": [
       "b'<!DOCTYPE html>\\n<html>\\n\\n<head>\\n    <link rel=\"shortcut icon\" href=\"/static/jpg/myjpg.jpg\"/>\\n    <meta http-equiv=\"Content-Type\" content=\"text/html; charset=utf-8\">\\n\\n    <!-- Stylesheets -->\\n    <link href=\"/static/css/bootstrap.min.css\" rel=\"stylesheet\"/>\\n    <link href=\"/static/css/font-awesome.min.css\" rel=\"stylesheet\"/>\\n\\t<link href=\"/static/css/styles.css\" rel=\"stylesheet\"/>\\n\\t<link href=\"/static/css/rouge.css\" rel=\"stylesheet\"/>\\n\\n    <script type=\"text/javascript\" src=\"/static/js/jquery.min.js\"></script>\\n    <script type=\"text/javascript\" src=\"/static/js/bootstrap.min.js\"></script>\\n    <script type=\"text/javascript\" src=\"/static/js/busuanzi23.pure.mini.js\"></script>\\n    <script type=\"text/javascript\" src=\"/static/js/jquery.backstretch.min.js\"></script>\\n\\t\\n\\t<script async src=\"//pagead2.googlesyndication.com/pagead/js/adsbygoogle.js\"></script>\\n\\t<script>\\n\\t  (adsbygoogle = window.adsbygoogle || []).push({\\n\\t\\tgoogle_ad_client: \"ca-pub-6984407547673505\",\\n\\t\\tenable_page_level_ads: true\\n\\t  });\\n\\t</script>\\n\\n    <title>\\xe7\\x99\\xbe\\xe5\\x93\\xa5\\xe4\\xb9\\x88\\xe4\\xb9\\x88\\xe5\\x93\\x92|\\xe4\\xb8\\xaa\\xe4\\xba\\xba\\xe7\\xbd\\x91\\xe7\\xab\\x99</title>\\n\\n</head>\\n\\n\\n<body>\\n\\t<!--<script type=\"text/javascript\">$.backstretch(\\'https://bing.ioliu.cn/v1?d=0&1920x1200\\');</script>-->\\n\\t<script type=\"text/javascript\">$.backstretch(\\'/static/jpg/v1.jpg\\');</script>\\n    <div class=\"navbar navbar-default navbar-fixed-top\" style=\"background-color:rgba(255, 255, 255, 0.75);box-shadow:0 10px 10px 0 rgba(0, 0, 0, 0.15)\">\\n    <div class=\"container\">\\n        <div class=\"navbar-header\">\\n            <a type=\"button\" class=\"navbar-toggle\" data-toggle = \"collapse\"  data-target = \"#target-menu\">\\n                <span class=\"icon-bar\"></span>\\n                <span class=\"icon-bar\"></span>\\n                <span class=\"icon-bar\"></span>\\n            </a>\\n            <a class=\"navbar-brand brand\" href=\"/\">TTyb|\\xe4\\xb8\\xaa\\xe4\\xba\\xba\\xe7\\xbd\\x91\\xe7\\xab\\x99</a>\\n        </div>\\n        <div style=\"font-family: serif;text-decoration: none;\" class=\"collapse navbar-collapse navbar-responsive-collapse\" id = \"target-menu\">\\n            <ul style=\"margin: 0 0 0;\">\\n\\t\\t\\t\\t<ul class=\"nav navbar-nav pull-right\" style=\"margin: 0 0 0;\">\\n\\t\\t\\t\\t\\t<li>\\n\\t\\t\\t\\t\\t\\t<a data-toggle=\"dropdown\" class=\"dropdown-toggle navbar-brand\" href=\"javascript:void(0)\">\\xe5\\x8f\\x8b\\xe6\\x83\\x85\\xe9\\x93\\xbe\\xe6\\x8e\\xa5\\n\\t\\t\\t\\t\\t\\t<strong class=\"caret\" style=\"margin-left: -5px;\"></strong></a>\\n\\t\\t\\t\\t\\t\\t<ul class=\"dropdown-menu container-fluid\" style=\"border-radius: 6px 6px 6px 6px;\">\\n\\t\\t\\t\\t\\t\\t\\t<li><a href=\"http://www.cnblogs.com/TTyb\">\\xe5\\x8d\\x9a\\xe5\\xae\\xa2\\xe5\\x9b\\xad</a></li>\\n\\t\\t\\t\\t\\t\\t\\t<li><a href=\"https://github.com/TTyb\">Github</a></li>\\n\\t\\t\\t\\t\\t\\t\\t<li><a href=\"http://blog.lenggirl.com/\">\\xe6\\x90\\xac\\xe7\\xa0\\x96\\xe7\\x9a\\x84\\xe9\\x99\\x88\\xe5\\xa4\\xa7\\xe5\\xb8\\x88</a></li>\\n\\t\\t\\t\\t\\t\\t\\t<li><a href=\"http://www.twistedwg.com/\">TwistedW\\xe7\\x9a\\x84\\xe5\\xb0\\x8f\\xe5\\xb1\\x8b</a></li>\\n\\t\\t\\t\\t\\t\\t</ul>\\n\\t\\t\\t\\t\\t</li>\\n\\t\\t\\t\\t</ul>\\n\\t\\t\\t\\t<ul class=\"nav navbar-nav\" style=\"margin: 0 0 0;\">\\n\\t\\t\\t\\t\\t<li><a class=\"navbar-brand\" href=\"/topic\">\\xe6\\x96\\x87\\xe7\\xab\\xa0\\xe9\\x9a\\x8f\\xe7\\xac\\x94</a></li>\\n\\t\\t\\t\\t\\t<li><a class=\"navbar-brand\" href=\"/category\">\\xe5\\x88\\x86\\xe7\\xb1\\xbb\\xe6\\xa0\\x87\\xe7\\xad\\xbe</a></li>\\n\\t\\t\\t\\t\\t<li><a class=\"navbar-brand\" href=\"/logs/log\">\\xe4\\xbf\\xae\\xe8\\xae\\xa2\\xe6\\x97\\xa5\\xe5\\xbf\\x97</a></li>\\n\\t\\t\\t\\t\\t<li><a class=\"navbar-brand\" href=\"/guestbook\">\\xe6\\xb8\\xb8\\xe5\\xae\\xa2\\xe7\\x95\\x99\\xe8\\xa8\\x80</a></li>\\t\\t\\t\\t\\n\\t\\t\\t\\t\\t\\n\\t\\t\\t\\t\\t<li>\\n\\t\\t\\t\\t\\t\\t<a style=\"background: url(\\'/static/jpg/hotimg.png\\') no-repeat right top\" class=\"navbar-brand\" href=\"/crawlerfirst/_%E7%88%AC%E8%99%AB%E6%95%99%E7%A8%8B.html\">\\xe7\\x88\\xac\\xe8\\x99\\xab\\xe6\\x95\\x99\\xe7\\xa8\\x8b</a> \\n\\t\\t\\t\\t\\t</li>\\n\\t\\t\\t\\t\\t\\n\\t\\t\\t\\t\\t\\n\\t\\t\\t\\t\\t<li>\\n\\t\\t\\t\\t\\t\\t<a style=\"background: url(\\'/static/jpg/newimg.png\\') no-repeat right top\" class=\"navbar-brand\" href=\"/gitblogfirst/_%E5%BB%BA%E7%AB%99%E6%95%99%E7%A8%8B.html\">\\xe5\\xbb\\xba\\xe7\\xab\\x99\\xe6\\x95\\x99\\xe7\\xa8\\x8b</a>\\n\\t\\t\\t\\t\\t</li>\\n\\t\\t\\t\\t\\t\\n\\t\\t\\t\\t\\t<li><a class=\"navbar-brand\" href=\"/openSourceProject\">\\xe5\\xbc\\x80\\xe6\\xba\\x90\\xe9\\xa1\\xb9\\xe7\\x9b\\xae</a></li>\\n\\t\\t\\t\\t</ul>\\n\\t\\t\\t\\t\\n            </ul>\\n        </div>\\n    </div>\\n</div>\\n\\n        <div class=\"container\">\\n\\t<h1 style=\"background-image:linear-gradient(90deg, #f79533 0px, #f37055 15%, #ef4e7b 30%, #a166ab 44%, #5073b8 58%, #1098ad 72%, #07b39b 86%, #6dba82 100%);border-radius: 4px;color: #fff\">\\n\\t\\t\\xe5\\x88\\x86\\xe7\\xb1\\xbb\\xe5\\x88\\x97\\xe8\\xa1\\xa8\\n\\t</h1>\\n\\t<div class=\"col-xs-3 col-sm-3 col-md-2\" style=\"border-right: 1px solid #ddd;border-radius: 4px;\">\\n\\t\\t<ul class=\"list-group\">\\n\\t\\t\\t\\n\\t\\t\\t\\n\\t\\t\\t\\n\\t\\t\\t\\n\\t\\t\\t\\n\\t\\t\\t\\n\\t\\t\\t\\n\\t\\t\\t\\n\\t\\t\\t\\n\\t\\t\\t\\n\\t\\t\\t\\n\\t\\t\\t\\n\\t\\t\\t\\n\\t\\t\\t\\n\\t\\t\\t<a href=\"/showCategory.html?cat=markdown\" class=\"list-group-item\">\\n\\t\\t\\t\\tmarkdown\\n\\t\\t\\t\\t<span class=\"badge\" style=\"background-color: #FF8C00\">1</span>\\n\\t\\t\\t</a>\\n\\t\\t\\t\\n\\t\\t\\t\\n\\t\\t\\t\\n\\t\\t\\t<a href=\"/showCategory.html?cat=dataanalysis\" class=\"list-group-item\">\\n\\t\\t\\t\\tdataanalysis\\n\\t\\t\\t\\t<span class=\"badge\" style=\"background-color: #FF8C00\">2</span>\\n\\t\\t\\t</a>\\n\\t\\t\\t\\n\\t\\t\\t\\n\\t\\t\\t\\n\\t\\t\\t<a href=\"/showCategory.html?cat=html\" class=\"list-group-item\">\\n\\t\\t\\t\\thtml\\n\\t\\t\\t\\t<span class=\"badge\" style=\"background-color: #FF8C00\">8</span>\\n\\t\\t\\t</a>\\n\\t\\t\\t\\n\\t\\t\\t\\n\\t\\t\\t\\n\\t\\t\\t<a href=\"/showCategory.html?cat=mysql\" class=\"list-group-item\">\\n\\t\\t\\t\\tmysql\\n\\t\\t\\t\\t<span class=\"badge\" style=\"background-color: #FF8C00\">1</span>\\n\\t\\t\\t</a>\\n\\t\\t\\t\\n\\t\\t\\t\\n\\t\\t\\t\\n\\t\\t\\t<a href=\"/showCategory.html?cat=matlab\" class=\"list-group-item\">\\n\\t\\t\\t\\tmatlab\\n\\t\\t\\t\\t<span class=\"badge\" style=\"background-color: #FF8C00\">1</span>\\n\\t\\t\\t</a>\\n\\t\\t\\t\\n\\t\\t\\t\\n\\t\\t\\t\\n\\t\\t\\t<a href=\"/showCategory.html?cat=git\" class=\"list-group-item\">\\n\\t\\t\\t\\tgit\\n\\t\\t\\t\\t<span class=\"badge\" style=\"background-color: #FF8C00\">6</span>\\n\\t\\t\\t</a>\\n\\t\\t\\t\\n\\t\\t\\t\\n\\t\\t\\t\\n\\t\\t\\t<a href=\"/showCategory.html?cat=java\" class=\"list-group-item\">\\n\\t\\t\\t\\tjava\\n\\t\\t\\t\\t<span class=\"badge\" style=\"background-color: #FF8C00\">1</span>\\n\\t\\t\\t</a>\\n\\t\\t\\t\\n\\t\\t\\t\\n\\t\\t\\t\\n\\t\\t\\t<a href=\"/showCategory.html?cat=python\" class=\"list-group-item\">\\n\\t\\t\\t\\tpython\\n\\t\\t\\t\\t<span class=\"badge\" style=\"background-color: #FF8C00\">41</span>\\n\\t\\t\\t</a>\\n\\t\\t\\t\\n\\t\\t\\t\\n\\t\\t\\t\\n\\t\\t\\t<a href=\"/showCategory.html?cat=selenium\" class=\"list-group-item\">\\n\\t\\t\\t\\tselenium\\n\\t\\t\\t\\t<span class=\"badge\" style=\"background-color: #FF8C00\">9</span>\\n\\t\\t\\t</a>\\n\\t\\t\\t\\n\\t\\t\\t\\n\\t\\t\\t\\n\\t\\t\\t<a href=\"/showCategory.html?cat=IDE\" class=\"list-group-item\">\\n\\t\\t\\t\\tIDE\\n\\t\\t\\t\\t<span class=\"badge\" style=\"background-color: #FF8C00\">2</span>\\n\\t\\t\\t</a>\\n\\t\\t\\t\\n\\t\\t\\t\\n\\t\\t\\t\\n\\t\\t\\t<a href=\"/showCategory.html?cat=golang\" class=\"list-group-item\">\\n\\t\\t\\t\\tgolang\\n\\t\\t\\t\\t<span class=\"badge\" style=\"background-color: #FF8C00\">1</span>\\n\\t\\t\\t</a>\\n\\t\\t\\t\\n\\t\\t\\t\\n\\t\\t\\t\\n\\t\\t\\t<a href=\"/showCategory.html?cat=javascript\" class=\"list-group-item\">\\n\\t\\t\\t\\tjavascript\\n\\t\\t\\t\\t<span class=\"badge\" style=\"background-color: #FF8C00\">2</span>\\n\\t\\t\\t</a>\\n\\t\\t\\t\\n\\t\\t\\t\\n\\t\\t\\t\\n\\t\\t\\t<a href=\"/showCategory.html?cat=ML\" class=\"list-group-item\">\\n\\t\\t\\t\\tML\\n\\t\\t\\t\\t<span class=\"badge\" style=\"background-color: #FF8C00\">10</span>\\n\\t\\t\\t</a>\\n\\t\\t\\t\\n\\t\\t\\t\\n\\t\\t\\t\\n\\t\\t\\t<a href=\"/showCategory.html?cat=wechat\" class=\"list-group-item\">\\n\\t\\t\\t\\twechat\\n\\t\\t\\t\\t<span class=\"badge\" style=\"background-color: #FF8C00\">1</span>\\n\\t\\t\\t</a>\\n\\t\\t\\t\\n\\t\\t\\t\\n\\t\\t\\t\\n\\t\\t\\t<a href=\"/showCategory.html?cat=Linux\" class=\"list-group-item\">\\n\\t\\t\\t\\tLinux\\n\\t\\t\\t\\t<span class=\"badge\" style=\"background-color: #FF8C00\">12</span>\\n\\t\\t\\t</a>\\n\\t\\t\\t\\n\\t\\t\\t\\n\\t\\t\\t\\n\\t\\t\\t<a href=\"/showCategory.html?cat=hadoop\" class=\"list-group-item\">\\n\\t\\t\\t\\thadoop\\n\\t\\t\\t\\t<span class=\"badge\" style=\"background-color: #FF8C00\">3</span>\\n\\t\\t\\t</a>\\n\\t\\t\\t\\n\\t\\t\\t\\n\\t\\t\\t\\n\\t\\t\\t<a href=\"/showCategory.html?cat=pythontools\" class=\"list-group-item\">\\n\\t\\t\\t\\tpythontools\\n\\t\\t\\t\\t<span class=\"badge\" style=\"background-color: #FF8C00\">7</span>\\n\\t\\t\\t</a>\\n\\t\\t\\t\\n\\t\\t\\t\\n\\t\\t\\t\\n\\t\\t\\t<a href=\"/showCategory.html?cat=scala\" class=\"list-group-item\">\\n\\t\\t\\t\\tscala\\n\\t\\t\\t\\t<span class=\"badge\" style=\"background-color: #FF8C00\">29</span>\\n\\t\\t\\t</a>\\n\\t\\t\\t\\n\\t\\t\\t\\n\\t\\t\\t\\n\\t\\t\\t<a href=\"/showCategory.html?cat=elasticsearch\" class=\"list-group-item\">\\n\\t\\t\\t\\telasticsearch\\n\\t\\t\\t\\t<span class=\"badge\" style=\"background-color: #FF8C00\">2</span>\\n\\t\\t\\t</a>\\n\\t\\t\\t\\n\\t\\t\\t\\n\\t\\t\\t\\n\\t\\t\\t<a href=\"/showCategory.html?cat=hive\" class=\"list-group-item\">\\n\\t\\t\\t\\thive\\n\\t\\t\\t\\t<span class=\"badge\" style=\"background-color: #FF8C00\">2</span>\\n\\t\\t\\t</a>\\n\\t\\t\\t\\n\\t\\t\\t\\n\\t\\t</ul>\\n\\t</div>\\n\\t<div class=\"col-xs-9 col-sm-9 col-md-10\" style=\"background-color: #f4f4f4;border-radius: 4px;\">\\n\\t\\t<table class=\"table table-striped\">\\n\\t\\t\\t<thead>\\n\\t\\t\\t<tr>\\n\\t\\t\\t\\t<th>\\xe6\\x96\\x87\\xe7\\xab\\xa0\\xe6\\xa0\\x87\\xe9\\xa2\\x98</th>\\n\\t\\t\\t\\t<th>\\xe5\\x88\\x9b\\xe5\\xbb\\xba\\xe6\\x97\\xb6\\xe9\\x97\\xb4</th>\\n\\t\\t\\t\\t<th>\\xe6\\x96\\x87\\xe7\\xab\\xa0\\xe6\\xa0\\x87\\xe7\\xad\\xbe</th>\\n\\t\\t\\t</tr>\\n\\t\\t\\t</thead>\\n\\t\\t\\t<tbody>\\n\\t\\t\\t\\n\\t\\t\\t\\n\\t\\t\\t\\n\\t\\t\\t<tr>\\n\\t\\t\\t\\t<th><span class=\"topicc text-overflow\"><a href=\"/python/pyspark%E5%88%97%E5%90%88%E5%B9%B6%E4%B8%BA%E4%B8%80%E8%A1%8C.html\">pyspark\\xe5\\x88\\x97\\xe5\\x90\\x88\\xe5\\xb9\\xb6\\xe4\\xb8\\xba\\xe4\\xb8\\x80\\xe8\\xa1\\x8c</a></span></th>\\n\\t\\t\\t\\t<th><i class=\"icon fa-calendar\"></i><a href=\"javascript:void(0)\"> 2018-12-29</a></th>\\n\\t\\t\\t\\t<th><a href=\"/showCategory.html?cat=python\">python</a></th>\\n\\t\\t\\t</tr>\\n\\t\\t\\t\\n\\t\\t\\t\\n\\t\\t\\t\\n\\t\\t\\t\\n\\t\\t\\t\\n\\t\\t\\t<tr>\\n\\t\\t\\t\\t<th><span class=\"topicc text-overflow\"><a href=\"/python/%E9%93%BE%E5%AE%B6%E4%BA%8C%E6%89%8B%E6%88%BF%E6%A5%BC%E7%9B%98%E7%88%AC%E8%99%AB.html\">\\xe9\\x93\\xbe\\xe5\\xae\\xb6\\xe4\\xba\\x8c\\xe6\\x89\\x8b\\xe6\\x88\\xbf\\xe6\\xa5\\xbc\\xe7\\x9b\\x98\\xe7\\x88\\xac\\xe8\\x99\\xab</a></span></th>\\n\\t\\t\\t\\t<th><i class=\"icon fa-calendar\"></i><a href=\"javascript:void(0)\"> 2018-12-21</a></th>\\n\\t\\t\\t\\t<th><a href=\"/showCategory.html?cat=python\">python</a></th>\\n\\t\\t\\t</tr>\\n\\t\\t\\t\\n\\t\\t\\t\\n\\t\\t\\t\\n\\t\\t\\t\\n\\t\\t\\t\\n\\t\\t\\t<tr>\\n\\t\\t\\t\\t<th><span class=\"topicc text-overflow\"><a href=\"/hive/hive%E6%96%B0%E5%BB%BA%E5%88%86%E5%8C%BA%E8%A1%A8.html\">hive\\xe6\\x96\\xb0\\xe5\\xbb\\xba\\xe5\\x88\\x86\\xe5\\x8c\\xba\\xe8\\xa1\\xa8</a></span></th>\\n\\t\\t\\t\\t<th><i class=\"icon fa-calendar\"></i><a href=\"javascript:void(0)\"> 2018-12-14</a></th>\\n\\t\\t\\t\\t<th><a href=\"/showCategory.html?cat=hive\">hive</a></th>\\n\\t\\t\\t</tr>\\n\\t\\t\\t\\n\\t\\t\\t\\n\\t\\t\\t\\n\\t\\t\\t\\n\\t\\t\\t\\n\\t\\t\\t<tr>\\n\\t\\t\\t\\t<th><span class=\"topicc text-overflow\"><a href=\"/hive/hive%E5%88%A0%E9%99%A4%E8%A1%A8%E5%92%8C%E8%A1%A8%E4%B8%AD%E7%9A%84%E6%95%B0%E6%8D%AE.html\">hive\\xe5\\x88\\xa0\\xe9\\x99\\xa4\\xe8\\xa1\\xa8\\xe5\\x92\\x8c\\xe8\\xa1\\xa8\\xe4\\xb8\\xad\\xe7\\x9a\\x84\\xe6\\x95\\xb0\\xe6\\x8d\\xae</a></span></th>\\n\\t\\t\\t\\t<th><i class=\"icon fa-calendar\"></i><a href=\"javascript:void(0)\"> 2018-12-14</a></th>\\n\\t\\t\\t\\t<th><a href=\"/showCategory.html?cat=hive\">hive</a></th>\\n\\t\\t\\t</tr>\\n\\t\\t\\t\\n\\t\\t\\t\\n\\t\\t\\t\\n\\t\\t\\t\\n\\t\\t\\t\\n\\t\\t\\t<tr>\\n\\t\\t\\t\\t<th><span class=\"topicc text-overflow\"><a href=\"/html/csdn%E9%98%85%E8%AF%BB%E6%9B%B4%E5%A4%9A%E9%9C%80%E8%A6%81%E6%B3%A8%E5%86%8C%E7%99%BB%E5%BD%95csdn.html\">csdn\\xe9\\x98\\x85\\xe8\\xaf\\xbb\\xe6\\x9b\\xb4\\xe5\\xa4\\x9a\\xe9\\x9c\\x80\\xe8\\xa6\\x81\\xe6\\xb3\\xa8\\xe5\\x86\\x8c\\xe7\\x99\\xbb\\xe5\\xbd\\x95csdn</a></span></th>\\n\\t\\t\\t\\t<th><i class=\"icon fa-calendar\"></i><a href=\"javascript:void(0)\"> 2018-12-04</a></th>\\n\\t\\t\\t\\t<th><a href=\"/showCategory.html?cat=html\">html</a></th>\\n\\t\\t\\t</tr>\\n\\t\\t\\t\\n\\t\\t\\t\\n\\t\\t\\t\\n\\t\\t\\t\\n\\t\\t\\t\\n\\t\\t\\t<tr>\\n\\t\\t\\t\\t<th><span class=\"topicc text-overflow\"><a href=\"/python/pandas%E5%92%8Cspark%E7%9A%84dataframe%E4%BA%92%E8%BD%AC-%E5%89%AF%E6%9C%AC.html\">pandas\\xe5\\x92\\x8cspark\\xe7\\x9a\\x84dataframe\\xe4\\xba\\x92\\xe8\\xbd\\xac</a></span></th>\\n\\t\\t\\t\\t<th><i class=\"icon fa-calendar\"></i><a href=\"javascript:void(0)\"> 2018-11-21</a></th>\\n\\t\\t\\t\\t<th><a href=\"/showCategory.html?cat=python\">python</a></th>\\n\\t\\t\\t</tr>\\n\\t\\t\\t\\n\\t\\t\\t\\n\\t\\t\\t\\n\\t\\t\\t\\n\\t\\t\\t\\n\\t\\t\\t<tr>\\n\\t\\t\\t\\t<th><span class=\"topicc text-overflow\"><a href=\"/html/%E4%BB%A3%E7%A0%81%E8%BD%AC%E6%8D%A2%E4%B8%BAhtml%E6%98%BE%E7%A4%BA.html\">\\xe4\\xbb\\xa3\\xe7\\xa0\\x81\\xe8\\xbd\\xac\\xe6\\x8d\\xa2\\xe4\\xb8\\xbahtml\\xe6\\x98\\xbe\\xe7\\xa4\\xba</a></span></th>\\n\\t\\t\\t\\t<th><i class=\"icon fa-calendar\"></i><a href=\"javascript:void(0)\"> 2018-11-06</a></th>\\n\\t\\t\\t\\t<th><a href=\"/showCategory.html?cat=html\">html</a></th>\\n\\t\\t\\t</tr>\\n\\t\\t\\t\\n\\t\\t\\t\\n\\t\\t\\t\\n\\t\\t\\t\\n\\t\\t\\t\\n\\t\\t\\t<tr>\\n\\t\\t\\t\\t<th><span class=\"topicc text-overflow\"><a href=\"/python/subprocess%E5%AE%9E%E6%97%B6%E8%8E%B7%E5%8F%96%E7%BB%93%E6%9E%9C%E5%92%8C%E6%8D%95%E8%8E%B7%E9%94%99%E8%AF%AF.html\">subprocess\\xe5\\xae\\x9e\\xe6\\x97\\xb6\\xe8\\x8e\\xb7\\xe5\\x8f\\x96\\xe7\\xbb\\x93\\xe6\\x9e\\x9c\\xe5\\x92\\x8c\\xe6\\x8d\\x95\\xe8\\x8e\\xb7\\xe9\\x94\\x99\\xe8\\xaf\\xaf</a></span></th>\\n\\t\\t\\t\\t<th><i class=\"icon fa-calendar\"></i><a href=\"javascript:void(0)\"> 2018-11-01</a></th>\\n\\t\\t\\t\\t<th><a href=\"/showCategory.html?cat=python\">python</a></th>\\n\\t\\t\\t</tr>\\n\\t\\t\\t\\n\\t\\t\\t\\n\\t\\t\\t\\n\\t\\t\\t\\n\\t\\t\\t\\n\\t\\t\\t<tr>\\n\\t\\t\\t\\t<th><span class=\"topicc text-overflow\"><a href=\"/linux/ubuntu%E7%9A%84vim%E5%8F%96%E6%B6%88%E7%BC%A9%E8%BF%9B.html\">ubuntu\\xe7\\x9a\\x84vim\\xe5\\x8f\\x96\\xe6\\xb6\\x88\\xe7\\xbc\\xa9\\xe8\\xbf\\x9b</a></span></th>\\n\\t\\t\\t\\t<th><i class=\"icon fa-calendar\"></i><a href=\"javascript:void(0)\"> 2018-10-30</a></th>\\n\\t\\t\\t\\t<th><a href=\"/showCategory.html?cat=Linux\">Linux</a></th>\\n\\t\\t\\t</tr>\\n\\t\\t\\t\\n\\t\\t\\t\\n\\t\\t\\t\\n\\t\\t\\t\\n\\t\\t\\t\\n\\t\\t\\t<tr>\\n\\t\\t\\t\\t<th><span class=\"topicc text-overflow\"><a href=\"/python/python3%E7%9A%84socket%E4%BD%BF%E7%94%A8.html\">python3\\xe7\\x9a\\x84socket\\xe4\\xbd\\xbf\\xe7\\x94\\xa8</a></span></th>\\n\\t\\t\\t\\t<th><i class=\"icon fa-calendar\"></i><a href=\"javascript:void(0)\"> 2018-10-29</a></th>\\n\\t\\t\\t\\t<th><a href=\"/showCategory.html?cat=python\">python</a></th>\\n\\t\\t\\t</tr>\\n\\t\\t\\t\\n\\t\\t\\t\\n\\t\\t\\t\\n\\t\\t\\t\\n\\t\\t\\t\\n\\t\\t\\t<tr>\\n\\t\\t\\t\\t<th><span class=\"topicc text-overflow\"><a href=\"/linux/centos7%E5%BC%80%E6%94%BE%E7%AB%AF%E5%8F%A3%E5%92%8C%E9%98%B2%E7%81%AB%E5%A2%99%E8%AE%BE%E7%BD%AE.html\">centos7\\xe5\\xbc\\x80\\xe6\\x94\\xbe\\xe7\\xab\\xaf\\xe5\\x8f\\xa3\\xe5\\x92\\x8c\\xe9\\x98\\xb2\\xe7\\x81\\xab\\xe5\\xa2\\x99\\xe8\\xae\\xbe\\xe7\\xbd\\xae</a></span></th>\\n\\t\\t\\t\\t<th><i class=\"icon fa-calendar\"></i><a href=\"javascript:void(0)\"> 2018-10-29</a></th>\\n\\t\\t\\t\\t<th><a href=\"/showCategory.html?cat=Linux\">Linux</a></th>\\n\\t\\t\\t</tr>\\n\\t\\t\\t\\n\\t\\t\\t\\n\\t\\t\\t\\n\\t\\t\\t\\n\\t\\t\\t\\n\\t\\t\\t<tr>\\n\\t\\t\\t\\t<th><span class=\"topicc text-overflow\"><a href=\"/python/python%E8%8E%B7%E5%8F%96set-cookies.html\">python\\xe8\\x8e\\xb7\\xe5\\x8f\\x96set-cookies</a></span></th>\\n\\t\\t\\t\\t<th><i class=\"icon fa-calendar\"></i><a href=\"javascript:void(0)\"> 2018-10-28</a></th>\\n\\t\\t\\t\\t<th><a href=\"/showCategory.html?cat=python\">python</a></th>\\n\\t\\t\\t</tr>\\n\\t\\t\\t\\n\\t\\t\\t\\n\\t\\t\\t\\n\\t\\t\\t\\n\\t\\t\\t\\n\\t\\t\\t<tr>\\n\\t\\t\\t\\t<th><span class=\"topicc text-overflow\"><a href=\"/python/tensorflow%E4%BD%BF%E7%94%A8GPU.html\">TensorFlow\\xe4\\xbd\\xbf\\xe7\\x94\\xa8GPU</a></span></th>\\n\\t\\t\\t\\t<th><i class=\"icon fa-calendar\"></i><a href=\"javascript:void(0)\"> 2018-09-29</a></th>\\n\\t\\t\\t\\t<th><a href=\"/showCategory.html?cat=python\">python</a></th>\\n\\t\\t\\t</tr>\\n\\t\\t\\t\\n\\t\\t\\t\\n\\t\\t\\t\\n\\t\\t\\t\\n\\t\\t\\t\\n\\t\\t\\t<tr>\\n\\t\\t\\t\\t<th><span class=\"topicc text-overflow\"><a href=\"/python/pandas%E7%9A%84apply%E6%93%8D%E4%BD%9C.html\">pandas\\xe7\\x9a\\x84apply\\xe6\\x93\\x8d\\xe4\\xbd\\x9c</a></span></th>\\n\\t\\t\\t\\t<th><i class=\"icon fa-calendar\"></i><a href=\"javascript:void(0)\"> 2018-09-21</a></th>\\n\\t\\t\\t\\t<th><a href=\"/showCategory.html?cat=python\">python</a></th>\\n\\t\\t\\t</tr>\\n\\t\\t\\t\\n\\t\\t\\t\\n\\t\\t\\t\\n\\t\\t\\t\\n\\t\\t\\t\\n\\t\\t\\t<tr>\\n\\t\\t\\t\\t<th><span class=\"topicc text-overflow\"><a href=\"/python/pandas%E5%88%97%E5%90%88%E5%B9%B6%E4%B8%BA%E4%B8%80%E8%A1%8C.html\">pandas\\xe5\\x88\\x97\\xe5\\x90\\x88\\xe5\\xb9\\xb6\\xe4\\xb8\\xba\\xe4\\xb8\\x80\\xe8\\xa1\\x8c</a></span></th>\\n\\t\\t\\t\\t<th><i class=\"icon fa-calendar\"></i><a href=\"javascript:void(0)\"> 2018-09-19</a></th>\\n\\t\\t\\t\\t<th><a href=\"/showCategory.html?cat=python\">python</a></th>\\n\\t\\t\\t</tr>\\n\\t\\t\\t\\n\\t\\t\\t\\n\\t\\t\\t\\n\\t\\t\\t\\n\\t\\t\\t\\n\\t\\t\\t<tr>\\n\\t\\t\\t\\t<th><span class=\"topicc text-overflow\"><a href=\"/python/python%E5%B0%86%E5%AD%97%E7%AC%A6%E4%B8%B2%E7%B1%BB%E5%9E%8Blist%E8%BD%AC%E6%8D%A2%E6%88%90list.html\">python\\xe5\\xb0\\x86\\xe5\\xad\\x97\\xe7\\xac\\xa6\\xe4\\xb8\\xb2\\xe7\\xb1\\xbb\\xe5\\x9e\\x8blist\\xe8\\xbd\\xac\\xe6\\x8d\\xa2\\xe6\\x88\\x90list</a></span></th>\\n\\t\\t\\t\\t<th><i class=\"icon fa-calendar\"></i><a href=\"javascript:void(0)\"> 2018-09-14</a></th>\\n\\t\\t\\t\\t<th><a href=\"/showCategory.html?cat=python\">python</a></th>\\n\\t\\t\\t</tr>\\n\\t\\t\\t\\n\\t\\t\\t\\n\\t\\t\\t\\n\\t\\t\\t\\n\\t\\t\\t\\n\\t\\t\\t<tr>\\n\\t\\t\\t\\t<th><span class=\"topicc text-overflow\"><a href=\"/python/pandas%E6%93%8D%E4%BD%9C.html\">pandas\\xe6\\x93\\x8d\\xe4\\xbd\\x9c</a></span></th>\\n\\t\\t\\t\\t<th><i class=\"icon fa-calendar\"></i><a href=\"javascript:void(0)\"> 2018-09-12</a></th>\\n\\t\\t\\t\\t<th><a href=\"/showCategory.html?cat=python\">python</a></th>\\n\\t\\t\\t</tr>\\n\\t\\t\\t\\n\\t\\t\\t\\n\\t\\t\\t\\n\\t\\t\\t\\n\\t\\t\\t\\n\\t\\t\\t<tr>\\n\\t\\t\\t\\t<th><span class=\"topicc text-overflow\"><a href=\"/python/numpy%E6%93%8D%E4%BD%9C.html\">numpy\\xe6\\x93\\x8d\\xe4\\xbd\\x9c</a></span></th>\\n\\t\\t\\t\\t<th><i class=\"icon fa-calendar\"></i><a href=\"javascript:void(0)\"> 2018-09-10</a></th>\\n\\t\\t\\t\\t<th><a href=\"/showCategory.html?cat=python\">python</a></th>\\n\\t\\t\\t</tr>\\n\\t\\t\\t\\n\\t\\t\\t\\n\\t\\t\\t\\n\\t\\t\\t\\n\\t\\t\\t\\n\\t\\t\\t<tr>\\n\\t\\t\\t\\t<th><span class=\"topicc text-overflow\"><a href=\"/linux/Python3+Flask+uwsgi%E9%83%A8%E7%BD%B2.html\">Python3+Flask+uwsgi\\xe9\\x83\\xa8\\xe7\\xbd\\xb2</a></span></th>\\n\\t\\t\\t\\t<th><i class=\"icon fa-calendar\"></i><a href=\"javascript:void(0)\"> 2018-08-29</a></th>\\n\\t\\t\\t\\t<th><a href=\"/showCategory.html?cat=Linux\">Linux</a></th>\\n\\t\\t\\t</tr>\\n\\t\\t\\t\\n\\t\\t\\t\\n\\t\\t\\t\\n\\t\\t\\t\\n\\t\\t\\t\\n\\t\\t\\t<tr>\\n\\t\\t\\t\\t<th><span class=\"topicc text-overflow\"><a href=\"/python/python%E5%B0%86%E6%95%B4%E6%95%B0%E5%9D%87%E5%88%86%E6%88%90N%E7%AD%89%E5%88%86.html\">python\\xe5\\xb0\\x86\\xe6\\x95\\xb4\\xe6\\x95\\xb0\\xe5\\x9d\\x87\\xe5\\x88\\x86\\xe6\\x88\\x90N\\xe7\\xad\\x89\\xe5\\x88\\x86</a></span></th>\\n\\t\\t\\t\\t<th><i class=\"icon fa-calendar\"></i><a href=\"javascript:void(0)\"> 2018-08-27</a></th>\\n\\t\\t\\t\\t<th><a href=\"/showCategory.html?cat=python\">python</a></th>\\n\\t\\t\\t</tr>\\n\\t\\t\\t\\n\\t\\t\\t\\n\\t\\t\\t\\n\\t\\t\\t\\n\\t\\t\\t\\n\\t\\t\\t<tr>\\n\\t\\t\\t\\t<th><span class=\"topicc text-overflow\"><a href=\"/python/Windows7%E4%B8%8B%E5%AE%89%E8%A3%85pyspark.html\">Windows7\\xe4\\xb8\\x8b\\xe5\\xae\\x89\\xe8\\xa3\\x85pyspark</a></span></th>\\n\\t\\t\\t\\t<th><i class=\"icon fa-calendar\"></i><a href=\"javascript:void(0)\"> 2018-08-27</a></th>\\n\\t\\t\\t\\t<th><a href=\"/showCategory.html?cat=python\">python</a></th>\\n\\t\\t\\t</tr>\\n\\t\\t\\t\\n\\t\\t\\t\\n\\t\\t\\t\\n\\t\\t\\t\\n\\t\\t\\t\\n\\t\\t\\t<tr>\\n\\t\\t\\t\\t<th><span class=\"topicc text-overflow\"><a href=\"/python/python%E7%9A%84append-insert-extend-pop-remove-del%E4%BD%BF%E7%94%A8.html\">python\\xe7\\x9a\\x84append insert extend pop del remove\\xe4\\xbd\\xbf\\xe7\\x94\\xa8</a></span></th>\\n\\t\\t\\t\\t<th><i class=\"icon fa-calendar\"></i><a href=\"javascript:void(0)\"> 2018-07-20</a></th>\\n\\t\\t\\t\\t<th><a href=\"/showCategory.html?cat=python\">python</a></th>\\n\\t\\t\\t</tr>\\n\\t\\t\\t\\n\\t\\t\\t\\n\\t\\t\\t\\n\\t\\t\\t\\n\\t\\t\\t\\n\\t\\t\\t<tr>\\n\\t\\t\\t\\t<th><span class=\"topicc text-overflow\"><a href=\"/ml/%E9%A9%AC%E5%B0%94%E7%A7%91%E5%A4%AB%E9%93%BE.html\">\\xe9\\xa9\\xac\\xe5\\xb0\\x94\\xe7\\xa7\\x91\\xe5\\xa4\\xab\\xe9\\x93\\xbe</a></span></th>\\n\\t\\t\\t\\t<th><i class=\"icon fa-calendar\"></i><a href=\"javascript:void(0)\"> 2018-07-03</a></th>\\n\\t\\t\\t\\t<th><a href=\"/showCategory.html?cat=ML\">ML</a></th>\\n\\t\\t\\t</tr>\\n\\t\\t\\t\\n\\t\\t\\t\\n\\t\\t\\t\\n\\t\\t\\t\\n\\t\\t\\t\\n\\t\\t\\t<tr>\\n\\t\\t\\t\\t<th><span class=\"topicc text-overflow\"><a href=\"/scala/dataframe%E8%A1%8C%E5%8F%98%E6%8D%A2%E4%B8%BA%E5%88%97.html\">dataframe\\xe8\\xa1\\x8c\\xe5\\x8f\\x98\\xe6\\x8d\\xa2\\xe4\\xb8\\xba\\xe5\\x88\\x97</a></span></th>\\n\\t\\t\\t\\t<th><i class=\"icon fa-calendar\"></i><a href=\"javascript:void(0)\"> 2018-06-27</a></th>\\n\\t\\t\\t\\t<th><a href=\"/showCategory.html?cat=scala\">scala</a></th>\\n\\t\\t\\t</tr>\\n\\t\\t\\t\\n\\t\\t\\t\\n\\t\\t\\t\\n\\t\\t\\t\\n\\t\\t\\t\\n\\t\\t\\t<tr>\\n\\t\\t\\t\\t<th><span class=\"topicc text-overflow\"><a href=\"/scala/scala%E8%8E%B7%E5%8F%96%E6%9F%90%E4%B8%AA%E6%97%B6%E9%97%B4%E9%97%B4%E9%9A%94%E7%9A%84%E6%97%B6%E9%97%B4.html\">scala\\xe8\\x8e\\xb7\\xe5\\x8f\\x96\\xe6\\x9f\\x90\\xe4\\xb8\\xaa\\xe6\\x97\\xb6\\xe9\\x97\\xb4\\xe9\\x97\\xb4\\xe9\\x9a\\x94\\xe7\\x9a\\x84\\xe6\\x97\\xb6\\xe9\\x97\\xb4</a></span></th>\\n\\t\\t\\t\\t<th><i class=\"icon fa-calendar\"></i><a href=\"javascript:void(0)\"> 2018-06-25</a></th>\\n\\t\\t\\t\\t<th><a href=\"/showCategory.html?cat=scala\">scala</a></th>\\n\\t\\t\\t</tr>\\n\\t\\t\\t\\n\\t\\t\\t\\n\\t\\t\\t\\n\\t\\t\\t\\n\\t\\t\\t\\n\\t\\t\\t<tr>\\n\\t\\t\\t\\t<th><span class=\"topicc text-overflow\"><a href=\"/linux/Linux%E6%9F%A5%E7%9C%8B%E6%96%87%E4%BB%B6%E5%A4%B9%E5%A4%A7%E5%B0%8F.html\">Linux\\xe6\\x9f\\xa5\\xe7\\x9c\\x8b\\xe6\\x96\\x87\\xe4\\xbb\\xb6\\xe5\\xa4\\xb9\\xe5\\xa4\\xa7\\xe5\\xb0\\x8f</a></span></th>\\n\\t\\t\\t\\t<th><i class=\"icon fa-calendar\"></i><a href=\"javascript:void(0)\"> 2018-04-20</a></th>\\n\\t\\t\\t\\t<th><a href=\"/showCategory.html?cat=Linux\">Linux</a></th>\\n\\t\\t\\t</tr>\\n\\t\\t\\t\\n\\t\\t\\t\\n\\t\\t\\t\\n\\t\\t\\t\\n\\t\\t\\t\\n\\t\\t\\t<tr>\\n\\t\\t\\t\\t<th><span class=\"topicc text-overflow\"><a href=\"/scala/scala%E4%B9%8BreduceByKey%E6%93%8D%E4%BD%9C.html\">scala\\xe4\\xb9\\x8breduceByKey\\xe6\\x93\\x8d\\xe4\\xbd\\x9c</a></span></th>\\n\\t\\t\\t\\t<th><i class=\"icon fa-calendar\"></i><a href=\"javascript:void(0)\"> 2018-03-16</a></th>\\n\\t\\t\\t\\t<th><a href=\"/showCategory.html?cat=scala\">scala</a></th>\\n\\t\\t\\t</tr>\\n\\t\\t\\t\\n\\t\\t\\t\\n\\t\\t\\t\\n\\t\\t\\t\\n\\t\\t\\t\\n\\t\\t\\t<tr>\\n\\t\\t\\t\\t<th><span class=\"topicc text-overflow\"><a href=\"/scala/%E5%B0%86Spark-Dataframe%E8%BD%AC%E6%8D%A2%E4%B8%BAScala-Map%E9%9B%86%E5%90%88.html\">\\xe5\\xb0\\x86Spark Dataframe\\xe8\\xbd\\xac\\xe6\\x8d\\xa2\\xe4\\xb8\\xbaScala Map\\xe9\\x9b\\x86\\xe5\\x90\\x88</a></span></th>\\n\\t\\t\\t\\t<th><i class=\"icon fa-calendar\"></i><a href=\"javascript:void(0)\"> 2018-03-06</a></th>\\n\\t\\t\\t\\t<th><a href=\"/showCategory.html?cat=scala\">scala</a></th>\\n\\t\\t\\t</tr>\\n\\t\\t\\t\\n\\t\\t\\t\\n\\t\\t\\t\\n\\t\\t\\t\\n\\t\\t\\t\\n\\t\\t\\t<tr>\\n\\t\\t\\t\\t<th><span class=\"topicc text-overflow\"><a href=\"/elasticsearch/spark-Could-not-write-all-entries.html\">spark Could not write all entries</a></span></th>\\n\\t\\t\\t\\t<th><i class=\"icon fa-calendar\"></i><a href=\"javascript:void(0)\"> 2018-03-01</a></th>\\n\\t\\t\\t\\t<th><a href=\"/showCategory.html?cat=elasticsearch\">elasticsearch</a></th>\\n\\t\\t\\t</tr>\\n\\t\\t\\t\\n\\t\\t\\t\\n\\t\\t\\t\\n\\t\\t\\t\\n\\t\\t\\t\\n\\t\\t\\t<tr>\\n\\t\\t\\t\\t<th><span class=\"topicc text-overflow\"><a href=\"/scala/spark%E6%8C%89%E6%9F%90%E5%87%A0%E5%88%97%E5%88%A0%E9%99%A4dataframe%E9%87%8D%E5%A4%8D%E8%A1%8C.html\">spark\\xe6\\x8c\\x89\\xe6\\x9f\\x90\\xe5\\x87\\xa0\\xe5\\x88\\x97\\xe5\\x88\\xa0\\xe9\\x99\\xa4dataframe\\xe9\\x87\\x8d\\xe5\\xa4\\x8d\\xe8\\xa1\\x8c</a></span></th>\\n\\t\\t\\t\\t<th><i class=\"icon fa-calendar\"></i><a href=\"javascript:void(0)\"> 2018-02-27</a></th>\\n\\t\\t\\t\\t<th><a href=\"/showCategory.html?cat=scala\">scala</a></th>\\n\\t\\t\\t</tr>\\n\\t\\t\\t\\n\\t\\t\\t\\n\\t\\t\\t\\n\\t\\t\\t\\n\\t\\t\\t\\n\\t\\t\\t<tr>\\n\\t\\t\\t\\t<th><span class=\"topicc text-overflow\"><a href=\"/elasticsearch/spark%E5%AF%B9elasticsearch%E5%A2%9E%E5%88%A0%E6%9F%A5%E6%94%B9.html\">spark\\xe5\\xaf\\xb9elasticsearch\\xe5\\xa2\\x9e\\xe5\\x88\\xa0\\xe6\\x9f\\xa5\\xe6\\x94\\xb9</a></span></th>\\n\\t\\t\\t\\t<th><i class=\"icon fa-calendar\"></i><a href=\"javascript:void(0)\"> 2018-02-27</a></th>\\n\\t\\t\\t\\t<th><a href=\"/showCategory.html?cat=elasticsearch\">elasticsearch</a></th>\\n\\t\\t\\t</tr>\\n\\t\\t\\t\\n\\t\\t\\t\\n\\t\\t\\t\\n\\t\\t\\t\\n\\t\\t\\t\\n\\t\\t\\t<tr>\\n\\t\\t\\t\\t<th><span class=\"topicc text-overflow\"><a href=\"/hadoop/hdfs%E5%88%9B%E5%BB%BA%E5%88%A0%E9%99%A4%E6%96%87%E4%BB%B6%E5%92%8C%E6%96%87%E4%BB%B6%E5%A4%B9.html\">hdfs\\xe5\\x88\\x9b\\xe5\\xbb\\xba\\xe5\\x88\\xa0\\xe9\\x99\\xa4\\xe6\\x96\\x87\\xe4\\xbb\\xb6\\xe5\\x92\\x8c\\xe6\\x96\\x87\\xe4\\xbb\\xb6\\xe5\\xa4\\xb9</a></span></th>\\n\\t\\t\\t\\t<th><i class=\"icon fa-calendar\"></i><a href=\"javascript:void(0)\"> 2018-02-02</a></th>\\n\\t\\t\\t\\t<th><a href=\"/showCategory.html?cat=hadoop\">hadoop</a></th>\\n\\t\\t\\t</tr>\\n\\t\\t\\t\\n\\t\\t\\t\\n\\t\\t\\t\\n\\t\\t\\t\\n\\t\\t\\t\\n\\t\\t\\t<tr>\\n\\t\\t\\t\\t<th><span class=\"topicc text-overflow\"><a href=\"/scala/spark%E8%B0%83%E7%94%A8hdfsAPI.html\">spark\\xe8\\xb0\\x83\\xe7\\x94\\xa8hdfsAPI</a></span></th>\\n\\t\\t\\t\\t<th><i class=\"icon fa-calendar\"></i><a href=\"javascript:void(0)\"> 2018-01-24</a></th>\\n\\t\\t\\t\\t<th><a href=\"/showCategory.html?cat=scala\">scala</a></th>\\n\\t\\t\\t</tr>\\n\\t\\t\\t\\n\\t\\t\\t\\n\\t\\t\\t\\n\\t\\t\\t\\n\\t\\t\\t\\n\\t\\t\\t<tr>\\n\\t\\t\\t\\t<th><span class=\"topicc text-overflow\"><a href=\"/hadoop/hadoop%E9%80%80%E5%87%BA%E5%AE%89%E5%85%A8%E6%A8%A1%E5%BC%8FName-node-is-in-safe-mode.html\">hadoop\\xe9\\x80\\x80\\xe5\\x87\\xba\\xe5\\xae\\x89\\xe5\\x85\\xa8\\xe6\\xa8\\xa1\\xe5\\xbc\\x8fName node is in safe mode</a></span></th>\\n\\t\\t\\t\\t<th><i class=\"icon fa-calendar\"></i><a href=\"javascript:void(0)\"> 2018-01-12</a></th>\\n\\t\\t\\t\\t<th><a href=\"/showCategory.html?cat=hadoop\">hadoop</a></th>\\n\\t\\t\\t</tr>\\n\\t\\t\\t\\n\\t\\t\\t\\n\\t\\t\\t\\n\\t\\t\\t\\n\\t\\t\\t\\n\\t\\t\\t<tr>\\n\\t\\t\\t\\t<th><span class=\"topicc text-overflow\"><a href=\"/scala/dataframe%E7%9A%84select%E4%BC%A0%E5%85%A5%E4%B8%8D%E5%AE%9A%E5%8F%82%E6%95%B0.html\">dataframe\\xe7\\x9a\\x84select\\xe4\\xbc\\xa0\\xe5\\x85\\xa5\\xe4\\xb8\\x8d\\xe5\\xae\\x9a\\xe5\\x8f\\x82\\xe6\\x95\\xb0</a></span></th>\\n\\t\\t\\t\\t<th><i class=\"icon fa-calendar\"></i><a href=\"javascript:void(0)\"> 2018-01-10</a></th>\\n\\t\\t\\t\\t<th><a href=\"/showCategory.html?cat=scala\">scala</a></th>\\n\\t\\t\\t</tr>\\n\\t\\t\\t\\n\\t\\t\\t\\n\\t\\t\\t\\n\\t\\t\\t\\n\\t\\t\\t\\n\\t\\t\\t<tr>\\n\\t\\t\\t\\t<th><span class=\"topicc text-overflow\"><a href=\"/git/github-pages%E4%BB%A3%E7%A0%81%E9%AB%98%E4%BA%AEhighlighter.html\">github pages\\xe4\\xbb\\xa3\\xe7\\xa0\\x81\\xe9\\xab\\x98\\xe4\\xba\\xaehighlighter</a></span></th>\\n\\t\\t\\t\\t<th><i class=\"icon fa-calendar\"></i><a href=\"javascript:void(0)\"> 2017-12-27</a></th>\\n\\t\\t\\t\\t<th><a href=\"/showCategory.html?cat=git\">git</a></th>\\n\\t\\t\\t</tr>\\n\\t\\t\\t\\n\\t\\t\\t\\n\\t\\t\\t\\n\\t\\t\\t\\n\\t\\t\\t\\n\\t\\t\\t<tr>\\n\\t\\t\\t\\t<th><span class=\"topicc text-overflow\"><a href=\"/scala/spark-System-memory-must-be-at-least.html\">spark System memory must be at least</a></span></th>\\n\\t\\t\\t\\t<th><i class=\"icon fa-calendar\"></i><a href=\"javascript:void(0)\"> 2017-12-26</a></th>\\n\\t\\t\\t\\t<th><a href=\"/showCategory.html?cat=scala\">scala</a></th>\\n\\t\\t\\t</tr>\\n\\t\\t\\t\\n\\t\\t\\t\\n\\t\\t\\t\\n\\t\\t\\t\\n\\t\\t\\t\\n\\t\\t\\t<tr>\\n\\t\\t\\t\\t<th><span class=\"topicc text-overflow\"><a href=\"/pythontools/python%E4%B8%87%E8%83%BD%E5%BA%93.html\">python\\xe4\\xb8\\x87\\xe8\\x83\\xbd\\xe5\\xba\\x93</a></span></th>\\n\\t\\t\\t\\t<th><i class=\"icon fa-calendar\"></i><a href=\"javascript:void(0)\"> 2017-12-22</a></th>\\n\\t\\t\\t\\t<th><a href=\"/showCategory.html?cat=pythontools\">pythontools</a></th>\\n\\t\\t\\t</tr>\\n\\t\\t\\t\\n\\t\\t\\t\\n\\t\\t\\t\\n\\t\\t\\t\\n\\t\\t\\t\\n\\t\\t\\t<tr>\\n\\t\\t\\t\\t<th><span class=\"topicc text-overflow\"><a href=\"/scala/spark%E8%AE%A1%E7%AE%97%E4%B8%A4%E4%B8%AADataFrame%E7%9A%84%E5%B7%AE%E9%9B%86-%E4%BA%A4%E9%9B%86-%E5%90%88%E9%9B%86.html\">spark\\xe8\\xae\\xa1\\xe7\\xae\\x97\\xe4\\xb8\\xa4\\xe4\\xb8\\xaaDataFrame\\xe7\\x9a\\x84\\xe5\\xb7\\xae\\xe9\\x9b\\x86\\xe3\\x80\\x81\\xe4\\xba\\xa4\\xe9\\x9b\\x86\\xe3\\x80\\x81\\xe5\\x90\\x88\\xe9\\x9b\\x86</a></span></th>\\n\\t\\t\\t\\t<th><i class=\"icon fa-calendar\"></i><a href=\"javascript:void(0)\"> 2017-12-06</a></th>\\n\\t\\t\\t\\t<th><a href=\"/showCategory.html?cat=scala\">scala</a></th>\\n\\t\\t\\t</tr>\\n\\t\\t\\t\\n\\t\\t\\t\\n\\t\\t\\t\\n\\t\\t\\t\\n\\t\\t\\t\\n\\t\\t\\t<tr>\\n\\t\\t\\t\\t<th><span class=\"topicc text-overflow\"><a href=\"/linux/Linux%E6%9F%A5%E7%9C%8B%E7%B3%BB%E7%BB%9F-%E6%A0%B8%E6%95%B0-CPU-%E4%BD%8D%E6%95%B0.html\">Linux\\xe6\\x9f\\xa5\\xe7\\x9c\\x8b\\xe7\\xb3\\xbb\\xe7\\xbb\\x9f\\xe3\\x80\\x81\\xe6\\xa0\\xb8\\xe6\\x95\\xb0\\xe3\\x80\\x81CPU\\xe3\\x80\\x81\\xe4\\xbd\\x8d\\xe6\\x95\\xb0</a></span></th>\\n\\t\\t\\t\\t<th><i class=\"icon fa-calendar\"></i><a href=\"javascript:void(0)\"> 2017-11-22</a></th>\\n\\t\\t\\t\\t<th><a href=\"/showCategory.html?cat=Linux\">Linux</a></th>\\n\\t\\t\\t</tr>\\n\\t\\t\\t\\n\\t\\t\\t\\n\\t\\t\\t\\n\\t\\t\\t\\n\\t\\t\\t\\n\\t\\t\\t<tr>\\n\\t\\t\\t\\t<th><span class=\"topicc text-overflow\"><a href=\"/python/%E6%B7%98%E5%AE%9D%E5%A4%A9%E7%8C%AB%E5%95%86%E5%93%81%E6%8A%93%E5%8F%96.html\">\\xe6\\xb7\\x98\\xe5\\xae\\x9d\\xe5\\xa4\\xa9\\xe7\\x8c\\xab\\xe5\\x95\\x86\\xe5\\x93\\x81\\xe6\\x8a\\x93\\xe5\\x8f\\x96</a></span></th>\\n\\t\\t\\t\\t<th><i class=\"icon fa-calendar\"></i><a href=\"javascript:void(0)\"> 2017-11-11</a></th>\\n\\t\\t\\t\\t<th><a href=\"/showCategory.html?cat=python\">python</a></th>\\n\\t\\t\\t</tr>\\n\\t\\t\\t\\n\\t\\t\\t\\n\\t\\t\\t\\n\\t\\t\\t\\n\\t\\t\\t\\n\\t\\t\\t<tr>\\n\\t\\t\\t\\t<th><span class=\"topicc text-overflow\"><a href=\"/linux/Linux-suse-11-sp1-%E5%AE%89%E8%A3%85%E6%95%99%E7%A8%8B.html\">Linux suse 11 sp1 \\xe5\\xae\\x89\\xe8\\xa3\\x85\\xe6\\x95\\x99\\xe7\\xa8\\x8b</a></span></th>\\n\\t\\t\\t\\t<th><i class=\"icon fa-calendar\"></i><a href=\"javascript:void(0)\"> 2017-11-09</a></th>\\n\\t\\t\\t\\t<th><a href=\"/showCategory.html?cat=Linux\">Linux</a></th>\\n\\t\\t\\t</tr>\\n\\t\\t\\t\\n\\t\\t\\t\\n\\t\\t\\t\\n\\t\\t\\t\\n\\t\\t\\t\\n\\t\\t\\t<tr>\\n\\t\\t\\t\\t<th><span class=\"topicc text-overflow\"><a href=\"/python/CSDN%E6%96%87%E7%AB%A0%E6%8A%93%E5%8F%96.html\">CSDN\\xe6\\x96\\x87\\xe7\\xab\\xa0\\xe6\\x8a\\x93\\xe5\\x8f\\x96</a></span></th>\\n\\t\\t\\t\\t<th><i class=\"icon fa-calendar\"></i><a href=\"javascript:void(0)\"> 2017-10-27</a></th>\\n\\t\\t\\t\\t<th><a href=\"/showCategory.html?cat=python\">python</a></th>\\n\\t\\t\\t</tr>\\n\\t\\t\\t\\n\\t\\t\\t\\n\\t\\t\\t\\n\\t\\t\\t\\n\\t\\t\\t\\n\\t\\t\\t<tr>\\n\\t\\t\\t\\t<th><span class=\"topicc text-overflow\"><a href=\"/python/python%E8%AF%86%E5%88%ABhtml%E4%B8%BB%E8%A6%81%E6%96%87%E6%9C%AC%E6%A1%86.html\">python\\xe8\\xaf\\x86\\xe5\\x88\\xabhtml\\xe4\\xb8\\xbb\\xe8\\xa6\\x81\\xe6\\x96\\x87\\xe6\\x9c\\xac\\xe6\\xa1\\x86</a></span></th>\\n\\t\\t\\t\\t<th><i class=\"icon fa-calendar\"></i><a href=\"javascript:void(0)\"> 2017-10-24</a></th>\\n\\t\\t\\t\\t<th><a href=\"/showCategory.html?cat=python\">python</a></th>\\n\\t\\t\\t</tr>\\n\\t\\t\\t\\n\\t\\t\\t\\n\\t\\t\\t\\n\\t\\t\\t\\n\\t\\t\\t\\n\\t\\t\\t<tr>\\n\\t\\t\\t\\t<th><span class=\"topicc text-overflow\"><a href=\"/python/python%E4%B9%8BBeautifulSoup.html\">python\\xe4\\xb9\\x8bBeautifulSoup</a></span></th>\\n\\t\\t\\t\\t<th><i class=\"icon fa-calendar\"></i><a href=\"javascript:void(0)\"> 2017-10-16</a></th>\\n\\t\\t\\t\\t<th><a href=\"/showCategory.html?cat=python\">python</a></th>\\n\\t\\t\\t</tr>\\n\\t\\t\\t\\n\\t\\t\\t\\n\\t\\t\\t\\n\\t\\t\\t\\n\\t\\t\\t\\n\\t\\t\\t<tr>\\n\\t\\t\\t\\t<th><span class=\"topicc text-overflow\"><a href=\"/selenium/selenium%E4%B8%8B%E6%8B%89%E5%88%B0%E9%A1%B5%E9%9D%A2%E6%9C%80%E5%BA%95%E7%AB%AF.html\">selenium\\xe4\\xb8\\x8b\\xe6\\x8b\\x89\\xe5\\x88\\xb0\\xe9\\xa1\\xb5\\xe9\\x9d\\xa2\\xe6\\x9c\\x80\\xe5\\xba\\x95\\xe7\\xab\\xaf</a></span></th>\\n\\t\\t\\t\\t<th><i class=\"icon fa-calendar\"></i><a href=\"javascript:void(0)\"> 2017-10-13</a></th>\\n\\t\\t\\t\\t<th><a href=\"/showCategory.html?cat=selenium\">selenium</a></th>\\n\\t\\t\\t</tr>\\n\\t\\t\\t\\n\\t\\t\\t\\n\\t\\t\\t\\n\\t\\t\\t\\n\\t\\t\\t\\n\\t\\t\\t<tr>\\n\\t\\t\\t\\t<th><span class=\"topicc text-overflow\"><a href=\"/scala/dataframe%E5%8E%BB%E9%99%A4null-NaN%E5%92%8C%E7%A9%BA%E5%AD%97%E7%AC%A6%E4%B8%B2.html\">dataframe\\xe5\\x8e\\xbb\\xe9\\x99\\xa4null\\xe3\\x80\\x81NaN\\xe5\\x92\\x8c\\xe7\\xa9\\xba\\xe5\\xad\\x97\\xe7\\xac\\xa6\\xe4\\xb8\\xb2</a></span></th>\\n\\t\\t\\t\\t<th><i class=\"icon fa-calendar\"></i><a href=\"javascript:void(0)\"> 2017-10-12</a></th>\\n\\t\\t\\t\\t<th><a href=\"/showCategory.html?cat=scala\">scala</a></th>\\n\\t\\t\\t</tr>\\n\\t\\t\\t\\n\\t\\t\\t\\n\\t\\t\\t\\n\\t\\t\\t\\n\\t\\t\\t\\n\\t\\t\\t<tr>\\n\\t\\t\\t\\t<th><span class=\"topicc text-overflow\"><a href=\"/python/python%E4%B9%8Bchardet%E5%BA%93%E8%AF%86%E5%88%AB%E7%BC%96%E7%A0%81.html\">python\\xe4\\xb9\\x8bchardet\\xe5\\xba\\x93\\xe8\\xaf\\x86\\xe5\\x88\\xab\\xe7\\xbc\\x96\\xe7\\xa0\\x81</a></span></th>\\n\\t\\t\\t\\t<th><i class=\"icon fa-calendar\"></i><a href=\"javascript:void(0)\"> 2017-08-24</a></th>\\n\\t\\t\\t\\t<th><a href=\"/showCategory.html?cat=python\">python</a></th>\\n\\t\\t\\t</tr>\\n\\t\\t\\t\\n\\t\\t\\t\\n\\t\\t\\t\\n\\t\\t\\t\\n\\t\\t\\t\\n\\t\\t\\t<tr>\\n\\t\\t\\t\\t<th><span class=\"topicc text-overflow\"><a href=\"/python/python%E8%AF%BB%E5%86%99excel.html\">python\\xe8\\xaf\\xbb\\xe5\\x86\\x99excel</a></span></th>\\n\\t\\t\\t\\t<th><i class=\"icon fa-calendar\"></i><a href=\"javascript:void(0)\"> 2017-08-21</a></th>\\n\\t\\t\\t\\t<th><a href=\"/showCategory.html?cat=python\">python</a></th>\\n\\t\\t\\t</tr>\\n\\t\\t\\t\\n\\t\\t\\t\\n\\t\\t\\t\\n\\t\\t\\t\\n\\t\\t\\t\\n\\t\\t\\t<tr>\\n\\t\\t\\t\\t<th><span class=\"topicc text-overflow\"><a href=\"/scala/scala%E6%97%B6%E9%97%B4%E5%92%8C%E6%97%B6%E9%97%B4%E6%88%B3%E4%BA%92%E8%BD%AC.html\">scala\\xe6\\x97\\xb6\\xe9\\x97\\xb4\\xe5\\x92\\x8c\\xe6\\x97\\xb6\\xe9\\x97\\xb4\\xe6\\x88\\xb3\\xe4\\xba\\x92\\xe8\\xbd\\xac</a></span></th>\\n\\t\\t\\t\\t<th><i class=\"icon fa-calendar\"></i><a href=\"javascript:void(0)\"> 2017-08-08</a></th>\\n\\t\\t\\t\\t<th><a href=\"/showCategory.html?cat=scala\">scala</a></th>\\n\\t\\t\\t</tr>\\n\\t\\t\\t\\n\\t\\t\\t\\n\\t\\t\\t\\n\\t\\t\\t\\n\\t\\t\\t\\n\\t\\t\\t<tr>\\n\\t\\t\\t\\t<th><span class=\"topicc text-overflow\"><a href=\"/scala/No_FileSystem_for_scheme_file_%E8%A7%A3%E5%86%B3%E6%96%B9%E6%B3%95.html\">spark No FileSystem for scheme file \\xe8\\xa7\\xa3\\xe5\\x86\\xb3\\xe6\\x96\\xb9\\xe6\\xb3\\x95</a></span></th>\\n\\t\\t\\t\\t<th><i class=\"icon fa-calendar\"></i><a href=\"javascript:void(0)\"> 2017-08-04</a></th>\\n\\t\\t\\t\\t<th><a href=\"/showCategory.html?cat=scala\">scala</a></th>\\n\\t\\t\\t</tr>\\n\\t\\t\\t\\n\\t\\t\\t\\n\\t\\t\\t\\n\\t\\t\\t\\n\\t\\t\\t\\n\\t\\t\\t<tr>\\n\\t\\t\\t\\t<th><span class=\"topicc text-overflow\"><a href=\"/scala/spark%E4%BD%BF%E7%94%A8udf%E7%BB%99dataFrame%E6%96%B0%E5%A2%9E%E5%88%97.html\">spark\\xe4\\xbd\\xbf\\xe7\\x94\\xa8udf\\xe7\\xbb\\x99dataFrame\\xe6\\x96\\xb0\\xe5\\xa2\\x9e\\xe5\\x88\\x97</a></span></th>\\n\\t\\t\\t\\t<th><i class=\"icon fa-calendar\"></i><a href=\"javascript:void(0)\"> 2017-07-14</a></th>\\n\\t\\t\\t\\t<th><a href=\"/showCategory.html?cat=scala\">scala</a></th>\\n\\t\\t\\t</tr>\\n\\t\\t\\t\\n\\t\\t\\t\\n\\t\\t\\t\\n\\t\\t\\t\\n\\t\\t\\t\\n\\t\\t\\t<tr>\\n\\t\\t\\t\\t<th><span class=\"topicc text-overflow\"><a href=\"/scala/Scala%E6%9F%A5%E8%AF%A2dataFrame%E7%BB%93%E6%9E%84.html\">Scala\\xe6\\x9f\\xa5\\xe8\\xaf\\xa2dataFrame\\xe7\\xbb\\x93\\xe6\\x9e\\x84</a></span></th>\\n\\t\\t\\t\\t<th><i class=\"icon fa-calendar\"></i><a href=\"javascript:void(0)\"> 2017-07-11</a></th>\\n\\t\\t\\t\\t<th><a href=\"/showCategory.html?cat=scala\">scala</a></th>\\n\\t\\t\\t</tr>\\n\\t\\t\\t\\n\\t\\t\\t\\n\\t\\t\\t\\n\\t\\t\\t\\n\\t\\t\\t\\n\\t\\t\\t<tr>\\n\\t\\t\\t\\t<th><span class=\"topicc text-overflow\"><a href=\"/scala/Spark%E4%B8%ADSQL%E5%88%97%E5%90%88%E5%B9%B6%E4%B8%BA%E4%B8%80%E8%A1%8C.html\">Spark\\xe4\\xb8\\xadSQL\\xe5\\x88\\x97\\xe5\\x90\\x88\\xe5\\xb9\\xb6\\xe4\\xb8\\xba\\xe4\\xb8\\x80\\xe8\\xa1\\x8c</a></span></th>\\n\\t\\t\\t\\t<th><i class=\"icon fa-calendar\"></i><a href=\"javascript:void(0)\"> 2017-06-28</a></th>\\n\\t\\t\\t\\t<th><a href=\"/showCategory.html?cat=scala\">scala</a></th>\\n\\t\\t\\t</tr>\\n\\t\\t\\t\\n\\t\\t\\t\\n\\t\\t\\t\\n\\t\\t\\t\\n\\t\\t\\t\\n\\t\\t\\t<tr>\\n\\t\\t\\t\\t<th><span class=\"topicc text-overflow\"><a href=\"/linux/Linux%E6%B8%85%E7%A9%BA%E6%96%87%E4%BB%B6%E5%86%85%E5%AE%B9.html\">Linux\\xe6\\xb8\\x85\\xe7\\xa9\\xba\\xe6\\x96\\x87\\xe4\\xbb\\xb6\\xe5\\x86\\x85\\xe5\\xae\\xb9</a></span></th>\\n\\t\\t\\t\\t<th><i class=\"icon fa-calendar\"></i><a href=\"javascript:void(0)\"> 2017-06-27</a></th>\\n\\t\\t\\t\\t<th><a href=\"/showCategory.html?cat=Linux\">Linux</a></th>\\n\\t\\t\\t</tr>\\n\\t\\t\\t\\n\\t\\t\\t\\n\\t\\t\\t\\n\\t\\t\\t\\n\\t\\t\\t\\n\\t\\t\\t<tr>\\n\\t\\t\\t\\t<th><span class=\"topicc text-overflow\"><a href=\"/linux/xshell%E8%BF%9E%E6%8E%A5ubuntu.html\">xshell\\xe8\\xbf\\x9e\\xe6\\x8e\\xa5ubuntu</a></span></th>\\n\\t\\t\\t\\t<th><i class=\"icon fa-calendar\"></i><a href=\"javascript:void(0)\"> 2017-06-13</a></th>\\n\\t\\t\\t\\t<th><a href=\"/showCategory.html?cat=Linux\">Linux</a></th>\\n\\t\\t\\t</tr>\\n\\t\\t\\t\\n\\t\\t\\t\\n\\t\\t\\t\\n\\t\\t\\t\\n\\t\\t\\t\\n\\t\\t\\t<tr>\\n\\t\\t\\t\\t<th><span class=\"topicc text-overflow\"><a href=\"/scala/scala%E8%B0%83%E7%94%A8Linux%E5%91%BD%E4%BB%A4%E8%A1%8C.html\">scala\\xe8\\xb0\\x83\\xe7\\x94\\xa8Linux\\xe5\\x91\\xbd\\xe4\\xbb\\xa4\\xe8\\xa1\\x8c</a></span></th>\\n\\t\\t\\t\\t<th><i class=\"icon fa-calendar\"></i><a href=\"javascript:void(0)\"> 2017-05-22</a></th>\\n\\t\\t\\t\\t<th><a href=\"/showCategory.html?cat=scala\">scala</a></th>\\n\\t\\t\\t</tr>\\n\\t\\t\\t\\n\\t\\t\\t\\n\\t\\t\\t\\n\\t\\t\\t\\n\\t\\t\\t\\n\\t\\t\\t<tr>\\n\\t\\t\\t\\t<th><span class=\"topicc text-overflow\"><a href=\"/scala/scala%E7%94%A8ssh2%E8%BF%9E%E6%8E%A5Linux.html\">scala\\xe7\\x94\\xa8ssh2\\xe8\\xbf\\x9e\\xe6\\x8e\\xa5Linux</a></span></th>\\n\\t\\t\\t\\t<th><i class=\"icon fa-calendar\"></i><a href=\"javascript:void(0)\"> 2017-05-22</a></th>\\n\\t\\t\\t\\t<th><a href=\"/showCategory.html?cat=scala\">scala</a></th>\\n\\t\\t\\t</tr>\\n\\t\\t\\t\\n\\t\\t\\t\\n\\t\\t\\t\\n\\t\\t\\t\\n\\t\\t\\t\\n\\t\\t\\t<tr>\\n\\t\\t\\t\\t<th><span class=\"topicc text-overflow\"><a href=\"/scala/scala%E7%9A%84reduce.html\">scala\\xe7\\x9a\\x84reduce</a></span></th>\\n\\t\\t\\t\\t<th><i class=\"icon fa-calendar\"></i><a href=\"javascript:void(0)\"> 2017-05-17</a></th>\\n\\t\\t\\t\\t<th><a href=\"/showCategory.html?cat=scala\">scala</a></th>\\n\\t\\t\\t</tr>\\n\\t\\t\\t\\n\\t\\t\\t\\n\\t\\t\\t\\n\\t\\t\\t\\n\\t\\t\\t\\n\\t\\t\\t<tr>\\n\\t\\t\\t\\t<th><span class=\"topicc text-overflow\"><a href=\"/git/%E5%A4%9A%E8%AF%B4%E5%85%B3%E9%97%AD%E9%80%89%E7%94%A8%E7%BD%91%E6%98%93%E4%BA%91%E8%B7%9F%E5%B8%96.html\">\\xe5\\xa4\\x9a\\xe8\\xaf\\xb4\\xe5\\x85\\xb3\\xe9\\x97\\xad\\xe9\\x80\\x89\\xe7\\x94\\xa8\\xe7\\xbd\\x91\\xe6\\x98\\x93\\xe4\\xba\\x91\\xe8\\xb7\\x9f\\xe5\\xb8\\x96</a></span></th>\\n\\t\\t\\t\\t<th><i class=\"icon fa-calendar\"></i><a href=\"javascript:void(0)\"> 2017-05-06</a></th>\\n\\t\\t\\t\\t<th><a href=\"/showCategory.html?cat=git\">git</a></th>\\n\\t\\t\\t</tr>\\n\\t\\t\\t\\n\\t\\t\\t\\n\\t\\t\\t\\n\\t\\t\\t\\n\\t\\t\\t\\n\\t\\t\\t<tr>\\n\\t\\t\\t\\t<th><span class=\"topicc text-overflow\"><a href=\"/git/github-pages%E7%BB%91%E5%AE%9A%E5%9F%9F%E5%90%8D.html\">github pages\\xe7\\xbb\\x91\\xe5\\xae\\x9a\\xe5\\x9f\\x9f\\xe5\\x90\\x8d</a></span></th>\\n\\t\\t\\t\\t<th><i class=\"icon fa-calendar\"></i><a href=\"javascript:void(0)\"> 2017-05-06</a></th>\\n\\t\\t\\t\\t<th><a href=\"/showCategory.html?cat=git\">git</a></th>\\n\\t\\t\\t</tr>\\n\\t\\t\\t\\n\\t\\t\\t\\n\\t\\t\\t\\n\\t\\t\\t\\n\\t\\t\\t\\n\\t\\t\\t<tr>\\n\\t\\t\\t\\t<th><span class=\"topicc text-overflow\"><a href=\"/scala/scala%E8%BD%AC%E6%8D%A2date%E6%8F%90%E5%8F%96%E5%B9%B4%E6%9C%88%E6%97%A5%E6%97%B6%E5%88%86%E7%A7%92.html\">scala\\xe8\\xbd\\xac\\xe6\\x8d\\xa2date\\xe6\\x8f\\x90\\xe5\\x8f\\x96\\xe5\\xb9\\xb4\\xe6\\x9c\\x88\\xe6\\x97\\xa5\\xe6\\x97\\xb6\\xe5\\x88\\x86\\xe7\\xa7\\x92</a></span></th>\\n\\t\\t\\t\\t<th><i class=\"icon fa-calendar\"></i><a href=\"javascript:void(0)\"> 2017-04-25</a></th>\\n\\t\\t\\t\\t<th><a href=\"/showCategory.html?cat=scala\">scala</a></th>\\n\\t\\t\\t</tr>\\n\\t\\t\\t\\n\\t\\t\\t\\n\\t\\t\\t\\n\\t\\t\\t\\n\\t\\t\\t\\n\\t\\t\\t<tr>\\n\\t\\t\\t\\t<th><span class=\"topicc text-overflow\"><a href=\"/python/python%E7%BC%96%E8%AF%91-%E8%BF%90%E8%A1%8C-%E5%8F%8D%E7%BC%96%E8%AF%91pyc%E6%96%87%E4%BB%B6.html\">python\\xe7\\xbc\\x96\\xe8\\xaf\\x91\\xe3\\x80\\x81\\xe8\\xbf\\x90\\xe8\\xa1\\x8c\\xe3\\x80\\x81\\xe5\\x8f\\x8d\\xe7\\xbc\\x96\\xe8\\xaf\\x91pyc\\xe6\\x96\\x87\\xe4\\xbb\\xb6</a></span></th>\\n\\t\\t\\t\\t<th><i class=\"icon fa-calendar\"></i><a href=\"javascript:void(0)\"> 2017-04-21</a></th>\\n\\t\\t\\t\\t<th><a href=\"/showCategory.html?cat=python\">python</a></th>\\n\\t\\t\\t</tr>\\n\\t\\t\\t\\n\\t\\t\\t\\n\\t\\t\\t\\n\\t\\t\\t\\n\\t\\t\\t\\n\\t\\t\\t<tr>\\n\\t\\t\\t\\t<th><span class=\"topicc text-overflow\"><a href=\"/python/python%E6%89%B9%E9%87%8F%E5%90%AF%E5%8A%A8%E5%A4%9A%E7%BA%BF%E7%A8%8B.html\">python\\xe6\\x89\\xb9\\xe9\\x87\\x8f\\xe5\\x90\\xaf\\xe5\\x8a\\xa8\\xe5\\xa4\\x9a\\xe7\\xba\\xbf\\xe7\\xa8\\x8b</a></span></th>\\n\\t\\t\\t\\t<th><i class=\"icon fa-calendar\"></i><a href=\"javascript:void(0)\"> 2017-04-19</a></th>\\n\\t\\t\\t\\t<th><a href=\"/showCategory.html?cat=python\">python</a></th>\\n\\t\\t\\t</tr>\\n\\t\\t\\t\\n\\t\\t\\t\\n\\t\\t\\t\\n\\t\\t\\t\\n\\t\\t\\t\\n\\t\\t\\t<tr>\\n\\t\\t\\t\\t<th><span class=\"topicc text-overflow\"><a href=\"/linux/Linux%E4%B8%AD%E6%96%AD%E7%A8%8B%E5%BA%8F%E5%91%BD%E4%BB%A4.html\">Linux\\xe4\\xb8\\xad\\xe6\\x96\\xad\\xe7\\xa8\\x8b\\xe5\\xba\\x8f\\xe5\\x91\\xbd\\xe4\\xbb\\xa4</a></span></th>\\n\\t\\t\\t\\t<th><i class=\"icon fa-calendar\"></i><a href=\"javascript:void(0)\"> 2017-04-19</a></th>\\n\\t\\t\\t\\t<th><a href=\"/showCategory.html?cat=Linux\">Linux</a></th>\\n\\t\\t\\t</tr>\\n\\t\\t\\t\\n\\t\\t\\t\\n\\t\\t\\t\\n\\t\\t\\t\\n\\t\\t\\t\\n\\t\\t\\t<tr>\\n\\t\\t\\t\\t<th><span class=\"topicc text-overflow\"><a href=\"/scala/scala%E4%B8%ADspark%E8%BF%90%E8%A1%8C%E5%86%85%E5%AD%98%E4%B8%8D%E8%B6%B3.html\">scala\\xe4\\xb8\\xadspark\\xe8\\xbf\\x90\\xe8\\xa1\\x8c\\xe5\\x86\\x85\\xe5\\xad\\x98\\xe4\\xb8\\x8d\\xe8\\xb6\\xb3</a></span></th>\\n\\t\\t\\t\\t<th><i class=\"icon fa-calendar\"></i><a href=\"javascript:void(0)\"> 2017-04-18</a></th>\\n\\t\\t\\t\\t<th><a href=\"/showCategory.html?cat=scala\">scala</a></th>\\n\\t\\t\\t</tr>\\n\\t\\t\\t\\n\\t\\t\\t\\n\\t\\t\\t\\n\\t\\t\\t\\n\\t\\t\\t\\n\\t\\t\\t<tr>\\n\\t\\t\\t\\t<th><span class=\"topicc text-overflow\"><a href=\"/scala/scala%E6%89%93%E5%8C%85jar%E5%B9%B6%E5%9C%A8Linux%E4%B8%8B%E8%BF%90%E8%A1%8C.html\">scala\\xe6\\x89\\x93\\xe5\\x8c\\x85jar\\xe5\\xb9\\xb6\\xe5\\x9c\\xa8Linux\\xe4\\xb8\\x8b\\xe8\\xbf\\x90\\xe8\\xa1\\x8c</a></span></th>\\n\\t\\t\\t\\t<th><i class=\"icon fa-calendar\"></i><a href=\"javascript:void(0)\"> 2017-04-17</a></th>\\n\\t\\t\\t\\t<th><a href=\"/showCategory.html?cat=scala\">scala</a></th>\\n\\t\\t\\t</tr>\\n\\t\\t\\t\\n\\t\\t\\t\\n\\t\\t\\t\\n\\t\\t\\t\\n\\t\\t\\t\\n\\t\\t\\t<tr>\\n\\t\\t\\t\\t<th><span class=\"topicc text-overflow\"><a href=\"/scala/scala%E7%9A%84input.html\">scala\\xe7\\x9a\\x84input</a></span></th>\\n\\t\\t\\t\\t<th><i class=\"icon fa-calendar\"></i><a href=\"javascript:void(0)\"> 2017-04-13</a></th>\\n\\t\\t\\t\\t<th><a href=\"/showCategory.html?cat=scala\">scala</a></th>\\n\\t\\t\\t</tr>\\n\\t\\t\\t\\n\\t\\t\\t\\n\\t\\t\\t\\n\\t\\t\\t\\n\\t\\t\\t\\n\\t\\t\\t<tr>\\n\\t\\t\\t\\t<th><span class=\"topicc text-overflow\"><a href=\"/scala/scala%E7%9A%84break%E5%92%8Ccontinue.html\">scala\\xe7\\x9a\\x84break\\xe5\\x92\\x8ccontinue</a></span></th>\\n\\t\\t\\t\\t<th><i class=\"icon fa-calendar\"></i><a href=\"javascript:void(0)\"> 2017-04-13</a></th>\\n\\t\\t\\t\\t<th><a href=\"/showCategory.html?cat=scala\">scala</a></th>\\n\\t\\t\\t</tr>\\n\\t\\t\\t\\n\\t\\t\\t\\n\\t\\t\\t\\n\\t\\t\\t\\n\\t\\t\\t\\n\\t\\t\\t<tr>\\n\\t\\t\\t\\t<th><span class=\"topicc text-overflow\"><a href=\"/scala/scala%E5%90%88%E5%B9%B6Array.html\">scala\\xe5\\x90\\x88\\xe5\\xb9\\xb6Array</a></span></th>\\n\\t\\t\\t\\t<th><i class=\"icon fa-calendar\"></i><a href=\"javascript:void(0)\"> 2017-04-07</a></th>\\n\\t\\t\\t\\t<th><a href=\"/showCategory.html?cat=scala\">scala</a></th>\\n\\t\\t\\t</tr>\\n\\t\\t\\t\\n\\t\\t\\t\\n\\t\\t\\t\\n\\t\\t\\t\\n\\t\\t\\t\\n\\t\\t\\t<tr>\\n\\t\\t\\t\\t<th><span class=\"topicc text-overflow\"><a href=\"/scala/scala%E8%AF%BB%E5%8F%96%E9%85%8D%E7%BD%AE%E6%96%87%E4%BB%B6.html\">scala\\xe8\\xaf\\xbb\\xe5\\x8f\\x96\\xe9\\x85\\x8d\\xe7\\xbd\\xae\\xe6\\x96\\x87\\xe4\\xbb\\xb6</a></span></th>\\n\\t\\t\\t\\t<th><i class=\"icon fa-calendar\"></i><a href=\"javascript:void(0)\"> 2017-04-05</a></th>\\n\\t\\t\\t\\t<th><a href=\"/showCategory.html?cat=scala\">scala</a></th>\\n\\t\\t\\t</tr>\\n\\t\\t\\t\\n\\t\\t\\t\\n\\t\\t\\t\\n\\t\\t\\t\\n\\t\\t\\t\\n\\t\\t\\t<tr>\\n\\t\\t\\t\\t<th><span class=\"topicc text-overflow\"><a href=\"/scala/scala%E8%AF%BB%E5%8F%96%E8%A7%A3%E6%9E%90json%E6%96%87%E4%BB%B6.html\">scala\\xe8\\xaf\\xbb\\xe5\\x8f\\x96\\xe8\\xa7\\xa3\\xe6\\x9e\\x90json\\xe6\\x96\\x87\\xe4\\xbb\\xb6</a></span></th>\\n\\t\\t\\t\\t<th><i class=\"icon fa-calendar\"></i><a href=\"javascript:void(0)\"> 2017-04-01</a></th>\\n\\t\\t\\t\\t<th><a href=\"/showCategory.html?cat=scala\">scala</a></th>\\n\\t\\t\\t</tr>\\n\\t\\t\\t\\n\\t\\t\\t\\n\\t\\t\\t\\n\\t\\t\\t\\n\\t\\t\\t\\n\\t\\t\\t<tr>\\n\\t\\t\\t\\t<th><span class=\"topicc text-overflow\"><a href=\"/scala/scala%E5%88%A4%E6%96%AD%E6%95%B0%E6%8D%AE%E7%B1%BB%E5%9E%8B.html\">scala\\xe5\\x88\\xa4\\xe6\\x96\\xad\\xe6\\x95\\xb0\\xe6\\x8d\\xae\\xe7\\xb1\\xbb\\xe5\\x9e\\x8b</a></span></th>\\n\\t\\t\\t\\t<th><i class=\"icon fa-calendar\"></i><a href=\"javascript:void(0)\"> 2017-04-01</a></th>\\n\\t\\t\\t\\t<th><a href=\"/showCategory.html?cat=scala\">scala</a></th>\\n\\t\\t\\t</tr>\\n\\t\\t\\t\\n\\t\\t\\t\\n\\t\\t\\t\\n\\t\\t\\t\\n\\t\\t\\t\\n\\t\\t\\t<tr>\\n\\t\\t\\t\\t<th><span class=\"topicc text-overflow\"><a href=\"/ide/Intellij%E7%9A%84Scala%E9%85%8D%E7%BD%AE.html\">IntelliJ\\xe7\\x9a\\x84Scala\\xe9\\x85\\x8d\\xe7\\xbd\\xae</a></span></th>\\n\\t\\t\\t\\t<th><i class=\"icon fa-calendar\"></i><a href=\"javascript:void(0)\"> 2017-04-01</a></th>\\n\\t\\t\\t\\t<th><a href=\"/showCategory.html?cat=IDE\">IDE</a></th>\\n\\t\\t\\t</tr>\\n\\t\\t\\t\\n\\t\\t\\t\\n\\t\\t\\t\\n\\t\\t\\t\\n\\t\\t\\t\\n\\t\\t\\t<tr>\\n\\t\\t\\t\\t<th><span class=\"topicc text-overflow\"><a href=\"/scala/scala%E7%9A%84map%E6%93%8D%E4%BD%9C.html\">scala\\xe7\\x9a\\x84map\\xe6\\x93\\x8d\\xe4\\xbd\\x9c</a></span></th>\\n\\t\\t\\t\\t<th><i class=\"icon fa-calendar\"></i><a href=\"javascript:void(0)\"> 2017-03-31</a></th>\\n\\t\\t\\t\\t<th><a href=\"/showCategory.html?cat=scala\">scala</a></th>\\n\\t\\t\\t</tr>\\n\\t\\t\\t\\n\\t\\t\\t\\n\\t\\t\\t\\n\\t\\t\\t\\n\\t\\t\\t\\n\\t\\t\\t<tr>\\n\\t\\t\\t\\t<th><span class=\"topicc text-overflow\"><a href=\"/pythontools/python%E8%8E%B7%E5%8F%96%E5%BD%93%E5%89%8D%E8%B7%AF%E5%BE%84.html\">python\\xe8\\x8e\\xb7\\xe5\\x8f\\x96\\xe5\\xbd\\x93\\xe5\\x89\\x8d\\xe8\\xb7\\xaf\\xe5\\xbe\\x84</a></span></th>\\n\\t\\t\\t\\t<th><i class=\"icon fa-calendar\"></i><a href=\"javascript:void(0)\"> 2017-03-30</a></th>\\n\\t\\t\\t\\t<th><a href=\"/showCategory.html?cat=pythontools\">pythontools</a></th>\\n\\t\\t\\t</tr>\\n\\t\\t\\t\\n\\t\\t\\t\\n\\t\\t\\t\\n\\t\\t\\t\\n\\t\\t\\t\\n\\t\\t\\t<tr>\\n\\t\\t\\t\\t<th><span class=\"topicc text-overflow\"><a href=\"/python/python%E7%9A%84StringIO.html\">python\\xe7\\x9a\\x84StringIO</a></span></th>\\n\\t\\t\\t\\t<th><i class=\"icon fa-calendar\"></i><a href=\"javascript:void(0)\"> 2017-03-28</a></th>\\n\\t\\t\\t\\t<th><a href=\"/showCategory.html?cat=python\">python</a></th>\\n\\t\\t\\t</tr>\\n\\t\\t\\t\\n\\t\\t\\t\\n\\t\\t\\t\\n\\t\\t\\t\\n\\t\\t\\t\\n\\t\\t\\t<tr>\\n\\t\\t\\t\\t<th><span class=\"topicc text-overflow\"><a href=\"/python/python%E5%88%A4%E6%96%AD%E4%B8%A4%E4%B8%AA%E6%96%87%E4%BB%B6%E6%98%AF%E5%90%A6%E7%9B%B8%E5%90%8C.html\">python\\xe5\\x88\\xa4\\xe6\\x96\\xad\\xe4\\xb8\\xa4\\xe4\\xb8\\xaa\\xe6\\x96\\x87\\xe4\\xbb\\xb6\\xe6\\x98\\xaf\\xe5\\x90\\xa6\\xe7\\x9b\\xb8\\xe5\\x90\\x8c</a></span></th>\\n\\t\\t\\t\\t<th><i class=\"icon fa-calendar\"></i><a href=\"javascript:void(0)\"> 2017-03-27</a></th>\\n\\t\\t\\t\\t<th><a href=\"/showCategory.html?cat=python\">python</a></th>\\n\\t\\t\\t</tr>\\n\\t\\t\\t\\n\\t\\t\\t\\n\\t\\t\\t\\n\\t\\t\\t\\n\\t\\t\\t\\n\\t\\t\\t<tr>\\n\\t\\t\\t\\t<th><span class=\"topicc text-overflow\"><a href=\"/linux/Linux%E6%9F%A5%E6%89%BE%E6%96%87%E4%BB%B6%E5%86%85%E5%AE%B9.html\">Linux\\xe6\\x9f\\xa5\\xe6\\x89\\xbe\\xe6\\x96\\x87\\xe4\\xbb\\xb6\\xe5\\x86\\x85\\xe5\\xae\\xb9</a></span></th>\\n\\t\\t\\t\\t<th><i class=\"icon fa-calendar\"></i><a href=\"javascript:void(0)\"> 2017-03-23</a></th>\\n\\t\\t\\t\\t<th><a href=\"/showCategory.html?cat=Linux\">Linux</a></th>\\n\\t\\t\\t</tr>\\n\\t\\t\\t\\n\\t\\t\\t\\n\\t\\t\\t\\n\\t\\t\\t\\n\\t\\t\\t\\n\\t\\t\\t<tr>\\n\\t\\t\\t\\t<th><span class=\"topicc text-overflow\"><a href=\"/python/python%E6%97%A5%E5%BF%97syslog%E8%BF%90%E7%94%A8.html\">python\\xe6\\x97\\xa5\\xe5\\xbf\\x97syslog\\xe8\\xbf\\x90\\xe7\\x94\\xa8</a></span></th>\\n\\t\\t\\t\\t<th><i class=\"icon fa-calendar\"></i><a href=\"javascript:void(0)\"> 2017-03-22</a></th>\\n\\t\\t\\t\\t<th><a href=\"/showCategory.html?cat=python\">python</a></th>\\n\\t\\t\\t</tr>\\n\\t\\t\\t\\n\\t\\t\\t\\n\\t\\t\\t\\n\\t\\t\\t\\n\\t\\t\\t\\n\\t\\t\\t<tr>\\n\\t\\t\\t\\t<th><span class=\"topicc text-overflow\"><a href=\"/python/python%E8%BF%9E%E6%8E%A5Linux%E5%91%BD%E4%BB%A4%E8%A1%8C.html\">python\\xe8\\xbf\\x9e\\xe6\\x8e\\xa5Linux\\xe5\\x91\\xbd\\xe4\\xbb\\xa4\\xe8\\xa1\\x8c</a></span></th>\\n\\t\\t\\t\\t<th><i class=\"icon fa-calendar\"></i><a href=\"javascript:void(0)\"> 2017-03-21</a></th>\\n\\t\\t\\t\\t<th><a href=\"/showCategory.html?cat=python\">python</a></th>\\n\\t\\t\\t</tr>\\n\\t\\t\\t\\n\\t\\t\\t\\n\\t\\t\\t\\n\\t\\t\\t\\n\\t\\t\\t\\n\\t\\t\\t<tr>\\n\\t\\t\\t\\t<th><span class=\"topicc text-overflow\"><a href=\"/python/python%E6%97%A5%E5%BF%97%E6%A8%A1%E5%9D%97.html\">python\\xe6\\x97\\xa5\\xe5\\xbf\\x97\\xe6\\xa8\\xa1\\xe5\\x9d\\x97</a></span></th>\\n\\t\\t\\t\\t<th><i class=\"icon fa-calendar\"></i><a href=\"javascript:void(0)\"> 2017-03-20</a></th>\\n\\t\\t\\t\\t<th><a href=\"/showCategory.html?cat=python\">python</a></th>\\n\\t\\t\\t</tr>\\n\\t\\t\\t\\n\\t\\t\\t\\n\\t\\t\\t\\n\\t\\t\\t\\n\\t\\t\\t\\n\\t\\t\\t<tr>\\n\\t\\t\\t\\t<th><span class=\"topicc text-overflow\"><a href=\"/scala/Scala%E5%AE%89%E8%A3%85%E6%95%99%E7%A8%8B.html\">scala\\xe5\\xae\\x89\\xe8\\xa3\\x85\\xe6\\x95\\x99\\xe7\\xa8\\x8b</a></span></th>\\n\\t\\t\\t\\t<th><i class=\"icon fa-calendar\"></i><a href=\"javascript:void(0)\"> 2017-03-09</a></th>\\n\\t\\t\\t\\t<th><a href=\"/showCategory.html?cat=scala\">scala</a></th>\\n\\t\\t\\t</tr>\\n\\t\\t\\t\\n\\t\\t\\t\\n\\t\\t\\t\\n\\t\\t\\t\\n\\t\\t\\t\\n\\t\\t\\t<tr>\\n\\t\\t\\t\\t<th><span class=\"topicc text-overflow\"><a href=\"/pythontools/python%E8%8E%B7%E5%8F%96%E5%BD%93%E5%89%8D%E8%BF%90%E8%A1%8C%E7%A8%8B%E5%BA%8F%E7%9A%84%E5%90%8D%E5%AD%97.html\">python\\xe8\\x8e\\xb7\\xe5\\x8f\\x96\\xe5\\xbd\\x93\\xe5\\x89\\x8d\\xe8\\xbf\\x90\\xe8\\xa1\\x8c\\xe7\\xa8\\x8b\\xe5\\xba\\x8f\\xe7\\x9a\\x84\\xe5\\x90\\x8d\\xe5\\xad\\x97</a></span></th>\\n\\t\\t\\t\\t<th><i class=\"icon fa-calendar\"></i><a href=\"javascript:void(0)\"> 2017-03-09</a></th>\\n\\t\\t\\t\\t<th><a href=\"/showCategory.html?cat=pythontools\">pythontools</a></th>\\n\\t\\t\\t</tr>\\n\\t\\t\\t\\n\\t\\t\\t\\n\\t\\t\\t\\n\\t\\t\\t\\n\\t\\t\\t\\n\\t\\t\\t<tr>\\n\\t\\t\\t\\t<th><span class=\"topicc text-overflow\"><a href=\"/pythontools/python%E8%8E%B7%E5%8F%96%E6%96%87%E4%BB%B6%E5%A4%B9%E5%90%8D%E5%AD%97.html\">python\\xe8\\x8e\\xb7\\xe5\\x8f\\x96\\xe6\\x96\\x87\\xe4\\xbb\\xb6\\xe5\\xa4\\xb9\\xe5\\x90\\x8d\\xe5\\xad\\x97</a></span></th>\\n\\t\\t\\t\\t<th><i class=\"icon fa-calendar\"></i><a href=\"javascript:void(0)\"> 2017-03-09</a></th>\\n\\t\\t\\t\\t<th><a href=\"/showCategory.html?cat=pythontools\">pythontools</a></th>\\n\\t\\t\\t</tr>\\n\\t\\t\\t\\n\\t\\t\\t\\n\\t\\t\\t\\n\\t\\t\\t\\n\\t\\t\\t\\n\\t\\t\\t<tr>\\n\\t\\t\\t\\t<th><span class=\"topicc text-overflow\"><a href=\"/pythontools/python%E6%97%B6%E9%97%B4%E5%92%8C%E6%97%B6%E9%97%B4%E6%88%B3%E4%BA%92%E8%BD%AC.html\">python\\xe6\\x97\\xb6\\xe9\\x97\\xb4\\xe5\\x92\\x8c\\xe6\\x97\\xb6\\xe9\\x97\\xb4\\xe6\\x88\\xb3\\xe4\\xba\\x92\\xe8\\xbd\\xac</a></span></th>\\n\\t\\t\\t\\t<th><i class=\"icon fa-calendar\"></i><a href=\"javascript:void(0)\"> 2017-03-09</a></th>\\n\\t\\t\\t\\t<th><a href=\"/showCategory.html?cat=pythontools\">pythontools</a></th>\\n\\t\\t\\t</tr>\\n\\t\\t\\t\\n\\t\\t\\t\\n\\t\\t\\t\\n\\t\\t\\t\\n\\t\\t\\t\\n\\t\\t\\t<tr>\\n\\t\\t\\t\\t<th><span class=\"topicc text-overflow\"><a href=\"/pythontools/python%E5%88%A4%E6%96%AD%E6%96%87%E4%BB%B6%E6%98%AF%E5%90%A6%E5%AD%98%E5%9C%A8.html\">python\\xe5\\x88\\xa4\\xe6\\x96\\xad\\xe6\\x96\\x87\\xe4\\xbb\\xb6\\xe6\\x98\\xaf\\xe5\\x90\\xa6\\xe5\\xad\\x98\\xe5\\x9c\\xa8</a></span></th>\\n\\t\\t\\t\\t<th><i class=\"icon fa-calendar\"></i><a href=\"javascript:void(0)\"> 2017-03-09</a></th>\\n\\t\\t\\t\\t<th><a href=\"/showCategory.html?cat=pythontools\">pythontools</a></th>\\n\\t\\t\\t</tr>\\n\\t\\t\\t\\n\\t\\t\\t\\n\\t\\t\\t\\n\\t\\t\\t\\n\\t\\t\\t\\n\\t\\t\\t<tr>\\n\\t\\t\\t\\t<th><span class=\"topicc text-overflow\"><a href=\"/pythontools/python%E5%88%9B%E5%BB%BA%E9%80%92%E5%BD%92%E6%96%87%E4%BB%B6%E5%A4%B9.html\">python\\xe5\\x88\\x9b\\xe5\\xbb\\xba\\xe9\\x80\\x92\\xe5\\xbd\\x92\\xe6\\x96\\x87\\xe4\\xbb\\xb6\\xe5\\xa4\\xb9</a></span></th>\\n\\t\\t\\t\\t<th><i class=\"icon fa-calendar\"></i><a href=\"javascript:void(0)\"> 2017-03-09</a></th>\\n\\t\\t\\t\\t<th><a href=\"/showCategory.html?cat=pythontools\">pythontools</a></th>\\n\\t\\t\\t</tr>\\n\\t\\t\\t\\n\\t\\t\\t\\n\\t\\t\\t\\n\\t\\t\\t\\n\\t\\t\\t\\n\\t\\t\\t<tr>\\n\\t\\t\\t\\t<th><span class=\"topicc text-overflow\"><a href=\"/ml/sklearn%E7%9A%84kmeans%E6%B5%8B%E8%AF%95.html\">sklearn\\xe7\\x9a\\x84kmeans\\xe6\\xb5\\x8b\\xe8\\xaf\\x95</a></span></th>\\n\\t\\t\\t\\t<th><i class=\"icon fa-calendar\"></i><a href=\"javascript:void(0)\"> 2017-03-07</a></th>\\n\\t\\t\\t\\t<th><a href=\"/showCategory.html?cat=ML\">ML</a></th>\\n\\t\\t\\t</tr>\\n\\t\\t\\t\\n\\t\\t\\t\\n\\t\\t\\t\\n\\t\\t\\t\\n\\t\\t\\t\\n\\t\\t\\t<tr>\\n\\t\\t\\t\\t<th><span class=\"topicc text-overflow\"><a href=\"/python/python%E4%BC%A0%E5%85%A5%E4%B8%8D%E7%A1%AE%E5%AE%9A%E4%B8%AA%E6%95%B0%E5%8F%82%E6%95%B0.html\">python\\xe4\\xbc\\xa0\\xe5\\x85\\xa5\\xe4\\xb8\\x8d\\xe7\\xa1\\xae\\xe5\\xae\\x9a\\xe4\\xb8\\xaa\\xe6\\x95\\xb0\\xe5\\x8f\\x82\\xe6\\x95\\xb0</a></span></th>\\n\\t\\t\\t\\t<th><i class=\"icon fa-calendar\"></i><a href=\"javascript:void(0)\"> 2017-02-25</a></th>\\n\\t\\t\\t\\t<th><a href=\"/showCategory.html?cat=python\">python</a></th>\\n\\t\\t\\t</tr>\\n\\t\\t\\t\\n\\t\\t\\t\\n\\t\\t\\t\\n\\t\\t\\t\\n\\t\\t\\t\\n\\t\\t\\t<tr>\\n\\t\\t\\t\\t<th><span class=\"topicc text-overflow\"><a href=\"/python/python%E5%AE%89%E8%A3%85whl%E6%96%87%E4%BB%B6.html\">python\\xe5\\xae\\x89\\xe8\\xa3\\x85whl\\xe6\\x96\\x87\\xe4\\xbb\\xb6</a></span></th>\\n\\t\\t\\t\\t<th><i class=\"icon fa-calendar\"></i><a href=\"javascript:void(0)\"> 2017-02-24</a></th>\\n\\t\\t\\t\\t<th><a href=\"/showCategory.html?cat=python\">python</a></th>\\n\\t\\t\\t</tr>\\n\\t\\t\\t\\n\\t\\t\\t\\n\\t\\t\\t\\n\\t\\t\\t\\n\\t\\t\\t\\n\\t\\t\\t<tr>\\n\\t\\t\\t\\t<th><span class=\"topicc text-overflow\"><a href=\"/python/python3%E5%AE%89%E8%A3%85sklearn%E6%9C%BA%E5%99%A8%E5%AD%A6%E4%B9%A0%E5%BA%93.html\">python3\\xe5\\xae\\x89\\xe8\\xa3\\x85sklearn\\xe6\\x9c\\xba\\xe5\\x99\\xa8\\xe5\\xad\\xa6\\xe4\\xb9\\xa0\\xe5\\xba\\x93</a></span></th>\\n\\t\\t\\t\\t<th><i class=\"icon fa-calendar\"></i><a href=\"javascript:void(0)\"> 2017-02-24</a></th>\\n\\t\\t\\t\\t<th><a href=\"/showCategory.html?cat=python\">python</a></th>\\n\\t\\t\\t</tr>\\n\\t\\t\\t\\n\\t\\t\\t\\n\\t\\t\\t\\n\\t\\t\\t\\n\\t\\t\\t\\n\\t\\t\\t<tr>\\n\\t\\t\\t\\t<th><span class=\"topicc text-overflow\"><a href=\"/python/Oracle%E7%BB%9D%E5%AF%B9%E7%A7%92%E6%95%B0%E8%BD%AC%E6%8D%A2%E4%B8%BA%E6%97%B6%E9%97%B4%E6%88%B3.html\">Oracle\\xe7\\xbb\\x9d\\xe5\\xaf\\xb9\\xe7\\xa7\\x92\\xe6\\x95\\xb0\\xe8\\xbd\\xac\\xe4\\xb8\\xba\\xe6\\x97\\xb6\\xe9\\x97\\xb4\\xe6\\x88\\xb3</a></span></th>\\n\\t\\t\\t\\t<th><i class=\"icon fa-calendar\"></i><a href=\"javascript:void(0)\"> 2017-02-23</a></th>\\n\\t\\t\\t\\t<th><a href=\"/showCategory.html?cat=python\">python</a></th>\\n\\t\\t\\t</tr>\\n\\t\\t\\t\\n\\t\\t\\t\\n\\t\\t\\t\\n\\t\\t\\t\\n\\t\\t\\t\\n\\t\\t\\t<tr>\\n\\t\\t\\t\\t<th><span class=\"topicc text-overflow\"><a href=\"/python/%E5%BE%AE%E4%BF%A1%E7%BA%A2%E5%8C%85%E7%AE%97%E6%B3%95.html\">\\xe5\\xbe\\xae\\xe4\\xbf\\xa1\\xe7\\xba\\xa2\\xe5\\x8c\\x85\\xe7\\xae\\x97\\xe6\\xb3\\x95</a></span></th>\\n\\t\\t\\t\\t<th><i class=\"icon fa-calendar\"></i><a href=\"javascript:void(0)\"> 2017-01-30</a></th>\\n\\t\\t\\t\\t<th><a href=\"/showCategory.html?cat=python\">python</a></th>\\n\\t\\t\\t</tr>\\n\\t\\t\\t\\n\\t\\t\\t\\n\\t\\t\\t\\n\\t\\t\\t\\n\\t\\t\\t\\n\\t\\t\\t<tr>\\n\\t\\t\\t\\t<th><span class=\"topicc text-overflow\"><a href=\"/linux/Linux%E4%B8%8Bpython2%E5%92%8Cpython3%E5%85%B1%E5%AD%98.html\">Linux\\xe4\\xb8\\x8bpython2\\xe5\\x92\\x8cpython3\\xe5\\x85\\xb1\\xe5\\xad\\x98</a></span></th>\\n\\t\\t\\t\\t<th><i class=\"icon fa-calendar\"></i><a href=\"javascript:void(0)\"> 2017-01-18</a></th>\\n\\t\\t\\t\\t<th><a href=\"/showCategory.html?cat=Linux\">Linux</a></th>\\n\\t\\t\\t</tr>\\n\\t\\t\\t\\n\\t\\t\\t\\n\\t\\t\\t\\n\\t\\t\\t\\n\\t\\t\\t\\n\\t\\t\\t<tr>\\n\\t\\t\\t\\t<th><span class=\"topicc text-overflow\"><a href=\"/hadoop/hadoop%E5%88%86%E5%B8%83%E5%BC%8F%E6%90%AD%E5%BB%BA.html\">hadoop\\xe5\\x88\\x86\\xe5\\xb8\\x83\\xe5\\xbc\\x8f\\xe6\\x90\\xad\\xe5\\xbb\\xba</a></span></th>\\n\\t\\t\\t\\t<th><i class=\"icon fa-calendar\"></i><a href=\"javascript:void(0)\"> 2017-01-17</a></th>\\n\\t\\t\\t\\t<th><a href=\"/showCategory.html?cat=hadoop\">hadoop</a></th>\\n\\t\\t\\t</tr>\\n\\t\\t\\t\\n\\t\\t\\t\\n\\t\\t\\t\\n\\t\\t\\t\\n\\t\\t\\t\\n\\t\\t\\t<tr>\\n\\t\\t\\t\\t<th><span class=\"topicc text-overflow\"><a href=\"/ml/NaiveBayes%E6%9C%B4%E7%B4%A0%E8%B4%9D%E5%8F%B6%E6%96%AF%E7%AE%97%E6%B3%95.html\">NaiveBayes\\xe6\\x9c\\xb4\\xe7\\xb4\\xa0\\xe8\\xb4\\x9d\\xe5\\x8f\\xb6\\xe6\\x96\\xaf\\xe7\\xae\\x97\\xe6\\xb3\\x95</a></span></th>\\n\\t\\t\\t\\t<th><i class=\"icon fa-calendar\"></i><a href=\"javascript:void(0)\"> 2017-01-16</a></th>\\n\\t\\t\\t\\t<th><a href=\"/showCategory.html?cat=ML\">ML</a></th>\\n\\t\\t\\t</tr>\\n\\t\\t\\t\\n\\t\\t\\t\\n\\t\\t\\t\\n\\t\\t\\t\\n\\t\\t\\t\\n\\t\\t\\t<tr>\\n\\t\\t\\t\\t<th><span class=\"topicc text-overflow\"><a href=\"/ml/ID3%E5%86%B3%E7%AD%96%E6%A0%91%E7%AE%97%E6%B3%95.html\">ID3\\xe5\\x86\\xb3\\xe7\\xad\\x96\\xe6\\xa0\\x91\\xe7\\xae\\x97\\xe6\\xb3\\x95</a></span></th>\\n\\t\\t\\t\\t<th><i class=\"icon fa-calendar\"></i><a href=\"javascript:void(0)\"> 2017-01-13</a></th>\\n\\t\\t\\t\\t<th><a href=\"/showCategory.html?cat=ML\">ML</a></th>\\n\\t\\t\\t</tr>\\n\\t\\t\\t\\n\\t\\t\\t\\n\\t\\t\\t\\n\\t\\t\\t\\n\\t\\t\\t\\n\\t\\t\\t<tr>\\n\\t\\t\\t\\t<th><span class=\"topicc text-overflow\"><a href=\"/linux/VMwareWorkstation%E4%B8%8B%E5%AE%89%E8%A3%85Linux.html\">VMwareWorkstation\\xe4\\xb8\\x8b\\xe5\\xae\\x89\\xe8\\xa3\\x85Linux</a></span></th>\\n\\t\\t\\t\\t<th><i class=\"icon fa-calendar\"></i><a href=\"javascript:void(0)\"> 2017-01-13</a></th>\\n\\t\\t\\t\\t<th><a href=\"/showCategory.html?cat=Linux\">Linux</a></th>\\n\\t\\t\\t</tr>\\n\\t\\t\\t\\n\\t\\t\\t\\n\\t\\t\\t\\n\\t\\t\\t\\n\\t\\t\\t\\n\\t\\t\\t<tr>\\n\\t\\t\\t\\t<th><span class=\"topicc text-overflow\"><a href=\"/wechat/%E5%BE%AE%E4%BF%A1%E5%B0%8F%E7%A8%8B%E5%BA%8F%E5%BC%80%E5%8F%91%E6%B5%8B%E8%AF%95.html\">\\xe5\\xbe\\xae\\xe4\\xbf\\xa1\\xe5\\xb0\\x8f\\xe7\\xa8\\x8b\\xe5\\xba\\x8f\\xe5\\xbc\\x80\\xe5\\x8f\\x91\\xe6\\xb5\\x8b\\xe8\\xaf\\x95</a></span></th>\\n\\t\\t\\t\\t<th><i class=\"icon fa-calendar\"></i><a href=\"javascript:void(0)\"> 2017-01-10</a></th>\\n\\t\\t\\t\\t<th><a href=\"/showCategory.html?cat=wechat\">wechat</a></th>\\n\\t\\t\\t</tr>\\n\\t\\t\\t\\n\\t\\t\\t\\n\\t\\t\\t\\n\\t\\t\\t\\n\\t\\t\\t\\n\\t\\t\\t<tr>\\n\\t\\t\\t\\t<th><span class=\"topicc text-overflow\"><a href=\"/python/%E7%AD%9B%E6%B3%95%E6%B1%82%E7%B4%A0%E6%95%B0%E8%B4%A8%E6%95%B0.html\">\\xe7\\xad\\x9b\\xe6\\xb3\\x95\\xe6\\xb1\\x82\\xe7\\xb4\\xa0\\xe6\\x95\\xb0\\xe8\\xb4\\xa8\\xe6\\x95\\xb0</a></span></th>\\n\\t\\t\\t\\t<th><i class=\"icon fa-calendar\"></i><a href=\"javascript:void(0)\"> 2017-01-10</a></th>\\n\\t\\t\\t\\t<th><a href=\"/showCategory.html?cat=python\">python</a></th>\\n\\t\\t\\t</tr>\\n\\t\\t\\t\\n\\t\\t\\t\\n\\t\\t\\t\\n\\t\\t\\t\\n\\t\\t\\t\\n\\t\\t\\t<tr>\\n\\t\\t\\t\\t<th><span class=\"topicc text-overflow\"><a href=\"/ml/Agens%E5%B1%82%E6%AC%A1%E8%81%9A%E7%B1%BB.html\">Agens\\xe5\\xb1\\x82\\xe6\\xac\\xa1\\xe8\\x81\\x9a\\xe7\\xb1\\xbb</a></span></th>\\n\\t\\t\\t\\t<th><i class=\"icon fa-calendar\"></i><a href=\"javascript:void(0)\"> 2017-01-09</a></th>\\n\\t\\t\\t\\t<th><a href=\"/showCategory.html?cat=ML\">ML</a></th>\\n\\t\\t\\t</tr>\\n\\t\\t\\t\\n\\t\\t\\t\\n\\t\\t\\t\\n\\t\\t\\t\\n\\t\\t\\t\\n\\t\\t\\t<tr>\\n\\t\\t\\t\\t<th><span class=\"topicc text-overflow\"><a href=\"/ml/KNN%E8%BF%91%E9%82%BB%E7%AE%97%E6%B3%95.html\">KNN\\xe8\\xbf\\x91\\xe9\\x82\\xbb\\xe7\\xae\\x97\\xe6\\xb3\\x95</a></span></th>\\n\\t\\t\\t\\t<th><i class=\"icon fa-calendar\"></i><a href=\"javascript:void(0)\"> 2017-01-05</a></th>\\n\\t\\t\\t\\t<th><a href=\"/showCategory.html?cat=ML\">ML</a></th>\\n\\t\\t\\t</tr>\\n\\t\\t\\t\\n\\t\\t\\t\\n\\t\\t\\t\\n\\t\\t\\t\\n\\t\\t\\t\\n\\t\\t\\t<tr>\\n\\t\\t\\t\\t<th><span class=\"topicc text-overflow\"><a href=\"/ml/K-means%E8%81%9A%E7%B1%BB%E7%AE%97%E6%B3%95.html\">K-means\\xe8\\x81\\x9a\\xe7\\xb1\\xbb\\xe7\\xae\\x97\\xe6\\xb3\\x95</a></span></th>\\n\\t\\t\\t\\t<th><i class=\"icon fa-calendar\"></i><a href=\"javascript:void(0)\"> 2017-01-04</a></th>\\n\\t\\t\\t\\t<th><a href=\"/showCategory.html?cat=ML\">ML</a></th>\\n\\t\\t\\t</tr>\\n\\t\\t\\t\\n\\t\\t\\t\\n\\t\\t\\t\\n\\t\\t\\t\\n\\t\\t\\t\\n\\t\\t\\t<tr>\\n\\t\\t\\t\\t<th><span class=\"topicc text-overflow\"><a href=\"/ml/FP-tree%E6%8E%A8%E8%8D%90%E7%AE%97%E6%B3%95.html\">FP-tree\\xe6\\x8e\\xa8\\xe8\\x8d\\x90\\xe7\\xae\\x97\\xe6\\xb3\\x95</a></span></th>\\n\\t\\t\\t\\t<th><i class=\"icon fa-calendar\"></i><a href=\"javascript:void(0)\"> 2017-01-03</a></th>\\n\\t\\t\\t\\t<th><a href=\"/showCategory.html?cat=ML\">ML</a></th>\\n\\t\\t\\t</tr>\\n\\t\\t\\t\\n\\t\\t\\t\\n\\t\\t\\t\\n\\t\\t\\t\\n\\t\\t\\t\\n\\t\\t\\t<tr>\\n\\t\\t\\t\\t<th><span class=\"topicc text-overflow\"><a href=\"/html/ChromeCrx.html\">ChromeCrx</a></span></th>\\n\\t\\t\\t\\t<th><i class=\"icon fa-calendar\"></i><a href=\"javascript:void(0)\"> 2017-01-02</a></th>\\n\\t\\t\\t\\t<th><a href=\"/showCategory.html?cat=html\">html</a></th>\\n\\t\\t\\t</tr>\\n\\t\\t\\t\\n\\t\\t\\t\\n\\t\\t\\t\\n\\t\\t\\t\\n\\t\\t\\t\\n\\t\\t\\t<tr>\\n\\t\\t\\t\\t<th><span class=\"topicc text-overflow\"><a href=\"/ml/apriori%E6%8E%A8%E8%8D%90%E7%AE%97%E6%B3%95.html\">apriori\\xe6\\x8e\\xa8\\xe8\\x8d\\x90\\xe7\\xae\\x97\\xe6\\xb3\\x95</a></span></th>\\n\\t\\t\\t\\t<th><i class=\"icon fa-calendar\"></i><a href=\"javascript:void(0)\"> 2016-12-28</a></th>\\n\\t\\t\\t\\t<th><a href=\"/showCategory.html?cat=ML\">ML</a></th>\\n\\t\\t\\t</tr>\\n\\t\\t\\t\\n\\t\\t\\t\\n\\t\\t\\t\\n\\t\\t\\t\\n\\t\\t\\t\\n\\t\\t\\t<tr>\\n\\t\\t\\t\\t<th><span class=\"topicc text-overflow\"><a href=\"/python/python%E6%B5%B7%E9%BE%9F%E5%9B%BE%E5%88%B6%E4%BD%9C.html\">python\\xe6\\xb5\\xb7\\xe9\\xbe\\x9f\\xe5\\x9b\\xbe\\xe5\\x88\\xb6\\xe4\\xbd\\x9c</a></span></th>\\n\\t\\t\\t\\t<th><i class=\"icon fa-calendar\"></i><a href=\"javascript:void(0)\"> 2016-12-26</a></th>\\n\\t\\t\\t\\t<th><a href=\"/showCategory.html?cat=python\">python</a></th>\\n\\t\\t\\t</tr>\\n\\t\\t\\t\\n\\t\\t\\t\\n\\t\\t\\t\\n\\t\\t\\t\\n\\t\\t\\t\\n\\t\\t\\t<tr>\\n\\t\\t\\t\\t<th><span class=\"topicc text-overflow\"><a href=\"/git/window%E5%AE%89%E8%A3%85jekyll.html\">window\\xe5\\xae\\x89\\xe8\\xa3\\x85jekyll</a></span></th>\\n\\t\\t\\t\\t<th><i class=\"icon fa-calendar\"></i><a href=\"javascript:void(0)\"> 2016-12-20</a></th>\\n\\t\\t\\t\\t<th><a href=\"/showCategory.html?cat=git\">git</a></th>\\n\\t\\t\\t</tr>\\n\\t\\t\\t\\n\\t\\t\\t\\n\\t\\t\\t\\n\\t\\t\\t\\n\\t\\t\\t\\n\\t\\t\\t<tr>\\n\\t\\t\\t\\t<th><span class=\"topicc text-overflow\"><a href=\"/ml/Amazonz%E9%AA%8C%E8%AF%81%E7%A0%81%E6%9C%BA%E5%99%A8%E7%AE%97%E6%B3%95%E8%AF%86%E5%88%AB.html\">Amazonz\\xe9\\xaa\\x8c\\xe8\\xaf\\x81\\xe7\\xa0\\x81\\xe6\\x9c\\xba\\xe5\\x99\\xa8\\xe7\\xae\\x97\\xe6\\xb3\\x95\\xe8\\xaf\\x86\\xe5\\x88\\xab</a></span></th>\\n\\t\\t\\t\\t<th><i class=\"icon fa-calendar\"></i><a href=\"javascript:void(0)\"> 2016-12-10</a></th>\\n\\t\\t\\t\\t<th><a href=\"/showCategory.html?cat=ML\">ML</a></th>\\n\\t\\t\\t</tr>\\n\\t\\t\\t\\n\\t\\t\\t\\n\\t\\t\\t\\n\\t\\t\\t\\n\\t\\t\\t\\n\\t\\t\\t<tr>\\n\\t\\t\\t\\t<th><span class=\"topicc text-overflow\"><a href=\"/selenium/selenium%E6%99%BA%E8%81%94%E6%90%9C%E7%B4%A2.html\">selenium\\xe6\\x99\\xba\\xe8\\x81\\x94\\xe6\\x90\\x9c\\xe7\\xb4\\xa2</a></span></th>\\n\\t\\t\\t\\t<th><i class=\"icon fa-calendar\"></i><a href=\"javascript:void(0)\"> 2016-12-05</a></th>\\n\\t\\t\\t\\t<th><a href=\"/showCategory.html?cat=selenium\">selenium</a></th>\\n\\t\\t\\t</tr>\\n\\t\\t\\t\\n\\t\\t\\t\\n\\t\\t\\t\\n\\t\\t\\t\\n\\t\\t\\t\\n\\t\\t\\t<tr>\\n\\t\\t\\t\\t<th><span class=\"topicc text-overflow\"><a href=\"/selenium/selenium%E8%AE%BE%E7%BD%AEChrome.html\">selenium\\xe8\\xae\\xbe\\xe7\\xbd\\xaeChrome</a></span></th>\\n\\t\\t\\t\\t<th><i class=\"icon fa-calendar\"></i><a href=\"javascript:void(0)\"> 2016-12-03</a></th>\\n\\t\\t\\t\\t<th><a href=\"/showCategory.html?cat=selenium\">selenium</a></th>\\n\\t\\t\\t</tr>\\n\\t\\t\\t\\n\\t\\t\\t\\n\\t\\t\\t\\n\\t\\t\\t\\n\\t\\t\\t\\n\\t\\t\\t<tr>\\n\\t\\t\\t\\t<th><span class=\"topicc text-overflow\"><a href=\"/javascript/javascript%E8%8E%B7%E5%8F%96%E6%B5%8F%E8%A7%88%E5%99%A8%E5%B1%9E%E6%80%A7.html\">javascript\\xe8\\x8e\\xb7\\xe5\\x8f\\x96\\xe6\\xb5\\x8f\\xe8\\xa7\\x88\\xe5\\x99\\xa8\\xe5\\xb1\\x9e\\xe6\\x80\\xa7</a></span></th>\\n\\t\\t\\t\\t<th><i class=\"icon fa-calendar\"></i><a href=\"javascript:void(0)\"> 2016-12-02</a></th>\\n\\t\\t\\t\\t<th><a href=\"/showCategory.html?cat=javascript\">javascript</a></th>\\n\\t\\t\\t</tr>\\n\\t\\t\\t\\n\\t\\t\\t\\n\\t\\t\\t\\n\\t\\t\\t\\n\\t\\t\\t\\n\\t\\t\\t<tr>\\n\\t\\t\\t\\t<th><span class=\"topicc text-overflow\"><a href=\"/javascript/javascript%E6%93%8D%E6%8E%A7%E6%B5%8F%E8%A7%88%E5%99%A8.html\">javascript\\xe6\\x93\\x8d\\xe6\\x8e\\xa7\\xe6\\xb5\\x8f\\xe8\\xa7\\x88\\xe5\\x99\\xa8</a></span></th>\\n\\t\\t\\t\\t<th><i class=\"icon fa-calendar\"></i><a href=\"javascript:void(0)\"> 2016-12-02</a></th>\\n\\t\\t\\t\\t<th><a href=\"/showCategory.html?cat=javascript\">javascript</a></th>\\n\\t\\t\\t</tr>\\n\\t\\t\\t\\n\\t\\t\\t\\n\\t\\t\\t\\n\\t\\t\\t\\n\\t\\t\\t\\n\\t\\t\\t<tr>\\n\\t\\t\\t\\t<th><span class=\"topicc text-overflow\"><a href=\"/selenium/selenium%E5%8A%A0%E8%BD%BD%E6%97%B6%E9%97%B4%E8%BF%87%E9%95%BF.html\">selenium\\xe5\\x8a\\xa0\\xe8\\xbd\\xbd\\xe6\\x97\\xb6\\xe9\\x97\\xb4\\xe8\\xbf\\x87\\xe9\\x95\\xbf</a></span></th>\\n\\t\\t\\t\\t<th><i class=\"icon fa-calendar\"></i><a href=\"javascript:void(0)\"> 2016-11-24</a></th>\\n\\t\\t\\t\\t<th><a href=\"/showCategory.html?cat=selenium\">selenium</a></th>\\n\\t\\t\\t</tr>\\n\\t\\t\\t\\n\\t\\t\\t\\n\\t\\t\\t\\n\\t\\t\\t\\n\\t\\t\\t\\n\\t\\t\\t<tr>\\n\\t\\t\\t\\t<th><span class=\"topicc text-overflow\"><a href=\"/golang/win10Golang%E7%8E%AF%E5%A2%83%E5%8F%98%E9%87%8F%E8%AE%BE%E7%BD%AE.html\">win10Golang\\xe7\\x8e\\xaf\\xe5\\xa2\\x83\\xe5\\x8f\\x98\\xe9\\x87\\x8f\\xe8\\xae\\xbe\\xe7\\xbd\\xae</a></span></th>\\n\\t\\t\\t\\t<th><i class=\"icon fa-calendar\"></i><a href=\"javascript:void(0)\"> 2016-11-17</a></th>\\n\\t\\t\\t\\t<th><a href=\"/showCategory.html?cat=golang\">golang</a></th>\\n\\t\\t\\t</tr>\\n\\t\\t\\t\\n\\t\\t\\t\\n\\t\\t\\t\\n\\t\\t\\t\\n\\t\\t\\t\\n\\t\\t\\t<tr>\\n\\t\\t\\t\\t<th><span class=\"topicc text-overflow\"><a href=\"/ide/pycharm%E5%9F%BA%E6%9C%AC%E8%AE%BE%E7%BD%AE.html\">pycharm\\xe5\\x9f\\xba\\xe6\\x9c\\xac\\xe8\\xae\\xbe\\xe7\\xbd\\xae</a></span></th>\\n\\t\\t\\t\\t<th><i class=\"icon fa-calendar\"></i><a href=\"javascript:void(0)\"> 2016-11-16</a></th>\\n\\t\\t\\t\\t<th><a href=\"/showCategory.html?cat=IDE\">IDE</a></th>\\n\\t\\t\\t</tr>\\n\\t\\t\\t\\n\\t\\t\\t\\n\\t\\t\\t\\n\\t\\t\\t\\n\\t\\t\\t\\n\\t\\t\\t<tr>\\n\\t\\t\\t\\t<th><span class=\"topicc text-overflow\"><a href=\"/python/python3%E7%99%BE%E5%BA%A6%E6%8C%87%E6%95%B0%E6%8A%93%E5%8F%96.html\">python3\\xe7\\x99\\xbe\\xe5\\xba\\xa6\\xe6\\x8c\\x87\\xe6\\x95\\xb0\\xe6\\x8a\\x93\\xe5\\x8f\\x96</a></span></th>\\n\\t\\t\\t\\t<th><i class=\"icon fa-calendar\"></i><a href=\"javascript:void(0)\"> 2016-11-12</a></th>\\n\\t\\t\\t\\t<th><a href=\"/showCategory.html?cat=python\">python</a></th>\\n\\t\\t\\t</tr>\\n\\t\\t\\t\\n\\t\\t\\t\\n\\t\\t\\t\\n\\t\\t\\t\\n\\t\\t\\t\\n\\t\\t\\t<tr>\\n\\t\\t\\t\\t<th><span class=\"topicc text-overflow\"><a href=\"/selenium/selenium%E4%B9%8Bxpath%E5%AE%9A%E4%BD%8D%E5%92%8Cinput%E6%96%87%E6%9C%AC.html\">selenium\\xe4\\xb9\\x8bxpath\\xe5\\xae\\x9a\\xe4\\xbd\\x8d\\xe5\\x92\\x8cinput\\xe6\\x96\\x87\\xe6\\x9c\\xac</a></span></th>\\n\\t\\t\\t\\t<th><i class=\"icon fa-calendar\"></i><a href=\"javascript:void(0)\"> 2016-11-11</a></th>\\n\\t\\t\\t\\t<th><a href=\"/showCategory.html?cat=selenium\">selenium</a></th>\\n\\t\\t\\t</tr>\\n\\t\\t\\t\\n\\t\\t\\t\\n\\t\\t\\t\\n\\t\\t\\t\\n\\t\\t\\t\\n\\t\\t\\t<tr>\\n\\t\\t\\t\\t<th><span class=\"topicc text-overflow\"><a href=\"/selenium/selenium%E5%A4%9A%E4%B8%AA%E7%AA%97%E5%8F%A3%E5%88%87%E6%8D%A2.html\">selenium\\xe5\\xa4\\x9a\\xe4\\xb8\\xaa\\xe7\\xaa\\x97\\xe5\\x8f\\xa3\\xe5\\x88\\x87\\xe6\\x8d\\xa2</a></span></th>\\n\\t\\t\\t\\t<th><i class=\"icon fa-calendar\"></i><a href=\"javascript:void(0)\"> 2016-11-09</a></th>\\n\\t\\t\\t\\t<th><a href=\"/showCategory.html?cat=selenium\">selenium</a></th>\\n\\t\\t\\t</tr>\\n\\t\\t\\t\\n\\t\\t\\t\\n\\t\\t\\t\\n\\t\\t\\t\\n\\t\\t\\t\\n\\t\\t\\t<tr>\\n\\t\\t\\t\\t<th><span class=\"topicc text-overflow\"><a href=\"/selenium/selenium%E4%B8%8B%E6%8B%89%E6%A1%86%E9%80%89%E6%8B%A9.html\">selenium\\xe4\\xb8\\x8b\\xe6\\x8b\\x89\\xe6\\xa1\\x86\\xe9\\x80\\x89\\xe6\\x8b\\xa9</a></span></th>\\n\\t\\t\\t\\t<th><i class=\"icon fa-calendar\"></i><a href=\"javascript:void(0)\"> 2016-11-09</a></th>\\n\\t\\t\\t\\t<th><a href=\"/showCategory.html?cat=selenium\">selenium</a></th>\\n\\t\\t\\t</tr>\\n\\t\\t\\t\\n\\t\\t\\t\\n\\t\\t\\t\\n\\t\\t\\t\\n\\t\\t\\t\\n\\t\\t\\t<tr>\\n\\t\\t\\t\\t<th><span class=\"topicc text-overflow\"><a href=\"/git/git%E4%B8%8B%E8%BD%BD%E8%87%AA%E5%B7%B1%E9%A1%B9%E7%9B%AE%E5%88%B0%E6%9C%AC%E5%9C%B0.html\">git\\xe4\\xb8\\x8b\\xe8\\xbd\\xbd\\xe8\\x87\\xaa\\xe5\\xb7\\xb1\\xe9\\xa1\\xb9\\xe7\\x9b\\xae\\xe5\\x88\\xb0\\xe6\\x9c\\xac\\xe5\\x9c\\xb0</a></span></th>\\n\\t\\t\\t\\t<th><i class=\"icon fa-calendar\"></i><a href=\"javascript:void(0)\"> 2016-11-07</a></th>\\n\\t\\t\\t\\t<th><a href=\"/showCategory.html?cat=git\">git</a></th>\\n\\t\\t\\t</tr>\\n\\t\\t\\t\\n\\t\\t\\t\\n\\t\\t\\t\\n\\t\\t\\t\\n\\t\\t\\t\\n\\t\\t\\t<tr>\\n\\t\\t\\t\\t<th><span class=\"topicc text-overflow\"><a href=\"/selenium/selenium%E4%B8%8B%E8%BD%BD%E7%94%B5%E5%AD%90%E4%B9%A6.html\">selenium\\xe4\\xb8\\x8b\\xe8\\xbd\\xbd\\xe7\\x94\\xb5\\xe5\\xad\\x90\\xe4\\xb9\\xa6</a></span></th>\\n\\t\\t\\t\\t<th><i class=\"icon fa-calendar\"></i><a href=\"javascript:void(0)\"> 2016-10-23</a></th>\\n\\t\\t\\t\\t<th><a href=\"/showCategory.html?cat=selenium\">selenium</a></th>\\n\\t\\t\\t</tr>\\n\\t\\t\\t\\n\\t\\t\\t\\n\\t\\t\\t\\n\\t\\t\\t\\n\\t\\t\\t\\n\\t\\t\\t<tr>\\n\\t\\t\\t\\t<th><span class=\"topicc text-overflow\"><a href=\"/python/python3%E7%94%9F%E6%88%90%E6%A0%87%E7%AD%BE%E4%BA%91.html\">python3\\xe7\\x94\\x9f\\xe6\\x88\\x90\\xe6\\xa0\\x87\\xe7\\xad\\xbe\\xe4\\xba\\x91</a></span></th>\\n\\t\\t\\t\\t<th><i class=\"icon fa-calendar\"></i><a href=\"javascript:void(0)\"> 2016-09-07</a></th>\\n\\t\\t\\t\\t<th><a href=\"/showCategory.html?cat=python\">python</a></th>\\n\\t\\t\\t</tr>\\n\\t\\t\\t\\n\\t\\t\\t\\n\\t\\t\\t\\n\\t\\t\\t\\n\\t\\t\\t\\n\\t\\t\\t<tr>\\n\\t\\t\\t\\t<th><span class=\"topicc text-overflow\"><a href=\"/html/RGB%E9%A2%9C%E8%89%B2%E5%AF%B9%E7%85%A7%E5%9B%BE.html\">RGB\\xe9\\xa2\\x9c\\xe8\\x89\\xb2\\xe5\\xaf\\xb9\\xe7\\x85\\xa7\\xe5\\x9b\\xbe</a></span></th>\\n\\t\\t\\t\\t<th><i class=\"icon fa-calendar\"></i><a href=\"javascript:void(0)\"> 2016-09-07</a></th>\\n\\t\\t\\t\\t<th><a href=\"/showCategory.html?cat=html\">html</a></th>\\n\\t\\t\\t</tr>\\n\\t\\t\\t\\n\\t\\t\\t\\n\\t\\t\\t\\n\\t\\t\\t\\n\\t\\t\\t\\n\\t\\t\\t<tr>\\n\\t\\t\\t\\t<th><span class=\"topicc text-overflow\"><a href=\"/python/python%E5%A4%9A%E7%BA%BF%E7%A8%8B%E8%B6%A3%E5%91%B3%E8%AF%A6%E8%A7%A3.html\">python\\xe5\\xa4\\x9a\\xe7\\xba\\xbf\\xe7\\xa8\\x8b\\xe8\\xb6\\xa3\\xe5\\x91\\xb3\\xe8\\xaf\\xa6\\xe8\\xa7\\xa3</a></span></th>\\n\\t\\t\\t\\t<th><i class=\"icon fa-calendar\"></i><a href=\"javascript:void(0)\"> 2016-09-06</a></th>\\n\\t\\t\\t\\t<th><a href=\"/showCategory.html?cat=python\">python</a></th>\\n\\t\\t\\t</tr>\\n\\t\\t\\t\\n\\t\\t\\t\\n\\t\\t\\t\\n\\t\\t\\t\\n\\t\\t\\t\\n\\t\\t\\t<tr>\\n\\t\\t\\t\\t<th><span class=\"topicc text-overflow\"><a href=\"/selenium/python%E4%B9%8Bselenium.html\">python\\xe4\\xb9\\x8bselenium</a></span></th>\\n\\t\\t\\t\\t<th><i class=\"icon fa-calendar\"></i><a href=\"javascript:void(0)\"> 2016-09-05</a></th>\\n\\t\\t\\t\\t<th><a href=\"/showCategory.html?cat=selenium\">selenium</a></th>\\n\\t\\t\\t</tr>\\n\\t\\t\\t\\n\\t\\t\\t\\n\\t\\t\\t\\n\\t\\t\\t\\n\\t\\t\\t\\n\\t\\t\\t<tr>\\n\\t\\t\\t\\t<th><span class=\"topicc text-overflow\"><a href=\"/python/python%E6%95%B0%E6%8D%AE%E5%BA%93%E6%93%8D%E4%BD%9Cpymysql.html\">python\\xe6\\x95\\xb0\\xe6\\x8d\\xae\\xe5\\xba\\x93\\xe6\\x93\\x8d\\xe4\\xbd\\x9cpymysql</a></span></th>\\n\\t\\t\\t\\t<th><i class=\"icon fa-calendar\"></i><a href=\"javascript:void(0)\"> 2016-08-30</a></th>\\n\\t\\t\\t\\t<th><a href=\"/showCategory.html?cat=python\">python</a></th>\\n\\t\\t\\t</tr>\\n\\t\\t\\t\\n\\t\\t\\t\\n\\t\\t\\t\\n\\t\\t\\t\\n\\t\\t\\t\\n\\t\\t\\t<tr>\\n\\t\\t\\t\\t<th><span class=\"topicc text-overflow\"><a href=\"/python/python3%E6%8A%93%E5%8F%96%E5%BC%82%E6%AD%A5%E7%99%BE%E5%BA%A6%E7%80%91%E5%B8%83%E6%B5%81%E5%8A%A8%E6%80%81%E5%9B%BE%E7%89%87-%E4%BA%8C-get-json%E4%B8%8B%E8%BD%BD%E4%BB%A3%E7%A0%81%E8%AE%B2%E8%A7%A3.html\">python3\\xe6\\x8a\\x93\\xe5\\x8f\\x96\\xe5\\xbc\\x82\\xe6\\xad\\xa5\\xe7\\x99\\xbe\\xe5\\xba\\xa6\\xe7\\x80\\x91\\xe5\\xb8\\x83\\xe6\\xb5\\x81\\xe5\\x8a\\xa8\\xe6\\x80\\x81\\xe5\\x9b\\xbe\\xe7\\x89\\x87\\xef\\xbc\\x88\\xe4\\xba\\x8c\\xef\\xbc\\x89get\\xe3\\x80\\x81json\\xe4\\xb8\\x8b\\xe8\\xbd\\xbd\\xe4\\xbb\\xa3\\xe7\\xa0\\x81\\xe8\\xae\\xb2\\xe8\\xa7\\xa3</a></span></th>\\n\\t\\t\\t\\t<th><i class=\"icon fa-calendar\"></i><a href=\"javascript:void(0)\"> 2016-08-28</a></th>\\n\\t\\t\\t\\t<th><a href=\"/showCategory.html?cat=python\">python</a></th>\\n\\t\\t\\t</tr>\\n\\t\\t\\t\\n\\t\\t\\t\\n\\t\\t\\t\\n\\t\\t\\t\\n\\t\\t\\t\\n\\t\\t\\t<tr>\\n\\t\\t\\t\\t<th><span class=\"topicc text-overflow\"><a href=\"/python/python3%E6%8A%93%E5%8F%96%E5%BC%82%E6%AD%A5%E7%99%BE%E5%BA%A6%E7%80%91%E5%B8%83%E6%B5%81%E5%8A%A8%E6%80%81%E5%9B%BE%E7%89%87-%E4%B8%80-%E6%9F%A5%E6%89%BEpost%E5%B9%B6%E4%BC%AA%E8%A3%85%E5%A4%B4%E6%96%B9%E6%B3%95.html\">python3\\xe6\\x8a\\x93\\xe5\\x8f\\x96\\xe5\\xbc\\x82\\xe6\\xad\\xa5\\xe7\\x99\\xbe\\xe5\\xba\\xa6\\xe7\\x80\\x91\\xe5\\xb8\\x83\\xe6\\xb5\\x81\\xe5\\x8a\\xa8\\xe6\\x80\\x81\\xe5\\x9b\\xbe\\xe7\\x89\\x87\\xef\\xbc\\x88\\xe4\\xb8\\x80\\xef\\xbc\\x89\\xe6\\x9f\\xa5\\xe6\\x89\\xbepost\\xe5\\xb9\\xb6\\xe4\\xbc\\xaa\\xe8\\xa3\\x85\\xe5\\xa4\\xb4\\xe6\\x96\\xb9\\xe6\\xb3\\x95</a></span></th>\\n\\t\\t\\t\\t<th><i class=\"icon fa-calendar\"></i><a href=\"javascript:void(0)\"> 2016-08-28</a></th>\\n\\t\\t\\t\\t<th><a href=\"/showCategory.html?cat=python\">python</a></th>\\n\\t\\t\\t</tr>\\n\\t\\t\\t\\n\\t\\t\\t\\n\\t\\t\\t\\n\\t\\t\\t\\n\\t\\t\\t\\n\\t\\t\\t<tr>\\n\\t\\t\\t\\t<th><span class=\"topicc text-overflow\"><a href=\"/java/java%E4%BB%8E%E9%9B%B6%E5%88%B0%E5%8F%98%E8%BA%AB%E7%88%AC%E8%99%AB%E5%A4%A7%E7%A5%9E-%E4%B8%80.html\">java\\xe4\\xbb\\x8e\\xe9\\x9b\\xb6\\xe5\\x88\\xb0\\xe5\\x8f\\x98\\xe8\\xba\\xab\\xe7\\x88\\xac\\xe8\\x99\\xab\\xe5\\xa4\\xa7\\xe7\\xa5\\x9e\\xef\\xbc\\x88\\xe4\\xb8\\x80\\xef\\xbc\\x89</a></span></th>\\n\\t\\t\\t\\t<th><i class=\"icon fa-calendar\"></i><a href=\"javascript:void(0)\"> 2016-08-18</a></th>\\n\\t\\t\\t\\t<th><a href=\"/showCategory.html?cat=java\">java</a></th>\\n\\t\\t\\t</tr>\\n\\t\\t\\t\\n\\t\\t\\t\\n\\t\\t\\t\\n\\t\\t\\t\\n\\t\\t\\t\\n\\t\\t\\t<tr>\\n\\t\\t\\t\\t<th><span class=\"topicc text-overflow\"><a href=\"/git/github%E4%B8%8A%E4%BC%A0%E6%9C%AC%E5%9C%B0%E9%A1%B9%E7%9B%AE.html\">github\\xe4\\xb8\\x8a\\xe4\\xbc\\xa0\\xe6\\x9c\\xac\\xe5\\x9c\\xb0\\xe9\\xa1\\xb9\\xe7\\x9b\\xae</a></span></th>\\n\\t\\t\\t\\t<th><i class=\"icon fa-calendar\"></i><a href=\"javascript:void(0)\"> 2016-08-16</a></th>\\n\\t\\t\\t\\t<th><a href=\"/showCategory.html?cat=git\">git</a></th>\\n\\t\\t\\t</tr>\\n\\t\\t\\t\\n\\t\\t\\t\\n\\t\\t\\t\\n\\t\\t\\t\\n\\t\\t\\t\\n\\t\\t\\t<tr>\\n\\t\\t\\t\\t<th><span class=\"topicc text-overflow\"><a href=\"/matlab/matlab%E6%89%B9%E9%87%8F%E7%81%B0%E8%89%B2%E9%A2%84%E6%B5%8B.html\">matlab\\xe6\\x89\\xb9\\xe9\\x87\\x8f\\xe7\\x81\\xb0\\xe8\\x89\\xb2\\xe9\\xa2\\x84\\xe6\\xb5\\x8b</a></span></th>\\n\\t\\t\\t\\t<th><i class=\"icon fa-calendar\"></i><a href=\"javascript:void(0)\"> 2016-08-15</a></th>\\n\\t\\t\\t\\t<th><a href=\"/showCategory.html?cat=matlab\">matlab</a></th>\\n\\t\\t\\t</tr>\\n\\t\\t\\t\\n\\t\\t\\t\\n\\t\\t\\t\\n\\t\\t\\t\\n\\t\\t\\t\\n\\t\\t\\t<tr>\\n\\t\\t\\t\\t<th><span class=\"topicc text-overflow\"><a href=\"/mysql/mysql%E5%A4%8D%E4%B9%A0.html\">mysql\\xe5\\xa4\\x8d\\xe4\\xb9\\xa0</a></span></th>\\n\\t\\t\\t\\t<th><i class=\"icon fa-calendar\"></i><a href=\"javascript:void(0)\"> 2016-08-09</a></th>\\n\\t\\t\\t\\t<th><a href=\"/showCategory.html?cat=mysql\">mysql</a></th>\\n\\t\\t\\t</tr>\\n\\t\\t\\t\\n\\t\\t\\t\\n\\t\\t\\t\\n\\t\\t\\t\\n\\t\\t\\t\\n\\t\\t\\t<tr>\\n\\t\\t\\t\\t<th><span class=\"topicc text-overflow\"><a href=\"/html/css%E5%88%9D%E5%AD%A6.html\">css\\xe5\\x88\\x9d\\xe5\\xad\\xa6</a></span></th>\\n\\t\\t\\t\\t<th><i class=\"icon fa-calendar\"></i><a href=\"javascript:void(0)\"> 2016-08-06</a></th>\\n\\t\\t\\t\\t<th><a href=\"/showCategory.html?cat=html\">html</a></th>\\n\\t\\t\\t</tr>\\n\\t\\t\\t\\n\\t\\t\\t\\n\\t\\t\\t\\n\\t\\t\\t\\n\\t\\t\\t\\n\\t\\t\\t<tr>\\n\\t\\t\\t\\t<th><span class=\"topicc text-overflow\"><a href=\"/html/html%E5%88%9D%E5%AD%A6-%E4%B8%89.html\">html\\xe5\\x88\\x9d\\xe5\\xad\\xa6\\xef\\xbc\\x88\\xe4\\xb8\\x89\\xef\\xbc\\x89</a></span></th>\\n\\t\\t\\t\\t<th><i class=\"icon fa-calendar\"></i><a href=\"javascript:void(0)\"> 2016-08-02</a></th>\\n\\t\\t\\t\\t<th><a href=\"/showCategory.html?cat=html\">html</a></th>\\n\\t\\t\\t</tr>\\n\\t\\t\\t\\n\\t\\t\\t\\n\\t\\t\\t\\n\\t\\t\\t\\n\\t\\t\\t\\n\\t\\t\\t<tr>\\n\\t\\t\\t\\t<th><span class=\"topicc text-overflow\"><a href=\"/html/html%E5%88%9D%E5%AD%A6-%E4%BA%8C.html\">html\\xe5\\x88\\x9d\\xe5\\xad\\xa6\\xef\\xbc\\x88\\xe4\\xba\\x8c\\xef\\xbc\\x89</a></span></th>\\n\\t\\t\\t\\t<th><i class=\"icon fa-calendar\"></i><a href=\"javascript:void(0)\"> 2016-08-01</a></th>\\n\\t\\t\\t\\t<th><a href=\"/showCategory.html?cat=html\">html</a></th>\\n\\t\\t\\t</tr>\\n\\t\\t\\t\\n\\t\\t\\t\\n\\t\\t\\t\\n\\t\\t\\t\\n\\t\\t\\t\\n\\t\\t\\t<tr>\\n\\t\\t\\t\\t<th><span class=\"topicc text-overflow\"><a href=\"/html/html%E5%88%9D%E5%AD%A6-%E4%B8%80.html\">html\\xe5\\x88\\x9d\\xe5\\xad\\xa6\\xef\\xbc\\x88\\xe4\\xb8\\x80\\xef\\xbc\\x89</a></span></th>\\n\\t\\t\\t\\t<th><i class=\"icon fa-calendar\"></i><a href=\"javascript:void(0)\"> 2016-08-01</a></th>\\n\\t\\t\\t\\t<th><a href=\"/showCategory.html?cat=html\">html</a></th>\\n\\t\\t\\t</tr>\\n\\t\\t\\t\\n\\t\\t\\t\\n\\t\\t\\t\\n\\t\\t\\t\\n\\t\\t\\t\\n\\t\\t\\t<tr>\\n\\t\\t\\t\\t<th><span class=\"topicc text-overflow\"><a href=\"/dataanalysis/EDM%E8%90%A5%E9%94%80%E7%AE%97%E6%B3%95.html\">EDM\\xe8\\x90\\xa5\\xe9\\x94\\x80\\xe7\\xae\\x97\\xe6\\xb3\\x95</a></span></th>\\n\\t\\t\\t\\t<th><i class=\"icon fa-calendar\"></i><a href=\"javascript:void(0)\"> 2016-07-25</a></th>\\n\\t\\t\\t\\t<th><a href=\"/showCategory.html?cat=dataanalysis\">dataanalysis</a></th>\\n\\t\\t\\t</tr>\\n\\t\\t\\t\\n\\t\\t\\t\\n\\t\\t\\t\\n\\t\\t\\t\\n\\t\\t\\t\\n\\t\\t\\t<tr>\\n\\t\\t\\t\\t<th><span class=\"topicc text-overflow\"><a href=\"/dataanalysis/python%E6%89%B9%E9%87%8F%E5%88%B6%E4%BD%9C%E9%9B%B7%E8%BE%BE%E5%9B%BE.html\">python\\xe6\\x89\\xb9\\xe9\\x87\\x8f\\xe5\\x88\\xb6\\xe4\\xbd\\x9c\\xe9\\x9b\\xb7\\xe8\\xbe\\xbe\\xe5\\x9b\\xbe</a></span></th>\\n\\t\\t\\t\\t<th><i class=\"icon fa-calendar\"></i><a href=\"javascript:void(0)\"> 2016-07-25</a></th>\\n\\t\\t\\t\\t<th><a href=\"/showCategory.html?cat=dataanalysis\">dataanalysis</a></th>\\n\\t\\t\\t</tr>\\n\\t\\t\\t\\n\\t\\t\\t\\n\\t\\t\\t\\n\\t\\t\\t\\n\\t\\t\\t\\n\\t\\t\\t<tr>\\n\\t\\t\\t\\t<th><span class=\"topicc text-overflow\"><a href=\"/markdown/markdown%E5%88%9D%E5%AD%A6.html\">markdown\\xe5\\x88\\x9d\\xe5\\xad\\xa6</a></span></th>\\n\\t\\t\\t\\t<th><i class=\"icon fa-calendar\"></i><a href=\"javascript:void(0)\"> 2016-07-23</a></th>\\n\\t\\t\\t\\t<th><a href=\"/showCategory.html?cat=markdown\">markdown</a></th>\\n\\t\\t\\t</tr>\\n\\t\\t\\t\\n\\t\\t\\t\\n\\t\\t\\t\\n\\t\\t\\t\\n\\t\\t\\t\\n\\t\\t\\t\\n\\t\\t\\t\\n\\t\\t\\t\\n\\t\\t\\t\\n\\t\\t\\t\\n\\t\\t\\t\\n\\t\\t\\t\\n\\t\\t\\t\\n\\t\\t\\t\\n\\t\\t\\t\\n\\t\\t\\t\\n\\t\\t\\t\\n\\t\\t\\t\\n\\t\\t\\t\\n\\t\\t\\t\\n\\t\\t\\t\\n\\t\\t\\t\\n\\t\\t\\t\\n\\t\\t\\t\\n\\t\\t\\t\\n\\t\\t\\t\\n\\t\\t\\t\\n\\t\\t\\t\\n\\t\\t\\t\\n\\t\\t\\t\\n\\t\\t\\t\\n\\t\\t\\t\\n\\t\\t\\t\\n\\t\\t\\t\\n\\t\\t\\t\\n\\t\\t\\t\\n\\t\\t\\t\\n\\t\\t\\t\\n\\t\\t\\t\\n\\t\\t\\t\\n\\t\\t\\t\\n\\t\\t\\t\\n\\t\\t\\t\\n\\t\\t\\t\\n\\t\\t\\t\\n\\t\\t\\t\\n\\t\\t\\t\\n\\t\\t\\t\\n\\t\\t\\t\\n\\t\\t\\t\\n\\t\\t\\t\\n\\t\\t\\t\\n\\t\\t\\t\\n\\t\\t\\t\\n\\t\\t\\t\\n\\t\\t\\t\\n\\t\\t\\t\\n\\t\\t\\t\\n\\t\\t\\t\\n\\t\\t\\t\\n\\t\\t\\t\\n\\t\\t\\t\\n\\t\\t\\t\\n\\t\\t\\t</tbody>\\n\\t\\t</table>\\n\\t</div>\\n\\n</div>\\n\\n<style>\\n\\t\\n.topicc {\\n    background: url(/static/jpg/wenzhang.gif) no-repeat left center;\\n\\tpadding-left: 20px;\\n\\tmargin: 0 10px 0 0;\\n\\t}\\n</style>\\n\\n    \\n<a class=\"gototop\" title=\"\\xe8\\xbf\\x94\\xe5\\x9b\\x9e\\xe9\\xa1\\xb6\\xe9\\x83\\xa8\" target=\"_self\" href=\"javascript:void(0)\"></a>\\n<div style=\"background: url(\\'/static/jpg/suche_bg.jpg\\') repeat scroll 0 0 rgba(0, 0, 0, 0);border-top: 3px solid #a166ab;box-shadow:0 10px 10px 0 rgba(0, 0, 0, 0.15);margin-top: 20px\">\\n\\t<div class=\"container col-xs-12 col-sm-12 col-md-12\">\\n\\t\\t<div class=\"col-xs-3 col-sm-3 col-md-3\">\\n\\t\\t\\t<div id=\"footer\" class=\"text-muted\" style=\"clear:both;\">\\n\\t\\t\\t\\t<h2 style=\"font-family: Times New Roman;\">Fork me on Github</h2>\\n\\t\\t\\t\\t<a class=\"btn_orange\" title=\"Fork me on Github\" href=\"https://github.com/TTyb/TTyb.github.io\">Fork TTyb</a>\\n\\t\\t\\t</div>\\n\\t\\t</div>\\n\\t\\t<div class=\"col-xs-3 col-sm-3 col-md-3\">\\n\\t\\t\\t<div id=\"footer\" class=\"text-muted\">\\n\\t\\t\\t\\t<img src=\"/static/jpg/5996148-20171109092302138-1808466605.png\" alt=\"\"/>\\t\\t\\n\\t\\t\\t\\t<hr style=\"height:1px;border:none;border-top:1px dashed ;margin:20px 0 5px 0;\"/>\\n\\t\\t\\t\\t<ul class=\"icons text-muted\">\\n\\t\\t\\t\\t\\t<li><a href=\"/contact\" class=\"icon fa-weixin\" style=\"text-decoration: none;\"><span class=\"label\">QQ</span></a></li>\\n\\t\\t\\t\\t\\t<li><a href=\"https://github.com/TTyb\" class=\"icon fa-github fa-6\" style=\"text-decoration: none;\"><span class=\"label\">Github</span></a></li>\\n\\t\\t\\t\\t\\t<li><a href=\"mailto:420439007@qq.com\" class=\"icon fa-envelope fa-3\" style=\"text-decoration: none;\"><span class=\"label\">420439007@qq.com</span></a></li>\\n\\t\\t\\t\\t\\t<li><a href=\"http://www.cnblogs.com/TTyb\" class=\"icon fa-heart fa-3\" style=\"text-decoration: none;\"><span class=\"label\">TTyb</span></a></li>\\n\\t\\t\\t\\t\\t<li><a href=\"/cloud\" class=\"icon fa-cloud fa-3\" style=\"text-decoration: none;\"><span class=\"label\">\\xe4\\xba\\x91\\xe4\\xb8\\x96\\xe7\\x95\\x8c</span></a></li>\\n\\t\\t\\t\\t\\t<li><a href=\"/feed.xml\" class=\"icon fa-rss fa-3\" style=\"text-decoration: none;\"><span class=\"label\">RSS</span></a></li>\\n\\t\\t\\t\\t</ul>\\n\\n\\t\\t\\t</div>\\n\\t\\t</div>\\n\\t\\t<div class=\"col-xs-3 col-sm-3 col-md-3\">\\n\\t\\t\\t<div id=\"footer\" class=\"text-muted\">\\n\\t\\t\\t\\t<h3 style=\"font-size: 1.2em;font-family: KaiTi;\">\\xe6\\x97\\xa0\\xe8\\x81\\x8a\\xe5\\xb0\\xb1\\xe6\\x83\\xb3\\xe6\\x89\\x93\\xe7\\xa0\\x81 \\xe6\\x89\\x93\\xe7\\xa0\\x81\\xe4\\xbd\\xbf\\xe6\\x88\\x91\\xe5\\xbf\\xab\\xe4\\xb9\\x90</h3>\\n\\t\\t\\t\\t<div style=\"font-size: 1.2em;font-family: KaiTi;\">\\n\\t\\t\\t\\t\\t\\xe4\\xb8\\x8d\\xe7\\x94\\xa8\\xe5\\xa4\\x9a\\xe4\\xb9\\x85<br/>\\n\\t\\t\\t\\t\\t\\xe6\\x88\\x91\\xe5\\xb0\\xb1\\xe4\\xbc\\x9a\\xe5\\x8d\\x87\\xe8\\x81\\x8c\\xe5\\x8a\\xa0\\xe8\\x96\\xaa<br/>\\n\\t\\t\\t\\t\\t\\xe5\\xbd\\x93\\xe4\\xb8\\x8a\\xe6\\x80\\xbb\\xe7\\xbb\\x8f\\xe7\\x90\\x86<br/>\\n\\t\\t\\t\\t\\t\\xe5\\x87\\xba\\xe4\\xbb\\xbbCEO<br/>\\n\\t\\t\\t\\t\\t\\xe8\\xbf\\x8e\\xe5\\xa8\\xb6\\xe7\\x99\\xbd\\xe5\\xaf\\x8c\\xe7\\xbe\\x8e<br/>\\n\\t\\t\\t\\t\\t\\xe8\\xb5\\xb0\\xe4\\xb8\\x8a\\xe4\\xba\\xba\\xe7\\x94\\x9f\\xe5\\xb7\\x85\\xe5\\xb3\\xb0\\n\\t\\t\\t\\t</div>\\n\\t\\t\\t</div>\\n\\t\\t</div>\\n\\t\\t<div class=\"col-xs-3 col-sm-3 col-md-3\">\\n\\t\\t\\t<div id=\"footer\" class=\"text-muted\">\\n\\t\\t\\t\\t<h3 style=\"font-size: 1.2em;font-family: KaiTi;color: #FFFFFF\">\\xe7\\xbd\\x91\\xe7\\xab\\x99\\xe5\\xaf\\xbc\\xe8\\x88\\xaa</h3>\\n\\t\\t\\t\\t<div style=\"font-size: 1.2em;font-family: KaiTi;text-decoration: none;\">\\n\\t\\t\\t\\t<ul class=\"list-inline\">\\n\\t\\t\\t\\t\\t<li><a style=\"text-decoration: none;\" href=\"/\">\\xe7\\xbd\\x91\\xe7\\xab\\x99\\xe9\\xa6\\x96\\xe9\\xa1\\xb5</a></li>\\n\\t\\t\\t\\t\\t<li><a style=\"text-decoration: none;\" href=\"/topic\">\\xe6\\x96\\x87\\xe7\\xab\\xa0\\xe9\\x9a\\x8f\\xe7\\xac\\x94</a></li>\\n\\t\\t\\t\\t</ul>\\n\\t\\t\\t\\t<ul class=\"list-inline\">\\n\\t\\t\\t\\t\\t<li><a style=\"text-decoration: none;\" href=\"/category\">\\xe5\\x88\\x86\\xe7\\xb1\\xbb\\xe6\\xa0\\x87\\xe7\\xad\\xbe</a></li>\\n\\t\\t\\t\\t\\t<li><a style=\"text-decoration: none;\" href=\"/logs/log\">\\xe4\\xbf\\xae\\xe8\\xae\\xa2\\xe6\\x97\\xa5\\xe5\\xbf\\x97</a></li>\\n\\t\\t\\t\\t</ul>\\n\\t\\t\\t\\t<ul class=\"list-inline\">\\n\\t\\t\\t\\t\\t<li><a style=\"text-decoration: none;\" href=\"/crawlerfirst/_\\xe7\\x88\\xac\\xe8\\x99\\xab\\xe6\\x95\\x99\\xe7\\xa8\\x8b.html\">\\xe7\\x88\\xac\\xe8\\x99\\xab\\xe6\\x95\\x99\\xe7\\xa8\\x8b</a></li>\\n\\t\\t\\t\\t\\t<li><a style=\"text-decoration: none;\" href=\"/gitblogfirst/_\\xe5\\xbb\\xba\\xe7\\xab\\x99\\xe6\\x95\\x99\\xe7\\xa8\\x8b.html\">\\xe5\\xbb\\xba\\xe7\\xab\\x99\\xe6\\x95\\x99\\xe7\\xa8\\x8b</a></li>\\n\\t\\t\\t\\t</ul>\\n\\t\\t\\t\\t<ul class=\"list-inline\">\\n\\t\\t\\t\\t\\t<li><a style=\"text-decoration: none;\" href=\"/guestbook\">\\xe6\\xb8\\xb8\\xe5\\xae\\xa2\\xe7\\x95\\x99\\xe8\\xa8\\x80</a></li>\\n\\t\\t\\t\\t\\t<li><a style=\"text-decoration: none;\" href=\"/openSourceProject\">\\xe5\\xbc\\x80\\xe6\\xba\\x90\\xe9\\xa1\\xb9\\xe7\\x9b\\xae</a></li>\\n\\t\\t\\t\\t</ul>\\t\\t\\t\\t\\n\\t\\t\\t\\t</div>\\n\\t\\t\\t</div>\\n\\t\\t</div>\\n\\t</div>\\n\\t\\n\\t<div class=\"divider-demo\"></div>\\n\\t\\n\\t<footer id=\"footer\">\\n\\t\\t<p class=\"copyright text-muted\" style=\"padding: 0px; margin-bottom: 0px;\">Copyright &copy; 2017-2018 by <a href=\"http://www.tybai.com/\">TTyb</a>. All rights Reserved. <a href=\"http://www.miitbeian.gov.cn/\" target=\"_blank\">\\xe7\\xb2\\xa4ICP\\xe5\\xa4\\x8717055432\\xe5\\x8f\\xb7-1</a></br>\\n\\t\\tPowered by <a href=\"https://jekyllrb.com/\">Jekyll</a>, Hosted by <a href=\"https://github.com/\">Github</a>&nbsp;|&nbsp;<span id=\"busuanzi_container_site_pv\"><i class=\"fa fa-eye\"></i>&nbsp;<span id=\"busuanzi_value_site_pv\"></span></span><span id=\"busuanzi_container_site_uv\"></span>&nbsp;|&nbsp;<i class=\"fa fa-user\"></i>&nbsp;<span id=\"busuanzi_value_site_uv\"></span></br>\\n\\t\\t<!-- \\xe7\\xab\\x99\\xe9\\x95\\xbf\\xe7\\xbb\\x9f\\xe8\\xae\\xa1 -->\\n\\t\\t<script type=\"text/javascript\">var cnzz_protocol = ((\"https:\" == document.location.protocol) ? \" https://\" : \" http://\");document.write(unescape(\"%3Cspan id=\\'cnzz_stat_icon_1261864966\\'%3E%3C/span%3E%3Cscript src=\\'\" + cnzz_protocol + \"s4.cnzz.com/z_stat.php%3Fid%3D1261864966%26online%3D1%26show%3Dline\\' type=\\'text/javascript\\'%3E%3C/script%3E\"));</script></p>\\n\\n\\t</footer>\\n<div>\\n\\n<script type=\"text/javascript\" src=\"/static/js/jquery.gototop.min.js\"></script>\\n<script type=\"text/javascript\">\\n    $(function(){\\n            // $(\".gototop\").gototop();\\n            $(\".gototop\").gototop({\\n                position : 0,\\n                duration : 1250,\\n                visibleAt : 300,\\n                classname : \"isvisible\"\\n            });\\n        });\\n</script>\\n\\n<style>\\n.divider-demo {\\n    background: url(\"/static/jpg/divider_line.png\") no-repeat scroll center bottom rgba(0, 0, 0, 0);\\n    clear: both;\\n    display: block;\\n    margin-bottom: -20px;\\n    padding-top: 38px;\\n    width: 100%;\\n}\\n@font-face {\\n\\tfont-family: Alex Brush;\\n\\tsrc: url(\"/static/fonts/Alex Brush.ttf\");\\n}\\na.btn_orange {\\n    border: 3px solid #cccccc;\\n    border-radius: 2px;\\n    box-shadow: 0 0 2px #666;\\n    display: inline-block;\\n    font-size: 14px;\\n    margin: 10px 0 10px 3px;\\n    padding: 10px 15px;\\n    text-shadow: 1px 1px 1px #000;\\n\\tcolor: #999;\\n    cursor: pointer;\\n    line-height: inherit;\\n    text-decoration: none;\\n\\tfont-family: Times New Roman;\\n}\\n</style>\\n\\n\\n</body>\\n\\n</html>\\n'"
      ]
     },
     "execution_count": 203,
     "metadata": {},
     "output_type": "execute_result"
    }
   ],
   "source": [
    "html_byte = urlopen(url).read()\n",
    "html_byte"
   ]
  },
  {
   "cell_type": "code",
   "execution_count": 204,
   "metadata": {},
   "outputs": [
    {
     "data": {
      "text/plain": [
       "'<!DOCTYPE html>\\n<html>\\n\\n<head>\\n    <link rel=\"shortcut icon\" href=\"/static/jpg/myjpg.jpg\"/>\\n    <meta http-equiv=\"Content-Type\" content=\"text/html; charset=utf-8\">\\n\\n    <!-- Stylesheets -->\\n    <link href=\"/static/css/bootstrap.min.css\" rel=\"stylesheet\"/>\\n    <link href=\"/static/css/font-awesome.min.css\" rel=\"stylesheet\"/>\\n\\t<link href=\"/static/css/styles.css\" rel=\"stylesheet\"/>\\n\\t<link href=\"/static/css/rouge.css\" rel=\"stylesheet\"/>\\n\\n    <script type=\"text/javascript\" src=\"/static/js/jquery.min.js\"></script>\\n    <script type=\"text/javascript\" src=\"/static/js/bootstrap.min.js\"></script>\\n    <script type=\"text/javascript\" src=\"/static/js/busuanzi23.pure.mini.js\"></script>\\n    <script type=\"text/javascript\" src=\"/static/js/jquery.backstretch.min.js\"></script>\\n\\t\\n\\t<script async src=\"//pagead2.googlesyndication.com/pagead/js/adsbygoogle.js\"></script>\\n\\t<script>\\n\\t  (adsbygoogle = window.adsbygoogle || []).push({\\n\\t\\tgoogle_ad_client: \"ca-pub-6984407547673505\",\\n\\t\\tenable_page_level_ads: true\\n\\t  });\\n\\t</script>\\n\\n    <title>百哥么么哒|个人网站</title>\\n\\n</head>\\n\\n\\n<body>\\n\\t<!--<script type=\"text/javascript\">$.backstretch(\\'https://bing.ioliu.cn/v1?d=0&1920x1200\\');</script>-->\\n\\t<script type=\"text/javascript\">$.backstretch(\\'/static/jpg/v1.jpg\\');</script>\\n    <div class=\"navbar navbar-default navbar-fixed-top\" style=\"background-color:rgba(255, 255, 255, 0.75);box-shadow:0 10px 10px 0 rgba(0, 0, 0, 0.15)\">\\n    <div class=\"container\">\\n        <div class=\"navbar-header\">\\n            <a type=\"button\" class=\"navbar-toggle\" data-toggle = \"collapse\"  data-target = \"#target-menu\">\\n                <span class=\"icon-bar\"></span>\\n                <span class=\"icon-bar\"></span>\\n                <span class=\"icon-bar\"></span>\\n            </a>\\n            <a class=\"navbar-brand brand\" href=\"/\">TTyb|个人网站</a>\\n        </div>\\n        <div style=\"font-family: serif;text-decoration: none;\" class=\"collapse navbar-collapse navbar-responsive-collapse\" id = \"target-menu\">\\n            <ul style=\"margin: 0 0 0;\">\\n\\t\\t\\t\\t<ul class=\"nav navbar-nav pull-right\" style=\"margin: 0 0 0;\">\\n\\t\\t\\t\\t\\t<li>\\n\\t\\t\\t\\t\\t\\t<a data-toggle=\"dropdown\" class=\"dropdown-toggle navbar-brand\" href=\"javascript:void(0)\">友情链接\\n\\t\\t\\t\\t\\t\\t<strong class=\"caret\" style=\"margin-left: -5px;\"></strong></a>\\n\\t\\t\\t\\t\\t\\t<ul class=\"dropdown-menu container-fluid\" style=\"border-radius: 6px 6px 6px 6px;\">\\n\\t\\t\\t\\t\\t\\t\\t<li><a href=\"http://www.cnblogs.com/TTyb\">博客园</a></li>\\n\\t\\t\\t\\t\\t\\t\\t<li><a href=\"https://github.com/TTyb\">Github</a></li>\\n\\t\\t\\t\\t\\t\\t\\t<li><a href=\"http://blog.lenggirl.com/\">搬砖的陈大师</a></li>\\n\\t\\t\\t\\t\\t\\t\\t<li><a href=\"http://www.twistedwg.com/\">TwistedW的小屋</a></li>\\n\\t\\t\\t\\t\\t\\t</ul>\\n\\t\\t\\t\\t\\t</li>\\n\\t\\t\\t\\t</ul>\\n\\t\\t\\t\\t<ul class=\"nav navbar-nav\" style=\"margin: 0 0 0;\">\\n\\t\\t\\t\\t\\t<li><a class=\"navbar-brand\" href=\"/topic\">文章随笔</a></li>\\n\\t\\t\\t\\t\\t<li><a class=\"navbar-brand\" href=\"/category\">分类标签</a></li>\\n\\t\\t\\t\\t\\t<li><a class=\"navbar-brand\" href=\"/logs/log\">修订日志</a></li>\\n\\t\\t\\t\\t\\t<li><a class=\"navbar-brand\" href=\"/guestbook\">游客留言</a></li>\\t\\t\\t\\t\\n\\t\\t\\t\\t\\t\\n\\t\\t\\t\\t\\t<li>\\n\\t\\t\\t\\t\\t\\t<a style=\"background: url(\\'/static/jpg/hotimg.png\\') no-repeat right top\" class=\"navbar-brand\" href=\"/crawlerfirst/_%E7%88%AC%E8%99%AB%E6%95%99%E7%A8%8B.html\">爬虫教程</a> \\n\\t\\t\\t\\t\\t</li>\\n\\t\\t\\t\\t\\t\\n\\t\\t\\t\\t\\t\\n\\t\\t\\t\\t\\t<li>\\n\\t\\t\\t\\t\\t\\t<a style=\"background: url(\\'/static/jpg/newimg.png\\') no-repeat right top\" class=\"navbar-brand\" href=\"/gitblogfirst/_%E5%BB%BA%E7%AB%99%E6%95%99%E7%A8%8B.html\">建站教程</a>\\n\\t\\t\\t\\t\\t</li>\\n\\t\\t\\t\\t\\t\\n\\t\\t\\t\\t\\t<li><a class=\"navbar-brand\" href=\"/openSourceProject\">开源项目</a></li>\\n\\t\\t\\t\\t</ul>\\n\\t\\t\\t\\t\\n            </ul>\\n        </div>\\n    </div>\\n</div>\\n\\n        <div class=\"container\">\\n\\t<h1 style=\"background-image:linear-gradient(90deg, #f79533 0px, #f37055 15%, #ef4e7b 30%, #a166ab 44%, #5073b8 58%, #1098ad 72%, #07b39b 86%, #6dba82 100%);border-radius: 4px;color: #fff\">\\n\\t\\t分类列表\\n\\t</h1>\\n\\t<div class=\"col-xs-3 col-sm-3 col-md-2\" style=\"border-right: 1px solid #ddd;border-radius: 4px;\">\\n\\t\\t<ul class=\"list-group\">\\n\\t\\t\\t\\n\\t\\t\\t\\n\\t\\t\\t\\n\\t\\t\\t\\n\\t\\t\\t\\n\\t\\t\\t\\n\\t\\t\\t\\n\\t\\t\\t\\n\\t\\t\\t\\n\\t\\t\\t\\n\\t\\t\\t\\n\\t\\t\\t\\n\\t\\t\\t\\n\\t\\t\\t\\n\\t\\t\\t<a href=\"/showCategory.html?cat=markdown\" class=\"list-group-item\">\\n\\t\\t\\t\\tmarkdown\\n\\t\\t\\t\\t<span class=\"badge\" style=\"background-color: #FF8C00\">1</span>\\n\\t\\t\\t</a>\\n\\t\\t\\t\\n\\t\\t\\t\\n\\t\\t\\t\\n\\t\\t\\t<a href=\"/showCategory.html?cat=dataanalysis\" class=\"list-group-item\">\\n\\t\\t\\t\\tdataanalysis\\n\\t\\t\\t\\t<span class=\"badge\" style=\"background-color: #FF8C00\">2</span>\\n\\t\\t\\t</a>\\n\\t\\t\\t\\n\\t\\t\\t\\n\\t\\t\\t\\n\\t\\t\\t<a href=\"/showCategory.html?cat=html\" class=\"list-group-item\">\\n\\t\\t\\t\\thtml\\n\\t\\t\\t\\t<span class=\"badge\" style=\"background-color: #FF8C00\">8</span>\\n\\t\\t\\t</a>\\n\\t\\t\\t\\n\\t\\t\\t\\n\\t\\t\\t\\n\\t\\t\\t<a href=\"/showCategory.html?cat=mysql\" class=\"list-group-item\">\\n\\t\\t\\t\\tmysql\\n\\t\\t\\t\\t<span class=\"badge\" style=\"background-color: #FF8C00\">1</span>\\n\\t\\t\\t</a>\\n\\t\\t\\t\\n\\t\\t\\t\\n\\t\\t\\t\\n\\t\\t\\t<a href=\"/showCategory.html?cat=matlab\" class=\"list-group-item\">\\n\\t\\t\\t\\tmatlab\\n\\t\\t\\t\\t<span class=\"badge\" style=\"background-color: #FF8C00\">1</span>\\n\\t\\t\\t</a>\\n\\t\\t\\t\\n\\t\\t\\t\\n\\t\\t\\t\\n\\t\\t\\t<a href=\"/showCategory.html?cat=git\" class=\"list-group-item\">\\n\\t\\t\\t\\tgit\\n\\t\\t\\t\\t<span class=\"badge\" style=\"background-color: #FF8C00\">6</span>\\n\\t\\t\\t</a>\\n\\t\\t\\t\\n\\t\\t\\t\\n\\t\\t\\t\\n\\t\\t\\t<a href=\"/showCategory.html?cat=java\" class=\"list-group-item\">\\n\\t\\t\\t\\tjava\\n\\t\\t\\t\\t<span class=\"badge\" style=\"background-color: #FF8C00\">1</span>\\n\\t\\t\\t</a>\\n\\t\\t\\t\\n\\t\\t\\t\\n\\t\\t\\t\\n\\t\\t\\t<a href=\"/showCategory.html?cat=python\" class=\"list-group-item\">\\n\\t\\t\\t\\tpython\\n\\t\\t\\t\\t<span class=\"badge\" style=\"background-color: #FF8C00\">41</span>\\n\\t\\t\\t</a>\\n\\t\\t\\t\\n\\t\\t\\t\\n\\t\\t\\t\\n\\t\\t\\t<a href=\"/showCategory.html?cat=selenium\" class=\"list-group-item\">\\n\\t\\t\\t\\tselenium\\n\\t\\t\\t\\t<span class=\"badge\" style=\"background-color: #FF8C00\">9</span>\\n\\t\\t\\t</a>\\n\\t\\t\\t\\n\\t\\t\\t\\n\\t\\t\\t\\n\\t\\t\\t<a href=\"/showCategory.html?cat=IDE\" class=\"list-group-item\">\\n\\t\\t\\t\\tIDE\\n\\t\\t\\t\\t<span class=\"badge\" style=\"background-color: #FF8C00\">2</span>\\n\\t\\t\\t</a>\\n\\t\\t\\t\\n\\t\\t\\t\\n\\t\\t\\t\\n\\t\\t\\t<a href=\"/showCategory.html?cat=golang\" class=\"list-group-item\">\\n\\t\\t\\t\\tgolang\\n\\t\\t\\t\\t<span class=\"badge\" style=\"background-color: #FF8C00\">1</span>\\n\\t\\t\\t</a>\\n\\t\\t\\t\\n\\t\\t\\t\\n\\t\\t\\t\\n\\t\\t\\t<a href=\"/showCategory.html?cat=javascript\" class=\"list-group-item\">\\n\\t\\t\\t\\tjavascript\\n\\t\\t\\t\\t<span class=\"badge\" style=\"background-color: #FF8C00\">2</span>\\n\\t\\t\\t</a>\\n\\t\\t\\t\\n\\t\\t\\t\\n\\t\\t\\t\\n\\t\\t\\t<a href=\"/showCategory.html?cat=ML\" class=\"list-group-item\">\\n\\t\\t\\t\\tML\\n\\t\\t\\t\\t<span class=\"badge\" style=\"background-color: #FF8C00\">10</span>\\n\\t\\t\\t</a>\\n\\t\\t\\t\\n\\t\\t\\t\\n\\t\\t\\t\\n\\t\\t\\t<a href=\"/showCategory.html?cat=wechat\" class=\"list-group-item\">\\n\\t\\t\\t\\twechat\\n\\t\\t\\t\\t<span class=\"badge\" style=\"background-color: #FF8C00\">1</span>\\n\\t\\t\\t</a>\\n\\t\\t\\t\\n\\t\\t\\t\\n\\t\\t\\t\\n\\t\\t\\t<a href=\"/showCategory.html?cat=Linux\" class=\"list-group-item\">\\n\\t\\t\\t\\tLinux\\n\\t\\t\\t\\t<span class=\"badge\" style=\"background-color: #FF8C00\">12</span>\\n\\t\\t\\t</a>\\n\\t\\t\\t\\n\\t\\t\\t\\n\\t\\t\\t\\n\\t\\t\\t<a href=\"/showCategory.html?cat=hadoop\" class=\"list-group-item\">\\n\\t\\t\\t\\thadoop\\n\\t\\t\\t\\t<span class=\"badge\" style=\"background-color: #FF8C00\">3</span>\\n\\t\\t\\t</a>\\n\\t\\t\\t\\n\\t\\t\\t\\n\\t\\t\\t\\n\\t\\t\\t<a href=\"/showCategory.html?cat=pythontools\" class=\"list-group-item\">\\n\\t\\t\\t\\tpythontools\\n\\t\\t\\t\\t<span class=\"badge\" style=\"background-color: #FF8C00\">7</span>\\n\\t\\t\\t</a>\\n\\t\\t\\t\\n\\t\\t\\t\\n\\t\\t\\t\\n\\t\\t\\t<a href=\"/showCategory.html?cat=scala\" class=\"list-group-item\">\\n\\t\\t\\t\\tscala\\n\\t\\t\\t\\t<span class=\"badge\" style=\"background-color: #FF8C00\">29</span>\\n\\t\\t\\t</a>\\n\\t\\t\\t\\n\\t\\t\\t\\n\\t\\t\\t\\n\\t\\t\\t<a href=\"/showCategory.html?cat=elasticsearch\" class=\"list-group-item\">\\n\\t\\t\\t\\telasticsearch\\n\\t\\t\\t\\t<span class=\"badge\" style=\"background-color: #FF8C00\">2</span>\\n\\t\\t\\t</a>\\n\\t\\t\\t\\n\\t\\t\\t\\n\\t\\t\\t\\n\\t\\t\\t<a href=\"/showCategory.html?cat=hive\" class=\"list-group-item\">\\n\\t\\t\\t\\thive\\n\\t\\t\\t\\t<span class=\"badge\" style=\"background-color: #FF8C00\">2</span>\\n\\t\\t\\t</a>\\n\\t\\t\\t\\n\\t\\t\\t\\n\\t\\t</ul>\\n\\t</div>\\n\\t<div class=\"col-xs-9 col-sm-9 col-md-10\" style=\"background-color: #f4f4f4;border-radius: 4px;\">\\n\\t\\t<table class=\"table table-striped\">\\n\\t\\t\\t<thead>\\n\\t\\t\\t<tr>\\n\\t\\t\\t\\t<th>文章标题</th>\\n\\t\\t\\t\\t<th>创建时间</th>\\n\\t\\t\\t\\t<th>文章标签</th>\\n\\t\\t\\t</tr>\\n\\t\\t\\t</thead>\\n\\t\\t\\t<tbody>\\n\\t\\t\\t\\n\\t\\t\\t\\n\\t\\t\\t\\n\\t\\t\\t<tr>\\n\\t\\t\\t\\t<th><span class=\"topicc text-overflow\"><a href=\"/python/pyspark%E5%88%97%E5%90%88%E5%B9%B6%E4%B8%BA%E4%B8%80%E8%A1%8C.html\">pyspark列合并为一行</a></span></th>\\n\\t\\t\\t\\t<th><i class=\"icon fa-calendar\"></i><a href=\"javascript:void(0)\"> 2018-12-29</a></th>\\n\\t\\t\\t\\t<th><a href=\"/showCategory.html?cat=python\">python</a></th>\\n\\t\\t\\t</tr>\\n\\t\\t\\t\\n\\t\\t\\t\\n\\t\\t\\t\\n\\t\\t\\t\\n\\t\\t\\t\\n\\t\\t\\t<tr>\\n\\t\\t\\t\\t<th><span class=\"topicc text-overflow\"><a href=\"/python/%E9%93%BE%E5%AE%B6%E4%BA%8C%E6%89%8B%E6%88%BF%E6%A5%BC%E7%9B%98%E7%88%AC%E8%99%AB.html\">链家二手房楼盘爬虫</a></span></th>\\n\\t\\t\\t\\t<th><i class=\"icon fa-calendar\"></i><a href=\"javascript:void(0)\"> 2018-12-21</a></th>\\n\\t\\t\\t\\t<th><a href=\"/showCategory.html?cat=python\">python</a></th>\\n\\t\\t\\t</tr>\\n\\t\\t\\t\\n\\t\\t\\t\\n\\t\\t\\t\\n\\t\\t\\t\\n\\t\\t\\t\\n\\t\\t\\t<tr>\\n\\t\\t\\t\\t<th><span class=\"topicc text-overflow\"><a href=\"/hive/hive%E6%96%B0%E5%BB%BA%E5%88%86%E5%8C%BA%E8%A1%A8.html\">hive新建分区表</a></span></th>\\n\\t\\t\\t\\t<th><i class=\"icon fa-calendar\"></i><a href=\"javascript:void(0)\"> 2018-12-14</a></th>\\n\\t\\t\\t\\t<th><a href=\"/showCategory.html?cat=hive\">hive</a></th>\\n\\t\\t\\t</tr>\\n\\t\\t\\t\\n\\t\\t\\t\\n\\t\\t\\t\\n\\t\\t\\t\\n\\t\\t\\t\\n\\t\\t\\t<tr>\\n\\t\\t\\t\\t<th><span class=\"topicc text-overflow\"><a href=\"/hive/hive%E5%88%A0%E9%99%A4%E8%A1%A8%E5%92%8C%E8%A1%A8%E4%B8%AD%E7%9A%84%E6%95%B0%E6%8D%AE.html\">hive删除表和表中的数据</a></span></th>\\n\\t\\t\\t\\t<th><i class=\"icon fa-calendar\"></i><a href=\"javascript:void(0)\"> 2018-12-14</a></th>\\n\\t\\t\\t\\t<th><a href=\"/showCategory.html?cat=hive\">hive</a></th>\\n\\t\\t\\t</tr>\\n\\t\\t\\t\\n\\t\\t\\t\\n\\t\\t\\t\\n\\t\\t\\t\\n\\t\\t\\t\\n\\t\\t\\t<tr>\\n\\t\\t\\t\\t<th><span class=\"topicc text-overflow\"><a href=\"/html/csdn%E9%98%85%E8%AF%BB%E6%9B%B4%E5%A4%9A%E9%9C%80%E8%A6%81%E6%B3%A8%E5%86%8C%E7%99%BB%E5%BD%95csdn.html\">csdn阅读更多需要注册登录csdn</a></span></th>\\n\\t\\t\\t\\t<th><i class=\"icon fa-calendar\"></i><a href=\"javascript:void(0)\"> 2018-12-04</a></th>\\n\\t\\t\\t\\t<th><a href=\"/showCategory.html?cat=html\">html</a></th>\\n\\t\\t\\t</tr>\\n\\t\\t\\t\\n\\t\\t\\t\\n\\t\\t\\t\\n\\t\\t\\t\\n\\t\\t\\t\\n\\t\\t\\t<tr>\\n\\t\\t\\t\\t<th><span class=\"topicc text-overflow\"><a href=\"/python/pandas%E5%92%8Cspark%E7%9A%84dataframe%E4%BA%92%E8%BD%AC-%E5%89%AF%E6%9C%AC.html\">pandas和spark的dataframe互转</a></span></th>\\n\\t\\t\\t\\t<th><i class=\"icon fa-calendar\"></i><a href=\"javascript:void(0)\"> 2018-11-21</a></th>\\n\\t\\t\\t\\t<th><a href=\"/showCategory.html?cat=python\">python</a></th>\\n\\t\\t\\t</tr>\\n\\t\\t\\t\\n\\t\\t\\t\\n\\t\\t\\t\\n\\t\\t\\t\\n\\t\\t\\t\\n\\t\\t\\t<tr>\\n\\t\\t\\t\\t<th><span class=\"topicc text-overflow\"><a href=\"/html/%E4%BB%A3%E7%A0%81%E8%BD%AC%E6%8D%A2%E4%B8%BAhtml%E6%98%BE%E7%A4%BA.html\">代码转换为html显示</a></span></th>\\n\\t\\t\\t\\t<th><i class=\"icon fa-calendar\"></i><a href=\"javascript:void(0)\"> 2018-11-06</a></th>\\n\\t\\t\\t\\t<th><a href=\"/showCategory.html?cat=html\">html</a></th>\\n\\t\\t\\t</tr>\\n\\t\\t\\t\\n\\t\\t\\t\\n\\t\\t\\t\\n\\t\\t\\t\\n\\t\\t\\t\\n\\t\\t\\t<tr>\\n\\t\\t\\t\\t<th><span class=\"topicc text-overflow\"><a href=\"/python/subprocess%E5%AE%9E%E6%97%B6%E8%8E%B7%E5%8F%96%E7%BB%93%E6%9E%9C%E5%92%8C%E6%8D%95%E8%8E%B7%E9%94%99%E8%AF%AF.html\">subprocess实时获取结果和捕获错误</a></span></th>\\n\\t\\t\\t\\t<th><i class=\"icon fa-calendar\"></i><a href=\"javascript:void(0)\"> 2018-11-01</a></th>\\n\\t\\t\\t\\t<th><a href=\"/showCategory.html?cat=python\">python</a></th>\\n\\t\\t\\t</tr>\\n\\t\\t\\t\\n\\t\\t\\t\\n\\t\\t\\t\\n\\t\\t\\t\\n\\t\\t\\t\\n\\t\\t\\t<tr>\\n\\t\\t\\t\\t<th><span class=\"topicc text-overflow\"><a href=\"/linux/ubuntu%E7%9A%84vim%E5%8F%96%E6%B6%88%E7%BC%A9%E8%BF%9B.html\">ubuntu的vim取消缩进</a></span></th>\\n\\t\\t\\t\\t<th><i class=\"icon fa-calendar\"></i><a href=\"javascript:void(0)\"> 2018-10-30</a></th>\\n\\t\\t\\t\\t<th><a href=\"/showCategory.html?cat=Linux\">Linux</a></th>\\n\\t\\t\\t</tr>\\n\\t\\t\\t\\n\\t\\t\\t\\n\\t\\t\\t\\n\\t\\t\\t\\n\\t\\t\\t\\n\\t\\t\\t<tr>\\n\\t\\t\\t\\t<th><span class=\"topicc text-overflow\"><a href=\"/python/python3%E7%9A%84socket%E4%BD%BF%E7%94%A8.html\">python3的socket使用</a></span></th>\\n\\t\\t\\t\\t<th><i class=\"icon fa-calendar\"></i><a href=\"javascript:void(0)\"> 2018-10-29</a></th>\\n\\t\\t\\t\\t<th><a href=\"/showCategory.html?cat=python\">python</a></th>\\n\\t\\t\\t</tr>\\n\\t\\t\\t\\n\\t\\t\\t\\n\\t\\t\\t\\n\\t\\t\\t\\n\\t\\t\\t\\n\\t\\t\\t<tr>\\n\\t\\t\\t\\t<th><span class=\"topicc text-overflow\"><a href=\"/linux/centos7%E5%BC%80%E6%94%BE%E7%AB%AF%E5%8F%A3%E5%92%8C%E9%98%B2%E7%81%AB%E5%A2%99%E8%AE%BE%E7%BD%AE.html\">centos7开放端口和防火墙设置</a></span></th>\\n\\t\\t\\t\\t<th><i class=\"icon fa-calendar\"></i><a href=\"javascript:void(0)\"> 2018-10-29</a></th>\\n\\t\\t\\t\\t<th><a href=\"/showCategory.html?cat=Linux\">Linux</a></th>\\n\\t\\t\\t</tr>\\n\\t\\t\\t\\n\\t\\t\\t\\n\\t\\t\\t\\n\\t\\t\\t\\n\\t\\t\\t\\n\\t\\t\\t<tr>\\n\\t\\t\\t\\t<th><span class=\"topicc text-overflow\"><a href=\"/python/python%E8%8E%B7%E5%8F%96set-cookies.html\">python获取set-cookies</a></span></th>\\n\\t\\t\\t\\t<th><i class=\"icon fa-calendar\"></i><a href=\"javascript:void(0)\"> 2018-10-28</a></th>\\n\\t\\t\\t\\t<th><a href=\"/showCategory.html?cat=python\">python</a></th>\\n\\t\\t\\t</tr>\\n\\t\\t\\t\\n\\t\\t\\t\\n\\t\\t\\t\\n\\t\\t\\t\\n\\t\\t\\t\\n\\t\\t\\t<tr>\\n\\t\\t\\t\\t<th><span class=\"topicc text-overflow\"><a href=\"/python/tensorflow%E4%BD%BF%E7%94%A8GPU.html\">TensorFlow使用GPU</a></span></th>\\n\\t\\t\\t\\t<th><i class=\"icon fa-calendar\"></i><a href=\"javascript:void(0)\"> 2018-09-29</a></th>\\n\\t\\t\\t\\t<th><a href=\"/showCategory.html?cat=python\">python</a></th>\\n\\t\\t\\t</tr>\\n\\t\\t\\t\\n\\t\\t\\t\\n\\t\\t\\t\\n\\t\\t\\t\\n\\t\\t\\t\\n\\t\\t\\t<tr>\\n\\t\\t\\t\\t<th><span class=\"topicc text-overflow\"><a href=\"/python/pandas%E7%9A%84apply%E6%93%8D%E4%BD%9C.html\">pandas的apply操作</a></span></th>\\n\\t\\t\\t\\t<th><i class=\"icon fa-calendar\"></i><a href=\"javascript:void(0)\"> 2018-09-21</a></th>\\n\\t\\t\\t\\t<th><a href=\"/showCategory.html?cat=python\">python</a></th>\\n\\t\\t\\t</tr>\\n\\t\\t\\t\\n\\t\\t\\t\\n\\t\\t\\t\\n\\t\\t\\t\\n\\t\\t\\t\\n\\t\\t\\t<tr>\\n\\t\\t\\t\\t<th><span class=\"topicc text-overflow\"><a href=\"/python/pandas%E5%88%97%E5%90%88%E5%B9%B6%E4%B8%BA%E4%B8%80%E8%A1%8C.html\">pandas列合并为一行</a></span></th>\\n\\t\\t\\t\\t<th><i class=\"icon fa-calendar\"></i><a href=\"javascript:void(0)\"> 2018-09-19</a></th>\\n\\t\\t\\t\\t<th><a href=\"/showCategory.html?cat=python\">python</a></th>\\n\\t\\t\\t</tr>\\n\\t\\t\\t\\n\\t\\t\\t\\n\\t\\t\\t\\n\\t\\t\\t\\n\\t\\t\\t\\n\\t\\t\\t<tr>\\n\\t\\t\\t\\t<th><span class=\"topicc text-overflow\"><a href=\"/python/python%E5%B0%86%E5%AD%97%E7%AC%A6%E4%B8%B2%E7%B1%BB%E5%9E%8Blist%E8%BD%AC%E6%8D%A2%E6%88%90list.html\">python将字符串类型list转换成list</a></span></th>\\n\\t\\t\\t\\t<th><i class=\"icon fa-calendar\"></i><a href=\"javascript:void(0)\"> 2018-09-14</a></th>\\n\\t\\t\\t\\t<th><a href=\"/showCategory.html?cat=python\">python</a></th>\\n\\t\\t\\t</tr>\\n\\t\\t\\t\\n\\t\\t\\t\\n\\t\\t\\t\\n\\t\\t\\t\\n\\t\\t\\t\\n\\t\\t\\t<tr>\\n\\t\\t\\t\\t<th><span class=\"topicc text-overflow\"><a href=\"/python/pandas%E6%93%8D%E4%BD%9C.html\">pandas操作</a></span></th>\\n\\t\\t\\t\\t<th><i class=\"icon fa-calendar\"></i><a href=\"javascript:void(0)\"> 2018-09-12</a></th>\\n\\t\\t\\t\\t<th><a href=\"/showCategory.html?cat=python\">python</a></th>\\n\\t\\t\\t</tr>\\n\\t\\t\\t\\n\\t\\t\\t\\n\\t\\t\\t\\n\\t\\t\\t\\n\\t\\t\\t\\n\\t\\t\\t<tr>\\n\\t\\t\\t\\t<th><span class=\"topicc text-overflow\"><a href=\"/python/numpy%E6%93%8D%E4%BD%9C.html\">numpy操作</a></span></th>\\n\\t\\t\\t\\t<th><i class=\"icon fa-calendar\"></i><a href=\"javascript:void(0)\"> 2018-09-10</a></th>\\n\\t\\t\\t\\t<th><a href=\"/showCategory.html?cat=python\">python</a></th>\\n\\t\\t\\t</tr>\\n\\t\\t\\t\\n\\t\\t\\t\\n\\t\\t\\t\\n\\t\\t\\t\\n\\t\\t\\t\\n\\t\\t\\t<tr>\\n\\t\\t\\t\\t<th><span class=\"topicc text-overflow\"><a href=\"/linux/Python3+Flask+uwsgi%E9%83%A8%E7%BD%B2.html\">Python3+Flask+uwsgi部署</a></span></th>\\n\\t\\t\\t\\t<th><i class=\"icon fa-calendar\"></i><a href=\"javascript:void(0)\"> 2018-08-29</a></th>\\n\\t\\t\\t\\t<th><a href=\"/showCategory.html?cat=Linux\">Linux</a></th>\\n\\t\\t\\t</tr>\\n\\t\\t\\t\\n\\t\\t\\t\\n\\t\\t\\t\\n\\t\\t\\t\\n\\t\\t\\t\\n\\t\\t\\t<tr>\\n\\t\\t\\t\\t<th><span class=\"topicc text-overflow\"><a href=\"/python/python%E5%B0%86%E6%95%B4%E6%95%B0%E5%9D%87%E5%88%86%E6%88%90N%E7%AD%89%E5%88%86.html\">python将整数均分成N等分</a></span></th>\\n\\t\\t\\t\\t<th><i class=\"icon fa-calendar\"></i><a href=\"javascript:void(0)\"> 2018-08-27</a></th>\\n\\t\\t\\t\\t<th><a href=\"/showCategory.html?cat=python\">python</a></th>\\n\\t\\t\\t</tr>\\n\\t\\t\\t\\n\\t\\t\\t\\n\\t\\t\\t\\n\\t\\t\\t\\n\\t\\t\\t\\n\\t\\t\\t<tr>\\n\\t\\t\\t\\t<th><span class=\"topicc text-overflow\"><a href=\"/python/Windows7%E4%B8%8B%E5%AE%89%E8%A3%85pyspark.html\">Windows7下安装pyspark</a></span></th>\\n\\t\\t\\t\\t<th><i class=\"icon fa-calendar\"></i><a href=\"javascript:void(0)\"> 2018-08-27</a></th>\\n\\t\\t\\t\\t<th><a href=\"/showCategory.html?cat=python\">python</a></th>\\n\\t\\t\\t</tr>\\n\\t\\t\\t\\n\\t\\t\\t\\n\\t\\t\\t\\n\\t\\t\\t\\n\\t\\t\\t\\n\\t\\t\\t<tr>\\n\\t\\t\\t\\t<th><span class=\"topicc text-overflow\"><a href=\"/python/python%E7%9A%84append-insert-extend-pop-remove-del%E4%BD%BF%E7%94%A8.html\">python的append insert extend pop del remove使用</a></span></th>\\n\\t\\t\\t\\t<th><i class=\"icon fa-calendar\"></i><a href=\"javascript:void(0)\"> 2018-07-20</a></th>\\n\\t\\t\\t\\t<th><a href=\"/showCategory.html?cat=python\">python</a></th>\\n\\t\\t\\t</tr>\\n\\t\\t\\t\\n\\t\\t\\t\\n\\t\\t\\t\\n\\t\\t\\t\\n\\t\\t\\t\\n\\t\\t\\t<tr>\\n\\t\\t\\t\\t<th><span class=\"topicc text-overflow\"><a href=\"/ml/%E9%A9%AC%E5%B0%94%E7%A7%91%E5%A4%AB%E9%93%BE.html\">马尔科夫链</a></span></th>\\n\\t\\t\\t\\t<th><i class=\"icon fa-calendar\"></i><a href=\"javascript:void(0)\"> 2018-07-03</a></th>\\n\\t\\t\\t\\t<th><a href=\"/showCategory.html?cat=ML\">ML</a></th>\\n\\t\\t\\t</tr>\\n\\t\\t\\t\\n\\t\\t\\t\\n\\t\\t\\t\\n\\t\\t\\t\\n\\t\\t\\t\\n\\t\\t\\t<tr>\\n\\t\\t\\t\\t<th><span class=\"topicc text-overflow\"><a href=\"/scala/dataframe%E8%A1%8C%E5%8F%98%E6%8D%A2%E4%B8%BA%E5%88%97.html\">dataframe行变换为列</a></span></th>\\n\\t\\t\\t\\t<th><i class=\"icon fa-calendar\"></i><a href=\"javascript:void(0)\"> 2018-06-27</a></th>\\n\\t\\t\\t\\t<th><a href=\"/showCategory.html?cat=scala\">scala</a></th>\\n\\t\\t\\t</tr>\\n\\t\\t\\t\\n\\t\\t\\t\\n\\t\\t\\t\\n\\t\\t\\t\\n\\t\\t\\t\\n\\t\\t\\t<tr>\\n\\t\\t\\t\\t<th><span class=\"topicc text-overflow\"><a href=\"/scala/scala%E8%8E%B7%E5%8F%96%E6%9F%90%E4%B8%AA%E6%97%B6%E9%97%B4%E9%97%B4%E9%9A%94%E7%9A%84%E6%97%B6%E9%97%B4.html\">scala获取某个时间间隔的时间</a></span></th>\\n\\t\\t\\t\\t<th><i class=\"icon fa-calendar\"></i><a href=\"javascript:void(0)\"> 2018-06-25</a></th>\\n\\t\\t\\t\\t<th><a href=\"/showCategory.html?cat=scala\">scala</a></th>\\n\\t\\t\\t</tr>\\n\\t\\t\\t\\n\\t\\t\\t\\n\\t\\t\\t\\n\\t\\t\\t\\n\\t\\t\\t\\n\\t\\t\\t<tr>\\n\\t\\t\\t\\t<th><span class=\"topicc text-overflow\"><a href=\"/linux/Linux%E6%9F%A5%E7%9C%8B%E6%96%87%E4%BB%B6%E5%A4%B9%E5%A4%A7%E5%B0%8F.html\">Linux查看文件夹大小</a></span></th>\\n\\t\\t\\t\\t<th><i class=\"icon fa-calendar\"></i><a href=\"javascript:void(0)\"> 2018-04-20</a></th>\\n\\t\\t\\t\\t<th><a href=\"/showCategory.html?cat=Linux\">Linux</a></th>\\n\\t\\t\\t</tr>\\n\\t\\t\\t\\n\\t\\t\\t\\n\\t\\t\\t\\n\\t\\t\\t\\n\\t\\t\\t\\n\\t\\t\\t<tr>\\n\\t\\t\\t\\t<th><span class=\"topicc text-overflow\"><a href=\"/scala/scala%E4%B9%8BreduceByKey%E6%93%8D%E4%BD%9C.html\">scala之reduceByKey操作</a></span></th>\\n\\t\\t\\t\\t<th><i class=\"icon fa-calendar\"></i><a href=\"javascript:void(0)\"> 2018-03-16</a></th>\\n\\t\\t\\t\\t<th><a href=\"/showCategory.html?cat=scala\">scala</a></th>\\n\\t\\t\\t</tr>\\n\\t\\t\\t\\n\\t\\t\\t\\n\\t\\t\\t\\n\\t\\t\\t\\n\\t\\t\\t\\n\\t\\t\\t<tr>\\n\\t\\t\\t\\t<th><span class=\"topicc text-overflow\"><a href=\"/scala/%E5%B0%86Spark-Dataframe%E8%BD%AC%E6%8D%A2%E4%B8%BAScala-Map%E9%9B%86%E5%90%88.html\">将Spark Dataframe转换为Scala Map集合</a></span></th>\\n\\t\\t\\t\\t<th><i class=\"icon fa-calendar\"></i><a href=\"javascript:void(0)\"> 2018-03-06</a></th>\\n\\t\\t\\t\\t<th><a href=\"/showCategory.html?cat=scala\">scala</a></th>\\n\\t\\t\\t</tr>\\n\\t\\t\\t\\n\\t\\t\\t\\n\\t\\t\\t\\n\\t\\t\\t\\n\\t\\t\\t\\n\\t\\t\\t<tr>\\n\\t\\t\\t\\t<th><span class=\"topicc text-overflow\"><a href=\"/elasticsearch/spark-Could-not-write-all-entries.html\">spark Could not write all entries</a></span></th>\\n\\t\\t\\t\\t<th><i class=\"icon fa-calendar\"></i><a href=\"javascript:void(0)\"> 2018-03-01</a></th>\\n\\t\\t\\t\\t<th><a href=\"/showCategory.html?cat=elasticsearch\">elasticsearch</a></th>\\n\\t\\t\\t</tr>\\n\\t\\t\\t\\n\\t\\t\\t\\n\\t\\t\\t\\n\\t\\t\\t\\n\\t\\t\\t\\n\\t\\t\\t<tr>\\n\\t\\t\\t\\t<th><span class=\"topicc text-overflow\"><a href=\"/scala/spark%E6%8C%89%E6%9F%90%E5%87%A0%E5%88%97%E5%88%A0%E9%99%A4dataframe%E9%87%8D%E5%A4%8D%E8%A1%8C.html\">spark按某几列删除dataframe重复行</a></span></th>\\n\\t\\t\\t\\t<th><i class=\"icon fa-calendar\"></i><a href=\"javascript:void(0)\"> 2018-02-27</a></th>\\n\\t\\t\\t\\t<th><a href=\"/showCategory.html?cat=scala\">scala</a></th>\\n\\t\\t\\t</tr>\\n\\t\\t\\t\\n\\t\\t\\t\\n\\t\\t\\t\\n\\t\\t\\t\\n\\t\\t\\t\\n\\t\\t\\t<tr>\\n\\t\\t\\t\\t<th><span class=\"topicc text-overflow\"><a href=\"/elasticsearch/spark%E5%AF%B9elasticsearch%E5%A2%9E%E5%88%A0%E6%9F%A5%E6%94%B9.html\">spark对elasticsearch增删查改</a></span></th>\\n\\t\\t\\t\\t<th><i class=\"icon fa-calendar\"></i><a href=\"javascript:void(0)\"> 2018-02-27</a></th>\\n\\t\\t\\t\\t<th><a href=\"/showCategory.html?cat=elasticsearch\">elasticsearch</a></th>\\n\\t\\t\\t</tr>\\n\\t\\t\\t\\n\\t\\t\\t\\n\\t\\t\\t\\n\\t\\t\\t\\n\\t\\t\\t\\n\\t\\t\\t<tr>\\n\\t\\t\\t\\t<th><span class=\"topicc text-overflow\"><a href=\"/hadoop/hdfs%E5%88%9B%E5%BB%BA%E5%88%A0%E9%99%A4%E6%96%87%E4%BB%B6%E5%92%8C%E6%96%87%E4%BB%B6%E5%A4%B9.html\">hdfs创建删除文件和文件夹</a></span></th>\\n\\t\\t\\t\\t<th><i class=\"icon fa-calendar\"></i><a href=\"javascript:void(0)\"> 2018-02-02</a></th>\\n\\t\\t\\t\\t<th><a href=\"/showCategory.html?cat=hadoop\">hadoop</a></th>\\n\\t\\t\\t</tr>\\n\\t\\t\\t\\n\\t\\t\\t\\n\\t\\t\\t\\n\\t\\t\\t\\n\\t\\t\\t\\n\\t\\t\\t<tr>\\n\\t\\t\\t\\t<th><span class=\"topicc text-overflow\"><a href=\"/scala/spark%E8%B0%83%E7%94%A8hdfsAPI.html\">spark调用hdfsAPI</a></span></th>\\n\\t\\t\\t\\t<th><i class=\"icon fa-calendar\"></i><a href=\"javascript:void(0)\"> 2018-01-24</a></th>\\n\\t\\t\\t\\t<th><a href=\"/showCategory.html?cat=scala\">scala</a></th>\\n\\t\\t\\t</tr>\\n\\t\\t\\t\\n\\t\\t\\t\\n\\t\\t\\t\\n\\t\\t\\t\\n\\t\\t\\t\\n\\t\\t\\t<tr>\\n\\t\\t\\t\\t<th><span class=\"topicc text-overflow\"><a href=\"/hadoop/hadoop%E9%80%80%E5%87%BA%E5%AE%89%E5%85%A8%E6%A8%A1%E5%BC%8FName-node-is-in-safe-mode.html\">hadoop退出安全模式Name node is in safe mode</a></span></th>\\n\\t\\t\\t\\t<th><i class=\"icon fa-calendar\"></i><a href=\"javascript:void(0)\"> 2018-01-12</a></th>\\n\\t\\t\\t\\t<th><a href=\"/showCategory.html?cat=hadoop\">hadoop</a></th>\\n\\t\\t\\t</tr>\\n\\t\\t\\t\\n\\t\\t\\t\\n\\t\\t\\t\\n\\t\\t\\t\\n\\t\\t\\t\\n\\t\\t\\t<tr>\\n\\t\\t\\t\\t<th><span class=\"topicc text-overflow\"><a href=\"/scala/dataframe%E7%9A%84select%E4%BC%A0%E5%85%A5%E4%B8%8D%E5%AE%9A%E5%8F%82%E6%95%B0.html\">dataframe的select传入不定参数</a></span></th>\\n\\t\\t\\t\\t<th><i class=\"icon fa-calendar\"></i><a href=\"javascript:void(0)\"> 2018-01-10</a></th>\\n\\t\\t\\t\\t<th><a href=\"/showCategory.html?cat=scala\">scala</a></th>\\n\\t\\t\\t</tr>\\n\\t\\t\\t\\n\\t\\t\\t\\n\\t\\t\\t\\n\\t\\t\\t\\n\\t\\t\\t\\n\\t\\t\\t<tr>\\n\\t\\t\\t\\t<th><span class=\"topicc text-overflow\"><a href=\"/git/github-pages%E4%BB%A3%E7%A0%81%E9%AB%98%E4%BA%AEhighlighter.html\">github pages代码高亮highlighter</a></span></th>\\n\\t\\t\\t\\t<th><i class=\"icon fa-calendar\"></i><a href=\"javascript:void(0)\"> 2017-12-27</a></th>\\n\\t\\t\\t\\t<th><a href=\"/showCategory.html?cat=git\">git</a></th>\\n\\t\\t\\t</tr>\\n\\t\\t\\t\\n\\t\\t\\t\\n\\t\\t\\t\\n\\t\\t\\t\\n\\t\\t\\t\\n\\t\\t\\t<tr>\\n\\t\\t\\t\\t<th><span class=\"topicc text-overflow\"><a href=\"/scala/spark-System-memory-must-be-at-least.html\">spark System memory must be at least</a></span></th>\\n\\t\\t\\t\\t<th><i class=\"icon fa-calendar\"></i><a href=\"javascript:void(0)\"> 2017-12-26</a></th>\\n\\t\\t\\t\\t<th><a href=\"/showCategory.html?cat=scala\">scala</a></th>\\n\\t\\t\\t</tr>\\n\\t\\t\\t\\n\\t\\t\\t\\n\\t\\t\\t\\n\\t\\t\\t\\n\\t\\t\\t\\n\\t\\t\\t<tr>\\n\\t\\t\\t\\t<th><span class=\"topicc text-overflow\"><a href=\"/pythontools/python%E4%B8%87%E8%83%BD%E5%BA%93.html\">python万能库</a></span></th>\\n\\t\\t\\t\\t<th><i class=\"icon fa-calendar\"></i><a href=\"javascript:void(0)\"> 2017-12-22</a></th>\\n\\t\\t\\t\\t<th><a href=\"/showCategory.html?cat=pythontools\">pythontools</a></th>\\n\\t\\t\\t</tr>\\n\\t\\t\\t\\n\\t\\t\\t\\n\\t\\t\\t\\n\\t\\t\\t\\n\\t\\t\\t\\n\\t\\t\\t<tr>\\n\\t\\t\\t\\t<th><span class=\"topicc text-overflow\"><a href=\"/scala/spark%E8%AE%A1%E7%AE%97%E4%B8%A4%E4%B8%AADataFrame%E7%9A%84%E5%B7%AE%E9%9B%86-%E4%BA%A4%E9%9B%86-%E5%90%88%E9%9B%86.html\">spark计算两个DataFrame的差集、交集、合集</a></span></th>\\n\\t\\t\\t\\t<th><i class=\"icon fa-calendar\"></i><a href=\"javascript:void(0)\"> 2017-12-06</a></th>\\n\\t\\t\\t\\t<th><a href=\"/showCategory.html?cat=scala\">scala</a></th>\\n\\t\\t\\t</tr>\\n\\t\\t\\t\\n\\t\\t\\t\\n\\t\\t\\t\\n\\t\\t\\t\\n\\t\\t\\t\\n\\t\\t\\t<tr>\\n\\t\\t\\t\\t<th><span class=\"topicc text-overflow\"><a href=\"/linux/Linux%E6%9F%A5%E7%9C%8B%E7%B3%BB%E7%BB%9F-%E6%A0%B8%E6%95%B0-CPU-%E4%BD%8D%E6%95%B0.html\">Linux查看系统、核数、CPU、位数</a></span></th>\\n\\t\\t\\t\\t<th><i class=\"icon fa-calendar\"></i><a href=\"javascript:void(0)\"> 2017-11-22</a></th>\\n\\t\\t\\t\\t<th><a href=\"/showCategory.html?cat=Linux\">Linux</a></th>\\n\\t\\t\\t</tr>\\n\\t\\t\\t\\n\\t\\t\\t\\n\\t\\t\\t\\n\\t\\t\\t\\n\\t\\t\\t\\n\\t\\t\\t<tr>\\n\\t\\t\\t\\t<th><span class=\"topicc text-overflow\"><a href=\"/python/%E6%B7%98%E5%AE%9D%E5%A4%A9%E7%8C%AB%E5%95%86%E5%93%81%E6%8A%93%E5%8F%96.html\">淘宝天猫商品抓取</a></span></th>\\n\\t\\t\\t\\t<th><i class=\"icon fa-calendar\"></i><a href=\"javascript:void(0)\"> 2017-11-11</a></th>\\n\\t\\t\\t\\t<th><a href=\"/showCategory.html?cat=python\">python</a></th>\\n\\t\\t\\t</tr>\\n\\t\\t\\t\\n\\t\\t\\t\\n\\t\\t\\t\\n\\t\\t\\t\\n\\t\\t\\t\\n\\t\\t\\t<tr>\\n\\t\\t\\t\\t<th><span class=\"topicc text-overflow\"><a href=\"/linux/Linux-suse-11-sp1-%E5%AE%89%E8%A3%85%E6%95%99%E7%A8%8B.html\">Linux suse 11 sp1 安装教程</a></span></th>\\n\\t\\t\\t\\t<th><i class=\"icon fa-calendar\"></i><a href=\"javascript:void(0)\"> 2017-11-09</a></th>\\n\\t\\t\\t\\t<th><a href=\"/showCategory.html?cat=Linux\">Linux</a></th>\\n\\t\\t\\t</tr>\\n\\t\\t\\t\\n\\t\\t\\t\\n\\t\\t\\t\\n\\t\\t\\t\\n\\t\\t\\t\\n\\t\\t\\t<tr>\\n\\t\\t\\t\\t<th><span class=\"topicc text-overflow\"><a href=\"/python/CSDN%E6%96%87%E7%AB%A0%E6%8A%93%E5%8F%96.html\">CSDN文章抓取</a></span></th>\\n\\t\\t\\t\\t<th><i class=\"icon fa-calendar\"></i><a href=\"javascript:void(0)\"> 2017-10-27</a></th>\\n\\t\\t\\t\\t<th><a href=\"/showCategory.html?cat=python\">python</a></th>\\n\\t\\t\\t</tr>\\n\\t\\t\\t\\n\\t\\t\\t\\n\\t\\t\\t\\n\\t\\t\\t\\n\\t\\t\\t\\n\\t\\t\\t<tr>\\n\\t\\t\\t\\t<th><span class=\"topicc text-overflow\"><a href=\"/python/python%E8%AF%86%E5%88%ABhtml%E4%B8%BB%E8%A6%81%E6%96%87%E6%9C%AC%E6%A1%86.html\">python识别html主要文本框</a></span></th>\\n\\t\\t\\t\\t<th><i class=\"icon fa-calendar\"></i><a href=\"javascript:void(0)\"> 2017-10-24</a></th>\\n\\t\\t\\t\\t<th><a href=\"/showCategory.html?cat=python\">python</a></th>\\n\\t\\t\\t</tr>\\n\\t\\t\\t\\n\\t\\t\\t\\n\\t\\t\\t\\n\\t\\t\\t\\n\\t\\t\\t\\n\\t\\t\\t<tr>\\n\\t\\t\\t\\t<th><span class=\"topicc text-overflow\"><a href=\"/python/python%E4%B9%8BBeautifulSoup.html\">python之BeautifulSoup</a></span></th>\\n\\t\\t\\t\\t<th><i class=\"icon fa-calendar\"></i><a href=\"javascript:void(0)\"> 2017-10-16</a></th>\\n\\t\\t\\t\\t<th><a href=\"/showCategory.html?cat=python\">python</a></th>\\n\\t\\t\\t</tr>\\n\\t\\t\\t\\n\\t\\t\\t\\n\\t\\t\\t\\n\\t\\t\\t\\n\\t\\t\\t\\n\\t\\t\\t<tr>\\n\\t\\t\\t\\t<th><span class=\"topicc text-overflow\"><a href=\"/selenium/selenium%E4%B8%8B%E6%8B%89%E5%88%B0%E9%A1%B5%E9%9D%A2%E6%9C%80%E5%BA%95%E7%AB%AF.html\">selenium下拉到页面最底端</a></span></th>\\n\\t\\t\\t\\t<th><i class=\"icon fa-calendar\"></i><a href=\"javascript:void(0)\"> 2017-10-13</a></th>\\n\\t\\t\\t\\t<th><a href=\"/showCategory.html?cat=selenium\">selenium</a></th>\\n\\t\\t\\t</tr>\\n\\t\\t\\t\\n\\t\\t\\t\\n\\t\\t\\t\\n\\t\\t\\t\\n\\t\\t\\t\\n\\t\\t\\t<tr>\\n\\t\\t\\t\\t<th><span class=\"topicc text-overflow\"><a href=\"/scala/dataframe%E5%8E%BB%E9%99%A4null-NaN%E5%92%8C%E7%A9%BA%E5%AD%97%E7%AC%A6%E4%B8%B2.html\">dataframe去除null、NaN和空字符串</a></span></th>\\n\\t\\t\\t\\t<th><i class=\"icon fa-calendar\"></i><a href=\"javascript:void(0)\"> 2017-10-12</a></th>\\n\\t\\t\\t\\t<th><a href=\"/showCategory.html?cat=scala\">scala</a></th>\\n\\t\\t\\t</tr>\\n\\t\\t\\t\\n\\t\\t\\t\\n\\t\\t\\t\\n\\t\\t\\t\\n\\t\\t\\t\\n\\t\\t\\t<tr>\\n\\t\\t\\t\\t<th><span class=\"topicc text-overflow\"><a href=\"/python/python%E4%B9%8Bchardet%E5%BA%93%E8%AF%86%E5%88%AB%E7%BC%96%E7%A0%81.html\">python之chardet库识别编码</a></span></th>\\n\\t\\t\\t\\t<th><i class=\"icon fa-calendar\"></i><a href=\"javascript:void(0)\"> 2017-08-24</a></th>\\n\\t\\t\\t\\t<th><a href=\"/showCategory.html?cat=python\">python</a></th>\\n\\t\\t\\t</tr>\\n\\t\\t\\t\\n\\t\\t\\t\\n\\t\\t\\t\\n\\t\\t\\t\\n\\t\\t\\t\\n\\t\\t\\t<tr>\\n\\t\\t\\t\\t<th><span class=\"topicc text-overflow\"><a href=\"/python/python%E8%AF%BB%E5%86%99excel.html\">python读写excel</a></span></th>\\n\\t\\t\\t\\t<th><i class=\"icon fa-calendar\"></i><a href=\"javascript:void(0)\"> 2017-08-21</a></th>\\n\\t\\t\\t\\t<th><a href=\"/showCategory.html?cat=python\">python</a></th>\\n\\t\\t\\t</tr>\\n\\t\\t\\t\\n\\t\\t\\t\\n\\t\\t\\t\\n\\t\\t\\t\\n\\t\\t\\t\\n\\t\\t\\t<tr>\\n\\t\\t\\t\\t<th><span class=\"topicc text-overflow\"><a href=\"/scala/scala%E6%97%B6%E9%97%B4%E5%92%8C%E6%97%B6%E9%97%B4%E6%88%B3%E4%BA%92%E8%BD%AC.html\">scala时间和时间戳互转</a></span></th>\\n\\t\\t\\t\\t<th><i class=\"icon fa-calendar\"></i><a href=\"javascript:void(0)\"> 2017-08-08</a></th>\\n\\t\\t\\t\\t<th><a href=\"/showCategory.html?cat=scala\">scala</a></th>\\n\\t\\t\\t</tr>\\n\\t\\t\\t\\n\\t\\t\\t\\n\\t\\t\\t\\n\\t\\t\\t\\n\\t\\t\\t\\n\\t\\t\\t<tr>\\n\\t\\t\\t\\t<th><span class=\"topicc text-overflow\"><a href=\"/scala/No_FileSystem_for_scheme_file_%E8%A7%A3%E5%86%B3%E6%96%B9%E6%B3%95.html\">spark No FileSystem for scheme file 解决方法</a></span></th>\\n\\t\\t\\t\\t<th><i class=\"icon fa-calendar\"></i><a href=\"javascript:void(0)\"> 2017-08-04</a></th>\\n\\t\\t\\t\\t<th><a href=\"/showCategory.html?cat=scala\">scala</a></th>\\n\\t\\t\\t</tr>\\n\\t\\t\\t\\n\\t\\t\\t\\n\\t\\t\\t\\n\\t\\t\\t\\n\\t\\t\\t\\n\\t\\t\\t<tr>\\n\\t\\t\\t\\t<th><span class=\"topicc text-overflow\"><a href=\"/scala/spark%E4%BD%BF%E7%94%A8udf%E7%BB%99dataFrame%E6%96%B0%E5%A2%9E%E5%88%97.html\">spark使用udf给dataFrame新增列</a></span></th>\\n\\t\\t\\t\\t<th><i class=\"icon fa-calendar\"></i><a href=\"javascript:void(0)\"> 2017-07-14</a></th>\\n\\t\\t\\t\\t<th><a href=\"/showCategory.html?cat=scala\">scala</a></th>\\n\\t\\t\\t</tr>\\n\\t\\t\\t\\n\\t\\t\\t\\n\\t\\t\\t\\n\\t\\t\\t\\n\\t\\t\\t\\n\\t\\t\\t<tr>\\n\\t\\t\\t\\t<th><span class=\"topicc text-overflow\"><a href=\"/scala/Scala%E6%9F%A5%E8%AF%A2dataFrame%E7%BB%93%E6%9E%84.html\">Scala查询dataFrame结构</a></span></th>\\n\\t\\t\\t\\t<th><i class=\"icon fa-calendar\"></i><a href=\"javascript:void(0)\"> 2017-07-11</a></th>\\n\\t\\t\\t\\t<th><a href=\"/showCategory.html?cat=scala\">scala</a></th>\\n\\t\\t\\t</tr>\\n\\t\\t\\t\\n\\t\\t\\t\\n\\t\\t\\t\\n\\t\\t\\t\\n\\t\\t\\t\\n\\t\\t\\t<tr>\\n\\t\\t\\t\\t<th><span class=\"topicc text-overflow\"><a href=\"/scala/Spark%E4%B8%ADSQL%E5%88%97%E5%90%88%E5%B9%B6%E4%B8%BA%E4%B8%80%E8%A1%8C.html\">Spark中SQL列合并为一行</a></span></th>\\n\\t\\t\\t\\t<th><i class=\"icon fa-calendar\"></i><a href=\"javascript:void(0)\"> 2017-06-28</a></th>\\n\\t\\t\\t\\t<th><a href=\"/showCategory.html?cat=scala\">scala</a></th>\\n\\t\\t\\t</tr>\\n\\t\\t\\t\\n\\t\\t\\t\\n\\t\\t\\t\\n\\t\\t\\t\\n\\t\\t\\t\\n\\t\\t\\t<tr>\\n\\t\\t\\t\\t<th><span class=\"topicc text-overflow\"><a href=\"/linux/Linux%E6%B8%85%E7%A9%BA%E6%96%87%E4%BB%B6%E5%86%85%E5%AE%B9.html\">Linux清空文件内容</a></span></th>\\n\\t\\t\\t\\t<th><i class=\"icon fa-calendar\"></i><a href=\"javascript:void(0)\"> 2017-06-27</a></th>\\n\\t\\t\\t\\t<th><a href=\"/showCategory.html?cat=Linux\">Linux</a></th>\\n\\t\\t\\t</tr>\\n\\t\\t\\t\\n\\t\\t\\t\\n\\t\\t\\t\\n\\t\\t\\t\\n\\t\\t\\t\\n\\t\\t\\t<tr>\\n\\t\\t\\t\\t<th><span class=\"topicc text-overflow\"><a href=\"/linux/xshell%E8%BF%9E%E6%8E%A5ubuntu.html\">xshell连接ubuntu</a></span></th>\\n\\t\\t\\t\\t<th><i class=\"icon fa-calendar\"></i><a href=\"javascript:void(0)\"> 2017-06-13</a></th>\\n\\t\\t\\t\\t<th><a href=\"/showCategory.html?cat=Linux\">Linux</a></th>\\n\\t\\t\\t</tr>\\n\\t\\t\\t\\n\\t\\t\\t\\n\\t\\t\\t\\n\\t\\t\\t\\n\\t\\t\\t\\n\\t\\t\\t<tr>\\n\\t\\t\\t\\t<th><span class=\"topicc text-overflow\"><a href=\"/scala/scala%E8%B0%83%E7%94%A8Linux%E5%91%BD%E4%BB%A4%E8%A1%8C.html\">scala调用Linux命令行</a></span></th>\\n\\t\\t\\t\\t<th><i class=\"icon fa-calendar\"></i><a href=\"javascript:void(0)\"> 2017-05-22</a></th>\\n\\t\\t\\t\\t<th><a href=\"/showCategory.html?cat=scala\">scala</a></th>\\n\\t\\t\\t</tr>\\n\\t\\t\\t\\n\\t\\t\\t\\n\\t\\t\\t\\n\\t\\t\\t\\n\\t\\t\\t\\n\\t\\t\\t<tr>\\n\\t\\t\\t\\t<th><span class=\"topicc text-overflow\"><a href=\"/scala/scala%E7%94%A8ssh2%E8%BF%9E%E6%8E%A5Linux.html\">scala用ssh2连接Linux</a></span></th>\\n\\t\\t\\t\\t<th><i class=\"icon fa-calendar\"></i><a href=\"javascript:void(0)\"> 2017-05-22</a></th>\\n\\t\\t\\t\\t<th><a href=\"/showCategory.html?cat=scala\">scala</a></th>\\n\\t\\t\\t</tr>\\n\\t\\t\\t\\n\\t\\t\\t\\n\\t\\t\\t\\n\\t\\t\\t\\n\\t\\t\\t\\n\\t\\t\\t<tr>\\n\\t\\t\\t\\t<th><span class=\"topicc text-overflow\"><a href=\"/scala/scala%E7%9A%84reduce.html\">scala的reduce</a></span></th>\\n\\t\\t\\t\\t<th><i class=\"icon fa-calendar\"></i><a href=\"javascript:void(0)\"> 2017-05-17</a></th>\\n\\t\\t\\t\\t<th><a href=\"/showCategory.html?cat=scala\">scala</a></th>\\n\\t\\t\\t</tr>\\n\\t\\t\\t\\n\\t\\t\\t\\n\\t\\t\\t\\n\\t\\t\\t\\n\\t\\t\\t\\n\\t\\t\\t<tr>\\n\\t\\t\\t\\t<th><span class=\"topicc text-overflow\"><a href=\"/git/%E5%A4%9A%E8%AF%B4%E5%85%B3%E9%97%AD%E9%80%89%E7%94%A8%E7%BD%91%E6%98%93%E4%BA%91%E8%B7%9F%E5%B8%96.html\">多说关闭选用网易云跟帖</a></span></th>\\n\\t\\t\\t\\t<th><i class=\"icon fa-calendar\"></i><a href=\"javascript:void(0)\"> 2017-05-06</a></th>\\n\\t\\t\\t\\t<th><a href=\"/showCategory.html?cat=git\">git</a></th>\\n\\t\\t\\t</tr>\\n\\t\\t\\t\\n\\t\\t\\t\\n\\t\\t\\t\\n\\t\\t\\t\\n\\t\\t\\t\\n\\t\\t\\t<tr>\\n\\t\\t\\t\\t<th><span class=\"topicc text-overflow\"><a href=\"/git/github-pages%E7%BB%91%E5%AE%9A%E5%9F%9F%E5%90%8D.html\">github pages绑定域名</a></span></th>\\n\\t\\t\\t\\t<th><i class=\"icon fa-calendar\"></i><a href=\"javascript:void(0)\"> 2017-05-06</a></th>\\n\\t\\t\\t\\t<th><a href=\"/showCategory.html?cat=git\">git</a></th>\\n\\t\\t\\t</tr>\\n\\t\\t\\t\\n\\t\\t\\t\\n\\t\\t\\t\\n\\t\\t\\t\\n\\t\\t\\t\\n\\t\\t\\t<tr>\\n\\t\\t\\t\\t<th><span class=\"topicc text-overflow\"><a href=\"/scala/scala%E8%BD%AC%E6%8D%A2date%E6%8F%90%E5%8F%96%E5%B9%B4%E6%9C%88%E6%97%A5%E6%97%B6%E5%88%86%E7%A7%92.html\">scala转换date提取年月日时分秒</a></span></th>\\n\\t\\t\\t\\t<th><i class=\"icon fa-calendar\"></i><a href=\"javascript:void(0)\"> 2017-04-25</a></th>\\n\\t\\t\\t\\t<th><a href=\"/showCategory.html?cat=scala\">scala</a></th>\\n\\t\\t\\t</tr>\\n\\t\\t\\t\\n\\t\\t\\t\\n\\t\\t\\t\\n\\t\\t\\t\\n\\t\\t\\t\\n\\t\\t\\t<tr>\\n\\t\\t\\t\\t<th><span class=\"topicc text-overflow\"><a href=\"/python/python%E7%BC%96%E8%AF%91-%E8%BF%90%E8%A1%8C-%E5%8F%8D%E7%BC%96%E8%AF%91pyc%E6%96%87%E4%BB%B6.html\">python编译、运行、反编译pyc文件</a></span></th>\\n\\t\\t\\t\\t<th><i class=\"icon fa-calendar\"></i><a href=\"javascript:void(0)\"> 2017-04-21</a></th>\\n\\t\\t\\t\\t<th><a href=\"/showCategory.html?cat=python\">python</a></th>\\n\\t\\t\\t</tr>\\n\\t\\t\\t\\n\\t\\t\\t\\n\\t\\t\\t\\n\\t\\t\\t\\n\\t\\t\\t\\n\\t\\t\\t<tr>\\n\\t\\t\\t\\t<th><span class=\"topicc text-overflow\"><a href=\"/python/python%E6%89%B9%E9%87%8F%E5%90%AF%E5%8A%A8%E5%A4%9A%E7%BA%BF%E7%A8%8B.html\">python批量启动多线程</a></span></th>\\n\\t\\t\\t\\t<th><i class=\"icon fa-calendar\"></i><a href=\"javascript:void(0)\"> 2017-04-19</a></th>\\n\\t\\t\\t\\t<th><a href=\"/showCategory.html?cat=python\">python</a></th>\\n\\t\\t\\t</tr>\\n\\t\\t\\t\\n\\t\\t\\t\\n\\t\\t\\t\\n\\t\\t\\t\\n\\t\\t\\t\\n\\t\\t\\t<tr>\\n\\t\\t\\t\\t<th><span class=\"topicc text-overflow\"><a href=\"/linux/Linux%E4%B8%AD%E6%96%AD%E7%A8%8B%E5%BA%8F%E5%91%BD%E4%BB%A4.html\">Linux中断程序命令</a></span></th>\\n\\t\\t\\t\\t<th><i class=\"icon fa-calendar\"></i><a href=\"javascript:void(0)\"> 2017-04-19</a></th>\\n\\t\\t\\t\\t<th><a href=\"/showCategory.html?cat=Linux\">Linux</a></th>\\n\\t\\t\\t</tr>\\n\\t\\t\\t\\n\\t\\t\\t\\n\\t\\t\\t\\n\\t\\t\\t\\n\\t\\t\\t\\n\\t\\t\\t<tr>\\n\\t\\t\\t\\t<th><span class=\"topicc text-overflow\"><a href=\"/scala/scala%E4%B8%ADspark%E8%BF%90%E8%A1%8C%E5%86%85%E5%AD%98%E4%B8%8D%E8%B6%B3.html\">scala中spark运行内存不足</a></span></th>\\n\\t\\t\\t\\t<th><i class=\"icon fa-calendar\"></i><a href=\"javascript:void(0)\"> 2017-04-18</a></th>\\n\\t\\t\\t\\t<th><a href=\"/showCategory.html?cat=scala\">scala</a></th>\\n\\t\\t\\t</tr>\\n\\t\\t\\t\\n\\t\\t\\t\\n\\t\\t\\t\\n\\t\\t\\t\\n\\t\\t\\t\\n\\t\\t\\t<tr>\\n\\t\\t\\t\\t<th><span class=\"topicc text-overflow\"><a href=\"/scala/scala%E6%89%93%E5%8C%85jar%E5%B9%B6%E5%9C%A8Linux%E4%B8%8B%E8%BF%90%E8%A1%8C.html\">scala打包jar并在Linux下运行</a></span></th>\\n\\t\\t\\t\\t<th><i class=\"icon fa-calendar\"></i><a href=\"javascript:void(0)\"> 2017-04-17</a></th>\\n\\t\\t\\t\\t<th><a href=\"/showCategory.html?cat=scala\">scala</a></th>\\n\\t\\t\\t</tr>\\n\\t\\t\\t\\n\\t\\t\\t\\n\\t\\t\\t\\n\\t\\t\\t\\n\\t\\t\\t\\n\\t\\t\\t<tr>\\n\\t\\t\\t\\t<th><span class=\"topicc text-overflow\"><a href=\"/scala/scala%E7%9A%84input.html\">scala的input</a></span></th>\\n\\t\\t\\t\\t<th><i class=\"icon fa-calendar\"></i><a href=\"javascript:void(0)\"> 2017-04-13</a></th>\\n\\t\\t\\t\\t<th><a href=\"/showCategory.html?cat=scala\">scala</a></th>\\n\\t\\t\\t</tr>\\n\\t\\t\\t\\n\\t\\t\\t\\n\\t\\t\\t\\n\\t\\t\\t\\n\\t\\t\\t\\n\\t\\t\\t<tr>\\n\\t\\t\\t\\t<th><span class=\"topicc text-overflow\"><a href=\"/scala/scala%E7%9A%84break%E5%92%8Ccontinue.html\">scala的break和continue</a></span></th>\\n\\t\\t\\t\\t<th><i class=\"icon fa-calendar\"></i><a href=\"javascript:void(0)\"> 2017-04-13</a></th>\\n\\t\\t\\t\\t<th><a href=\"/showCategory.html?cat=scala\">scala</a></th>\\n\\t\\t\\t</tr>\\n\\t\\t\\t\\n\\t\\t\\t\\n\\t\\t\\t\\n\\t\\t\\t\\n\\t\\t\\t\\n\\t\\t\\t<tr>\\n\\t\\t\\t\\t<th><span class=\"topicc text-overflow\"><a href=\"/scala/scala%E5%90%88%E5%B9%B6Array.html\">scala合并Array</a></span></th>\\n\\t\\t\\t\\t<th><i class=\"icon fa-calendar\"></i><a href=\"javascript:void(0)\"> 2017-04-07</a></th>\\n\\t\\t\\t\\t<th><a href=\"/showCategory.html?cat=scala\">scala</a></th>\\n\\t\\t\\t</tr>\\n\\t\\t\\t\\n\\t\\t\\t\\n\\t\\t\\t\\n\\t\\t\\t\\n\\t\\t\\t\\n\\t\\t\\t<tr>\\n\\t\\t\\t\\t<th><span class=\"topicc text-overflow\"><a href=\"/scala/scala%E8%AF%BB%E5%8F%96%E9%85%8D%E7%BD%AE%E6%96%87%E4%BB%B6.html\">scala读取配置文件</a></span></th>\\n\\t\\t\\t\\t<th><i class=\"icon fa-calendar\"></i><a href=\"javascript:void(0)\"> 2017-04-05</a></th>\\n\\t\\t\\t\\t<th><a href=\"/showCategory.html?cat=scala\">scala</a></th>\\n\\t\\t\\t</tr>\\n\\t\\t\\t\\n\\t\\t\\t\\n\\t\\t\\t\\n\\t\\t\\t\\n\\t\\t\\t\\n\\t\\t\\t<tr>\\n\\t\\t\\t\\t<th><span class=\"topicc text-overflow\"><a href=\"/scala/scala%E8%AF%BB%E5%8F%96%E8%A7%A3%E6%9E%90json%E6%96%87%E4%BB%B6.html\">scala读取解析json文件</a></span></th>\\n\\t\\t\\t\\t<th><i class=\"icon fa-calendar\"></i><a href=\"javascript:void(0)\"> 2017-04-01</a></th>\\n\\t\\t\\t\\t<th><a href=\"/showCategory.html?cat=scala\">scala</a></th>\\n\\t\\t\\t</tr>\\n\\t\\t\\t\\n\\t\\t\\t\\n\\t\\t\\t\\n\\t\\t\\t\\n\\t\\t\\t\\n\\t\\t\\t<tr>\\n\\t\\t\\t\\t<th><span class=\"topicc text-overflow\"><a href=\"/scala/scala%E5%88%A4%E6%96%AD%E6%95%B0%E6%8D%AE%E7%B1%BB%E5%9E%8B.html\">scala判断数据类型</a></span></th>\\n\\t\\t\\t\\t<th><i class=\"icon fa-calendar\"></i><a href=\"javascript:void(0)\"> 2017-04-01</a></th>\\n\\t\\t\\t\\t<th><a href=\"/showCategory.html?cat=scala\">scala</a></th>\\n\\t\\t\\t</tr>\\n\\t\\t\\t\\n\\t\\t\\t\\n\\t\\t\\t\\n\\t\\t\\t\\n\\t\\t\\t\\n\\t\\t\\t<tr>\\n\\t\\t\\t\\t<th><span class=\"topicc text-overflow\"><a href=\"/ide/Intellij%E7%9A%84Scala%E9%85%8D%E7%BD%AE.html\">IntelliJ的Scala配置</a></span></th>\\n\\t\\t\\t\\t<th><i class=\"icon fa-calendar\"></i><a href=\"javascript:void(0)\"> 2017-04-01</a></th>\\n\\t\\t\\t\\t<th><a href=\"/showCategory.html?cat=IDE\">IDE</a></th>\\n\\t\\t\\t</tr>\\n\\t\\t\\t\\n\\t\\t\\t\\n\\t\\t\\t\\n\\t\\t\\t\\n\\t\\t\\t\\n\\t\\t\\t<tr>\\n\\t\\t\\t\\t<th><span class=\"topicc text-overflow\"><a href=\"/scala/scala%E7%9A%84map%E6%93%8D%E4%BD%9C.html\">scala的map操作</a></span></th>\\n\\t\\t\\t\\t<th><i class=\"icon fa-calendar\"></i><a href=\"javascript:void(0)\"> 2017-03-31</a></th>\\n\\t\\t\\t\\t<th><a href=\"/showCategory.html?cat=scala\">scala</a></th>\\n\\t\\t\\t</tr>\\n\\t\\t\\t\\n\\t\\t\\t\\n\\t\\t\\t\\n\\t\\t\\t\\n\\t\\t\\t\\n\\t\\t\\t<tr>\\n\\t\\t\\t\\t<th><span class=\"topicc text-overflow\"><a href=\"/pythontools/python%E8%8E%B7%E5%8F%96%E5%BD%93%E5%89%8D%E8%B7%AF%E5%BE%84.html\">python获取当前路径</a></span></th>\\n\\t\\t\\t\\t<th><i class=\"icon fa-calendar\"></i><a href=\"javascript:void(0)\"> 2017-03-30</a></th>\\n\\t\\t\\t\\t<th><a href=\"/showCategory.html?cat=pythontools\">pythontools</a></th>\\n\\t\\t\\t</tr>\\n\\t\\t\\t\\n\\t\\t\\t\\n\\t\\t\\t\\n\\t\\t\\t\\n\\t\\t\\t\\n\\t\\t\\t<tr>\\n\\t\\t\\t\\t<th><span class=\"topicc text-overflow\"><a href=\"/python/python%E7%9A%84StringIO.html\">python的StringIO</a></span></th>\\n\\t\\t\\t\\t<th><i class=\"icon fa-calendar\"></i><a href=\"javascript:void(0)\"> 2017-03-28</a></th>\\n\\t\\t\\t\\t<th><a href=\"/showCategory.html?cat=python\">python</a></th>\\n\\t\\t\\t</tr>\\n\\t\\t\\t\\n\\t\\t\\t\\n\\t\\t\\t\\n\\t\\t\\t\\n\\t\\t\\t\\n\\t\\t\\t<tr>\\n\\t\\t\\t\\t<th><span class=\"topicc text-overflow\"><a href=\"/python/python%E5%88%A4%E6%96%AD%E4%B8%A4%E4%B8%AA%E6%96%87%E4%BB%B6%E6%98%AF%E5%90%A6%E7%9B%B8%E5%90%8C.html\">python判断两个文件是否相同</a></span></th>\\n\\t\\t\\t\\t<th><i class=\"icon fa-calendar\"></i><a href=\"javascript:void(0)\"> 2017-03-27</a></th>\\n\\t\\t\\t\\t<th><a href=\"/showCategory.html?cat=python\">python</a></th>\\n\\t\\t\\t</tr>\\n\\t\\t\\t\\n\\t\\t\\t\\n\\t\\t\\t\\n\\t\\t\\t\\n\\t\\t\\t\\n\\t\\t\\t<tr>\\n\\t\\t\\t\\t<th><span class=\"topicc text-overflow\"><a href=\"/linux/Linux%E6%9F%A5%E6%89%BE%E6%96%87%E4%BB%B6%E5%86%85%E5%AE%B9.html\">Linux查找文件内容</a></span></th>\\n\\t\\t\\t\\t<th><i class=\"icon fa-calendar\"></i><a href=\"javascript:void(0)\"> 2017-03-23</a></th>\\n\\t\\t\\t\\t<th><a href=\"/showCategory.html?cat=Linux\">Linux</a></th>\\n\\t\\t\\t</tr>\\n\\t\\t\\t\\n\\t\\t\\t\\n\\t\\t\\t\\n\\t\\t\\t\\n\\t\\t\\t\\n\\t\\t\\t<tr>\\n\\t\\t\\t\\t<th><span class=\"topicc text-overflow\"><a href=\"/python/python%E6%97%A5%E5%BF%97syslog%E8%BF%90%E7%94%A8.html\">python日志syslog运用</a></span></th>\\n\\t\\t\\t\\t<th><i class=\"icon fa-calendar\"></i><a href=\"javascript:void(0)\"> 2017-03-22</a></th>\\n\\t\\t\\t\\t<th><a href=\"/showCategory.html?cat=python\">python</a></th>\\n\\t\\t\\t</tr>\\n\\t\\t\\t\\n\\t\\t\\t\\n\\t\\t\\t\\n\\t\\t\\t\\n\\t\\t\\t\\n\\t\\t\\t<tr>\\n\\t\\t\\t\\t<th><span class=\"topicc text-overflow\"><a href=\"/python/python%E8%BF%9E%E6%8E%A5Linux%E5%91%BD%E4%BB%A4%E8%A1%8C.html\">python连接Linux命令行</a></span></th>\\n\\t\\t\\t\\t<th><i class=\"icon fa-calendar\"></i><a href=\"javascript:void(0)\"> 2017-03-21</a></th>\\n\\t\\t\\t\\t<th><a href=\"/showCategory.html?cat=python\">python</a></th>\\n\\t\\t\\t</tr>\\n\\t\\t\\t\\n\\t\\t\\t\\n\\t\\t\\t\\n\\t\\t\\t\\n\\t\\t\\t\\n\\t\\t\\t<tr>\\n\\t\\t\\t\\t<th><span class=\"topicc text-overflow\"><a href=\"/python/python%E6%97%A5%E5%BF%97%E6%A8%A1%E5%9D%97.html\">python日志模块</a></span></th>\\n\\t\\t\\t\\t<th><i class=\"icon fa-calendar\"></i><a href=\"javascript:void(0)\"> 2017-03-20</a></th>\\n\\t\\t\\t\\t<th><a href=\"/showCategory.html?cat=python\">python</a></th>\\n\\t\\t\\t</tr>\\n\\t\\t\\t\\n\\t\\t\\t\\n\\t\\t\\t\\n\\t\\t\\t\\n\\t\\t\\t\\n\\t\\t\\t<tr>\\n\\t\\t\\t\\t<th><span class=\"topicc text-overflow\"><a href=\"/scala/Scala%E5%AE%89%E8%A3%85%E6%95%99%E7%A8%8B.html\">scala安装教程</a></span></th>\\n\\t\\t\\t\\t<th><i class=\"icon fa-calendar\"></i><a href=\"javascript:void(0)\"> 2017-03-09</a></th>\\n\\t\\t\\t\\t<th><a href=\"/showCategory.html?cat=scala\">scala</a></th>\\n\\t\\t\\t</tr>\\n\\t\\t\\t\\n\\t\\t\\t\\n\\t\\t\\t\\n\\t\\t\\t\\n\\t\\t\\t\\n\\t\\t\\t<tr>\\n\\t\\t\\t\\t<th><span class=\"topicc text-overflow\"><a href=\"/pythontools/python%E8%8E%B7%E5%8F%96%E5%BD%93%E5%89%8D%E8%BF%90%E8%A1%8C%E7%A8%8B%E5%BA%8F%E7%9A%84%E5%90%8D%E5%AD%97.html\">python获取当前运行程序的名字</a></span></th>\\n\\t\\t\\t\\t<th><i class=\"icon fa-calendar\"></i><a href=\"javascript:void(0)\"> 2017-03-09</a></th>\\n\\t\\t\\t\\t<th><a href=\"/showCategory.html?cat=pythontools\">pythontools</a></th>\\n\\t\\t\\t</tr>\\n\\t\\t\\t\\n\\t\\t\\t\\n\\t\\t\\t\\n\\t\\t\\t\\n\\t\\t\\t\\n\\t\\t\\t<tr>\\n\\t\\t\\t\\t<th><span class=\"topicc text-overflow\"><a href=\"/pythontools/python%E8%8E%B7%E5%8F%96%E6%96%87%E4%BB%B6%E5%A4%B9%E5%90%8D%E5%AD%97.html\">python获取文件夹名字</a></span></th>\\n\\t\\t\\t\\t<th><i class=\"icon fa-calendar\"></i><a href=\"javascript:void(0)\"> 2017-03-09</a></th>\\n\\t\\t\\t\\t<th><a href=\"/showCategory.html?cat=pythontools\">pythontools</a></th>\\n\\t\\t\\t</tr>\\n\\t\\t\\t\\n\\t\\t\\t\\n\\t\\t\\t\\n\\t\\t\\t\\n\\t\\t\\t\\n\\t\\t\\t<tr>\\n\\t\\t\\t\\t<th><span class=\"topicc text-overflow\"><a href=\"/pythontools/python%E6%97%B6%E9%97%B4%E5%92%8C%E6%97%B6%E9%97%B4%E6%88%B3%E4%BA%92%E8%BD%AC.html\">python时间和时间戳互转</a></span></th>\\n\\t\\t\\t\\t<th><i class=\"icon fa-calendar\"></i><a href=\"javascript:void(0)\"> 2017-03-09</a></th>\\n\\t\\t\\t\\t<th><a href=\"/showCategory.html?cat=pythontools\">pythontools</a></th>\\n\\t\\t\\t</tr>\\n\\t\\t\\t\\n\\t\\t\\t\\n\\t\\t\\t\\n\\t\\t\\t\\n\\t\\t\\t\\n\\t\\t\\t<tr>\\n\\t\\t\\t\\t<th><span class=\"topicc text-overflow\"><a href=\"/pythontools/python%E5%88%A4%E6%96%AD%E6%96%87%E4%BB%B6%E6%98%AF%E5%90%A6%E5%AD%98%E5%9C%A8.html\">python判断文件是否存在</a></span></th>\\n\\t\\t\\t\\t<th><i class=\"icon fa-calendar\"></i><a href=\"javascript:void(0)\"> 2017-03-09</a></th>\\n\\t\\t\\t\\t<th><a href=\"/showCategory.html?cat=pythontools\">pythontools</a></th>\\n\\t\\t\\t</tr>\\n\\t\\t\\t\\n\\t\\t\\t\\n\\t\\t\\t\\n\\t\\t\\t\\n\\t\\t\\t\\n\\t\\t\\t<tr>\\n\\t\\t\\t\\t<th><span class=\"topicc text-overflow\"><a href=\"/pythontools/python%E5%88%9B%E5%BB%BA%E9%80%92%E5%BD%92%E6%96%87%E4%BB%B6%E5%A4%B9.html\">python创建递归文件夹</a></span></th>\\n\\t\\t\\t\\t<th><i class=\"icon fa-calendar\"></i><a href=\"javascript:void(0)\"> 2017-03-09</a></th>\\n\\t\\t\\t\\t<th><a href=\"/showCategory.html?cat=pythontools\">pythontools</a></th>\\n\\t\\t\\t</tr>\\n\\t\\t\\t\\n\\t\\t\\t\\n\\t\\t\\t\\n\\t\\t\\t\\n\\t\\t\\t\\n\\t\\t\\t<tr>\\n\\t\\t\\t\\t<th><span class=\"topicc text-overflow\"><a href=\"/ml/sklearn%E7%9A%84kmeans%E6%B5%8B%E8%AF%95.html\">sklearn的kmeans测试</a></span></th>\\n\\t\\t\\t\\t<th><i class=\"icon fa-calendar\"></i><a href=\"javascript:void(0)\"> 2017-03-07</a></th>\\n\\t\\t\\t\\t<th><a href=\"/showCategory.html?cat=ML\">ML</a></th>\\n\\t\\t\\t</tr>\\n\\t\\t\\t\\n\\t\\t\\t\\n\\t\\t\\t\\n\\t\\t\\t\\n\\t\\t\\t\\n\\t\\t\\t<tr>\\n\\t\\t\\t\\t<th><span class=\"topicc text-overflow\"><a href=\"/python/python%E4%BC%A0%E5%85%A5%E4%B8%8D%E7%A1%AE%E5%AE%9A%E4%B8%AA%E6%95%B0%E5%8F%82%E6%95%B0.html\">python传入不确定个数参数</a></span></th>\\n\\t\\t\\t\\t<th><i class=\"icon fa-calendar\"></i><a href=\"javascript:void(0)\"> 2017-02-25</a></th>\\n\\t\\t\\t\\t<th><a href=\"/showCategory.html?cat=python\">python</a></th>\\n\\t\\t\\t</tr>\\n\\t\\t\\t\\n\\t\\t\\t\\n\\t\\t\\t\\n\\t\\t\\t\\n\\t\\t\\t\\n\\t\\t\\t<tr>\\n\\t\\t\\t\\t<th><span class=\"topicc text-overflow\"><a href=\"/python/python%E5%AE%89%E8%A3%85whl%E6%96%87%E4%BB%B6.html\">python安装whl文件</a></span></th>\\n\\t\\t\\t\\t<th><i class=\"icon fa-calendar\"></i><a href=\"javascript:void(0)\"> 2017-02-24</a></th>\\n\\t\\t\\t\\t<th><a href=\"/showCategory.html?cat=python\">python</a></th>\\n\\t\\t\\t</tr>\\n\\t\\t\\t\\n\\t\\t\\t\\n\\t\\t\\t\\n\\t\\t\\t\\n\\t\\t\\t\\n\\t\\t\\t<tr>\\n\\t\\t\\t\\t<th><span class=\"topicc text-overflow\"><a href=\"/python/python3%E5%AE%89%E8%A3%85sklearn%E6%9C%BA%E5%99%A8%E5%AD%A6%E4%B9%A0%E5%BA%93.html\">python3安装sklearn机器学习库</a></span></th>\\n\\t\\t\\t\\t<th><i class=\"icon fa-calendar\"></i><a href=\"javascript:void(0)\"> 2017-02-24</a></th>\\n\\t\\t\\t\\t<th><a href=\"/showCategory.html?cat=python\">python</a></th>\\n\\t\\t\\t</tr>\\n\\t\\t\\t\\n\\t\\t\\t\\n\\t\\t\\t\\n\\t\\t\\t\\n\\t\\t\\t\\n\\t\\t\\t<tr>\\n\\t\\t\\t\\t<th><span class=\"topicc text-overflow\"><a href=\"/python/Oracle%E7%BB%9D%E5%AF%B9%E7%A7%92%E6%95%B0%E8%BD%AC%E6%8D%A2%E4%B8%BA%E6%97%B6%E9%97%B4%E6%88%B3.html\">Oracle绝对秒数转为时间戳</a></span></th>\\n\\t\\t\\t\\t<th><i class=\"icon fa-calendar\"></i><a href=\"javascript:void(0)\"> 2017-02-23</a></th>\\n\\t\\t\\t\\t<th><a href=\"/showCategory.html?cat=python\">python</a></th>\\n\\t\\t\\t</tr>\\n\\t\\t\\t\\n\\t\\t\\t\\n\\t\\t\\t\\n\\t\\t\\t\\n\\t\\t\\t\\n\\t\\t\\t<tr>\\n\\t\\t\\t\\t<th><span class=\"topicc text-overflow\"><a href=\"/python/%E5%BE%AE%E4%BF%A1%E7%BA%A2%E5%8C%85%E7%AE%97%E6%B3%95.html\">微信红包算法</a></span></th>\\n\\t\\t\\t\\t<th><i class=\"icon fa-calendar\"></i><a href=\"javascript:void(0)\"> 2017-01-30</a></th>\\n\\t\\t\\t\\t<th><a href=\"/showCategory.html?cat=python\">python</a></th>\\n\\t\\t\\t</tr>\\n\\t\\t\\t\\n\\t\\t\\t\\n\\t\\t\\t\\n\\t\\t\\t\\n\\t\\t\\t\\n\\t\\t\\t<tr>\\n\\t\\t\\t\\t<th><span class=\"topicc text-overflow\"><a href=\"/linux/Linux%E4%B8%8Bpython2%E5%92%8Cpython3%E5%85%B1%E5%AD%98.html\">Linux下python2和python3共存</a></span></th>\\n\\t\\t\\t\\t<th><i class=\"icon fa-calendar\"></i><a href=\"javascript:void(0)\"> 2017-01-18</a></th>\\n\\t\\t\\t\\t<th><a href=\"/showCategory.html?cat=Linux\">Linux</a></th>\\n\\t\\t\\t</tr>\\n\\t\\t\\t\\n\\t\\t\\t\\n\\t\\t\\t\\n\\t\\t\\t\\n\\t\\t\\t\\n\\t\\t\\t<tr>\\n\\t\\t\\t\\t<th><span class=\"topicc text-overflow\"><a href=\"/hadoop/hadoop%E5%88%86%E5%B8%83%E5%BC%8F%E6%90%AD%E5%BB%BA.html\">hadoop分布式搭建</a></span></th>\\n\\t\\t\\t\\t<th><i class=\"icon fa-calendar\"></i><a href=\"javascript:void(0)\"> 2017-01-17</a></th>\\n\\t\\t\\t\\t<th><a href=\"/showCategory.html?cat=hadoop\">hadoop</a></th>\\n\\t\\t\\t</tr>\\n\\t\\t\\t\\n\\t\\t\\t\\n\\t\\t\\t\\n\\t\\t\\t\\n\\t\\t\\t\\n\\t\\t\\t<tr>\\n\\t\\t\\t\\t<th><span class=\"topicc text-overflow\"><a href=\"/ml/NaiveBayes%E6%9C%B4%E7%B4%A0%E8%B4%9D%E5%8F%B6%E6%96%AF%E7%AE%97%E6%B3%95.html\">NaiveBayes朴素贝叶斯算法</a></span></th>\\n\\t\\t\\t\\t<th><i class=\"icon fa-calendar\"></i><a href=\"javascript:void(0)\"> 2017-01-16</a></th>\\n\\t\\t\\t\\t<th><a href=\"/showCategory.html?cat=ML\">ML</a></th>\\n\\t\\t\\t</tr>\\n\\t\\t\\t\\n\\t\\t\\t\\n\\t\\t\\t\\n\\t\\t\\t\\n\\t\\t\\t\\n\\t\\t\\t<tr>\\n\\t\\t\\t\\t<th><span class=\"topicc text-overflow\"><a href=\"/ml/ID3%E5%86%B3%E7%AD%96%E6%A0%91%E7%AE%97%E6%B3%95.html\">ID3决策树算法</a></span></th>\\n\\t\\t\\t\\t<th><i class=\"icon fa-calendar\"></i><a href=\"javascript:void(0)\"> 2017-01-13</a></th>\\n\\t\\t\\t\\t<th><a href=\"/showCategory.html?cat=ML\">ML</a></th>\\n\\t\\t\\t</tr>\\n\\t\\t\\t\\n\\t\\t\\t\\n\\t\\t\\t\\n\\t\\t\\t\\n\\t\\t\\t\\n\\t\\t\\t<tr>\\n\\t\\t\\t\\t<th><span class=\"topicc text-overflow\"><a href=\"/linux/VMwareWorkstation%E4%B8%8B%E5%AE%89%E8%A3%85Linux.html\">VMwareWorkstation下安装Linux</a></span></th>\\n\\t\\t\\t\\t<th><i class=\"icon fa-calendar\"></i><a href=\"javascript:void(0)\"> 2017-01-13</a></th>\\n\\t\\t\\t\\t<th><a href=\"/showCategory.html?cat=Linux\">Linux</a></th>\\n\\t\\t\\t</tr>\\n\\t\\t\\t\\n\\t\\t\\t\\n\\t\\t\\t\\n\\t\\t\\t\\n\\t\\t\\t\\n\\t\\t\\t<tr>\\n\\t\\t\\t\\t<th><span class=\"topicc text-overflow\"><a href=\"/wechat/%E5%BE%AE%E4%BF%A1%E5%B0%8F%E7%A8%8B%E5%BA%8F%E5%BC%80%E5%8F%91%E6%B5%8B%E8%AF%95.html\">微信小程序开发测试</a></span></th>\\n\\t\\t\\t\\t<th><i class=\"icon fa-calendar\"></i><a href=\"javascript:void(0)\"> 2017-01-10</a></th>\\n\\t\\t\\t\\t<th><a href=\"/showCategory.html?cat=wechat\">wechat</a></th>\\n\\t\\t\\t</tr>\\n\\t\\t\\t\\n\\t\\t\\t\\n\\t\\t\\t\\n\\t\\t\\t\\n\\t\\t\\t\\n\\t\\t\\t<tr>\\n\\t\\t\\t\\t<th><span class=\"topicc text-overflow\"><a href=\"/python/%E7%AD%9B%E6%B3%95%E6%B1%82%E7%B4%A0%E6%95%B0%E8%B4%A8%E6%95%B0.html\">筛法求素数质数</a></span></th>\\n\\t\\t\\t\\t<th><i class=\"icon fa-calendar\"></i><a href=\"javascript:void(0)\"> 2017-01-10</a></th>\\n\\t\\t\\t\\t<th><a href=\"/showCategory.html?cat=python\">python</a></th>\\n\\t\\t\\t</tr>\\n\\t\\t\\t\\n\\t\\t\\t\\n\\t\\t\\t\\n\\t\\t\\t\\n\\t\\t\\t\\n\\t\\t\\t<tr>\\n\\t\\t\\t\\t<th><span class=\"topicc text-overflow\"><a href=\"/ml/Agens%E5%B1%82%E6%AC%A1%E8%81%9A%E7%B1%BB.html\">Agens层次聚类</a></span></th>\\n\\t\\t\\t\\t<th><i class=\"icon fa-calendar\"></i><a href=\"javascript:void(0)\"> 2017-01-09</a></th>\\n\\t\\t\\t\\t<th><a href=\"/showCategory.html?cat=ML\">ML</a></th>\\n\\t\\t\\t</tr>\\n\\t\\t\\t\\n\\t\\t\\t\\n\\t\\t\\t\\n\\t\\t\\t\\n\\t\\t\\t\\n\\t\\t\\t<tr>\\n\\t\\t\\t\\t<th><span class=\"topicc text-overflow\"><a href=\"/ml/KNN%E8%BF%91%E9%82%BB%E7%AE%97%E6%B3%95.html\">KNN近邻算法</a></span></th>\\n\\t\\t\\t\\t<th><i class=\"icon fa-calendar\"></i><a href=\"javascript:void(0)\"> 2017-01-05</a></th>\\n\\t\\t\\t\\t<th><a href=\"/showCategory.html?cat=ML\">ML</a></th>\\n\\t\\t\\t</tr>\\n\\t\\t\\t\\n\\t\\t\\t\\n\\t\\t\\t\\n\\t\\t\\t\\n\\t\\t\\t\\n\\t\\t\\t<tr>\\n\\t\\t\\t\\t<th><span class=\"topicc text-overflow\"><a href=\"/ml/K-means%E8%81%9A%E7%B1%BB%E7%AE%97%E6%B3%95.html\">K-means聚类算法</a></span></th>\\n\\t\\t\\t\\t<th><i class=\"icon fa-calendar\"></i><a href=\"javascript:void(0)\"> 2017-01-04</a></th>\\n\\t\\t\\t\\t<th><a href=\"/showCategory.html?cat=ML\">ML</a></th>\\n\\t\\t\\t</tr>\\n\\t\\t\\t\\n\\t\\t\\t\\n\\t\\t\\t\\n\\t\\t\\t\\n\\t\\t\\t\\n\\t\\t\\t<tr>\\n\\t\\t\\t\\t<th><span class=\"topicc text-overflow\"><a href=\"/ml/FP-tree%E6%8E%A8%E8%8D%90%E7%AE%97%E6%B3%95.html\">FP-tree推荐算法</a></span></th>\\n\\t\\t\\t\\t<th><i class=\"icon fa-calendar\"></i><a href=\"javascript:void(0)\"> 2017-01-03</a></th>\\n\\t\\t\\t\\t<th><a href=\"/showCategory.html?cat=ML\">ML</a></th>\\n\\t\\t\\t</tr>\\n\\t\\t\\t\\n\\t\\t\\t\\n\\t\\t\\t\\n\\t\\t\\t\\n\\t\\t\\t\\n\\t\\t\\t<tr>\\n\\t\\t\\t\\t<th><span class=\"topicc text-overflow\"><a href=\"/html/ChromeCrx.html\">ChromeCrx</a></span></th>\\n\\t\\t\\t\\t<th><i class=\"icon fa-calendar\"></i><a href=\"javascript:void(0)\"> 2017-01-02</a></th>\\n\\t\\t\\t\\t<th><a href=\"/showCategory.html?cat=html\">html</a></th>\\n\\t\\t\\t</tr>\\n\\t\\t\\t\\n\\t\\t\\t\\n\\t\\t\\t\\n\\t\\t\\t\\n\\t\\t\\t\\n\\t\\t\\t<tr>\\n\\t\\t\\t\\t<th><span class=\"topicc text-overflow\"><a href=\"/ml/apriori%E6%8E%A8%E8%8D%90%E7%AE%97%E6%B3%95.html\">apriori推荐算法</a></span></th>\\n\\t\\t\\t\\t<th><i class=\"icon fa-calendar\"></i><a href=\"javascript:void(0)\"> 2016-12-28</a></th>\\n\\t\\t\\t\\t<th><a href=\"/showCategory.html?cat=ML\">ML</a></th>\\n\\t\\t\\t</tr>\\n\\t\\t\\t\\n\\t\\t\\t\\n\\t\\t\\t\\n\\t\\t\\t\\n\\t\\t\\t\\n\\t\\t\\t<tr>\\n\\t\\t\\t\\t<th><span class=\"topicc text-overflow\"><a href=\"/python/python%E6%B5%B7%E9%BE%9F%E5%9B%BE%E5%88%B6%E4%BD%9C.html\">python海龟图制作</a></span></th>\\n\\t\\t\\t\\t<th><i class=\"icon fa-calendar\"></i><a href=\"javascript:void(0)\"> 2016-12-26</a></th>\\n\\t\\t\\t\\t<th><a href=\"/showCategory.html?cat=python\">python</a></th>\\n\\t\\t\\t</tr>\\n\\t\\t\\t\\n\\t\\t\\t\\n\\t\\t\\t\\n\\t\\t\\t\\n\\t\\t\\t\\n\\t\\t\\t<tr>\\n\\t\\t\\t\\t<th><span class=\"topicc text-overflow\"><a href=\"/git/window%E5%AE%89%E8%A3%85jekyll.html\">window安装jekyll</a></span></th>\\n\\t\\t\\t\\t<th><i class=\"icon fa-calendar\"></i><a href=\"javascript:void(0)\"> 2016-12-20</a></th>\\n\\t\\t\\t\\t<th><a href=\"/showCategory.html?cat=git\">git</a></th>\\n\\t\\t\\t</tr>\\n\\t\\t\\t\\n\\t\\t\\t\\n\\t\\t\\t\\n\\t\\t\\t\\n\\t\\t\\t\\n\\t\\t\\t<tr>\\n\\t\\t\\t\\t<th><span class=\"topicc text-overflow\"><a href=\"/ml/Amazonz%E9%AA%8C%E8%AF%81%E7%A0%81%E6%9C%BA%E5%99%A8%E7%AE%97%E6%B3%95%E8%AF%86%E5%88%AB.html\">Amazonz验证码机器算法识别</a></span></th>\\n\\t\\t\\t\\t<th><i class=\"icon fa-calendar\"></i><a href=\"javascript:void(0)\"> 2016-12-10</a></th>\\n\\t\\t\\t\\t<th><a href=\"/showCategory.html?cat=ML\">ML</a></th>\\n\\t\\t\\t</tr>\\n\\t\\t\\t\\n\\t\\t\\t\\n\\t\\t\\t\\n\\t\\t\\t\\n\\t\\t\\t\\n\\t\\t\\t<tr>\\n\\t\\t\\t\\t<th><span class=\"topicc text-overflow\"><a href=\"/selenium/selenium%E6%99%BA%E8%81%94%E6%90%9C%E7%B4%A2.html\">selenium智联搜索</a></span></th>\\n\\t\\t\\t\\t<th><i class=\"icon fa-calendar\"></i><a href=\"javascript:void(0)\"> 2016-12-05</a></th>\\n\\t\\t\\t\\t<th><a href=\"/showCategory.html?cat=selenium\">selenium</a></th>\\n\\t\\t\\t</tr>\\n\\t\\t\\t\\n\\t\\t\\t\\n\\t\\t\\t\\n\\t\\t\\t\\n\\t\\t\\t\\n\\t\\t\\t<tr>\\n\\t\\t\\t\\t<th><span class=\"topicc text-overflow\"><a href=\"/selenium/selenium%E8%AE%BE%E7%BD%AEChrome.html\">selenium设置Chrome</a></span></th>\\n\\t\\t\\t\\t<th><i class=\"icon fa-calendar\"></i><a href=\"javascript:void(0)\"> 2016-12-03</a></th>\\n\\t\\t\\t\\t<th><a href=\"/showCategory.html?cat=selenium\">selenium</a></th>\\n\\t\\t\\t</tr>\\n\\t\\t\\t\\n\\t\\t\\t\\n\\t\\t\\t\\n\\t\\t\\t\\n\\t\\t\\t\\n\\t\\t\\t<tr>\\n\\t\\t\\t\\t<th><span class=\"topicc text-overflow\"><a href=\"/javascript/javascript%E8%8E%B7%E5%8F%96%E6%B5%8F%E8%A7%88%E5%99%A8%E5%B1%9E%E6%80%A7.html\">javascript获取浏览器属性</a></span></th>\\n\\t\\t\\t\\t<th><i class=\"icon fa-calendar\"></i><a href=\"javascript:void(0)\"> 2016-12-02</a></th>\\n\\t\\t\\t\\t<th><a href=\"/showCategory.html?cat=javascript\">javascript</a></th>\\n\\t\\t\\t</tr>\\n\\t\\t\\t\\n\\t\\t\\t\\n\\t\\t\\t\\n\\t\\t\\t\\n\\t\\t\\t\\n\\t\\t\\t<tr>\\n\\t\\t\\t\\t<th><span class=\"topicc text-overflow\"><a href=\"/javascript/javascript%E6%93%8D%E6%8E%A7%E6%B5%8F%E8%A7%88%E5%99%A8.html\">javascript操控浏览器</a></span></th>\\n\\t\\t\\t\\t<th><i class=\"icon fa-calendar\"></i><a href=\"javascript:void(0)\"> 2016-12-02</a></th>\\n\\t\\t\\t\\t<th><a href=\"/showCategory.html?cat=javascript\">javascript</a></th>\\n\\t\\t\\t</tr>\\n\\t\\t\\t\\n\\t\\t\\t\\n\\t\\t\\t\\n\\t\\t\\t\\n\\t\\t\\t\\n\\t\\t\\t<tr>\\n\\t\\t\\t\\t<th><span class=\"topicc text-overflow\"><a href=\"/selenium/selenium%E5%8A%A0%E8%BD%BD%E6%97%B6%E9%97%B4%E8%BF%87%E9%95%BF.html\">selenium加载时间过长</a></span></th>\\n\\t\\t\\t\\t<th><i class=\"icon fa-calendar\"></i><a href=\"javascript:void(0)\"> 2016-11-24</a></th>\\n\\t\\t\\t\\t<th><a href=\"/showCategory.html?cat=selenium\">selenium</a></th>\\n\\t\\t\\t</tr>\\n\\t\\t\\t\\n\\t\\t\\t\\n\\t\\t\\t\\n\\t\\t\\t\\n\\t\\t\\t\\n\\t\\t\\t<tr>\\n\\t\\t\\t\\t<th><span class=\"topicc text-overflow\"><a href=\"/golang/win10Golang%E7%8E%AF%E5%A2%83%E5%8F%98%E9%87%8F%E8%AE%BE%E7%BD%AE.html\">win10Golang环境变量设置</a></span></th>\\n\\t\\t\\t\\t<th><i class=\"icon fa-calendar\"></i><a href=\"javascript:void(0)\"> 2016-11-17</a></th>\\n\\t\\t\\t\\t<th><a href=\"/showCategory.html?cat=golang\">golang</a></th>\\n\\t\\t\\t</tr>\\n\\t\\t\\t\\n\\t\\t\\t\\n\\t\\t\\t\\n\\t\\t\\t\\n\\t\\t\\t\\n\\t\\t\\t<tr>\\n\\t\\t\\t\\t<th><span class=\"topicc text-overflow\"><a href=\"/ide/pycharm%E5%9F%BA%E6%9C%AC%E8%AE%BE%E7%BD%AE.html\">pycharm基本设置</a></span></th>\\n\\t\\t\\t\\t<th><i class=\"icon fa-calendar\"></i><a href=\"javascript:void(0)\"> 2016-11-16</a></th>\\n\\t\\t\\t\\t<th><a href=\"/showCategory.html?cat=IDE\">IDE</a></th>\\n\\t\\t\\t</tr>\\n\\t\\t\\t\\n\\t\\t\\t\\n\\t\\t\\t\\n\\t\\t\\t\\n\\t\\t\\t\\n\\t\\t\\t<tr>\\n\\t\\t\\t\\t<th><span class=\"topicc text-overflow\"><a href=\"/python/python3%E7%99%BE%E5%BA%A6%E6%8C%87%E6%95%B0%E6%8A%93%E5%8F%96.html\">python3百度指数抓取</a></span></th>\\n\\t\\t\\t\\t<th><i class=\"icon fa-calendar\"></i><a href=\"javascript:void(0)\"> 2016-11-12</a></th>\\n\\t\\t\\t\\t<th><a href=\"/showCategory.html?cat=python\">python</a></th>\\n\\t\\t\\t</tr>\\n\\t\\t\\t\\n\\t\\t\\t\\n\\t\\t\\t\\n\\t\\t\\t\\n\\t\\t\\t\\n\\t\\t\\t<tr>\\n\\t\\t\\t\\t<th><span class=\"topicc text-overflow\"><a href=\"/selenium/selenium%E4%B9%8Bxpath%E5%AE%9A%E4%BD%8D%E5%92%8Cinput%E6%96%87%E6%9C%AC.html\">selenium之xpath定位和input文本</a></span></th>\\n\\t\\t\\t\\t<th><i class=\"icon fa-calendar\"></i><a href=\"javascript:void(0)\"> 2016-11-11</a></th>\\n\\t\\t\\t\\t<th><a href=\"/showCategory.html?cat=selenium\">selenium</a></th>\\n\\t\\t\\t</tr>\\n\\t\\t\\t\\n\\t\\t\\t\\n\\t\\t\\t\\n\\t\\t\\t\\n\\t\\t\\t\\n\\t\\t\\t<tr>\\n\\t\\t\\t\\t<th><span class=\"topicc text-overflow\"><a href=\"/selenium/selenium%E5%A4%9A%E4%B8%AA%E7%AA%97%E5%8F%A3%E5%88%87%E6%8D%A2.html\">selenium多个窗口切换</a></span></th>\\n\\t\\t\\t\\t<th><i class=\"icon fa-calendar\"></i><a href=\"javascript:void(0)\"> 2016-11-09</a></th>\\n\\t\\t\\t\\t<th><a href=\"/showCategory.html?cat=selenium\">selenium</a></th>\\n\\t\\t\\t</tr>\\n\\t\\t\\t\\n\\t\\t\\t\\n\\t\\t\\t\\n\\t\\t\\t\\n\\t\\t\\t\\n\\t\\t\\t<tr>\\n\\t\\t\\t\\t<th><span class=\"topicc text-overflow\"><a href=\"/selenium/selenium%E4%B8%8B%E6%8B%89%E6%A1%86%E9%80%89%E6%8B%A9.html\">selenium下拉框选择</a></span></th>\\n\\t\\t\\t\\t<th><i class=\"icon fa-calendar\"></i><a href=\"javascript:void(0)\"> 2016-11-09</a></th>\\n\\t\\t\\t\\t<th><a href=\"/showCategory.html?cat=selenium\">selenium</a></th>\\n\\t\\t\\t</tr>\\n\\t\\t\\t\\n\\t\\t\\t\\n\\t\\t\\t\\n\\t\\t\\t\\n\\t\\t\\t\\n\\t\\t\\t<tr>\\n\\t\\t\\t\\t<th><span class=\"topicc text-overflow\"><a href=\"/git/git%E4%B8%8B%E8%BD%BD%E8%87%AA%E5%B7%B1%E9%A1%B9%E7%9B%AE%E5%88%B0%E6%9C%AC%E5%9C%B0.html\">git下载自己项目到本地</a></span></th>\\n\\t\\t\\t\\t<th><i class=\"icon fa-calendar\"></i><a href=\"javascript:void(0)\"> 2016-11-07</a></th>\\n\\t\\t\\t\\t<th><a href=\"/showCategory.html?cat=git\">git</a></th>\\n\\t\\t\\t</tr>\\n\\t\\t\\t\\n\\t\\t\\t\\n\\t\\t\\t\\n\\t\\t\\t\\n\\t\\t\\t\\n\\t\\t\\t<tr>\\n\\t\\t\\t\\t<th><span class=\"topicc text-overflow\"><a href=\"/selenium/selenium%E4%B8%8B%E8%BD%BD%E7%94%B5%E5%AD%90%E4%B9%A6.html\">selenium下载电子书</a></span></th>\\n\\t\\t\\t\\t<th><i class=\"icon fa-calendar\"></i><a href=\"javascript:void(0)\"> 2016-10-23</a></th>\\n\\t\\t\\t\\t<th><a href=\"/showCategory.html?cat=selenium\">selenium</a></th>\\n\\t\\t\\t</tr>\\n\\t\\t\\t\\n\\t\\t\\t\\n\\t\\t\\t\\n\\t\\t\\t\\n\\t\\t\\t\\n\\t\\t\\t<tr>\\n\\t\\t\\t\\t<th><span class=\"topicc text-overflow\"><a href=\"/python/python3%E7%94%9F%E6%88%90%E6%A0%87%E7%AD%BE%E4%BA%91.html\">python3生成标签云</a></span></th>\\n\\t\\t\\t\\t<th><i class=\"icon fa-calendar\"></i><a href=\"javascript:void(0)\"> 2016-09-07</a></th>\\n\\t\\t\\t\\t<th><a href=\"/showCategory.html?cat=python\">python</a></th>\\n\\t\\t\\t</tr>\\n\\t\\t\\t\\n\\t\\t\\t\\n\\t\\t\\t\\n\\t\\t\\t\\n\\t\\t\\t\\n\\t\\t\\t<tr>\\n\\t\\t\\t\\t<th><span class=\"topicc text-overflow\"><a href=\"/html/RGB%E9%A2%9C%E8%89%B2%E5%AF%B9%E7%85%A7%E5%9B%BE.html\">RGB颜色对照图</a></span></th>\\n\\t\\t\\t\\t<th><i class=\"icon fa-calendar\"></i><a href=\"javascript:void(0)\"> 2016-09-07</a></th>\\n\\t\\t\\t\\t<th><a href=\"/showCategory.html?cat=html\">html</a></th>\\n\\t\\t\\t</tr>\\n\\t\\t\\t\\n\\t\\t\\t\\n\\t\\t\\t\\n\\t\\t\\t\\n\\t\\t\\t\\n\\t\\t\\t<tr>\\n\\t\\t\\t\\t<th><span class=\"topicc text-overflow\"><a href=\"/python/python%E5%A4%9A%E7%BA%BF%E7%A8%8B%E8%B6%A3%E5%91%B3%E8%AF%A6%E8%A7%A3.html\">python多线程趣味详解</a></span></th>\\n\\t\\t\\t\\t<th><i class=\"icon fa-calendar\"></i><a href=\"javascript:void(0)\"> 2016-09-06</a></th>\\n\\t\\t\\t\\t<th><a href=\"/showCategory.html?cat=python\">python</a></th>\\n\\t\\t\\t</tr>\\n\\t\\t\\t\\n\\t\\t\\t\\n\\t\\t\\t\\n\\t\\t\\t\\n\\t\\t\\t\\n\\t\\t\\t<tr>\\n\\t\\t\\t\\t<th><span class=\"topicc text-overflow\"><a href=\"/selenium/python%E4%B9%8Bselenium.html\">python之selenium</a></span></th>\\n\\t\\t\\t\\t<th><i class=\"icon fa-calendar\"></i><a href=\"javascript:void(0)\"> 2016-09-05</a></th>\\n\\t\\t\\t\\t<th><a href=\"/showCategory.html?cat=selenium\">selenium</a></th>\\n\\t\\t\\t</tr>\\n\\t\\t\\t\\n\\t\\t\\t\\n\\t\\t\\t\\n\\t\\t\\t\\n\\t\\t\\t\\n\\t\\t\\t<tr>\\n\\t\\t\\t\\t<th><span class=\"topicc text-overflow\"><a href=\"/python/python%E6%95%B0%E6%8D%AE%E5%BA%93%E6%93%8D%E4%BD%9Cpymysql.html\">python数据库操作pymysql</a></span></th>\\n\\t\\t\\t\\t<th><i class=\"icon fa-calendar\"></i><a href=\"javascript:void(0)\"> 2016-08-30</a></th>\\n\\t\\t\\t\\t<th><a href=\"/showCategory.html?cat=python\">python</a></th>\\n\\t\\t\\t</tr>\\n\\t\\t\\t\\n\\t\\t\\t\\n\\t\\t\\t\\n\\t\\t\\t\\n\\t\\t\\t\\n\\t\\t\\t<tr>\\n\\t\\t\\t\\t<th><span class=\"topicc text-overflow\"><a href=\"/python/python3%E6%8A%93%E5%8F%96%E5%BC%82%E6%AD%A5%E7%99%BE%E5%BA%A6%E7%80%91%E5%B8%83%E6%B5%81%E5%8A%A8%E6%80%81%E5%9B%BE%E7%89%87-%E4%BA%8C-get-json%E4%B8%8B%E8%BD%BD%E4%BB%A3%E7%A0%81%E8%AE%B2%E8%A7%A3.html\">python3抓取异步百度瀑布流动态图片（二）get、json下载代码讲解</a></span></th>\\n\\t\\t\\t\\t<th><i class=\"icon fa-calendar\"></i><a href=\"javascript:void(0)\"> 2016-08-28</a></th>\\n\\t\\t\\t\\t<th><a href=\"/showCategory.html?cat=python\">python</a></th>\\n\\t\\t\\t</tr>\\n\\t\\t\\t\\n\\t\\t\\t\\n\\t\\t\\t\\n\\t\\t\\t\\n\\t\\t\\t\\n\\t\\t\\t<tr>\\n\\t\\t\\t\\t<th><span class=\"topicc text-overflow\"><a href=\"/python/python3%E6%8A%93%E5%8F%96%E5%BC%82%E6%AD%A5%E7%99%BE%E5%BA%A6%E7%80%91%E5%B8%83%E6%B5%81%E5%8A%A8%E6%80%81%E5%9B%BE%E7%89%87-%E4%B8%80-%E6%9F%A5%E6%89%BEpost%E5%B9%B6%E4%BC%AA%E8%A3%85%E5%A4%B4%E6%96%B9%E6%B3%95.html\">python3抓取异步百度瀑布流动态图片（一）查找post并伪装头方法</a></span></th>\\n\\t\\t\\t\\t<th><i class=\"icon fa-calendar\"></i><a href=\"javascript:void(0)\"> 2016-08-28</a></th>\\n\\t\\t\\t\\t<th><a href=\"/showCategory.html?cat=python\">python</a></th>\\n\\t\\t\\t</tr>\\n\\t\\t\\t\\n\\t\\t\\t\\n\\t\\t\\t\\n\\t\\t\\t\\n\\t\\t\\t\\n\\t\\t\\t<tr>\\n\\t\\t\\t\\t<th><span class=\"topicc text-overflow\"><a href=\"/java/java%E4%BB%8E%E9%9B%B6%E5%88%B0%E5%8F%98%E8%BA%AB%E7%88%AC%E8%99%AB%E5%A4%A7%E7%A5%9E-%E4%B8%80.html\">java从零到变身爬虫大神（一）</a></span></th>\\n\\t\\t\\t\\t<th><i class=\"icon fa-calendar\"></i><a href=\"javascript:void(0)\"> 2016-08-18</a></th>\\n\\t\\t\\t\\t<th><a href=\"/showCategory.html?cat=java\">java</a></th>\\n\\t\\t\\t</tr>\\n\\t\\t\\t\\n\\t\\t\\t\\n\\t\\t\\t\\n\\t\\t\\t\\n\\t\\t\\t\\n\\t\\t\\t<tr>\\n\\t\\t\\t\\t<th><span class=\"topicc text-overflow\"><a href=\"/git/github%E4%B8%8A%E4%BC%A0%E6%9C%AC%E5%9C%B0%E9%A1%B9%E7%9B%AE.html\">github上传本地项目</a></span></th>\\n\\t\\t\\t\\t<th><i class=\"icon fa-calendar\"></i><a href=\"javascript:void(0)\"> 2016-08-16</a></th>\\n\\t\\t\\t\\t<th><a href=\"/showCategory.html?cat=git\">git</a></th>\\n\\t\\t\\t</tr>\\n\\t\\t\\t\\n\\t\\t\\t\\n\\t\\t\\t\\n\\t\\t\\t\\n\\t\\t\\t\\n\\t\\t\\t<tr>\\n\\t\\t\\t\\t<th><span class=\"topicc text-overflow\"><a href=\"/matlab/matlab%E6%89%B9%E9%87%8F%E7%81%B0%E8%89%B2%E9%A2%84%E6%B5%8B.html\">matlab批量灰色预测</a></span></th>\\n\\t\\t\\t\\t<th><i class=\"icon fa-calendar\"></i><a href=\"javascript:void(0)\"> 2016-08-15</a></th>\\n\\t\\t\\t\\t<th><a href=\"/showCategory.html?cat=matlab\">matlab</a></th>\\n\\t\\t\\t</tr>\\n\\t\\t\\t\\n\\t\\t\\t\\n\\t\\t\\t\\n\\t\\t\\t\\n\\t\\t\\t\\n\\t\\t\\t<tr>\\n\\t\\t\\t\\t<th><span class=\"topicc text-overflow\"><a href=\"/mysql/mysql%E5%A4%8D%E4%B9%A0.html\">mysql复习</a></span></th>\\n\\t\\t\\t\\t<th><i class=\"icon fa-calendar\"></i><a href=\"javascript:void(0)\"> 2016-08-09</a></th>\\n\\t\\t\\t\\t<th><a href=\"/showCategory.html?cat=mysql\">mysql</a></th>\\n\\t\\t\\t</tr>\\n\\t\\t\\t\\n\\t\\t\\t\\n\\t\\t\\t\\n\\t\\t\\t\\n\\t\\t\\t\\n\\t\\t\\t<tr>\\n\\t\\t\\t\\t<th><span class=\"topicc text-overflow\"><a href=\"/html/css%E5%88%9D%E5%AD%A6.html\">css初学</a></span></th>\\n\\t\\t\\t\\t<th><i class=\"icon fa-calendar\"></i><a href=\"javascript:void(0)\"> 2016-08-06</a></th>\\n\\t\\t\\t\\t<th><a href=\"/showCategory.html?cat=html\">html</a></th>\\n\\t\\t\\t</tr>\\n\\t\\t\\t\\n\\t\\t\\t\\n\\t\\t\\t\\n\\t\\t\\t\\n\\t\\t\\t\\n\\t\\t\\t<tr>\\n\\t\\t\\t\\t<th><span class=\"topicc text-overflow\"><a href=\"/html/html%E5%88%9D%E5%AD%A6-%E4%B8%89.html\">html初学（三）</a></span></th>\\n\\t\\t\\t\\t<th><i class=\"icon fa-calendar\"></i><a href=\"javascript:void(0)\"> 2016-08-02</a></th>\\n\\t\\t\\t\\t<th><a href=\"/showCategory.html?cat=html\">html</a></th>\\n\\t\\t\\t</tr>\\n\\t\\t\\t\\n\\t\\t\\t\\n\\t\\t\\t\\n\\t\\t\\t\\n\\t\\t\\t\\n\\t\\t\\t<tr>\\n\\t\\t\\t\\t<th><span class=\"topicc text-overflow\"><a href=\"/html/html%E5%88%9D%E5%AD%A6-%E4%BA%8C.html\">html初学（二）</a></span></th>\\n\\t\\t\\t\\t<th><i class=\"icon fa-calendar\"></i><a href=\"javascript:void(0)\"> 2016-08-01</a></th>\\n\\t\\t\\t\\t<th><a href=\"/showCategory.html?cat=html\">html</a></th>\\n\\t\\t\\t</tr>\\n\\t\\t\\t\\n\\t\\t\\t\\n\\t\\t\\t\\n\\t\\t\\t\\n\\t\\t\\t\\n\\t\\t\\t<tr>\\n\\t\\t\\t\\t<th><span class=\"topicc text-overflow\"><a href=\"/html/html%E5%88%9D%E5%AD%A6-%E4%B8%80.html\">html初学（一）</a></span></th>\\n\\t\\t\\t\\t<th><i class=\"icon fa-calendar\"></i><a href=\"javascript:void(0)\"> 2016-08-01</a></th>\\n\\t\\t\\t\\t<th><a href=\"/showCategory.html?cat=html\">html</a></th>\\n\\t\\t\\t</tr>\\n\\t\\t\\t\\n\\t\\t\\t\\n\\t\\t\\t\\n\\t\\t\\t\\n\\t\\t\\t\\n\\t\\t\\t<tr>\\n\\t\\t\\t\\t<th><span class=\"topicc text-overflow\"><a href=\"/dataanalysis/EDM%E8%90%A5%E9%94%80%E7%AE%97%E6%B3%95.html\">EDM营销算法</a></span></th>\\n\\t\\t\\t\\t<th><i class=\"icon fa-calendar\"></i><a href=\"javascript:void(0)\"> 2016-07-25</a></th>\\n\\t\\t\\t\\t<th><a href=\"/showCategory.html?cat=dataanalysis\">dataanalysis</a></th>\\n\\t\\t\\t</tr>\\n\\t\\t\\t\\n\\t\\t\\t\\n\\t\\t\\t\\n\\t\\t\\t\\n\\t\\t\\t\\n\\t\\t\\t<tr>\\n\\t\\t\\t\\t<th><span class=\"topicc text-overflow\"><a href=\"/dataanalysis/python%E6%89%B9%E9%87%8F%E5%88%B6%E4%BD%9C%E9%9B%B7%E8%BE%BE%E5%9B%BE.html\">python批量制作雷达图</a></span></th>\\n\\t\\t\\t\\t<th><i class=\"icon fa-calendar\"></i><a href=\"javascript:void(0)\"> 2016-07-25</a></th>\\n\\t\\t\\t\\t<th><a href=\"/showCategory.html?cat=dataanalysis\">dataanalysis</a></th>\\n\\t\\t\\t</tr>\\n\\t\\t\\t\\n\\t\\t\\t\\n\\t\\t\\t\\n\\t\\t\\t\\n\\t\\t\\t\\n\\t\\t\\t<tr>\\n\\t\\t\\t\\t<th><span class=\"topicc text-overflow\"><a href=\"/markdown/markdown%E5%88%9D%E5%AD%A6.html\">markdown初学</a></span></th>\\n\\t\\t\\t\\t<th><i class=\"icon fa-calendar\"></i><a href=\"javascript:void(0)\"> 2016-07-23</a></th>\\n\\t\\t\\t\\t<th><a href=\"/showCategory.html?cat=markdown\">markdown</a></th>\\n\\t\\t\\t</tr>\\n\\t\\t\\t\\n\\t\\t\\t\\n\\t\\t\\t\\n\\t\\t\\t\\n\\t\\t\\t\\n\\t\\t\\t\\n\\t\\t\\t\\n\\t\\t\\t\\n\\t\\t\\t\\n\\t\\t\\t\\n\\t\\t\\t\\n\\t\\t\\t\\n\\t\\t\\t\\n\\t\\t\\t\\n\\t\\t\\t\\n\\t\\t\\t\\n\\t\\t\\t\\n\\t\\t\\t\\n\\t\\t\\t\\n\\t\\t\\t\\n\\t\\t\\t\\n\\t\\t\\t\\n\\t\\t\\t\\n\\t\\t\\t\\n\\t\\t\\t\\n\\t\\t\\t\\n\\t\\t\\t\\n\\t\\t\\t\\n\\t\\t\\t\\n\\t\\t\\t\\n\\t\\t\\t\\n\\t\\t\\t\\n\\t\\t\\t\\n\\t\\t\\t\\n\\t\\t\\t\\n\\t\\t\\t\\n\\t\\t\\t\\n\\t\\t\\t\\n\\t\\t\\t\\n\\t\\t\\t\\n\\t\\t\\t\\n\\t\\t\\t\\n\\t\\t\\t\\n\\t\\t\\t\\n\\t\\t\\t\\n\\t\\t\\t\\n\\t\\t\\t\\n\\t\\t\\t\\n\\t\\t\\t\\n\\t\\t\\t\\n\\t\\t\\t\\n\\t\\t\\t\\n\\t\\t\\t\\n\\t\\t\\t\\n\\t\\t\\t\\n\\t\\t\\t\\n\\t\\t\\t\\n\\t\\t\\t\\n\\t\\t\\t\\n\\t\\t\\t\\n\\t\\t\\t\\n\\t\\t\\t\\n\\t\\t\\t\\n\\t\\t\\t</tbody>\\n\\t\\t</table>\\n\\t</div>\\n\\n</div>\\n\\n<style>\\n\\t\\n.topicc {\\n    background: url(/static/jpg/wenzhang.gif) no-repeat left center;\\n\\tpadding-left: 20px;\\n\\tmargin: 0 10px 0 0;\\n\\t}\\n</style>\\n\\n    \\n<a class=\"gototop\" title=\"返回顶部\" target=\"_self\" href=\"javascript:void(0)\"></a>\\n<div style=\"background: url(\\'/static/jpg/suche_bg.jpg\\') repeat scroll 0 0 rgba(0, 0, 0, 0);border-top: 3px solid #a166ab;box-shadow:0 10px 10px 0 rgba(0, 0, 0, 0.15);margin-top: 20px\">\\n\\t<div class=\"container col-xs-12 col-sm-12 col-md-12\">\\n\\t\\t<div class=\"col-xs-3 col-sm-3 col-md-3\">\\n\\t\\t\\t<div id=\"footer\" class=\"text-muted\" style=\"clear:both;\">\\n\\t\\t\\t\\t<h2 style=\"font-family: Times New Roman;\">Fork me on Github</h2>\\n\\t\\t\\t\\t<a class=\"btn_orange\" title=\"Fork me on Github\" href=\"https://github.com/TTyb/TTyb.github.io\">Fork TTyb</a>\\n\\t\\t\\t</div>\\n\\t\\t</div>\\n\\t\\t<div class=\"col-xs-3 col-sm-3 col-md-3\">\\n\\t\\t\\t<div id=\"footer\" class=\"text-muted\">\\n\\t\\t\\t\\t<img src=\"/static/jpg/5996148-20171109092302138-1808466605.png\" alt=\"\"/>\\t\\t\\n\\t\\t\\t\\t<hr style=\"height:1px;border:none;border-top:1px dashed ;margin:20px 0 5px 0;\"/>\\n\\t\\t\\t\\t<ul class=\"icons text-muted\">\\n\\t\\t\\t\\t\\t<li><a href=\"/contact\" class=\"icon fa-weixin\" style=\"text-decoration: none;\"><span class=\"label\">QQ</span></a></li>\\n\\t\\t\\t\\t\\t<li><a href=\"https://github.com/TTyb\" class=\"icon fa-github fa-6\" style=\"text-decoration: none;\"><span class=\"label\">Github</span></a></li>\\n\\t\\t\\t\\t\\t<li><a href=\"mailto:420439007@qq.com\" class=\"icon fa-envelope fa-3\" style=\"text-decoration: none;\"><span class=\"label\">420439007@qq.com</span></a></li>\\n\\t\\t\\t\\t\\t<li><a href=\"http://www.cnblogs.com/TTyb\" class=\"icon fa-heart fa-3\" style=\"text-decoration: none;\"><span class=\"label\">TTyb</span></a></li>\\n\\t\\t\\t\\t\\t<li><a href=\"/cloud\" class=\"icon fa-cloud fa-3\" style=\"text-decoration: none;\"><span class=\"label\">云世界</span></a></li>\\n\\t\\t\\t\\t\\t<li><a href=\"/feed.xml\" class=\"icon fa-rss fa-3\" style=\"text-decoration: none;\"><span class=\"label\">RSS</span></a></li>\\n\\t\\t\\t\\t</ul>\\n\\n\\t\\t\\t</div>\\n\\t\\t</div>\\n\\t\\t<div class=\"col-xs-3 col-sm-3 col-md-3\">\\n\\t\\t\\t<div id=\"footer\" class=\"text-muted\">\\n\\t\\t\\t\\t<h3 style=\"font-size: 1.2em;font-family: KaiTi;\">无聊就想打码 打码使我快乐</h3>\\n\\t\\t\\t\\t<div style=\"font-size: 1.2em;font-family: KaiTi;\">\\n\\t\\t\\t\\t\\t不用多久<br/>\\n\\t\\t\\t\\t\\t我就会升职加薪<br/>\\n\\t\\t\\t\\t\\t当上总经理<br/>\\n\\t\\t\\t\\t\\t出任CEO<br/>\\n\\t\\t\\t\\t\\t迎娶白富美<br/>\\n\\t\\t\\t\\t\\t走上人生巅峰\\n\\t\\t\\t\\t</div>\\n\\t\\t\\t</div>\\n\\t\\t</div>\\n\\t\\t<div class=\"col-xs-3 col-sm-3 col-md-3\">\\n\\t\\t\\t<div id=\"footer\" class=\"text-muted\">\\n\\t\\t\\t\\t<h3 style=\"font-size: 1.2em;font-family: KaiTi;color: #FFFFFF\">网站导航</h3>\\n\\t\\t\\t\\t<div style=\"font-size: 1.2em;font-family: KaiTi;text-decoration: none;\">\\n\\t\\t\\t\\t<ul class=\"list-inline\">\\n\\t\\t\\t\\t\\t<li><a style=\"text-decoration: none;\" href=\"/\">网站首页</a></li>\\n\\t\\t\\t\\t\\t<li><a style=\"text-decoration: none;\" href=\"/topic\">文章随笔</a></li>\\n\\t\\t\\t\\t</ul>\\n\\t\\t\\t\\t<ul class=\"list-inline\">\\n\\t\\t\\t\\t\\t<li><a style=\"text-decoration: none;\" href=\"/category\">分类标签</a></li>\\n\\t\\t\\t\\t\\t<li><a style=\"text-decoration: none;\" href=\"/logs/log\">修订日志</a></li>\\n\\t\\t\\t\\t</ul>\\n\\t\\t\\t\\t<ul class=\"list-inline\">\\n\\t\\t\\t\\t\\t<li><a style=\"text-decoration: none;\" href=\"/crawlerfirst/_爬虫教程.html\">爬虫教程</a></li>\\n\\t\\t\\t\\t\\t<li><a style=\"text-decoration: none;\" href=\"/gitblogfirst/_建站教程.html\">建站教程</a></li>\\n\\t\\t\\t\\t</ul>\\n\\t\\t\\t\\t<ul class=\"list-inline\">\\n\\t\\t\\t\\t\\t<li><a style=\"text-decoration: none;\" href=\"/guestbook\">游客留言</a></li>\\n\\t\\t\\t\\t\\t<li><a style=\"text-decoration: none;\" href=\"/openSourceProject\">开源项目</a></li>\\n\\t\\t\\t\\t</ul>\\t\\t\\t\\t\\n\\t\\t\\t\\t</div>\\n\\t\\t\\t</div>\\n\\t\\t</div>\\n\\t</div>\\n\\t\\n\\t<div class=\"divider-demo\"></div>\\n\\t\\n\\t<footer id=\"footer\">\\n\\t\\t<p class=\"copyright text-muted\" style=\"padding: 0px; margin-bottom: 0px;\">Copyright &copy; 2017-2018 by <a href=\"http://www.tybai.com/\">TTyb</a>. All rights Reserved. <a href=\"http://www.miitbeian.gov.cn/\" target=\"_blank\">粤ICP备17055432号-1</a></br>\\n\\t\\tPowered by <a href=\"https://jekyllrb.com/\">Jekyll</a>, Hosted by <a href=\"https://github.com/\">Github</a>&nbsp;|&nbsp;<span id=\"busuanzi_container_site_pv\"><i class=\"fa fa-eye\"></i>&nbsp;<span id=\"busuanzi_value_site_pv\"></span></span><span id=\"busuanzi_container_site_uv\"></span>&nbsp;|&nbsp;<i class=\"fa fa-user\"></i>&nbsp;<span id=\"busuanzi_value_site_uv\"></span></br>\\n\\t\\t<!-- 站长统计 -->\\n\\t\\t<script type=\"text/javascript\">var cnzz_protocol = ((\"https:\" == document.location.protocol) ? \" https://\" : \" http://\");document.write(unescape(\"%3Cspan id=\\'cnzz_stat_icon_1261864966\\'%3E%3C/span%3E%3Cscript src=\\'\" + cnzz_protocol + \"s4.cnzz.com/z_stat.php%3Fid%3D1261864966%26online%3D1%26show%3Dline\\' type=\\'text/javascript\\'%3E%3C/script%3E\"));</script></p>\\n\\n\\t</footer>\\n<div>\\n\\n<script type=\"text/javascript\" src=\"/static/js/jquery.gototop.min.js\"></script>\\n<script type=\"text/javascript\">\\n    $(function(){\\n            // $(\".gototop\").gototop();\\n            $(\".gototop\").gototop({\\n                position : 0,\\n                duration : 1250,\\n                visibleAt : 300,\\n                classname : \"isvisible\"\\n            });\\n        });\\n</script>\\n\\n<style>\\n.divider-demo {\\n    background: url(\"/static/jpg/divider_line.png\") no-repeat scroll center bottom rgba(0, 0, 0, 0);\\n    clear: both;\\n    display: block;\\n    margin-bottom: -20px;\\n    padding-top: 38px;\\n    width: 100%;\\n}\\n@font-face {\\n\\tfont-family: Alex Brush;\\n\\tsrc: url(\"/static/fonts/Alex Brush.ttf\");\\n}\\na.btn_orange {\\n    border: 3px solid #cccccc;\\n    border-radius: 2px;\\n    box-shadow: 0 0 2px #666;\\n    display: inline-block;\\n    font-size: 14px;\\n    margin: 10px 0 10px 3px;\\n    padding: 10px 15px;\\n    text-shadow: 1px 1px 1px #000;\\n\\tcolor: #999;\\n    cursor: pointer;\\n    line-height: inherit;\\n    text-decoration: none;\\n\\tfont-family: Times New Roman;\\n}\\n</style>\\n\\n\\n</body>\\n\\n</html>\\n'"
      ]
     },
     "execution_count": 204,
     "metadata": {},
     "output_type": "execute_result"
    }
   ],
   "source": [
    "html_byte.decode(\"UTF-8\")"
   ]
  },
  {
   "cell_type": "markdown",
   "metadata": {},
   "source": [
    "# 提取\n",
    "## 利用正则表达式进行提取"
   ]
  },
  {
   "cell_type": "code",
   "execution_count": 65,
   "metadata": {},
   "outputs": [],
   "source": [
    "import re"
   ]
  },
  {
   "cell_type": "code",
   "execution_count": 207,
   "metadata": {
    "scrolled": true
   },
   "outputs": [
    {
     "name": "stdout",
     "output_type": "stream",
     "text": [
      "pyspark列合并为一行\n",
      "链家二手房楼盘爬虫\n",
      "hive新建分区表\n",
      "hive删除表和表中的数据\n",
      "csdn阅读更多需要注册登录csdn\n",
      "pandas和spark的dataframe互转\n",
      "代码转换为html显示\n",
      "subprocess实时获取结果和捕获错误\n",
      "ubuntu的vim取消缩进\n",
      "python3的socket使用\n",
      "centos7开放端口和防火墙设置\n",
      "python获取set-cookies\n",
      "TensorFlow使用GPU\n",
      "pandas的apply操作\n",
      "pandas列合并为一行\n",
      "python将字符串类型list转换成list\n",
      "pandas操作\n",
      "numpy操作\n",
      "Python3+Flask+uwsgi部署\n",
      "python将整数均分成N等分\n",
      "Windows7下安装pyspark\n",
      "python的append insert extend pop del remove使用\n",
      "马尔科夫链\n",
      "dataframe行变换为列\n",
      "scala获取某个时间间隔的时间\n",
      "Linux查看文件夹大小\n",
      "scala之reduceByKey操作\n",
      "将Spark Dataframe转换为Scala Map集合\n",
      "spark Could not write all entries\n",
      "spark按某几列删除dataframe重复行\n",
      "spark对elasticsearch增删查改\n",
      "hdfs创建删除文件和文件夹\n",
      "spark调用hdfsAPI\n",
      "hadoop退出安全模式Name node is in safe mode\n",
      "dataframe的select传入不定参数\n",
      "github pages代码高亮highlighter\n",
      "spark System memory must be at least\n",
      "python万能库\n",
      "spark计算两个DataFrame的差集、交集、合集\n",
      "Linux查看系统、核数、CPU、位数\n",
      "淘宝天猫商品抓取\n",
      "Linux suse 11 sp1 安装教程\n",
      "CSDN文章抓取\n",
      "python识别html主要文本框\n",
      "python之BeautifulSoup\n",
      "selenium下拉到页面最底端\n",
      "dataframe去除null、NaN和空字符串\n",
      "python之chardet库识别编码\n",
      "python读写excel\n",
      "scala时间和时间戳互转\n",
      "spark No FileSystem for scheme file 解决方法\n",
      "spark使用udf给dataFrame新增列\n",
      "Scala查询dataFrame结构\n",
      "Spark中SQL列合并为一行\n",
      "Linux清空文件内容\n",
      "xshell连接ubuntu\n",
      "scala调用Linux命令行\n",
      "scala用ssh2连接Linux\n",
      "scala的reduce\n",
      "多说关闭选用网易云跟帖\n",
      "github pages绑定域名\n",
      "scala转换date提取年月日时分秒\n",
      "python编译、运行、反编译pyc文件\n",
      "python批量启动多线程\n",
      "Linux中断程序命令\n",
      "scala中spark运行内存不足\n",
      "scala打包jar并在Linux下运行\n",
      "scala的input\n",
      "scala的break和continue\n",
      "scala合并Array\n",
      "scala读取配置文件\n",
      "scala读取解析json文件\n",
      "scala判断数据类型\n",
      "IntelliJ的Scala配置\n",
      "scala的map操作\n",
      "python获取当前路径\n",
      "python的StringIO\n",
      "python判断两个文件是否相同\n",
      "Linux查找文件内容\n",
      "python日志syslog运用\n",
      "python连接Linux命令行\n",
      "python日志模块\n",
      "scala安装教程\n",
      "python获取当前运行程序的名字\n",
      "python获取文件夹名字\n",
      "python时间和时间戳互转\n",
      "python判断文件是否存在\n",
      "python创建递归文件夹\n",
      "sklearn的kmeans测试\n",
      "python传入不确定个数参数\n",
      "python安装whl文件\n",
      "python3安装sklearn机器学习库\n",
      "Oracle绝对秒数转为时间戳\n",
      "微信红包算法\n",
      "Linux下python2和python3共存\n",
      "hadoop分布式搭建\n",
      "NaiveBayes朴素贝叶斯算法\n",
      "ID3决策树算法\n",
      "VMwareWorkstation下安装Linux\n",
      "微信小程序开发测试\n",
      "筛法求素数质数\n",
      "Agens层次聚类\n",
      "KNN近邻算法\n",
      "K-means聚类算法\n",
      "FP-tree推荐算法\n",
      "ChromeCrx\n",
      "apriori推荐算法\n",
      "python海龟图制作\n",
      "window安装jekyll\n",
      "Amazonz验证码机器算法识别\n",
      "selenium智联搜索\n",
      "selenium设置Chrome\n",
      "javascript获取浏览器属性\n",
      "javascript操控浏览器\n",
      "selenium加载时间过长\n",
      "win10Golang环境变量设置\n",
      "pycharm基本设置\n",
      "python3百度指数抓取\n",
      "selenium之xpath定位和input文本\n",
      "selenium多个窗口切换\n",
      "selenium下拉框选择\n",
      "git下载自己项目到本地\n",
      "selenium下载电子书\n",
      "python3生成标签云\n",
      "RGB颜色对照图\n",
      "python多线程趣味详解\n",
      "python之selenium\n",
      "python数据库操作pymysql\n",
      "python3抓取异步百度瀑布流动态图片（二）get、json下载代码讲解\n",
      "python3抓取异步百度瀑布流动态图片（一）查找post并伪装头方法\n",
      "java从零到变身爬虫大神（一）\n",
      "github上传本地项目\n",
      "matlab批量灰色预测\n",
      "mysql复习\n",
      "css初学\n",
      "html初学（三）\n",
      "html初学（二）\n",
      "html初学（一）\n",
      "EDM营销算法\n",
      "python批量制作雷达图\n",
      "markdown初学\n"
     ]
    }
   ],
   "source": [
    "reg = r'(<th><span class=\"topicc text-overflow\">)(.*)(.html\">)(.*)(</a></span></th>)'\n",
    "\n",
    "allreg = re.compile(reg)\n",
    "titleList = re.findall(allreg,html_byte.decode('UTF-8'))\n",
    "for i in titleList:\n",
    "    print(i[3])"
   ]
  },
  {
   "cell_type": "markdown",
   "metadata": {},
   "source": [
    "## BeautifulSoup4"
   ]
  },
  {
   "cell_type": "code",
   "execution_count": 21,
   "metadata": {},
   "outputs": [],
   "source": [
    "from bs4 import BeautifulSoup"
   ]
  },
  {
   "cell_type": "code",
   "execution_count": 134,
   "metadata": {},
   "outputs": [
    {
     "name": "stdout",
     "output_type": "stream",
     "text": [
      "pyspark列合并为一行\n",
      "链家二手房楼盘爬虫\n",
      "hive新建分区表\n",
      "hive删除表和表中的数据\n",
      "csdn阅读更多需要注册登录csdn\n",
      "pandas和spark的dataframe互转\n",
      "代码转换为html显示\n",
      "subprocess实时获取结果和捕获错误\n",
      "ubuntu的vim取消缩进\n",
      "python3的socket使用\n",
      "centos7开放端口和防火墙设置\n",
      "python获取set-cookies\n",
      "TensorFlow使用GPU\n",
      "pandas的apply操作\n",
      "pandas列合并为一行\n",
      "python将字符串类型list转换成list\n",
      "pandas操作\n",
      "numpy操作\n",
      "Python3+Flask+uwsgi部署\n",
      "python将整数均分成N等分\n",
      "Windows7下安装pyspark\n",
      "python的append insert extend pop del remove使用\n",
      "马尔科夫链\n",
      "dataframe行变换为列\n",
      "scala获取某个时间间隔的时间\n",
      "Linux查看文件夹大小\n",
      "scala之reduceByKey操作\n",
      "将Spark Dataframe转换为Scala Map集合\n",
      "spark Could not write all entries\n",
      "spark按某几列删除dataframe重复行\n",
      "spark对elasticsearch增删查改\n",
      "hdfs创建删除文件和文件夹\n",
      "spark调用hdfsAPI\n",
      "hadoop退出安全模式Name node is in safe mode\n",
      "dataframe的select传入不定参数\n",
      "github pages代码高亮highlighter\n",
      "spark System memory must be at least\n",
      "python万能库\n",
      "spark计算两个DataFrame的差集、交集、合集\n",
      "Linux查看系统、核数、CPU、位数\n",
      "淘宝天猫商品抓取\n",
      "Linux suse 11 sp1 安装教程\n",
      "CSDN文章抓取\n",
      "python识别html主要文本框\n",
      "python之BeautifulSoup\n",
      "selenium下拉到页面最底端\n",
      "dataframe去除null、NaN和空字符串\n",
      "python之chardet库识别编码\n",
      "python读写excel\n",
      "scala时间和时间戳互转\n",
      "spark No FileSystem for scheme file 解决方法\n",
      "spark使用udf给dataFrame新增列\n",
      "Scala查询dataFrame结构\n",
      "Spark中SQL列合并为一行\n",
      "Linux清空文件内容\n",
      "xshell连接ubuntu\n",
      "scala调用Linux命令行\n",
      "scala用ssh2连接Linux\n",
      "scala的reduce\n",
      "多说关闭选用网易云跟帖\n",
      "github pages绑定域名\n",
      "scala转换date提取年月日时分秒\n",
      "python编译、运行、反编译pyc文件\n",
      "python批量启动多线程\n",
      "Linux中断程序命令\n",
      "scala中spark运行内存不足\n",
      "scala打包jar并在Linux下运行\n",
      "scala的input\n",
      "scala的break和continue\n",
      "scala合并Array\n",
      "scala读取配置文件\n",
      "scala读取解析json文件\n",
      "scala判断数据类型\n",
      "IntelliJ的Scala配置\n",
      "scala的map操作\n",
      "python获取当前路径\n",
      "python的StringIO\n",
      "python判断两个文件是否相同\n",
      "Linux查找文件内容\n",
      "python日志syslog运用\n",
      "python连接Linux命令行\n",
      "python日志模块\n",
      "scala安装教程\n",
      "python获取当前运行程序的名字\n",
      "python获取文件夹名字\n",
      "python时间和时间戳互转\n",
      "python判断文件是否存在\n",
      "python创建递归文件夹\n",
      "sklearn的kmeans测试\n",
      "python传入不确定个数参数\n",
      "python安装whl文件\n",
      "python3安装sklearn机器学习库\n",
      "Oracle绝对秒数转为时间戳\n",
      "微信红包算法\n",
      "Linux下python2和python3共存\n",
      "hadoop分布式搭建\n",
      "NaiveBayes朴素贝叶斯算法\n",
      "ID3决策树算法\n",
      "VMwareWorkstation下安装Linux\n",
      "微信小程序开发测试\n",
      "筛法求素数质数\n",
      "Agens层次聚类\n",
      "KNN近邻算法\n",
      "K-means聚类算法\n",
      "FP-tree推荐算法\n",
      "ChromeCrx\n",
      "apriori推荐算法\n",
      "python海龟图制作\n",
      "window安装jekyll\n",
      "Amazonz验证码机器算法识别\n",
      "selenium智联搜索\n",
      "selenium设置Chrome\n",
      "javascript获取浏览器属性\n",
      "javascript操控浏览器\n",
      "selenium加载时间过长\n",
      "win10Golang环境变量设置\n",
      "pycharm基本设置\n",
      "python3百度指数抓取\n",
      "selenium之xpath定位和input文本\n",
      "selenium多个窗口切换\n",
      "selenium下拉框选择\n",
      "git下载自己项目到本地\n",
      "selenium下载电子书\n",
      "python3生成标签云\n",
      "RGB颜色对照图\n",
      "python多线程趣味详解\n",
      "python之selenium\n",
      "python数据库操作pymysql\n",
      "python3抓取异步百度瀑布流动态图片（二）get、json下载代码讲解\n",
      "python3抓取异步百度瀑布流动态图片（一）查找post并伪装头方法\n",
      "java从零到变身爬虫大神（一）\n",
      "github上传本地项目\n",
      "matlab批量灰色预测\n",
      "mysql复习\n",
      "css初学\n",
      "html初学（三）\n",
      "html初学（二）\n",
      "html初学（一）\n",
      "EDM营销算法\n",
      "python批量制作雷达图\n",
      "markdown初学\n"
     ]
    }
   ],
   "source": [
    "html = html_byte.decode(\"UTF-8\")\n",
    "# 初始化网页\n",
    "soup = BeautifulSoup(html, \"lxml\")\n",
    "\n",
    "infos = soup.find_all(\"span\", attrs={\"class\": \"topicc text-overflow\"})\n",
    "\n",
    "for i in infos:\n",
    "    print(i.get_text())"
   ]
  },
  {
   "cell_type": "markdown",
   "metadata": {},
   "source": [
    "## lxml"
   ]
  },
  {
   "cell_type": "code",
   "execution_count": 136,
   "metadata": {},
   "outputs": [],
   "source": [
    "from lxml import etree"
   ]
  },
  {
   "cell_type": "code",
   "execution_count": null,
   "metadata": {},
   "outputs": [],
   "source": [
    "/html/body/div[3]/div[2]/table"
   ]
  },
  {
   "cell_type": "markdown",
   "metadata": {},
   "source": [
    "# 下载图片"
   ]
  },
  {
   "cell_type": "code",
   "execution_count": 197,
   "metadata": {},
   "outputs": [],
   "source": [
    "html = urlopen('http://www.tybai.com/crawler/3_%E6%8A%93%E5%8F%96%E5%9B%BE%E7%89%87.html').read().decode('UTF-8')"
   ]
  },
  {
   "cell_type": "code",
   "execution_count": 210,
   "metadata": {},
   "outputs": [],
   "source": [
    "def reg(html):\n",
    "    reg = r'(img src=\")(.*)(\" class.*\")'\n",
    "    regValue = re.compile(reg)\n",
    "    alllist = re.findall(reg,html)\n",
    "    return alllist"
   ]
  },
  {
   "cell_type": "code",
   "execution_count": 213,
   "metadata": {},
   "outputs": [
    {
     "data": {
      "text/plain": [
       "['http://www.tybai.com//img/crawler3/result1.jpg',\n",
       " 'http://www.tybai.com//img/crawler3/result2.jpg',\n",
       " 'http://www.tybai.com//img/crawler3/result3.jpg',\n",
       " 'http://www.tybai.com//img/crawler3/result4.jpg',\n",
       " 'http://www.tybai.com//img/crawler3/result5.png',\n",
       " 'http://www.tybai.com//img/crawler3/result6.jpg']"
      ]
     },
     "execution_count": 213,
     "metadata": {},
     "output_type": "execute_result"
    }
   ],
   "source": [
    "imgList = reg(html)\n",
    "url_head='http://www.tybai.com/'\n",
    "url_result  = []\n",
    "for i in imgList:\n",
    "    url_result.append(url_head+i[1])\n",
    "url_result"
   ]
  },
  {
   "cell_type": "code",
   "execution_count": 219,
   "metadata": {
    "scrolled": true
   },
   "outputs": [],
   "source": [
    "image = 1\n",
    "import time\n",
    "for i in url_result:\n",
    "    res = urlopen(str(i)).read()\n",
    "    saving = open(str(image)+'.jpg','wb')\n",
    "    saving.write(res)\n",
    "    saving.close()\n",
    "    image+=1"
   ]
  },
  {
   "cell_type": "code",
   "execution_count": 239,
   "metadata": {
    "scrolled": true
   },
   "outputs": [
    {
     "name": "stdout",
     "output_type": "stream",
     "text": [
      "0.00\n",
      "17.00\n",
      "34.00\n",
      "51.00\n",
      "68.00\n",
      "85.00\n",
      "100.00\n",
      "0.00\n",
      "41.74\n",
      "83.49\n",
      "100.00\n",
      "0.00\n",
      "60.28\n",
      "100.00\n",
      "0.00\n",
      "67.62\n",
      "100.00\n",
      "0.00\n",
      "96.95\n",
      "100.00\n",
      "0.00\n",
      "61.40\n",
      "100.00\n"
     ]
    }
   ],
   "source": [
    "from urllib.request import urlretrieve\n",
    "\n",
    "def cbk(a,b,c):\n",
    "    per = 100.0*a*b/c\n",
    "    if per>100:\n",
    "        per= 100\n",
    "    print('%.2f'%per)\n",
    "imgname = 1\n",
    "for i in url_result:\n",
    "    work_path = str(imgname)+'.jpg'\n",
    "#     saving = open(str(imgname)+'.jpg','wb')\n",
    "    urlretrieve(i,work_path,cbk)\n",
    "    imgname+=1"
   ]
  },
  {
   "cell_type": "markdown",
   "metadata": {},
   "source": [
    "# 更换头部"
   ]
  },
  {
   "cell_type": "code",
   "execution_count": 241,
   "metadata": {
    "scrolled": true
   },
   "outputs": [
    {
     "data": {
      "text/plain": [
       "<http.client.HTTPResponse at 0x7f027cf46b00>"
      ]
     },
     "execution_count": 241,
     "metadata": {},
     "output_type": "execute_result"
    }
   ],
   "source": [
    "opener = urllib.request.build_opener()\n",
    "opener.addheaders = [\n",
    "    ('User-Agent','Mozilla/5.0 (Windows NT 10.0; WOW64) AppleWebKit/537.36 (KHTML, like Gecko) Chrome/47.0.2526.106 Safari/537.36'),('Referer','http://search.smzdm.com/?c=home&s=rimowa'),('Host', 'search.smzdm.com')\n",
    "]\n",
    "urllib.request.install_opener(opener)\n",
    "urlopen('http://search.smzdm.com/?c=home&s=rimowa&v=b')"
   ]
  },
  {
   "cell_type": "code",
   "execution_count": 251,
   "metadata": {},
   "outputs": [],
   "source": [
    "header = {'User-Agent': 'Mozilla/5.0 (Windows NT 10.0; WOW64) AppleWebKit/537.36 (KHTML, like Gecko) Chrome/47.0.2526.106 Safari/537.36',\n",
    "          'Referer': 'http://search.smzdm.com/?c=home&s=rimowa',\n",
    "          'Host': 'search.smzdm.com'}\n",
    "url = 'https://www.tmall.com/'\n",
    "html_bytes = requests.get(url = url,headers = header )"
   ]
  },
  {
   "cell_type": "markdown",
   "metadata": {},
   "source": [
    "# 多线程"
   ]
  },
  {
   "cell_type": "code",
   "execution_count": 253,
   "metadata": {},
   "outputs": [],
   "source": [
    "import threading"
   ]
  },
  {
   "cell_type": "code",
   "execution_count": 260,
   "metadata": {},
   "outputs": [],
   "source": [
    "def okr(a,b,c):\n",
    "    print('OK',end = '-')\n",
    "\n",
    "def downloadImg(url,ImgName):\n",
    "    urlretrieve(url,ImgName,okr)"
   ]
  },
  {
   "cell_type": "code",
   "execution_count": 263,
   "metadata": {},
   "outputs": [],
   "source": [
    "imgName= 1\n",
    "threadpool = []\n",
    "# 定义线程\n",
    "for i in url_result:\n",
    "    Name = str(imgName)+'.jpg'\n",
    "    th = threading.Thread(target = downloadImg,args = (i,Name))\n",
    "    threadpool.append(th)\n",
    "    imgName+=1\n",
    "for th in threadpool:\n",
    "    th.start()\n",
    "for rh in threadpool:\n",
    "    th.join"
   ]
  },
  {
   "cell_type": "markdown",
   "metadata": {},
   "source": [
    "# 模拟登陆"
   ]
  },
  {
   "cell_type": "markdown",
   "metadata": {},
   "source": [
    "没看懂"
   ]
  },
  {
   "cell_type": "code",
   "execution_count": 2,
   "metadata": {
    "hide_input": true,
    "scrolled": true
   },
   "outputs": [
    {
     "ename": "JSONDecodeError",
     "evalue": "Expecting value: line 1 column 1 (char 0)",
     "output_type": "error",
     "traceback": [
      "\u001b[0;31m---------------------------------------------------------------------------\u001b[0m",
      "\u001b[0;31mJSONDecodeError\u001b[0m                           Traceback (most recent call last)",
      "\u001b[0;32m<ipython-input-2-dac4506c908f>\u001b[0m in \u001b[0;36m<module>\u001b[0;34m()\u001b[0m\n\u001b[1;32m    150\u001b[0m     \u001b[0musername\u001b[0m \u001b[0;34m=\u001b[0m \u001b[0;34m\"sdhzgzc\"\u001b[0m\u001b[0;34m\u001b[0m\u001b[0m\n\u001b[1;32m    151\u001b[0m     \u001b[0mpassword\u001b[0m \u001b[0;34m=\u001b[0m \u001b[0;34m\"yiwang123\"\u001b[0m\u001b[0;34m\u001b[0m\u001b[0m\n\u001b[0;32m--> 152\u001b[0;31m     \u001b[0mlogin\u001b[0m\u001b[0;34m(\u001b[0m\u001b[0musername\u001b[0m\u001b[0;34m,\u001b[0m \u001b[0mpassword\u001b[0m\u001b[0;34m)\u001b[0m\u001b[0;34m\u001b[0m\u001b[0m\n\u001b[0m\u001b[1;32m    153\u001b[0m     \u001b[0mhome_page\u001b[0m \u001b[0;34m=\u001b[0m \u001b[0msession\u001b[0m\u001b[0;34m.\u001b[0m\u001b[0mget\u001b[0m\u001b[0;34m(\u001b[0m\u001b[0;34m\"https://passport.baidu.com/center\"\u001b[0m\u001b[0;34m,\u001b[0m \u001b[0mheaders\u001b[0m\u001b[0;34m=\u001b[0m\u001b[0mheaders\u001b[0m\u001b[0;34m)\u001b[0m\u001b[0;34m.\u001b[0m\u001b[0mcontent\u001b[0m\u001b[0;34m.\u001b[0m\u001b[0mdecode\u001b[0m\u001b[0;34m(\u001b[0m\u001b[0;34m\"utf-8\"\u001b[0m\u001b[0;34m,\u001b[0m \u001b[0;34m\"ignore\"\u001b[0m\u001b[0;34m)\u001b[0m\u001b[0;34m\u001b[0m\u001b[0m\n\u001b[1;32m    154\u001b[0m     \u001b[0mprint\u001b[0m\u001b[0;34m(\u001b[0m\u001b[0mhome_page\u001b[0m\u001b[0;34m)\u001b[0m\u001b[0;34m\u001b[0m\u001b[0m\n",
      "\u001b[0;32m<ipython-input-2-dac4506c908f>\u001b[0m in \u001b[0;36mlogin\u001b[0;34m(username, password)\u001b[0m\n\u001b[1;32m     89\u001b[0m \u001b[0;34m\u001b[0m\u001b[0m\n\u001b[1;32m     90\u001b[0m \u001b[0;32mdef\u001b[0m \u001b[0mlogin\u001b[0m\u001b[0;34m(\u001b[0m\u001b[0musername\u001b[0m\u001b[0;34m,\u001b[0m \u001b[0mpassword\u001b[0m\u001b[0;34m)\u001b[0m\u001b[0;34m:\u001b[0m\u001b[0;34m\u001b[0m\u001b[0m\n\u001b[0;32m---> 91\u001b[0;31m     \u001b[0mgid\u001b[0m \u001b[0;34m=\u001b[0m \u001b[0mget_gid\u001b[0m\u001b[0;34m(\u001b[0m\u001b[0;34m)\u001b[0m\u001b[0;34m\u001b[0m\u001b[0m\n\u001b[0m\u001b[1;32m     92\u001b[0m     \u001b[0mcallback\u001b[0m \u001b[0;34m=\u001b[0m \u001b[0mget_callback\u001b[0m\u001b[0;34m(\u001b[0m\u001b[0;34m)\u001b[0m\u001b[0;34m\u001b[0m\u001b[0m\n\u001b[1;32m     93\u001b[0m     \u001b[0mtoken\u001b[0m \u001b[0;34m=\u001b[0m \u001b[0mget_token\u001b[0m\u001b[0;34m(\u001b[0m\u001b[0mgid\u001b[0m\u001b[0;34m,\u001b[0m \u001b[0mcallback\u001b[0m\u001b[0;34m)\u001b[0m\u001b[0;34m\u001b[0m\u001b[0m\n",
      "\u001b[0;32m<ipython-input-2-dac4506c908f>\u001b[0m in \u001b[0;36mget_gid\u001b[0;34m()\u001b[0m\n\u001b[1;32m     27\u001b[0m \u001b[0;34m\u001b[0m\u001b[0m\n\u001b[1;32m     28\u001b[0m \u001b[0;32mdef\u001b[0m \u001b[0mget_gid\u001b[0m\u001b[0;34m(\u001b[0m\u001b[0;34m)\u001b[0m\u001b[0;34m:\u001b[0m\u001b[0;34m\u001b[0m\u001b[0m\n\u001b[0;32m---> 29\u001b[0;31m     \u001b[0;32mreturn\u001b[0m \u001b[0mctx\u001b[0m\u001b[0;34m.\u001b[0m\u001b[0mcall\u001b[0m\u001b[0;34m(\u001b[0m\u001b[0;34m\"gid\"\u001b[0m\u001b[0;34m)\u001b[0m\u001b[0;34m\u001b[0m\u001b[0m\n\u001b[0m\u001b[1;32m     30\u001b[0m \u001b[0;34m\u001b[0m\u001b[0m\n\u001b[1;32m     31\u001b[0m \u001b[0;34m\u001b[0m\u001b[0m\n",
      "\u001b[0;32m~/.pyenv/versions/anaconda3-5.3.1/lib/python3.7/site-packages/execjs/_abstract_runtime_context.py\u001b[0m in \u001b[0;36mcall\u001b[0;34m(self, name, *args)\u001b[0m\n\u001b[1;32m     35\u001b[0m         \u001b[0;32mif\u001b[0m \u001b[0;32mnot\u001b[0m \u001b[0mself\u001b[0m\u001b[0;34m.\u001b[0m\u001b[0mis_available\u001b[0m\u001b[0;34m(\u001b[0m\u001b[0;34m)\u001b[0m\u001b[0;34m:\u001b[0m\u001b[0;34m\u001b[0m\u001b[0m\n\u001b[1;32m     36\u001b[0m             \u001b[0;32mraise\u001b[0m \u001b[0mexecjs\u001b[0m\u001b[0;34m.\u001b[0m\u001b[0mRuntimeUnavailableError\u001b[0m\u001b[0;34m\u001b[0m\u001b[0m\n\u001b[0;32m---> 37\u001b[0;31m         \u001b[0;32mreturn\u001b[0m \u001b[0mself\u001b[0m\u001b[0;34m.\u001b[0m\u001b[0m_call\u001b[0m\u001b[0;34m(\u001b[0m\u001b[0mname\u001b[0m\u001b[0;34m,\u001b[0m \u001b[0;34m*\u001b[0m\u001b[0margs\u001b[0m\u001b[0;34m)\u001b[0m\u001b[0;34m\u001b[0m\u001b[0m\n\u001b[0m\u001b[1;32m     38\u001b[0m \u001b[0;34m\u001b[0m\u001b[0m\n\u001b[1;32m     39\u001b[0m     \u001b[0;34m@\u001b[0m\u001b[0mabstractmethod\u001b[0m\u001b[0;34m\u001b[0m\u001b[0m\n",
      "\u001b[0;32m~/.pyenv/versions/anaconda3-5.3.1/lib/python3.7/site-packages/execjs/_external_runtime.py\u001b[0m in \u001b[0;36m_call\u001b[0;34m(self, identifier, *args)\u001b[0m\n\u001b[1;32m     90\u001b[0m         \u001b[0;32mdef\u001b[0m \u001b[0m_call\u001b[0m\u001b[0;34m(\u001b[0m\u001b[0mself\u001b[0m\u001b[0;34m,\u001b[0m \u001b[0midentifier\u001b[0m\u001b[0;34m,\u001b[0m \u001b[0;34m*\u001b[0m\u001b[0margs\u001b[0m\u001b[0;34m)\u001b[0m\u001b[0;34m:\u001b[0m\u001b[0;34m\u001b[0m\u001b[0m\n\u001b[1;32m     91\u001b[0m             \u001b[0margs\u001b[0m \u001b[0;34m=\u001b[0m \u001b[0mjson\u001b[0m\u001b[0;34m.\u001b[0m\u001b[0mdumps\u001b[0m\u001b[0;34m(\u001b[0m\u001b[0margs\u001b[0m\u001b[0;34m)\u001b[0m\u001b[0;34m\u001b[0m\u001b[0m\n\u001b[0;32m---> 92\u001b[0;31m             \u001b[0;32mreturn\u001b[0m \u001b[0mself\u001b[0m\u001b[0;34m.\u001b[0m\u001b[0m_eval\u001b[0m\u001b[0;34m(\u001b[0m\u001b[0;34m\"{identifier}.apply(this, {args})\"\u001b[0m\u001b[0;34m.\u001b[0m\u001b[0mformat\u001b[0m\u001b[0;34m(\u001b[0m\u001b[0midentifier\u001b[0m\u001b[0;34m=\u001b[0m\u001b[0midentifier\u001b[0m\u001b[0;34m,\u001b[0m \u001b[0margs\u001b[0m\u001b[0;34m=\u001b[0m\u001b[0margs\u001b[0m\u001b[0;34m)\u001b[0m\u001b[0;34m)\u001b[0m\u001b[0;34m\u001b[0m\u001b[0m\n\u001b[0m\u001b[1;32m     93\u001b[0m \u001b[0;34m\u001b[0m\u001b[0m\n\u001b[1;32m     94\u001b[0m         \u001b[0;32mdef\u001b[0m \u001b[0m_exec_with_pipe\u001b[0m\u001b[0;34m(\u001b[0m\u001b[0mself\u001b[0m\u001b[0;34m,\u001b[0m \u001b[0msource\u001b[0m\u001b[0;34m)\u001b[0m\u001b[0;34m:\u001b[0m\u001b[0;34m\u001b[0m\u001b[0m\n",
      "\u001b[0;32m~/.pyenv/versions/anaconda3-5.3.1/lib/python3.7/site-packages/execjs/_external_runtime.py\u001b[0m in \u001b[0;36m_eval\u001b[0;34m(self, source)\u001b[0m\n\u001b[1;32m     76\u001b[0m \u001b[0;34m\u001b[0m\u001b[0m\n\u001b[1;32m     77\u001b[0m             \u001b[0mcode\u001b[0m \u001b[0;34m=\u001b[0m \u001b[0;34m'return eval({data})'\u001b[0m\u001b[0;34m.\u001b[0m\u001b[0mformat\u001b[0m\u001b[0;34m(\u001b[0m\u001b[0mdata\u001b[0m\u001b[0;34m=\u001b[0m\u001b[0mdata\u001b[0m\u001b[0;34m)\u001b[0m\u001b[0;34m\u001b[0m\u001b[0m\n\u001b[0;32m---> 78\u001b[0;31m             \u001b[0;32mreturn\u001b[0m \u001b[0mself\u001b[0m\u001b[0;34m.\u001b[0m\u001b[0mexec_\u001b[0m\u001b[0;34m(\u001b[0m\u001b[0mcode\u001b[0m\u001b[0;34m)\u001b[0m\u001b[0;34m\u001b[0m\u001b[0m\n\u001b[0m\u001b[1;32m     79\u001b[0m \u001b[0;34m\u001b[0m\u001b[0m\n\u001b[1;32m     80\u001b[0m         \u001b[0;32mdef\u001b[0m \u001b[0m_exec_\u001b[0m\u001b[0;34m(\u001b[0m\u001b[0mself\u001b[0m\u001b[0;34m,\u001b[0m \u001b[0msource\u001b[0m\u001b[0;34m)\u001b[0m\u001b[0;34m:\u001b[0m\u001b[0;34m\u001b[0m\u001b[0m\n",
      "\u001b[0;32m~/.pyenv/versions/anaconda3-5.3.1/lib/python3.7/site-packages/execjs/_abstract_runtime_context.py\u001b[0m in \u001b[0;36mexec_\u001b[0;34m(self, source)\u001b[0m\n\u001b[1;32m     16\u001b[0m         \u001b[0;32mif\u001b[0m \u001b[0;32mnot\u001b[0m \u001b[0mself\u001b[0m\u001b[0;34m.\u001b[0m\u001b[0mis_available\u001b[0m\u001b[0;34m(\u001b[0m\u001b[0;34m)\u001b[0m\u001b[0;34m:\u001b[0m\u001b[0;34m\u001b[0m\u001b[0m\n\u001b[1;32m     17\u001b[0m             \u001b[0;32mraise\u001b[0m \u001b[0mexecjs\u001b[0m\u001b[0;34m.\u001b[0m\u001b[0mRuntimeUnavailableError\u001b[0m\u001b[0;34m\u001b[0m\u001b[0m\n\u001b[0;32m---> 18\u001b[0;31m         \u001b[0;32mreturn\u001b[0m \u001b[0mself\u001b[0m\u001b[0;34m.\u001b[0m\u001b[0m_exec_\u001b[0m\u001b[0;34m(\u001b[0m\u001b[0msource\u001b[0m\u001b[0;34m)\u001b[0m\u001b[0;34m\u001b[0m\u001b[0m\n\u001b[0m\u001b[1;32m     19\u001b[0m \u001b[0;34m\u001b[0m\u001b[0m\n\u001b[1;32m     20\u001b[0m     \u001b[0;32mdef\u001b[0m \u001b[0meval\u001b[0m\u001b[0;34m(\u001b[0m\u001b[0mself\u001b[0m\u001b[0;34m,\u001b[0m \u001b[0msource\u001b[0m\u001b[0;34m)\u001b[0m\u001b[0;34m:\u001b[0m\u001b[0;34m\u001b[0m\u001b[0m\n",
      "\u001b[0;32m~/.pyenv/versions/anaconda3-5.3.1/lib/python3.7/site-packages/execjs/_external_runtime.py\u001b[0m in \u001b[0;36m_exec_\u001b[0;34m(self, source)\u001b[0m\n\u001b[1;32m     86\u001b[0m             \u001b[0;32melse\u001b[0m\u001b[0;34m:\u001b[0m\u001b[0;34m\u001b[0m\u001b[0m\n\u001b[1;32m     87\u001b[0m                 \u001b[0moutput\u001b[0m \u001b[0;34m=\u001b[0m \u001b[0mself\u001b[0m\u001b[0;34m.\u001b[0m\u001b[0m_exec_with_pipe\u001b[0m\u001b[0;34m(\u001b[0m\u001b[0msource\u001b[0m\u001b[0;34m)\u001b[0m\u001b[0;34m\u001b[0m\u001b[0m\n\u001b[0;32m---> 88\u001b[0;31m             \u001b[0;32mreturn\u001b[0m \u001b[0mself\u001b[0m\u001b[0;34m.\u001b[0m\u001b[0m_extract_result\u001b[0m\u001b[0;34m(\u001b[0m\u001b[0moutput\u001b[0m\u001b[0;34m)\u001b[0m\u001b[0;34m\u001b[0m\u001b[0m\n\u001b[0m\u001b[1;32m     89\u001b[0m \u001b[0;34m\u001b[0m\u001b[0m\n\u001b[1;32m     90\u001b[0m         \u001b[0;32mdef\u001b[0m \u001b[0m_call\u001b[0m\u001b[0;34m(\u001b[0m\u001b[0mself\u001b[0m\u001b[0;34m,\u001b[0m \u001b[0midentifier\u001b[0m\u001b[0;34m,\u001b[0m \u001b[0;34m*\u001b[0m\u001b[0margs\u001b[0m\u001b[0;34m)\u001b[0m\u001b[0;34m:\u001b[0m\u001b[0;34m\u001b[0m\u001b[0m\n",
      "\u001b[0;32m~/.pyenv/versions/anaconda3-5.3.1/lib/python3.7/site-packages/execjs/_external_runtime.py\u001b[0m in \u001b[0;36m_extract_result\u001b[0;34m(self, output)\u001b[0m\n\u001b[1;32m    157\u001b[0m             \u001b[0moutput_last_line\u001b[0m \u001b[0;34m=\u001b[0m \u001b[0moutput\u001b[0m\u001b[0;34m.\u001b[0m\u001b[0msplit\u001b[0m\u001b[0;34m(\u001b[0m\u001b[0;34m\"\\n\"\u001b[0m\u001b[0;34m)\u001b[0m\u001b[0;34m[\u001b[0m\u001b[0;34m-\u001b[0m\u001b[0;36m2\u001b[0m\u001b[0;34m]\u001b[0m\u001b[0;34m\u001b[0m\u001b[0m\n\u001b[1;32m    158\u001b[0m \u001b[0;34m\u001b[0m\u001b[0m\n\u001b[0;32m--> 159\u001b[0;31m             \u001b[0mret\u001b[0m \u001b[0;34m=\u001b[0m \u001b[0mjson\u001b[0m\u001b[0;34m.\u001b[0m\u001b[0mloads\u001b[0m\u001b[0;34m(\u001b[0m\u001b[0moutput_last_line\u001b[0m\u001b[0;34m)\u001b[0m\u001b[0;34m\u001b[0m\u001b[0m\n\u001b[0m\u001b[1;32m    160\u001b[0m             \u001b[0;32mif\u001b[0m \u001b[0mlen\u001b[0m\u001b[0;34m(\u001b[0m\u001b[0mret\u001b[0m\u001b[0;34m)\u001b[0m \u001b[0;34m==\u001b[0m \u001b[0;36m1\u001b[0m\u001b[0;34m:\u001b[0m\u001b[0;34m\u001b[0m\u001b[0m\n\u001b[1;32m    161\u001b[0m                 \u001b[0mret\u001b[0m \u001b[0;34m=\u001b[0m \u001b[0;34m[\u001b[0m\u001b[0mret\u001b[0m\u001b[0;34m[\u001b[0m\u001b[0;36m0\u001b[0m\u001b[0;34m]\u001b[0m\u001b[0;34m,\u001b[0m \u001b[0;32mNone\u001b[0m\u001b[0;34m]\u001b[0m\u001b[0;34m\u001b[0m\u001b[0m\n",
      "\u001b[0;32m~/.pyenv/versions/anaconda3-5.3.1/lib/python3.7/json/__init__.py\u001b[0m in \u001b[0;36mloads\u001b[0;34m(s, encoding, cls, object_hook, parse_float, parse_int, parse_constant, object_pairs_hook, **kw)\u001b[0m\n\u001b[1;32m    346\u001b[0m             \u001b[0mparse_int\u001b[0m \u001b[0;32mis\u001b[0m \u001b[0;32mNone\u001b[0m \u001b[0;32mand\u001b[0m \u001b[0mparse_float\u001b[0m \u001b[0;32mis\u001b[0m \u001b[0;32mNone\u001b[0m \u001b[0;32mand\u001b[0m\u001b[0;34m\u001b[0m\u001b[0m\n\u001b[1;32m    347\u001b[0m             parse_constant is None and object_pairs_hook is None and not kw):\n\u001b[0;32m--> 348\u001b[0;31m         \u001b[0;32mreturn\u001b[0m \u001b[0m_default_decoder\u001b[0m\u001b[0;34m.\u001b[0m\u001b[0mdecode\u001b[0m\u001b[0;34m(\u001b[0m\u001b[0ms\u001b[0m\u001b[0;34m)\u001b[0m\u001b[0;34m\u001b[0m\u001b[0m\n\u001b[0m\u001b[1;32m    349\u001b[0m     \u001b[0;32mif\u001b[0m \u001b[0mcls\u001b[0m \u001b[0;32mis\u001b[0m \u001b[0;32mNone\u001b[0m\u001b[0;34m:\u001b[0m\u001b[0;34m\u001b[0m\u001b[0m\n\u001b[1;32m    350\u001b[0m         \u001b[0mcls\u001b[0m \u001b[0;34m=\u001b[0m \u001b[0mJSONDecoder\u001b[0m\u001b[0;34m\u001b[0m\u001b[0m\n",
      "\u001b[0;32m~/.pyenv/versions/anaconda3-5.3.1/lib/python3.7/json/decoder.py\u001b[0m in \u001b[0;36mdecode\u001b[0;34m(self, s, _w)\u001b[0m\n\u001b[1;32m    335\u001b[0m \u001b[0;34m\u001b[0m\u001b[0m\n\u001b[1;32m    336\u001b[0m         \"\"\"\n\u001b[0;32m--> 337\u001b[0;31m         \u001b[0mobj\u001b[0m\u001b[0;34m,\u001b[0m \u001b[0mend\u001b[0m \u001b[0;34m=\u001b[0m \u001b[0mself\u001b[0m\u001b[0;34m.\u001b[0m\u001b[0mraw_decode\u001b[0m\u001b[0;34m(\u001b[0m\u001b[0ms\u001b[0m\u001b[0;34m,\u001b[0m \u001b[0midx\u001b[0m\u001b[0;34m=\u001b[0m\u001b[0m_w\u001b[0m\u001b[0;34m(\u001b[0m\u001b[0ms\u001b[0m\u001b[0;34m,\u001b[0m \u001b[0;36m0\u001b[0m\u001b[0;34m)\u001b[0m\u001b[0;34m.\u001b[0m\u001b[0mend\u001b[0m\u001b[0;34m(\u001b[0m\u001b[0;34m)\u001b[0m\u001b[0;34m)\u001b[0m\u001b[0;34m\u001b[0m\u001b[0m\n\u001b[0m\u001b[1;32m    338\u001b[0m         \u001b[0mend\u001b[0m \u001b[0;34m=\u001b[0m \u001b[0m_w\u001b[0m\u001b[0;34m(\u001b[0m\u001b[0ms\u001b[0m\u001b[0;34m,\u001b[0m \u001b[0mend\u001b[0m\u001b[0;34m)\u001b[0m\u001b[0;34m.\u001b[0m\u001b[0mend\u001b[0m\u001b[0;34m(\u001b[0m\u001b[0;34m)\u001b[0m\u001b[0;34m\u001b[0m\u001b[0m\n\u001b[1;32m    339\u001b[0m         \u001b[0;32mif\u001b[0m \u001b[0mend\u001b[0m \u001b[0;34m!=\u001b[0m \u001b[0mlen\u001b[0m\u001b[0;34m(\u001b[0m\u001b[0ms\u001b[0m\u001b[0;34m)\u001b[0m\u001b[0;34m:\u001b[0m\u001b[0;34m\u001b[0m\u001b[0m\n",
      "\u001b[0;32m~/.pyenv/versions/anaconda3-5.3.1/lib/python3.7/json/decoder.py\u001b[0m in \u001b[0;36mraw_decode\u001b[0;34m(self, s, idx)\u001b[0m\n\u001b[1;32m    353\u001b[0m             \u001b[0mobj\u001b[0m\u001b[0;34m,\u001b[0m \u001b[0mend\u001b[0m \u001b[0;34m=\u001b[0m \u001b[0mself\u001b[0m\u001b[0;34m.\u001b[0m\u001b[0mscan_once\u001b[0m\u001b[0;34m(\u001b[0m\u001b[0ms\u001b[0m\u001b[0;34m,\u001b[0m \u001b[0midx\u001b[0m\u001b[0;34m)\u001b[0m\u001b[0;34m\u001b[0m\u001b[0m\n\u001b[1;32m    354\u001b[0m         \u001b[0;32mexcept\u001b[0m \u001b[0mStopIteration\u001b[0m \u001b[0;32mas\u001b[0m \u001b[0merr\u001b[0m\u001b[0;34m:\u001b[0m\u001b[0;34m\u001b[0m\u001b[0m\n\u001b[0;32m--> 355\u001b[0;31m             \u001b[0;32mraise\u001b[0m \u001b[0mJSONDecodeError\u001b[0m\u001b[0;34m(\u001b[0m\u001b[0;34m\"Expecting value\"\u001b[0m\u001b[0;34m,\u001b[0m \u001b[0ms\u001b[0m\u001b[0;34m,\u001b[0m \u001b[0merr\u001b[0m\u001b[0;34m.\u001b[0m\u001b[0mvalue\u001b[0m\u001b[0;34m)\u001b[0m \u001b[0;32mfrom\u001b[0m \u001b[0;32mNone\u001b[0m\u001b[0;34m\u001b[0m\u001b[0m\n\u001b[0m\u001b[1;32m    356\u001b[0m         \u001b[0;32mreturn\u001b[0m \u001b[0mobj\u001b[0m\u001b[0;34m,\u001b[0m \u001b[0mend\u001b[0m\u001b[0;34m\u001b[0m\u001b[0m\n",
      "\u001b[0;31mJSONDecodeError\u001b[0m: Expecting value: line 1 column 1 (char 0)"
     ]
    }
   ],
   "source": [
    "import time\n",
    "import json\n",
    "import re\n",
    "import requests\n",
    "import execjs\n",
    "import rsa\n",
    "import base64\n",
    "import random\n",
    "\n",
    "js = \"\"\"function callback(){\n",
    "        return \"bd__cbs__\"+Math.floor(2147483648 * Math.random()).toString(36)\n",
    "    }\n",
    "    function gid(){\n",
    "        return \"xxxxxxx-xxxx-4xxx-yxxx-xxxxxxxxxxxx\".replace(/[xy]/g, function (e) {\n",
    "        var t = 16 * Math.random() | 0,\n",
    "        n = \"x\" == e ? t : 3 & t | 8;\n",
    "        return n.toString(16)\n",
    "        }).toUpperCase()\n",
    "    }\"\"\"\n",
    "ctx = execjs.compile(js)\n",
    "\n",
    "headers = {\"User-Agent\": \"Mozilla/5.0 (Windows NT 6.3; WOW64; rv:32.0) Gecko/20100101 Firefox/32.0\"}\n",
    "\n",
    "session = requests.session()\n",
    "session.get(\"https://passport.baidu.com/v2/?login\", headers=headers)\n",
    "\n",
    "\n",
    "def get_gid():\n",
    "    return ctx.call(\"gid\")\n",
    "\n",
    "\n",
    "def get_callback():\n",
    "    return ctx.call(\"callback\")\n",
    "\n",
    "\n",
    "def get_tt():\n",
    "    timerandom = random.randint(100, 999)\n",
    "    nowtime = int(time.time())\n",
    "    tt = str(nowtime) + str(timerandom)\n",
    "    return tt\n",
    "\n",
    "\n",
    "def get_token(gid, callback):\n",
    "    tt = get_tt()\n",
    "    tokendata = {\n",
    "        \"tpl\": \"pp\",\n",
    "        \"subpro\": \"\",\n",
    "        \"apiver\": \"v3\",\n",
    "        \"tt\": tt,\n",
    "        \"class\": \"login\",\n",
    "        \"gid\": gid,\n",
    "        \"logintype\": \"basicLogin\",\n",
    "        \"callback\": callback\n",
    "    }\n",
    "    headers.update(\n",
    "        dict(Referer=\"http://passport.baidu.com/\", Accept=\"*/*\", Connection=\"keep-alive\", Host=\"passport.baidu.com\"))\n",
    "    resp = session.get(url=\"https://passport.baidu.com/v2/api/?getapi\", params=tokendata, headers=headers)\n",
    "\n",
    "    data = json.loads(re.search(r\".*?\\((.*)\\)\", resp.text).group(1).replace(\"'\", '\"'))\n",
    "    token = data.get('data').get('token')\n",
    "    return token\n",
    "\n",
    "\n",
    "def get_rsakey(token, gid, callback):\n",
    "    tt = get_tt()\n",
    "    rsakeydata = {\n",
    "        \"token\": token,\n",
    "        \"tpl\": \"pp\",\n",
    "        \"subpro\": \"\",\n",
    "        \"apiver\": \"v3\",\n",
    "        \"tt\": tt,\n",
    "        \"gid\": gid,\n",
    "        \"callback\": callback,\n",
    "    }\n",
    "    resp = session.get(url=\"https://passport.baidu.com/v2/getpublickey\", headers=headers, params=rsakeydata)\n",
    "    data = json.loads(re.search(r\".*?\\((.*)\\)\", resp.text).group(1).replace(\"'\", '\"'))\n",
    "\n",
    "    dicts = {}\n",
    "    dicts[\"rsakey\"] = data.get(\"key\")\n",
    "    dicts[\"pubkey\"] = data.get(\"pubkey\")\n",
    "    return dicts\n",
    "\n",
    "\n",
    "def base64_password(password, pubkey):\n",
    "    pub = rsa.PublicKey.load_pkcs1_openssl_pem(pubkey.encode(\"utf-8\"))\n",
    "    encript_passwd = rsa.encrypt(password.encode(\"utf-8\"), pub)\n",
    "    return base64.b64encode(encript_passwd).decode(\"utf-8\")\n",
    "\n",
    "\n",
    "def login(username, password):\n",
    "    gid = get_gid()\n",
    "    callback = get_callback()\n",
    "    token = get_token(gid, callback)\n",
    "    dicts = get_rsakey(token, gid, callback)\n",
    "    tt = get_tt()\n",
    "    rsakey = dicts[\"rsakey\"]\n",
    "    pubkey = dicts[\"pubkey\"]\n",
    "    newpassword = base64_password(password, pubkey)\n",
    "\n",
    "    dv = \"\tMDExAAoAogALA44AJAAAAF00AAgCACOLiNbXsLCxIksfXhBXBUQJVglZCloFNmk2Wz5TMVQmdhdkFwwCAB-JmZmZmBNxJWQqbT9-M2wzYzBgPwxTDHkKbx1TMl86DAIAH4mJiYmIDhRAAU8IWhtWCVYGVQVaaTZpHG8KeDZXOl8IAgAJkZW2t97e31_ZCQIAJImKNjcyMjIyM1UbG08OQAdVFFkGWQlaClVmOWYTYAV3OVg1UAgCACGJilhZTU1NwvKm56nuvP2w77Dgs-O8j9CP-onsntCx3LkNAgAdkZGBnYXRkN6Zy4rHmMeXxJTL-Kf4jf6b6afGq84NAgAFkZGBj48NAgAFkZGaeHgMAgAfiZubm5uQ47f2uP-t7KH-ofGi8q2ewZ7rmP2PwaDNqBMCAFyRycnJodWh0aKYt5joifqJ-ZbkkL7cvdSwxeuI54ql0-HO8Z3ylfyStMH8lOCU5JeygLWGx-LQ5deRtIazgce31qXWpsm7z-GD4ovvmrTXuNXwwvfFg-CF65_6iAUCAASRkZGdAQIABpGTk4OO7hUCAAiRkZDP26GAkAQCAAaSkpCRopAWAgAisMSvn7GGsYG5jLWDsYS8iLCIvo6_jruLvISzhLSCu4u5gRcCABiQk7S0p_rS-8Cu9ZjotYnnvP2ew5j1mscQAgABkQYCACiRkZHW1tbW1tbW01xcXF2ampqfPz8_PLi4uL0dHR0eQkJCR_f39_SYBwIABJGRkZEJAgAkiYpkZWVlZWVlZc3NmdiW0YPCj9CP34zcg7DvsMW206HvjuOGBwIABJGRkZENAgAdkZGRU0sfXhBXBUQJVglZCloFNmk2QzBVJ2kIZQAHAgAEkZGRkQ0CAB2RkZpJUQVECk0fXhNME0MQQB8scyxZKk89cxJ_GgkCACSJilRVWVlZWVnXmJjMjcOE1pfahdqK2YnW5brlkOOG9LrbttMHAgAEkZGRkQkCAAyRkQgJGxsbGxp4rq4HAgAEkZGRkQgCAAmRkqSka2tqDsAJAgAkiYo-Pzk5OTk4usTEkNGf2IrLhtmG1oXVirnmucy_2qjmh-qPBwIABJGRkZEHAgAEkZGRkQwCAB-J7Ozs7WAnczJ8O2koZTplNWY2aVoFWi9cOUsFZAlsDAIAH4nr6-vqZGI2dzl-LG0gfyBwI3MsH0Afahl8DkAhTCkIAgAdhYHV1I-PjhUDVxZYH00MQR5BEUISTX4hfhh3BWg\"\n",
    "    # fp_info = \"\t25dc4e90f115ed0abe95320051d9bf8c002~~~~zyH0Qgd5Sc_g~~JwyF5BYh5mLx5Zo_yyF5BYh5mL-2~o_Q~eLrX~eLrL~~rS~~CAy0UrYzbPAm0A8Exm8EbdDzglYMrtIvg~JMCPIQ-jINrx8ExsAEnwAMCgJsYdAvWH1bbQIQCBDvbKApUOAm0HABPdGb2RJMngBEew8EWg1zCHIaWC8zew6ExSAMnh7zxtpMAOAqgdGQ0K8axwIvtHEm0dBv0PpvWUAQgd7zxtum0dIv0P56-t1~od5yxwIvtHEm0dBv0P0M2gGgrH8E8PI~PdGmlH8M2gG~cd5a-K1~5dAvWH1bCgIz2gINCCpBPdGvb~8vgQAMLdAvWH1bCgIz2gINCBpheYIvbhAzeKIBPdGb2BBhb-YsCKIqAOGgrpBveNDE-dAvWH1bbCtx1Z457otxIaHH9gtF3ZlG9Vtx~aO57T7zxtpMPOIz028M2PJKxwIvtHp0bmJEUgpvWUAQgdpmnO7zxtGMbsAEnNJEUg1zCHIaWZBw4nYhb9Y0lYIm0NDE-jINr~JEPluaxwIvtHYhx16M2xGQgdAzeYIm0NDE-jINrSuM2PIzAO1zCHIaWCppUPIzgqBbrH8E8PI~PdGblvBEgdDpC5pvWUAQgd1zCHIaW2DE2KIs2OANCXAzAPJQpK5ZqS7wxYpUrMpwbY1wC5BaWdGbbCpvlO8veqGzbsCMLjINrCp0rRIsCOCmnl8h0-1zCHIaWCppUlDEWYIm0NDE-jINrCppUlDEWMAEn1DMYdAvWH1bCgIz2gINCv0qxtIm0N1Egd7zxt8mlz8vxMAEn1DMYdAvWH1qbwIQngYE2KIQnl8ZPdGmrwA~5K1zCHIaWrAveyApb~GzeyJMYjINrtAvJS5yxwIvtHYECOJz0rYpUqAMCgJsYjINrrAveyApbrBpCg8v0~8Z5K1zCHIo__xg~oCg~oWg~oGg~rMy0jIpMAOAqgdGQ0K8aWdGbe-8ExHAEg3GvWUAQgd1qC5BaWpEb2BBKWpDvgSGvWUAKUPIzgS8mnlIN2zAMnSIQACuzedApUUGQg~8QlgIzetAExPIz8CuzedAEgdJM8gJNrlAQ0sDMCRCzgKAEAOua-Hp0bMAEnmJEUgpvWUAQgdpmnO1vxtJQbfJMLHINrSuM2PIzAO1vxtEqAYIm0N1b2RJMngpvePINCYIm0N1EgdAzeKCzgKAEAOuaWCppUlDEWYIm0NDExzIsnsAEnFDMYHp0b2JEgHpvWUAQgdAzeK8Q0yDQgh1vxt8mlz8v-HYE2KIQnl8brOGNClJzWgCve~8EUgINCvIsn4JMYHYECOJz0YCqAPIgl2BqAOGzUl8aWrAveyA0rqCzgdEqU5CzeKIEbh1qb~GzeyJMCvIsn4GhCl8vbvIsn4JMYHEqU50z0KGQgOIzezYE2KIQnl8qAOGzUSCvbhJpAOGzUl8aWrJsnOJzbhEqU5CvbhJ0rlJQ4lAQpHYECOJz0vIsn4CzWO8SwxCvbhJpAPIvpHYE2KIQnl8brOGNClJzWgCve~8EUgINCvIsn4JMYHYECOJz0YCqAPIgl2BqAOGzUl8aWrAveyA0rqCzgdEqU5CzeKIEbh1qb~GzeyJMCvIsn4GhCl8vbvIsn4JMYHEqU50z0KGQgOIzezYE2KIQnl8qAOGzUSCvbhJpAOGzUl8aWrJsnOJzbhEqU5CvbhJ0rlJQ4lAQpHYECOJz0vIsn4CzWO8SwxCvbhJpAPIvpHYECOJz0rYpUqAMCgJsY_B-0R~atqGl4ZZo5woqyBk4FmoqjqNVEY4M-LcxoRrOYR69LqtL7vpDj2-eQYsV37hjVbrBvhATooo69mKn-JWLLnw3g5ohixrg~rOg~r-g~rFg~rN~~cIyHuzL4Yh-_Hys8ExSGv0~DEAPAEY_~g~re~tLAdmaZs~~oag~of~vVvA99Eg~oRg~obg~odg~ohyT1BYd7BLs5BLS7ZoS5SGW5ZcU\"\n",
    "    # fp_uid = \"25dc4e90f115ed0abe95320051d9bf8c\"\n",
    "    post_data = {\n",
    "        \"staticpage\": \"https://passport.baidu.com/static/passpc-account/html/v3Jump.html\",\n",
    "        \"charset\": \"utf-8\",\n",
    "        \"token\": token,\n",
    "        \"tpl\": \"pp\",\n",
    "        \"subpro\": \"\",\n",
    "        \"apiver\": \"v3\",\n",
    "        \"tt\": tt,\n",
    "        \"codestring\": \"\",\n",
    "        \"safeflg\": 0,\n",
    "        \"u\": \"https://passport.baidu.com/center\",\n",
    "        \"isPhone\": \"\",\n",
    "        \"detect\": 1,\n",
    "        \"gid\": gid,\n",
    "        \"quick_user\": 0,\n",
    "        \"logintype\": \"basicLogin\",\n",
    "        \"logLoginType\": \"pc_loginBasic\",\n",
    "        \"idc\": \"\",\n",
    "        \"loginmerge\": \"true\",\n",
    "        \"foreignusername\": \"\",\n",
    "        \"username\": username,\n",
    "        \"password\": newpassword,\n",
    "        \"mem_pass\": \"on\",\n",
    "        \"rsakey\": rsakey,\n",
    "        \"crypttype\": 12,\n",
    "        \"ppui_logintime\": 33554,\n",
    "        \"countrycode\": \"\",\n",
    "        \"dv\": dv,\n",
    "        # \"traceid\":57308501,\n",
    "        # \"fp_info\":fp_info,\n",
    "        # \"fp_uid\":fp_uid,\n",
    "        \"callback\": \"parent.\" + callback\n",
    "    }\n",
    "    resp = session.post(url=\"https://passport.baidu.com/v2/api/?login\", data=post_data, headers=headers)\n",
    "    if username in resp.content.decode(\"utf-8\", \"ignore\"):\n",
    "        print(\"登陆成功\")\n",
    "    else:\n",
    "        print(\"登陆失败\")\n",
    "\n",
    "    cookies = requests.utils.dict_from_cookiejar(session.cookies)\n",
    "    print(cookies)\n",
    "\n",
    "    file = open(\"cookie.json\",\"w\")\n",
    "    file.write(json.dumps(cookies))\n",
    "    file.close()\n",
    "\n",
    "if __name__ == \"__main__\":\n",
    "    username = \"sdhzgzc\"\n",
    "    password = \"yiwang123\"\n",
    "    login(username, password)\n",
    "    home_page = session.get(\"https://passport.baidu.com/center\", headers=headers).content.decode(\"utf-8\", \"ignore\")\n",
    "    print(home_page)\n",
    "\n",
    "    # json_file = open(\"cookie.json\")\n",
    "    # cookies = json.load(json_file)\n",
    "    # json_file.close()\n",
    "    #\n",
    "    # header = {'User-Agent': 'Mozilla/5.0 (Windows NT 6.3; WOW64; rv:32.0) Gecko/20100101 Firefox/32.0',\n",
    "    #           'Host': 'passport.baidu.com',\n",
    "    #           'Accept': 'text/html,application/xhtml+xml,application/xml;q=0.9,*/*;q=0.8',\n",
    "    #           'Accept-Encoding': 'gzip, deflate',\n",
    "    #           'Accept-Language': 'zh-cn,zh;q=0.8,en-us;q=0.5,en;q=0.3',\n",
    "    #           'Connection': 'keep-alive'}\n",
    "    #\n",
    "    # home_page = requests.get(\"https://passport.baidu.com/center\", headers=headers,cookies=cookies).content.decode(\"utf-8\", \"ignore\")\n",
    "    # print(home_page)"
   ]
  },
  {
   "cell_type": "markdown",
   "metadata": {},
   "source": [
    "# 脚本控制浏览器"
   ]
  },
  {
   "cell_type": "code",
   "execution_count": 5,
   "metadata": {},
   "outputs": [],
   "source": [
    "import selenium\n",
    "from selenium import webdriver"
   ]
  },
  {
   "cell_type": "code",
   "execution_count": 10,
   "metadata": {},
   "outputs": [],
   "source": [
    "url = 'https://www.baidu.com/'\n",
    "broweser = webdriver.Chrome()\n",
    "\n",
    "broweser.get(url)\n",
    "\n",
    "broweser.find_element_by_id('kw').clear()\n",
    "\n",
    "broweser.find_element_by_id('kw').send_keys('TTyb')\n",
    "\n",
    "broweser.find_element_by_id('su').click()"
   ]
  },
  {
   "cell_type": "code",
   "execution_count": 13,
   "metadata": {},
   "outputs": [],
   "source": [
    "url = 'https://chaoshi.tmall.com/?targetPage=index'\n",
    "\n",
    "item = '进口纯牛奶'\n",
    "\n",
    "broweser = webdriver.Chrome()\n",
    "\n",
    "broweser.get(url)\n",
    "\n",
    "broweser.find_element_by_xpath('//*[@id=\"mq\"]').clear()\n",
    "\n",
    "broweser.find_element_by_xpath('//*[@id=\"mq\"]').send_keys(item)\n",
    "\n",
    "broweser.find_element_by_xpath('//*[@id=\"mallSearch\"]/form/fieldset/div/button').click()\n",
    "\n",
    "broweser.find_element_by_xpath('//*[@id=\"J_RecommendProp\"]/div/a').click()"
   ]
  },
  {
   "cell_type": "code",
   "execution_count": 24,
   "metadata": {},
   "outputs": [
    {
     "name": "stderr",
     "output_type": "stream",
     "text": [
      "/home/carlous/.pyenv/versions/anaconda3-5.3.1/lib/python3.7/site-packages/ipykernel_launcher.py:15: DeprecationWarning: use options instead of chrome_options\n",
      "  from ipykernel import kernelapp as app\n",
      "/home/carlous/.pyenv/versions/anaconda3-5.3.1/lib/python3.7/site-packages/ipykernel_launcher.py:23: DeprecationWarning: use driver.switch_to.window instead\n",
      "/home/carlous/.pyenv/versions/anaconda3-5.3.1/lib/python3.7/site-packages/ipykernel_launcher.py:25: DeprecationWarning: use driver.switch_to.window instead\n"
     ]
    }
   ],
   "source": [
    "url = 'http://image.baidu.com/'\n",
    "\n",
    "item = '进口纯牛奶'\n",
    "\n",
    "options = webdriver.ChromeOptions()\n",
    "\n",
    "options.add_argument('lang=zh_CN.UTF-8')\n",
    "options.add_argument('user-agent=\"Mozilla/5.0 (iPod; U; CPU iPhone OS 2_1 like Mac OS X; ja-jp) AppleWebKit/525.18.1 (KHTML, like Gecko) Version/3.1.1 Mobile/5F137 Safari/525.20\"')\n",
    "# prefs = {\n",
    "#     'profile.default_content_setting_values': {\n",
    "#     'images': 2\n",
    "#     }\n",
    "# }\n",
    "# options.add_experimental_option('prefs',prefs)\n",
    "browser = webdriver.Chrome(chrome_options=options)\n",
    "\n",
    "browser.get(url)\n",
    "\n",
    "newwidow = \"window.open('https://www.baidu.com');\"\n",
    "browser.execute_script(newwidow)\n",
    "\n",
    "handles = browser.window_handles\n",
    "browser.switch_to_window(handles[-1])\n",
    "\n",
    "browser.switch_to_window(handles[0])\n",
    "\n",
    "browser.delete_all_cookies()\n",
    "\n",
    "browser.add_cookie({'name':'ABC','value':'DEF'})\n",
    "browser.execute_script(newwidow)\n",
    "\n",
    "browser.set_page_load_timeout(90)\n",
    "\n",
    "try:\n",
    "    browser.get(url)\n",
    "except:\n",
    "    browser.execute_script('window.stop()')"
   ]
  },
  {
   "cell_type": "code",
   "execution_count": 28,
   "metadata": {
    "collapsed": true
   },
   "outputs": [
    {
     "name": "stderr",
     "output_type": "stream",
     "text": [
      "/home/carlous/.pyenv/versions/anaconda3-5.3.1/lib/python3.7/site-packages/ipykernel_launcher.py:12: DeprecationWarning: use options instead of chrome_options\n",
      "  if sys.path[0] == '':\n"
     ]
    },
    {
     "name": "stdout",
     "output_type": "stream",
     "text": [
      "Loading......\n",
      "Not in the end......\n",
      "Not in the end......\n",
      "Not in the end......\n"
     ]
    },
    {
     "ename": "WebDriverException",
     "evalue": "Message: chrome not reachable\n  (Session info: chrome=71.0.3578.98)\n  (Driver info: chromedriver=71.0.3578.80 (2ac50e7249fbd55e6f517a28131605c9fb9fe897),platform=Linux 4.15.0-43-generic x86_64)\n",
     "output_type": "error",
     "traceback": [
      "\u001b[0;31m---------------------------------------------------------------------------\u001b[0m",
      "\u001b[0;31mWebDriverException\u001b[0m                        Traceback (most recent call last)",
      "\u001b[0;32m<ipython-input-28-bc4dbb8e3f43>\u001b[0m in \u001b[0;36m<module>\u001b[0;34m()\u001b[0m\n\u001b[1;32m     41\u001b[0m \u001b[0;34m\u001b[0m\u001b[0m\n\u001b[1;32m     42\u001b[0m \u001b[0;32mwhile\u001b[0m\u001b[0;34m(\u001b[0m\u001b[0;32mTrue\u001b[0m\u001b[0;34m)\u001b[0m\u001b[0;34m:\u001b[0m\u001b[0;34m\u001b[0m\u001b[0m\n\u001b[0;32m---> 43\u001b[0;31m     \u001b[0;32mif\u001b[0m \u001b[0;34m\"scroll-done\"\u001b[0m \u001b[0;32min\u001b[0m \u001b[0mbrowser\u001b[0m\u001b[0;34m.\u001b[0m\u001b[0mtitle\u001b[0m\u001b[0;34m:\u001b[0m\u001b[0;34m\u001b[0m\u001b[0m\n\u001b[0m\u001b[1;32m     44\u001b[0m         \u001b[0;32mbreak\u001b[0m\u001b[0;34m\u001b[0m\u001b[0m\n\u001b[1;32m     45\u001b[0m     \u001b[0;32melse\u001b[0m\u001b[0;34m:\u001b[0m\u001b[0;34m\u001b[0m\u001b[0m\n",
      "\u001b[0;32m~/.pyenv/versions/anaconda3-5.3.1/lib/python3.7/site-packages/selenium/webdriver/remote/webdriver.py\u001b[0m in \u001b[0;36mtitle\u001b[0;34m(self)\u001b[0m\n\u001b[1;32m    340\u001b[0m             \u001b[0mtitle\u001b[0m \u001b[0;34m=\u001b[0m \u001b[0mdriver\u001b[0m\u001b[0;34m.\u001b[0m\u001b[0mtitle\u001b[0m\u001b[0;34m\u001b[0m\u001b[0m\n\u001b[1;32m    341\u001b[0m         \"\"\"\n\u001b[0;32m--> 342\u001b[0;31m         \u001b[0mresp\u001b[0m \u001b[0;34m=\u001b[0m \u001b[0mself\u001b[0m\u001b[0;34m.\u001b[0m\u001b[0mexecute\u001b[0m\u001b[0;34m(\u001b[0m\u001b[0mCommand\u001b[0m\u001b[0;34m.\u001b[0m\u001b[0mGET_TITLE\u001b[0m\u001b[0;34m)\u001b[0m\u001b[0;34m\u001b[0m\u001b[0m\n\u001b[0m\u001b[1;32m    343\u001b[0m         \u001b[0;32mreturn\u001b[0m \u001b[0mresp\u001b[0m\u001b[0;34m[\u001b[0m\u001b[0;34m'value'\u001b[0m\u001b[0;34m]\u001b[0m \u001b[0;32mif\u001b[0m \u001b[0mresp\u001b[0m\u001b[0;34m[\u001b[0m\u001b[0;34m'value'\u001b[0m\u001b[0;34m]\u001b[0m \u001b[0;32mis\u001b[0m \u001b[0;32mnot\u001b[0m \u001b[0;32mNone\u001b[0m \u001b[0;32melse\u001b[0m \u001b[0;34m\"\"\u001b[0m\u001b[0;34m\u001b[0m\u001b[0m\n\u001b[1;32m    344\u001b[0m \u001b[0;34m\u001b[0m\u001b[0m\n",
      "\u001b[0;32m~/.pyenv/versions/anaconda3-5.3.1/lib/python3.7/site-packages/selenium/webdriver/remote/webdriver.py\u001b[0m in \u001b[0;36mexecute\u001b[0;34m(self, driver_command, params)\u001b[0m\n\u001b[1;32m    319\u001b[0m         \u001b[0mresponse\u001b[0m \u001b[0;34m=\u001b[0m \u001b[0mself\u001b[0m\u001b[0;34m.\u001b[0m\u001b[0mcommand_executor\u001b[0m\u001b[0;34m.\u001b[0m\u001b[0mexecute\u001b[0m\u001b[0;34m(\u001b[0m\u001b[0mdriver_command\u001b[0m\u001b[0;34m,\u001b[0m \u001b[0mparams\u001b[0m\u001b[0;34m)\u001b[0m\u001b[0;34m\u001b[0m\u001b[0m\n\u001b[1;32m    320\u001b[0m         \u001b[0;32mif\u001b[0m \u001b[0mresponse\u001b[0m\u001b[0;34m:\u001b[0m\u001b[0;34m\u001b[0m\u001b[0m\n\u001b[0;32m--> 321\u001b[0;31m             \u001b[0mself\u001b[0m\u001b[0;34m.\u001b[0m\u001b[0merror_handler\u001b[0m\u001b[0;34m.\u001b[0m\u001b[0mcheck_response\u001b[0m\u001b[0;34m(\u001b[0m\u001b[0mresponse\u001b[0m\u001b[0;34m)\u001b[0m\u001b[0;34m\u001b[0m\u001b[0m\n\u001b[0m\u001b[1;32m    322\u001b[0m             response['value'] = self._unwrap_value(\n\u001b[1;32m    323\u001b[0m                 response.get('value', None))\n",
      "\u001b[0;32m~/.pyenv/versions/anaconda3-5.3.1/lib/python3.7/site-packages/selenium/webdriver/remote/errorhandler.py\u001b[0m in \u001b[0;36mcheck_response\u001b[0;34m(self, response)\u001b[0m\n\u001b[1;32m    240\u001b[0m                 \u001b[0malert_text\u001b[0m \u001b[0;34m=\u001b[0m \u001b[0mvalue\u001b[0m\u001b[0;34m[\u001b[0m\u001b[0;34m'alert'\u001b[0m\u001b[0;34m]\u001b[0m\u001b[0;34m.\u001b[0m\u001b[0mget\u001b[0m\u001b[0;34m(\u001b[0m\u001b[0;34m'text'\u001b[0m\u001b[0;34m)\u001b[0m\u001b[0;34m\u001b[0m\u001b[0m\n\u001b[1;32m    241\u001b[0m             \u001b[0;32mraise\u001b[0m \u001b[0mexception_class\u001b[0m\u001b[0;34m(\u001b[0m\u001b[0mmessage\u001b[0m\u001b[0;34m,\u001b[0m \u001b[0mscreen\u001b[0m\u001b[0;34m,\u001b[0m \u001b[0mstacktrace\u001b[0m\u001b[0;34m,\u001b[0m \u001b[0malert_text\u001b[0m\u001b[0;34m)\u001b[0m\u001b[0;34m\u001b[0m\u001b[0m\n\u001b[0;32m--> 242\u001b[0;31m         \u001b[0;32mraise\u001b[0m \u001b[0mexception_class\u001b[0m\u001b[0;34m(\u001b[0m\u001b[0mmessage\u001b[0m\u001b[0;34m,\u001b[0m \u001b[0mscreen\u001b[0m\u001b[0;34m,\u001b[0m \u001b[0mstacktrace\u001b[0m\u001b[0;34m)\u001b[0m\u001b[0;34m\u001b[0m\u001b[0m\n\u001b[0m\u001b[1;32m    243\u001b[0m \u001b[0;34m\u001b[0m\u001b[0m\n\u001b[1;32m    244\u001b[0m     \u001b[0;32mdef\u001b[0m \u001b[0m_value_or_default\u001b[0m\u001b[0;34m(\u001b[0m\u001b[0mself\u001b[0m\u001b[0;34m,\u001b[0m \u001b[0mobj\u001b[0m\u001b[0;34m,\u001b[0m \u001b[0mkey\u001b[0m\u001b[0;34m,\u001b[0m \u001b[0mdefault\u001b[0m\u001b[0;34m)\u001b[0m\u001b[0;34m:\u001b[0m\u001b[0;34m\u001b[0m\u001b[0m\n",
      "\u001b[0;31mWebDriverException\u001b[0m: Message: chrome not reachable\n  (Session info: chrome=71.0.3578.98)\n  (Driver info: chromedriver=71.0.3578.80 (2ac50e7249fbd55e6f517a28131605c9fb9fe897),platform=Linux 4.15.0-43-generic x86_64)\n"
     ]
    }
   ],
   "source": [
    "url = \"https://image.baidu.com/search/index?tn=baiduimage&ipn=r&ct=201326592&cl=2&lm=-1&st=-1&fm=index&fr=&hs=0&xthttps=111111&sf=1&fmq=&pv=&ic=0&nc=1&z=&se=1&showtab=0&fb=0&width=&height=&face=0&istype=2&ie=utf-8&word=21&oq=21&rsp=-1\"\n",
    "options = webdriver.ChromeOptions()\n",
    "\n",
    "options.add_argument('lang=zh_CN.UTF-8')\n",
    "options.add_argument('user-agent=\"Mozilla/5.0 (iPod; U; CPU iPhone OS 2_1 like Mac OS X; ja-jp) AppleWebKit/525.18.1 (KHTML, like Gecko) Version/3.1.1 Mobile/5F137 Safari/525.20\"')\n",
    "# prefs = {\n",
    "#     'profile.default_content_setting_values': {\n",
    "#     'images': 2\n",
    "#     }\n",
    "# }\n",
    "# options.add_experimental_option('prefs',prefs)\n",
    "browser = webdriver.Chrome(chrome_options=options)\n",
    "browser.set_page_load_timeout(90)\n",
    "\n",
    "try:\n",
    "    browser.get(url)\n",
    "    time.sleep(10)\n",
    "except:\n",
    "    browser.execute_script('window.stop()')\n",
    "browser.execute_script(\"\"\"\n",
    "\t(function () {\n",
    "\t\tvar y = 0;\n",
    "\t\tvar step = 100;\n",
    "\t\twindow.scroll(0, 0);\n",
    "\n",
    "\t\tfunction f() {\n",
    "\t\t\tif (y < document.body.scrollHeight) {\n",
    "\t\t\t\ty += step;\n",
    "\t\t\t\twindow.scroll(0, y);\n",
    "\t\t\t\tsetTimeout(f, 100);\n",
    "\t\t\t} else {\n",
    "\t\t\t\twindow.scroll(0, 0);\n",
    "\t\t\t\tdocument.title += \"scroll-done\";\n",
    "\t\t\t}\n",
    "\t\t}\n",
    "\n",
    "\t\tsetTimeout(f, 1000);\n",
    "\t})();\n",
    "\"\"\")\n",
    "print('Loading......')\n",
    "\n",
    "while(True):\n",
    "    if \"scroll-done\" in browser.title:\n",
    "        break\n",
    "    else:\n",
    "        print('Not in the end......')\n",
    "        time.sleep(10)"
   ]
  },
  {
   "cell_type": "code",
   "execution_count": null,
   "metadata": {},
   "outputs": [],
   "source": [
    "# GET /search/acjson?tn=resultjson_com&ipn=rj&ct=201326592&is=&fp=result&queryWord=%E5%9B%BE%E7%89%87&cl=2&lm=-1&ie=utf-8&oe=utf-8&adpicid=&st=&z=&ic=&hd=&latest=&copyright=&word=%E5%9B%BE%E7%89%87&s=&se=&tab=&width=&height=&face=&istype=&qc=&nc=&fr=&expermode=&force=&pn=180&rn=30&gsm=b4&1546926140888= HTTP/1.1\n",
    "# Host: image.baidu.com\n",
    "Connection: keep-alive\n",
    "Accept: text/plain, */*; q=0.01\n",
    "X-Requested-With: XMLHttpRequest\n",
    "User-Agent: Mozilla/5.0 (X11; Linux x86_64) AppleWebKit/537.36 (KHTML, like Gecko) Chrome/71.0.3578.98 Safari/537.36\n",
    "#　Referer: http://image.baidu.com/search/index?tn=baiduimage&ct=201326592&lm=-1&cl=2&ie=gb18030&word=%CD%BC%C6%AC&fr=ala&ala=1&alatpl=others&pos=0\n",
    "Accept-Encoding: gzip, deflate\n",
    "Accept-Language: zh-CN,zh;q=0.9,en;q=0.8,en-US;q=0.7,ja;q=0.6\n",
    "Cookie: BDqhfp=%CD%BC%C6%AC%26%26NaN-1undefined%26%262300%26%264; BAIDUID=0A9419B3DA4FA846DB77BFD8279C1C0E:FG=1; PSTM=1546916563; BIDUPSID=9309494F198622978F1B123758AD4C26; BDORZ=B490B5EBF6F3CD402E515D22BCDA1598; H_PS_PSSID=1451_21078_28205_28132_28266_28140_20719; BDSFRCVID=MKPsJeCCxG3Jo0R9b5fZ-Dpkclc3GHWknEah3J; H_BDCLCKID_SF=JJ4O_C-5tCvKeJbYK4oj5KCyMfca5C6JKCOa3RA8Kb7Vbp6o0bbkbftd2-teBt4jLJ5a_RQuHlb2jnO1-Tbnyh-fh4oKaTJZfD7H3KCbJKt5Mf5; firstShowTip=1; indexPageSugList=%5B%2221%22%5D; cleanHistoryStatus=0; delPer=0; PSINO=7; BDRCVFR[dG2JNJb_ajR]=mk3SLVN4HKm; userFrom=ala; BDRCVFR[-pGxjrCMryR]=mk3SLVN4HKm\n"
   ]
  },
  {
   "cell_type": "code",
   "execution_count": null,
   "metadata": {},
   "outputs": [],
   "source": [
    "http://image.baidu.com/search/acjson?tn=resultjson_com&ipn=rj&ct=201326592&is=&fp=result&queryWord=%E5%9B%BE%E7%89%87&cl=2&lm=-1&ie=utf-8&oe=utf-8&adpicid=&st=&z=&ic=&hd=&latest=&copyright=&word=%E5%9B%BE%E7%89%87&s=&se=&tab=&width=&height=&face=&istype=&qc=&nc=&fr=&expermode=&force=&pn=90&rn=30&gsm=5a&1546926077783=\n",
    "http://image.baidu.com/search/acjson?tn=resultjson_com&ipn=rj&ct=201326592&is=&fp=result&queryWord=%E5%9B%BE%E7%89%87&cl=2&lm=-1&ie=utf-8&oe=utf-8&adpicid=&st=&z=&ic=&hd=&latest=&copyright=&word=%E5%9B%BE%E7%89%87&s=&se=&tab=&width=&height=&face=&istype=&qc=&nc=&fr=&expermode=&force=&pn=120&rn=30&gsm=78&1546926078473=\n",
    "http://image.baidu.com/search/acjson?tn=resultjson_com&ipn=rj&ct=201326592&is=&fp=result&queryWord=%E5%9B%BE%E7%89%87&cl=2&lm=-1&ie=utf-8&oe=utf-8&adpicid=&st=&z=&ic=&hd=&latest=&copyright=&word=%E5%9B%BE%E7%89%87&s=&se=&tab=&width=&height=&face=&istype=&qc=&nc=&fr=&expermode=&force=&pn=150&rn=30&gsm=96&1546926140689=\n",
    "http://image.baidu.com/search/acjson?tn=resultjson_com&ipn=rj&ct=201326592&is=&fp=result&queryWord=%E5%9B%BE%E7%89%87&cl=2&lm=-1&ie=utf-8&oe=utf-8&adpicid=&st=&z=&ic=&hd=&latest=&copyright=&word=%E5%9B%BE%E7%89%87&s=&se=&tab=&width=&height=&face=&istype=&qc=&nc=&fr=&expermode=&force=&pn=180&rn=30&gsm=b4&1546926140888="
   ]
  },
  {
   "cell_type": "code",
   "execution_count": 1,
   "metadata": {},
   "outputs": [],
   "source": [
    "import requests"
   ]
  },
  {
   "cell_type": "code",
   "execution_count": 2,
   "metadata": {
    "hide_input": false
   },
   "outputs": [],
   "source": [
    "import time \n",
    "import random \n",
    "def get_tt():\n",
    "    timerandom = random.randint(100,999)\n",
    "    nowtime = int(time.time())\n",
    "    tt = str(nowtime)+str(timerandom)\n",
    "    return tt\n",
    "nowtime = get_tt()\n",
    "keyword = '图片'\n",
    "pn =30\n"
   ]
  },
  {
   "cell_type": "code",
   "execution_count": 3,
   "metadata": {
    "hide_input": false
   },
   "outputs": [],
   "source": [
    "session = requests.session()\n",
    "\n",
    "headers = {'User-Agent':\n",
    "               'Mozilla/5.0 (Windows NT 10.0; WOW64; rv:46.0) Gecko/20100101 Firefox/46.0',\n",
    "           'Referer':\n",
    "               'http://image.baidu.com',\n",
    "           'Host': 'image.baidu.com',\n",
    "           'Accept': 'text/plain, */*; q=0.01',\n",
    "           'Accept-Encoding': 'gzip, deflate',\n",
    "           'Accept-Language': 'zh-CN,zh;q=0.8,en-US;q=0.5,en;q=0.3',\n",
    "           'Connection': 'keep-alive'}\n",
    "\n",
    "def getdata(nowtime,keyword,pn):\n",
    "    postdata = {\n",
    "        nowtime: \"\",\n",
    "        \"adpicid\": \"\",\n",
    "        \"cl\": \"2\",\n",
    "        \"ct\": \"201326592\",\n",
    "        \"face\": \"0\",\n",
    "        \"fp\": \"result\",\n",
    "        \"fr\": \"\",\n",
    "        \"gsm\": \"5a\",\n",
    "        \"height\": \"\",\n",
    "        \"ic\": \"0\",\n",
    "        \"ie\": \"utf-8\",\n",
    "        \"ipn\": \"rj\",\n",
    "        \"is\": \"\",\n",
    "        \"istype\": \"2\",\n",
    "        \"lm\": \"-1\",\n",
    "        \"nc\": \"1\",\n",
    "        \"oe\": \"utf-8\",\n",
    "        \"pn\": pn,\n",
    "        \"qc\": \"\",\n",
    "        \"queryWord\": keyword,\n",
    "        \"rn\": \"30\",\n",
    "        \"s\": \"\",\n",
    "        \"se\": \"\",\n",
    "        \"st\": \"-1\",\n",
    "        \"tab\": \"\",\n",
    "        \"tn\": \"resultjson_com\",\n",
    "        \"width\": \"\",\n",
    "        \"word\": keyword,\n",
    "        \"z\": \"\"\n",
    "    }\n",
    "\n",
    "    html_bytes = session.get(url=\"http://image.baidu.com/search/acjson?\", params=postdata, headers=headers)\n",
    "    jsondata = html_bytes.content.decode('utf-8', 'ignore')\n",
    "    jsoninfo = json.loads(jsondata)\n",
    "    return jsoninfo"
   ]
  },
  {
   "cell_type": "code",
   "execution_count": 4,
   "metadata": {},
   "outputs": [],
   "source": [
    "strValue = getdata(nowtime,keyword,pn)"
   ]
  },
  {
   "cell_type": "code",
   "execution_count": 22,
   "metadata": {},
   "outputs": [],
   "source": [
    "import pandas as pd\n",
    "from pandas.io.json import json_normalize\n",
    "\n",
    "ListData = json_normalize(strValue,'data').thumbURL"
   ]
  },
  {
   "cell_type": "markdown",
   "metadata": {},
   "source": [
    "## 多线程下载百度图片"
   ]
  },
  {
   "cell_type": "code",
   "execution_count": 6,
   "metadata": {},
   "outputs": [],
   "source": [
    "from urllib.request import urlretrieve\n",
    "import threading"
   ]
  },
  {
   "cell_type": "code",
   "execution_count": 38,
   "metadata": {
    "scrolled": true
   },
   "outputs": [],
   "source": [
    "urlhead = \"https://ss2.bdstatic.com/70cFvnSh_Q1YnxGkpoWK1HF6hhy\"\n",
    "temp = ListData[:29].str.split('it',expand=True)[1]\n",
    "\n",
    "result = temp.str.replace('/u=','https://ss2.bdstatic.com/70cFvnSh_Q1YnxGkpoWK1HF6hhy/it/u=')"
   ]
  },
  {
   "cell_type": "code",
   "execution_count": 39,
   "metadata": {},
   "outputs": [
    {
     "data": {
      "text/plain": [
       "'https://ss2.bdstatic.com/70cFvnSh_Q1YnxGkpoWK1HF6hhy/it/u=1628082362,3950135326&fm=11&gp=0.jpg'"
      ]
     },
     "execution_count": 39,
     "metadata": {},
     "output_type": "execute_result"
    }
   ],
   "source": [
    "result[0]"
   ]
  },
  {
   "cell_type": "code",
   "execution_count": 40,
   "metadata": {},
   "outputs": [],
   "source": [
    "def okr(a,b,c):\n",
    "    print('OK',end = '-')\n",
    "\n",
    "def downloadImg(imgurl, imgname):\n",
    "\n",
    "    header = {\n",
    "        \"Accept\": \"text/html,application/xhtml+xml,application/xml;q=0.9,*/*;q=0.8\",\n",
    "        \"Accept-Encoding\": \"gzip, deflate\",\n",
    "        \"Accept-Language\": \"zh-cn,zh;q=0.8,en-us;q=0.5,en;q=0.3\",\n",
    "        \"Connection\": \"keep-alive\",\n",
    "        \"Host\": \"ss2.bdstatic.com\",\n",
    "        \"User-Agent\": \"Mozilla/5.0 (Windows NT 6.3; WOW64; rv:32.0) Gecko/20100101 Firefox/32.0\"\n",
    "    }\n",
    "    saveimg = open(str(imgname) + \".jpg\", 'wb')\n",
    "    saveimg.write(requests.get(url=imgurl, headers=header).content)\n",
    "    saveimg.close()\n",
    "\n",
    "def threadingrun(array):\n",
    "    imgname = 1\n",
    "    # 创建线程池\n",
    "    threadpool = []\n",
    "    # 定义线程\n",
    "    for imgurl in array:\n",
    "        imgname += 1 + int(time.time())\n",
    "        th = threading.Thread(target=downloadＩmg, args=(imgurl, imgname))\n",
    "        threadpool.append(th)\n",
    "    # 开始线程\n",
    "    for th in threadpool:\n",
    "        th.start()\n",
    "    # 等待所有线程运行完毕\n",
    "    for th in threadpool:\n",
    "        th.join()\n",
    "        \n",
    "threadingrun(result)"
   ]
  },
  {
   "cell_type": "code",
   "execution_count": null,
   "metadata": {},
   "outputs": [],
   "source": []
  },
  {
   "cell_type": "code",
   "execution_count": 10,
   "metadata": {
    "hide_input": true
   },
   "outputs": [],
   "source": [
    "session = requests.session()\n",
    "headers = {\n",
    "    'User-Agent':\n",
    "               'Mozilla/5.0 (Windows NT 10.0; WOW64; rv:46.0) Gecko/20100101 Firefox/46.0',\n",
    "           'Referer':\n",
    "               'http://image.baidu.com',\n",
    "           'Host': 'image.baidu.com',\n",
    "           'Accept': 'text/plain, */*; q=0.01',\n",
    "           'Accept-Encoding': 'gzip, deflate',\n",
    "           'Accept-Language': 'zh-CN,zh;q=0.8,en-US;q=0.5,en;q=0.3',\n",
    "           'Connection': 'keep-alive'\n",
    "}\n",
    "def getdata(nowtime,keyword,pn):\n",
    "    postdata = {\n",
    "        nowtime: \"\",\n",
    "        \"adpicid\": \"\",\n",
    "        \"cl\": \"2\",\n",
    "        \"ct\": \"201326592\",\n",
    "        \"face\": \"0\",\n",
    "        \"fp\": \"result\",\n",
    "        \"fr\": \"\",\n",
    "        \"gsm\": \"5a\",\n",
    "        \"height\": \"\",\n",
    "        \"ic\": \"0\",\n",
    "        \"ie\": \"utf-8\",\n",
    "        \"ipn\": \"rj\",\n",
    "        \"is\": \"\",\n",
    "        \"istype\": \"2\",\n",
    "        \"lm\": \"-1\",\n",
    "        \"nc\": \"1\",\n",
    "        \"oe\": \"utf-8\",\n",
    "        \"pn\": pn,\n",
    "        \"qc\": \"\",\n",
    "        \"queryWord\": keyword,\n",
    "        \"rn\": \"30\",\n",
    "        \"s\": \"\",\n",
    "        \"se\": \"\",\n",
    "        \"st\": \"-1\",\n",
    "        \"tab\": \"\",\n",
    "        \"tn\": \"resultjson_com\",\n",
    "        \"width\": \"\",\n",
    "        \"word\": keyword,\n",
    "        \"z\": \"\"\n",
    "    }\n"
   ]
  }
 ],
 "metadata": {
  "kernelspec": {
   "display_name": "Python 3",
   "language": "python",
   "name": "python3"
  },
  "language_info": {
   "codemirror_mode": {
    "name": "ipython",
    "version": 3
   },
   "file_extension": ".py",
   "mimetype": "text/x-python",
   "name": "python",
   "nbconvert_exporter": "python",
   "pygments_lexer": "ipython3",
   "version": "3.7.0"
  },
  "toc": {
   "base_numbering": 1,
   "nav_menu": {},
   "number_sections": true,
   "sideBar": true,
   "skip_h1_title": false,
   "title_cell": "Table of Contents",
   "title_sidebar": "Contents",
   "toc_cell": false,
   "toc_position": {},
   "toc_section_display": true,
   "toc_window_display": false
  },
  "varInspector": {
   "cols": {
    "lenName": 16,
    "lenType": 16,
    "lenVar": 40
   },
   "kernels_config": {
    "python": {
     "delete_cmd_postfix": "",
     "delete_cmd_prefix": "del ",
     "library": "var_list.py",
     "varRefreshCmd": "print(var_dic_list())"
    },
    "r": {
     "delete_cmd_postfix": ") ",
     "delete_cmd_prefix": "rm(",
     "library": "var_list.r",
     "varRefreshCmd": "cat(var_dic_list()) "
    }
   },
   "types_to_exclude": [
    "module",
    "function",
    "builtin_function_or_method",
    "instance",
    "_Feature"
   ],
   "window_display": false
  }
 },
 "nbformat": 4,
 "nbformat_minor": 2
}
