{
 "cells": [
  {
   "cell_type": "code",
   "execution_count": 2,
   "metadata": {},
   "outputs": [],
   "source": [
    "import selenium\n",
    "from selenium import webdriver\n",
    "import requests\n",
    "from lxml import etree\n",
    "from bs4 import BeautifulSoup\n",
    "import pandas as pd"
   ]
  },
  {
   "cell_type": "markdown",
   "metadata": {},
   "source": [
    "# 调取Chrome浏览器"
   ]
  },
  {
   "cell_type": "code",
   "execution_count": 3,
   "metadata": {},
   "outputs": [],
   "source": [
    "Item = pd.read_csv('Items.csv').text"
   ]
  },
  {
   "cell_type": "code",
   "execution_count": 43,
   "metadata": {
    "scrolled": true
   },
   "outputs": [
    {
     "name": "stdout",
     "output_type": "stream",
     "text": [
      "0 files have existed\n",
      "一次性用品 "
     ]
    },
    {
     "name": "stderr",
     "output_type": "stream",
     "text": [
      "/home/carlous/.pyenv/versions/anaconda3-5.3.1/lib/python3.7/site-packages/ipykernel_launcher.py:21: DeprecationWarning: use options instead of chrome_options\n"
     ]
    },
    {
     "name": "stdout",
     "output_type": "stream",
     "text": [
      "垃圾袋-*-保鲜袋-*-纸杯-*-塑杯-*-保鲜膜-*-烧烤纸-*-桌布-*-手套-*-鞋套-*-牙签-*-餐盘-*-1-*-2-*-3-*-4-*-5-*-6-*-7-*-8-*-9-*-10-*--*-SAVE一次性用品\n",
      "下饭菜 "
     ]
    },
    {
     "name": "stderr",
     "output_type": "stream",
     "text": [
      "/home/carlous/.pyenv/versions/anaconda3-5.3.1/lib/python3.7/site-packages/ipykernel_launcher.py:21: DeprecationWarning: use options instead of chrome_options\n"
     ]
    },
    {
     "name": "stdout",
     "output_type": "stream",
     "text": [
      "榨菜-*-萝卜干-*-酱瓜-*-橄榄菜-*-笋丝-*-酱菜-*-腐乳-*-金针菇-*-雪菜-*-1-*-2-*-3-*-4-*-5-*-6-*-7-*-8-*--*-SAVE下饭菜\n",
      "个人洗护 "
     ]
    },
    {
     "name": "stderr",
     "output_type": "stream",
     "text": [
      "/home/carlous/.pyenv/versions/anaconda3-5.3.1/lib/python3.7/site-packages/ipykernel_launcher.py:21: DeprecationWarning: use options instead of chrome_options\n"
     ]
    },
    {
     "name": "stdout",
     "output_type": "stream",
     "text": [
      "洗发水-*-护发素-*-染发/造型-*-沐浴露-*-香皂-*-洗手液-*-避孕套-*-浴盐/足浴盐-*-进口洗发-*-1-*-2-*-3-*-4-*-5-*-6-*-7-*-8-*--*-SAVE个人洗护\n",
      "健康杂粮 "
     ]
    },
    {
     "name": "stderr",
     "output_type": "stream",
     "text": [
      "/home/carlous/.pyenv/versions/anaconda3-5.3.1/lib/python3.7/site-packages/ipykernel_launcher.py:21: DeprecationWarning: use options instead of chrome_options\n"
     ]
    },
    {
     "name": "stdout",
     "output_type": "stream",
     "text": [
      "小米-*-黑米-*-薏仁米-*-糙米-*-糯米-*-粗粮-*-杂粮-*-豆类-*-绿豆-*-红豆-*-黑豆-*-黄豆-*-玉米-*-1-*-2-*-3-*-4-*-5-*-6-*-7-*-8-*-9-*-健康杂粮 has error! \n",
      "10-*-11-*-12-*--*-SAVE健康杂粮\n",
      "冲调保健 "
     ]
    },
    {
     "name": "stderr",
     "output_type": "stream",
     "text": [
      "/home/carlous/.pyenv/versions/anaconda3-5.3.1/lib/python3.7/site-packages/ipykernel_launcher.py:21: DeprecationWarning: use options instead of chrome_options\n"
     ]
    },
    {
     "name": "stdout",
     "output_type": "stream",
     "text": [
      "咖啡-*-奶茶-*-奶粉-*-芝麻糊-*-茶叶-*-功能保健-*-蜂产品-*-麦片-*-减肥-*-保健礼盒-*-传统滋补-*-男人保健-*-1-*-2-*-3-*-4-*-5-*-6-*-7-*-8-*-9-*-10-*-11-*--*-SAVE冲调保健\n",
      "卫浴用具_配件 "
     ]
    },
    {
     "name": "stderr",
     "output_type": "stream",
     "text": [
      "/home/carlous/.pyenv/versions/anaconda3-5.3.1/lib/python3.7/site-packages/ipykernel_launcher.py:21: DeprecationWarning: use options instead of chrome_options\n"
     ]
    },
    {
     "name": "stdout",
     "output_type": "stream",
     "text": [
      "皂盒-*-马桶座圈 LOST!!!!\n",
      ".*.*.*.*.*.*.*.*.*.*.*.*.*.*.*.*.*.*.*.*.*.*.*.*.*.*.*.*.*.*.*.*.*.*.*.*.*.*.*.*\n",
      "马桶座圈-*-地垫-*-马桶刷-*-浴球/浴花-*-干发帽/束发带 LOST!!!!\n",
      ".*.*.*.*.*.*.*.*.*.*.*.*.*.*.*.*.*.*.*.*.*.*.*.*.*.*.*.*.*.*.*.*.*.*.*.*.*.*.*.*\n",
      "干发帽/束发带-*-浴帽-*-棉签/棉棒-*-指甲钳/修甲刀-*-伞/雨具 LOST!!!!\n",
      ".*.*.*.*.*.*.*.*.*.*.*.*.*.*.*.*.*.*.*.*.*.*.*.*.*.*.*.*.*.*.*.*.*.*.*.*.*.*.*.*\n",
      "伞/雨具-*-保暖用品-*-1-*-2-*-3-*-4-*-5-*-6-*-7-*-8-*-9-*-10-*--*-SAVE卫浴用具_配件\n",
      "卫生间清洁 "
     ]
    },
    {
     "name": "stderr",
     "output_type": "stream",
     "text": [
      "/home/carlous/.pyenv/versions/anaconda3-5.3.1/lib/python3.7/site-packages/ipykernel_launcher.py:21: DeprecationWarning: use options instead of chrome_options\n"
     ]
    },
    {
     "name": "stdout",
     "output_type": "stream",
     "text": [
      "蓝泡泡-*-洁厕液-*-卫浴清洁-*-除臭芳香-*-管道疏通剂-*-1-*-2-*-3-*-4-*--*-SAVE卫生间清洁\n",
      "厨具 "
     ]
    },
    {
     "name": "stderr",
     "output_type": "stream",
     "text": [
      "/home/carlous/.pyenv/versions/anaconda3-5.3.1/lib/python3.7/site-packages/ipykernel_launcher.py:21: DeprecationWarning: use options instead of chrome_options\n"
     ]
    },
    {
     "name": "stdout",
     "output_type": "stream",
     "text": [
      "剪刀-*-菜刀-*-蔬果刀-*-套刀-*-炒锅-*-奶锅-*-炖锅-*-蒸锅-*-汤锅-*-炖锅-*-煎锅-*-陶瓷餐具-*-砧板-*-1-*-2-*-3-*-4-*-5-*-6-*-7-*-8-*-9-*-10-*-11-*-12-*--*-SAVE厨具\n",
      "厨房清洁 "
     ]
    },
    {
     "name": "stderr",
     "output_type": "stream",
     "text": [
      "/home/carlous/.pyenv/versions/anaconda3-5.3.1/lib/python3.7/site-packages/ipykernel_launcher.py:21: DeprecationWarning: use options instead of chrome_options\n"
     ]
    },
    {
     "name": "stdout",
     "output_type": "stream",
     "text": [
      "洗洁精-*-油污净-*-蔬果洗涤剂-*-橘香洗洁精 LOST!!!!\n",
      ".*.*.*.*.*.*.*.*.*.*.*.*.*.*.*.*.*.*.*.*.*.*.*.*.*.*.*.*.*.*.*.*.*.*.*.*.*.*.*.*\n",
      "橘香洗洁精-*-生姜洗洁精-*-绿茶洗洁精-*-1-*-2-*-3-*-4-*-5-*--*-SAVE厨房清洁\n",
      "厨房调料 "
     ]
    },
    {
     "name": "stderr",
     "output_type": "stream",
     "text": [
      "/home/carlous/.pyenv/versions/anaconda3-5.3.1/lib/python3.7/site-packages/ipykernel_launcher.py:21: DeprecationWarning: use options instead of chrome_options\n"
     ]
    },
    {
     "name": "stdout",
     "output_type": "stream",
     "text": [
      "食用盐-*-酱油-*-醋-*-味精/鸡精-*-糖-*-咖喱-*-酱菜-*-调味酱-*-调味料-*-火锅调料-*-料酒-*-八角茴香-*-芝麻油-*-烧烤调料-*-1-*-2-*-3-*-4-*-5-*-6-*-7-*-8-*-9-*-10-*-11-*-12-*-13-*--*-SAVE厨房调料\n",
      "口腔护理 "
     ]
    },
    {
     "name": "stderr",
     "output_type": "stream",
     "text": [
      "/home/carlous/.pyenv/versions/anaconda3-5.3.1/lib/python3.7/site-packages/ipykernel_launcher.py:21: DeprecationWarning: use options instead of chrome_options\n"
     ]
    },
    {
     "name": "stdout",
     "output_type": "stream",
     "text": [
      "牙膏-*-牙刷-*-漱口水-*-牙线/牙线棒/牙粉 LOST!!!!\n",
      ".*.*.*.*.*.*.*.*.*.*.*.*.*.*.*.*.*.*.*.*.*.*.*.*.*.*.*.*.*.*.*.*.*.*.*.*.*.*.*.*\n",
      "牙线/牙线棒/牙粉-*-假牙清洁-*-进口口腔-*-1-*-2-*-3-*-4-*-5-*--*-SAVE口腔护理\n",
      "哺育喂养 "
     ]
    },
    {
     "name": "stderr",
     "output_type": "stream",
     "text": [
      "/home/carlous/.pyenv/versions/anaconda3-5.3.1/lib/python3.7/site-packages/ipykernel_launcher.py:21: DeprecationWarning: use options instead of chrome_options\n"
     ]
    },
    {
     "name": "stdout",
     "output_type": "stream",
     "text": [
      "奶瓶-*-奶嘴/安抚奶嘴-*-用具清洁-*-水杯/水壶-*-餐具/碾磨器 LOST!!!!\n",
      ".*.*.*.*.*.*.*.*.*.*.*.*.*.*.*.*.*.*.*.*.*.*.*.*.*.*.*.*.*.*.*.*.*.*.*.*.*.*.*.*\n",
      "餐具/碾磨器-*-安全防护-*-宝宝围嘴/毛巾 LOST!!!!\n",
      ".*.*.*.*.*.*.*.*.*.*.*.*.*.*.*.*.*.*.*.*.*.*.*.*.*.*.*.*.*.*.*.*.*.*.*.*.*.*.*.*\n",
      "宝宝围嘴/毛巾-*-宝宝浴巾-*-婴儿睡袋/抱被 LOST!!!!\n",
      ".*.*.*.*.*.*.*.*.*.*.*.*.*.*.*.*.*.*.*.*.*.*.*.*.*.*.*.*.*.*.*.*.*.*.*.*.*.*.*.*\n",
      "婴儿睡袋/抱被-*-宝宝床品-*-吸奶器/暖奶器/消毒器 LOST!!!!\n",
      ".*.*.*.*.*.*.*.*.*.*.*.*.*.*.*.*.*.*.*.*.*.*.*.*.*.*.*.*.*.*.*.*.*.*.*.*.*.*.*.*\n",
      "吸奶器/暖奶器/消毒器-*-坐便器-*-1-*-2-*-3-*-4-*-5-*-6-*-7-*-8-*-9-*-10-*-11-*--*-SAVE哺育喂养\n",
      "坚果炒货 "
     ]
    },
    {
     "name": "stderr",
     "output_type": "stream",
     "text": [
      "/home/carlous/.pyenv/versions/anaconda3-5.3.1/lib/python3.7/site-packages/ipykernel_launcher.py:21: DeprecationWarning: use options instead of chrome_options\n"
     ]
    },
    {
     "name": "stdout",
     "output_type": "stream",
     "text": [
      "核桃-*-夏威夷果-*-碧根果-*-开心果-*-腰果-*-瓜子-*-花生-*-杏仁-*-豆类-*-1-*-2-*-3-*-4-*-5-*-6-*-7-*-8-*--*-SAVE坚果炒货\n",
      "大米面粉 "
     ]
    },
    {
     "name": "stderr",
     "output_type": "stream",
     "text": [
      "/home/carlous/.pyenv/versions/anaconda3-5.3.1/lib/python3.7/site-packages/ipykernel_launcher.py:21: DeprecationWarning: use options instead of chrome_options\n"
     ]
    },
    {
     "name": "stdout",
     "output_type": "stream",
     "text": [
      "大米-*-面粉-*-粗粮-*-豆类-*-1-*-2-*-3-*--*-SAVE大米面粉\n",
      "女性护理 "
     ]
    },
    {
     "name": "stderr",
     "output_type": "stream",
     "text": [
      "/home/carlous/.pyenv/versions/anaconda3-5.3.1/lib/python3.7/site-packages/ipykernel_launcher.py:21: DeprecationWarning: use options instead of chrome_options\n"
     ]
    },
    {
     "name": "stdout",
     "output_type": "stream",
     "text": [
      "卫生巾-*-护垫-*-卫生棉条-*-成人纸尿裤-*-私处洗液-*-卫生湿巾-*-进口女性护理-*-1-*-2-*-3-*-4-*-5-*-6-*--*-SAVE女性护理\n",
      "婴幼儿奶粉 "
     ]
    },
    {
     "name": "stderr",
     "output_type": "stream",
     "text": [
      "/home/carlous/.pyenv/versions/anaconda3-5.3.1/lib/python3.7/site-packages/ipykernel_launcher.py:21: DeprecationWarning: use options instead of chrome_options\n"
     ]
    },
    {
     "name": "stdout",
     "output_type": "stream",
     "text": [
      "1段奶粉-*-2段奶粉-*-3段奶粉-*-4段奶粉-*-荷兰原装-*-新西兰原装-*-1-*-2-*-3-*-4-*-5-*--*-SAVE婴幼儿奶粉\n",
      "孕妇专区 "
     ]
    },
    {
     "name": "stderr",
     "output_type": "stream",
     "text": [
      "/home/carlous/.pyenv/versions/anaconda3-5.3.1/lib/python3.7/site-packages/ipykernel_launcher.py:21: DeprecationWarning: use options instead of chrome_options\n"
     ]
    },
    {
     "name": "stdout",
     "output_type": "stream",
     "text": [
      "孕产妇奶粉-*-乳垫-*-孕产妇护肤/洗护 LOST!!!!\n",
      ".*.*.*.*.*.*.*.*.*.*.*.*.*.*.*.*.*.*.*.*.*.*.*.*.*.*.*.*.*.*.*.*.*.*.*.*.*.*.*.*\n",
      "孕产妇护肤/洗护-*-护垫卫生巾-*-1-*-2-*-3-*--*-SAVE孕妇专区\n",
      "宝宝辅食 "
     ]
    },
    {
     "name": "stderr",
     "output_type": "stream",
     "text": [
      "/home/carlous/.pyenv/versions/anaconda3-5.3.1/lib/python3.7/site-packages/ipykernel_launcher.py:21: DeprecationWarning: use options instead of chrome_options\n"
     ]
    },
    {
     "name": "stdout",
     "output_type": "stream",
     "text": [
      "清火/开胃/奶伴-*-米粉/面条-*-果/蔬/肉泥-*-肉松/鱼松-*-磨牙饼干-*-婴幼儿零食-*-1-*-2-*-3-*-4-*-5-*--*-SAVE宝宝辅食\n",
      "客厅清洁 "
     ]
    },
    {
     "name": "stderr",
     "output_type": "stream",
     "text": [
      "/home/carlous/.pyenv/versions/anaconda3-5.3.1/lib/python3.7/site-packages/ipykernel_launcher.py:21: DeprecationWarning: use options instead of chrome_options\n"
     ]
    },
    {
     "name": "stdout",
     "output_type": "stream",
     "text": [
      "洗衣机消毒-*-空调清洁-*-多用途清洁-*-玻璃清洁剂-*-冰箱除味-*-环境消毒-*-1-*-2-*-3-*-4-*-5-*--*-SAVE客厅清洁\n",
      "家私_其他护理 "
     ]
    },
    {
     "name": "stderr",
     "output_type": "stream",
     "text": [
      "/home/carlous/.pyenv/versions/anaconda3-5.3.1/lib/python3.7/site-packages/ipykernel_launcher.py:21: DeprecationWarning: use options instead of chrome_options\n"
     ]
    },
    {
     "name": "stdout",
     "output_type": "stream",
     "text": [
      "地板护理-*-家具护理-*-防霉防蛀-*-干燥除湿剂-*-鞋用品-*-1-*-2-*-3-*-4-*--*-SAVE家私_其他护理\n",
      "小家电 "
     ]
    },
    {
     "name": "stderr",
     "output_type": "stream",
     "text": [
      "/home/carlous/.pyenv/versions/anaconda3-5.3.1/lib/python3.7/site-packages/ipykernel_launcher.py:21: DeprecationWarning: use options instead of chrome_options\n"
     ]
    },
    {
     "name": "stdout",
     "output_type": "stream",
     "text": [
      "电饭煲-*-电磁炉-*-电热水壶-*-电风扇 LOST!!!!\n",
      ".*.*.*.*.*.*.*.*.*.*.*.*.*.*.*.*.*.*.*.*.*.*.*.*.*.*.*.*.*.*.*.*.*.*.*.*.*.*.*.*\n",
      "电风扇-*-挂烫机-*-剃须刀（含手动） LOST!!!!\n",
      ".*.*.*.*.*.*.*.*.*.*.*.*.*.*.*.*.*.*.*.*.*.*.*.*.*.*.*.*.*.*.*.*.*.*.*.*.*.*.*.*\n",
      "剃须刀（含手动）-*-电吹风-*-电池-*-饮水机-*-充电器/数据线-*-1-*-2-*-3-*-4-*-5-*-6-*-7-*-8-*-9-*--*-SAVE小家电\n",
      "尿裤_拉拉裤_湿巾 "
     ]
    },
    {
     "name": "stderr",
     "output_type": "stream",
     "text": [
      "/home/carlous/.pyenv/versions/anaconda3-5.3.1/lib/python3.7/site-packages/ipykernel_launcher.py:21: DeprecationWarning: use options instead of chrome_options\n"
     ]
    },
    {
     "name": "stdout",
     "output_type": "stream",
     "text": [
      "初生NB-*-小号S-*-中号M-*-大号L-*-加大号XL-*-加加大号XXL-*-女宝宝-*-男宝宝-*-隔尿布/垫-*-湿巾-*-1-*-2-*-3-*-4-*-5-*-6-*-7-*-8-*-9-*--*-SAVE尿裤_拉拉裤_湿巾\n",
      "床上用品_布艺软饰 "
     ]
    },
    {
     "name": "stderr",
     "output_type": "stream",
     "text": [
      "/home/carlous/.pyenv/versions/anaconda3-5.3.1/lib/python3.7/site-packages/ipykernel_launcher.py:21: DeprecationWarning: use options instead of chrome_options\n"
     ]
    },
    {
     "name": "stdout",
     "output_type": "stream",
     "text": [
      "床品套件/四件套-*-枕头/枕芯-*-床垫/靠垫/抱枕 LOST!!!!\n",
      ".*.*.*.*.*.*.*.*.*.*.*.*.*.*.*.*.*.*.*.*.*.*.*.*.*.*.*.*.*.*.*.*.*.*.*.*.*.*.*.*\n",
      "床垫/靠垫/抱枕-*-枕套/枕巾 LOST!!!!\n",
      ".*.*.*.*.*.*.*.*.*.*.*.*.*.*.*.*.*.*.*.*.*.*.*.*.*.*.*.*.*.*.*.*.*.*.*.*.*.*.*.*\n",
      "枕套/枕巾-*-草席/凉席 LOST!!!!\n",
      ".*.*.*.*.*.*.*.*.*.*.*.*.*.*.*.*.*.*.*.*.*.*.*.*.*.*.*.*.*.*.*.*.*.*.*.*.*.*.*.*\n",
      "草席/凉席-*-春秋被-*-蚊帐/床幔 LOST!!!!\n",
      ".*.*.*.*.*.*.*.*.*.*.*.*.*.*.*.*.*.*.*.*.*.*.*.*.*.*.*.*.*.*.*.*.*.*.*.*.*.*.*.*\n",
      "蚊帐/床幔-*-1-*-2-*-3-*-4-*-5-*-6-*--*-SAVE床上用品_布艺软饰\n",
      "护肤护理 "
     ]
    },
    {
     "name": "stderr",
     "output_type": "stream",
     "text": [
      "/home/carlous/.pyenv/versions/anaconda3-5.3.1/lib/python3.7/site-packages/ipykernel_launcher.py:21: DeprecationWarning: use options instead of chrome_options\n"
     ]
    },
    {
     "name": "stdout",
     "output_type": "stream",
     "text": [
      "润肤系列-*-护臀系列 LOST!!!!\n",
      ".*.*.*.*.*.*.*.*.*.*.*.*.*.*.*.*.*.*.*.*.*.*.*.*.*.*.*.*.*.*.*.*.*.*.*.*.*.*.*.*\n",
      "护臀系列-*-爽身防痱-*-花露水/金水-*-礼盒套装-*-宝宝牙刷-*-指甲钳-*-棉签-*-1-*-2-*-3-*-4-*-5-*-6-*-7-*--*-SAVE护肤护理\n",
      "整理收纳_箱包饰品_宠物食品 "
     ]
    },
    {
     "name": "stderr",
     "output_type": "stream",
     "text": [
      "/home/carlous/.pyenv/versions/anaconda3-5.3.1/lib/python3.7/site-packages/ipykernel_launcher.py:21: DeprecationWarning: use options instead of chrome_options\n"
     ]
    },
    {
     "name": "stdout",
     "output_type": "stream",
     "text": [
      "挂钩/粘钩-*-压缩袋-*-收纳袋-*-收纳盒-*-整理架-*-防尘罩-*-收纳箱-*-纸巾盒-*-钱包-*-双肩包-*-宠物食品-*-1-*-2-*-3-*-4-*-5-*-6-*-7-*-8-*-9-*-10-*--*-SAVE整理收纳_箱包饰品_宠物食品\n",
      "方便速食 "
     ]
    },
    {
     "name": "stderr",
     "output_type": "stream",
     "text": [
      "/home/carlous/.pyenv/versions/anaconda3-5.3.1/lib/python3.7/site-packages/ipykernel_launcher.py:21: DeprecationWarning: use options instead of chrome_options\n"
     ]
    },
    {
     "name": "stdout",
     "output_type": "stream",
     "text": [
      "火腿肠-*-禽蛋类 LOST!!!!\n",
      ".*.*.*.*.*.*.*.*.*.*.*.*.*.*.*.*.*.*.*.*.*.*.*.*.*.*.*.*.*.*.*.*.*.*.*.*.*.*.*.*\n",
      "禽蛋类-*-挂面-*-意大利面-*-罐头-*-八宝粥-*-速食汤-*-方便米饭-*-粉丝-*-1-*-2-*-3-*-4-*-5-*-6-*-7-*-8-*--*-SAVE方便速食\n",
      "方便食品 "
     ]
    },
    {
     "name": "stderr",
     "output_type": "stream",
     "text": [
      "/home/carlous/.pyenv/versions/anaconda3-5.3.1/lib/python3.7/site-packages/ipykernel_launcher.py:21: DeprecationWarning: use options instead of chrome_options\n"
     ]
    },
    {
     "name": "stdout",
     "output_type": "stream",
     "text": [
      "方便面/粉丝-*-方便米饭-*-蛋制品-*-八宝粥-*-火腿肠-*-罐头食品-*-速食汤-*-挂面-*-米线-*-拉面-*-1-*-2-*-3-*-4-*-5-*-6-*-7-*-8-*-9-*--*-SAVE方便食品\n",
      "母婴小家电 "
     ]
    },
    {
     "name": "stderr",
     "output_type": "stream",
     "text": [
      "/home/carlous/.pyenv/versions/anaconda3-5.3.1/lib/python3.7/site-packages/ipykernel_launcher.py:21: DeprecationWarning: use options instead of chrome_options\n"
     ]
    },
    {
     "name": "stdout",
     "output_type": "stream",
     "text": [
      "宝宝理发器-*-暖奶器-*-BB煲/电粥锅-*-1-*-2-*--*-SAVE母婴小家电\n",
      "毛巾_内衣_袜子_家居服 "
     ]
    },
    {
     "name": "stderr",
     "output_type": "stream",
     "text": [
      "/home/carlous/.pyenv/versions/anaconda3-5.3.1/lib/python3.7/site-packages/ipykernel_launcher.py:21: DeprecationWarning: use options instead of chrome_options\n"
     ]
    },
    {
     "name": "stdout",
     "output_type": "stream",
     "text": [
      "毛巾/方巾/浴巾-*-床上用品-*-丝袜-*-男袜-*-拖鞋-*-内裤-*-家居服-*-皮带-*-1-*-2-*-3-*-4-*-5-*-6-*-7-*--*-SAVE毛巾_内衣_袜子_家居服\n",
      "洗浴清洁 "
     ]
    },
    {
     "name": "stderr",
     "output_type": "stream",
     "text": [
      "/home/carlous/.pyenv/versions/anaconda3-5.3.1/lib/python3.7/site-packages/ipykernel_launcher.py:21: DeprecationWarning: use options instead of chrome_options\n"
     ]
    },
    {
     "name": "stdout",
     "output_type": "stream",
     "text": [
      "洗发系列-*-沐浴系列-*-婴儿皂-*-洗手液-*-奶瓶果蔬清洁剂-*-洗衣液/粉/皂/柔顺剂 LOST!!!!\n",
      ".*.*.*.*.*.*.*.*.*.*.*.*.*.*.*.*.*.*.*.*.*.*.*.*.*.*.*.*.*.*.*.*.*.*.*.*.*.*.*.*\n",
      "洗衣液/粉/皂/柔顺剂-*-1-*-2-*-3-*-4-*-5-*--*-SAVE洗浴清洁\n",
      "清洁工具 "
     ]
    },
    {
     "name": "stderr",
     "output_type": "stream",
     "text": [
      "/home/carlous/.pyenv/versions/anaconda3-5.3.1/lib/python3.7/site-packages/ipykernel_launcher.py:21: DeprecationWarning: use options instead of chrome_options\n"
     ]
    },
    {
     "name": "stdout",
     "output_type": "stream",
     "text": [
      "抹布-*-钢丝球/锅刷-*-拖把-*-扫把/簸箕-*-家务手套-*-脸盆-*-垃圾桶-*-玻璃清洁工具-*-马桶刷-*-1-*-2-*-3-*-4-*-5-*-6-*-7-*-8-*--*-SAVE清洁工具\n",
      "牛奶乳品 "
     ]
    },
    {
     "name": "stderr",
     "output_type": "stream",
     "text": [
      "/home/carlous/.pyenv/versions/anaconda3-5.3.1/lib/python3.7/site-packages/ipykernel_launcher.py:21: DeprecationWarning: use options instead of chrome_options\n"
     ]
    },
    {
     "name": "stdout",
     "output_type": "stream",
     "text": [
      "常温奶-*-乳饮料-*-儿童奶-*-酸奶-*-豆奶-*-低脂奶-*-全脂奶-*-成人奶粉-*-1-*-2-*-3-*-4-*-5-*-6-*-7-*--*-SAVE牛奶乳品\n",
      "玩具_棋牌 "
     ]
    },
    {
     "name": "stderr",
     "output_type": "stream",
     "text": [
      "/home/carlous/.pyenv/versions/anaconda3-5.3.1/lib/python3.7/site-packages/ipykernel_launcher.py:21: DeprecationWarning: use options instead of chrome_options\n"
     ]
    },
    {
     "name": "stdout",
     "output_type": "stream",
     "text": [
      "棋牌玩具 LOST!!!!\n",
      ".*.*.*.*.*.*.*.*.*.*.*.*.*.*.*.*.*.*.*.*.*.*.*.*.*.*.*.*.*.*.*.*.*.*.*.*.*.*.*.*\n",
      "棋牌玩具-*-积木拼图系列 LOST!!!!\n",
      ".*.*.*.*.*.*.*.*.*.*.*.*.*.*.*.*.*.*.*.*.*.*.*.*.*.*.*.*.*.*.*.*.*.*.*.*.*.*.*.*\n",
      "积木拼图系列-*-早教/音乐/智能玩具 LOST!!!!\n",
      ".*.*.*.*.*.*.*.*.*.*.*.*.*.*.*.*.*.*.*.*.*.*.*.*.*.*.*.*.*.*.*.*.*.*.*.*.*.*.*.*\n",
      "早教/音乐/智能玩具-*-1-*-2-*--*-SAVE玩具_棋牌\n",
      "男士护理 "
     ]
    },
    {
     "name": "stderr",
     "output_type": "stream",
     "text": [
      "/home/carlous/.pyenv/versions/anaconda3-5.3.1/lib/python3.7/site-packages/ipykernel_launcher.py:21: DeprecationWarning: use options instead of chrome_options\n"
     ]
    },
    {
     "name": "stdout",
     "output_type": "stream",
     "text": [
      "男士控油-*-男士洁面-*-男士乳液/面霜-*-男士爽肤水/须后水-*-男士私处洗液-*-剃须刀-*-1-*-2-*-3-*-4-*-5-*--*-SAVE男士护理\n",
      "精致彩妆 "
     ]
    },
    {
     "name": "stderr",
     "output_type": "stream",
     "text": [
      "/home/carlous/.pyenv/versions/anaconda3-5.3.1/lib/python3.7/site-packages/ipykernel_launcher.py:21: DeprecationWarning: use options instead of chrome_options\n"
     ]
    },
    {
     "name": "stdout",
     "output_type": "stream",
     "text": [
      "润唇膏-*-BB霜隔离/妆前/打底 LOST!!!!\n",
      ".*.*.*.*.*.*.*.*.*.*.*.*.*.*.*.*.*.*.*.*.*.*.*.*.*.*.*.*.*.*.*.*.*.*.*.*.*.*.*.*\n",
      "BB霜隔离/妆前/打底-*-眼线/眼影/睫毛膏 LOST!!!!\n",
      ".*.*.*.*.*.*.*.*.*.*.*.*.*.*.*.*.*.*.*.*.*.*.*.*.*.*.*.*.*.*.*.*.*.*.*.*.*.*.*.*\n",
      "眼线/眼影/睫毛膏-*-唇彩/口红-*-指甲油-*-化妆工具-*-卸妆-*-1-*-2-*-3-*-4-*-5-*-6-*--*-SAVE精致彩妆\n",
      "糖果_巧克力 "
     ]
    },
    {
     "name": "stderr",
     "output_type": "stream",
     "text": [
      "/home/carlous/.pyenv/versions/anaconda3-5.3.1/lib/python3.7/site-packages/ipykernel_launcher.py:21: DeprecationWarning: use options instead of chrome_options\n"
     ]
    },
    {
     "name": "stdout",
     "output_type": "stream",
     "text": [
      "巧克力-*-口香糖-*-棒棒糖-*-喜糖-*-软糖-*-奶糖-*-果冻-*-1-*-2-*-3-*-4-*-5-*-6-*--*-SAVE糖果_巧克力\n",
      "纸制品_卫生纸 "
     ]
    },
    {
     "name": "stderr",
     "output_type": "stream",
     "text": [
      "/home/carlous/.pyenv/versions/anaconda3-5.3.1/lib/python3.7/site-packages/ipykernel_launcher.py:21: DeprecationWarning: use options instead of chrome_options\n"
     ]
    },
    {
     "name": "stdout",
     "output_type": "stream",
     "text": [
      "软包抽纸-*-盒装抽纸-*-卷纸-*-手帕纸-*-厨房用纸-*-湿巾-*-卫生纸-*-平板纸-*-湿厕纸-*-1-*-2-*-3-*-4-*-5-*-6-*-7-*-8-*--*-SAVE纸制品_卫生纸\n",
      "美容护肤 "
     ]
    },
    {
     "name": "stderr",
     "output_type": "stream",
     "text": [
      "/home/carlous/.pyenv/versions/anaconda3-5.3.1/lib/python3.7/site-packages/ipykernel_launcher.py:21: DeprecationWarning: use options instead of chrome_options\n"
     ]
    },
    {
     "name": "stdout",
     "output_type": "stream",
     "text": [
      "洗面奶-*-爽肤水-*-乳液/面霜-*-面膜-*-身体乳-*-隔离霜-*-护手霜-*-脱毛膏-*-防晒-*-面部护理套装-*-进口面部护理-*-1-*-2-*-3-*-4-*-5-*-6-*-7-*-8-*-9-*-10-*--*-SAVE美容护肤\n",
      "肉类_豆干制品零食 "
     ]
    },
    {
     "name": "stderr",
     "output_type": "stream",
     "text": [
      "/home/carlous/.pyenv/versions/anaconda3-5.3.1/lib/python3.7/site-packages/ipykernel_launcher.py:21: DeprecationWarning: use options instead of chrome_options\n"
     ]
    },
    {
     "name": "stdout",
     "output_type": "stream",
     "text": [
      "牛肉-*-牛肉筋-*-猪肉-*-鸡鸭禽 LOST!!!!\n",
      ".*.*.*.*.*.*.*.*.*.*.*.*.*.*.*.*.*.*.*.*.*.*.*.*.*.*.*.*.*.*.*.*.*.*.*.*.*.*.*.*\n",
      "鸡鸭禽-*-凤爪-*-豆干-*-肉松-*-鱼系列-*-海苔-*-1-*-2-*-3-*-4-*-5-*-6-*-7-*-8-*--*-SAVE肉类_豆干制品零食\n",
      "菌菇干货 "
     ]
    },
    {
     "name": "stderr",
     "output_type": "stream",
     "text": [
      "/home/carlous/.pyenv/versions/anaconda3-5.3.1/lib/python3.7/site-packages/ipykernel_launcher.py:21: DeprecationWarning: use options instead of chrome_options\n"
     ]
    },
    {
     "name": "stdout",
     "output_type": "stream",
     "text": [
      "枣类-*-木耳-*-食用菌-*-银耳-*-干菜-*-海产品-*-枸杞-*-桂圆干/龙眼-*-1-*-2-*-3-*-4-*-5-*-6-*-7-*--*-SAVE菌菇干货\n",
      "蜜饯果干 "
     ]
    },
    {
     "name": "stderr",
     "output_type": "stream",
     "text": [
      "/home/carlous/.pyenv/versions/anaconda3-5.3.1/lib/python3.7/site-packages/ipykernel_launcher.py:21: DeprecationWarning: use options instead of chrome_options\n"
     ]
    },
    {
     "name": "stdout",
     "output_type": "stream",
     "text": [
      "红枣-*-梅类-*-葡萄干-*-芒果干-*-山楂片/卷-*-无花果-*-陈皮-*-榴莲干-*-1-*-2-*-3-*-4-*-5-*-6-*-7-*--*-SAVE蜜饯果干\n",
      "衣物护理 "
     ]
    },
    {
     "name": "stderr",
     "output_type": "stream",
     "text": [
      "/home/carlous/.pyenv/versions/anaconda3-5.3.1/lib/python3.7/site-packages/ipykernel_launcher.py:21: DeprecationWarning: use options instead of chrome_options\n"
     ]
    },
    {
     "name": "stdout",
     "output_type": "stream",
     "text": [
      "衣物柔顺剂-*-衣物消毒液-*-衣物除菌液-*-漂白/彩漂-*-1-*-2-*-3-*--*-SAVE衣物护理\n",
      "衣物晾晒 "
     ]
    },
    {
     "name": "stderr",
     "output_type": "stream",
     "text": [
      "/home/carlous/.pyenv/versions/anaconda3-5.3.1/lib/python3.7/site-packages/ipykernel_launcher.py:21: DeprecationWarning: use options instead of chrome_options\n"
     ]
    },
    {
     "name": "stdout",
     "output_type": "stream",
     "text": [
      "衣架/裤架-*-夹子/绳 LOST!!!!\n",
      ".*.*.*.*.*.*.*.*.*.*.*.*.*.*.*.*.*.*.*.*.*.*.*.*.*.*.*.*.*.*.*.*.*.*.*.*.*.*.*.*\n",
      "夹子/绳-*-护洗袋-*-晾晒架-*-衣物除尘/粘毛-*-烫衣板 LOST!!!!\n",
      ".*.*.*.*.*.*.*.*.*.*.*.*.*.*.*.*.*.*.*.*.*.*.*.*.*.*.*.*.*.*.*.*.*.*.*.*.*.*.*.*\n",
      "烫衣板-*-晒衣篮-*-脏衣篮-*-衣叉-*-1-*-2-*-3-*-4-*-5-*-6-*-7-*-8-*--*-SAVE衣物晾晒\n",
      "衣物清洁剂 "
     ]
    },
    {
     "name": "stderr",
     "output_type": "stream",
     "text": [
      "/home/carlous/.pyenv/versions/anaconda3-5.3.1/lib/python3.7/site-packages/ipykernel_launcher.py:21: DeprecationWarning: use options instead of chrome_options\n"
     ]
    },
    {
     "name": "stdout",
     "output_type": "stream",
     "text": [
      "洗衣液-*-洗衣粉-*-洗衣皂-*-除菌洗衣液-*-护色洗衣液-*-洗内衣-*-洗毛衣羽绒 LOST!!!!\n",
      ".*.*.*.*.*.*.*.*.*.*.*.*.*.*.*.*.*.*.*.*.*.*.*.*.*.*.*.*.*.*.*.*.*.*.*.*.*.*.*.*\n",
      "洗毛衣羽绒-*-1-*-2-*-3-*-4-*-5-*-6-*--*-SAVE衣物清洁剂\n",
      "调味酱 "
     ]
    },
    {
     "name": "stderr",
     "output_type": "stream",
     "text": [
      "/home/carlous/.pyenv/versions/anaconda3-5.3.1/lib/python3.7/site-packages/ipykernel_launcher.py:21: DeprecationWarning: use options instead of chrome_options\n"
     ]
    },
    {
     "name": "stdout",
     "output_type": "stream",
     "text": [
      "辣椒酱-*-果酱/沙拉酱 LOST!!!!\n",
      ".*.*.*.*.*.*.*.*.*.*.*.*.*.*.*.*.*.*.*.*.*.*.*.*.*.*.*.*.*.*.*.*.*.*.*.*.*.*.*.*\n",
      "果酱/沙拉酱-*-鱼籽酱-*-番茄酱-*-香菇酱-*-豆瓣酱-*-花生酱-*-肉酱-*-叉烧酱-*-拌饭酱-*-海鲜酱-*-黄豆酱-*-拌面酱-*-1-*-2-*-3-*-4-*-5-*-6-*-7-*-8-*-9-*-10-*-11-*-12-*--*-SAVE调味酱\n",
      "进口个人护理 "
     ]
    },
    {
     "name": "stderr",
     "output_type": "stream",
     "text": [
      "/home/carlous/.pyenv/versions/anaconda3-5.3.1/lib/python3.7/site-packages/ipykernel_launcher.py:21: DeprecationWarning: use options instead of chrome_options\n"
     ]
    },
    {
     "name": "stdout",
     "output_type": "stream",
     "text": [
      "进口洗发水-*-进口护发-*-进口沐浴-*-进口私处洗液-*-进口牙膏-*-进口牙刷-*-进口漱口水-*-进口面部护理-*-进口香皂-*-1-*-2-*-3-*-4-*-5-*-6-*-7-*-8-*--*-SAVE进口个人护理\n",
      "进口冲调保健 "
     ]
    },
    {
     "name": "stderr",
     "output_type": "stream",
     "text": [
      "/home/carlous/.pyenv/versions/anaconda3-5.3.1/lib/python3.7/site-packages/ipykernel_launcher.py:21: DeprecationWarning: use options instead of chrome_options\n"
     ]
    },
    {
     "name": "stdout",
     "output_type": "stream",
     "text": [
      "进口咖啡-*-进口茶/蜂蜜-*-进口谷物冲饮-*-进口奶茶-*-进口茶叶-*-进口保健品-*-进口维生素-*-1-*-2-*-3-*-4-*-5-*-6-*--*-SAVE进口冲调保健\n",
      "进口厨房用品 "
     ]
    },
    {
     "name": "stderr",
     "output_type": "stream",
     "text": [
      "/home/carlous/.pyenv/versions/anaconda3-5.3.1/lib/python3.7/site-packages/ipykernel_launcher.py:21: DeprecationWarning: use options instead of chrome_options\n"
     ]
    },
    {
     "name": "stdout",
     "output_type": "stream",
     "text": [
      "进口餐具/水杯 LOST!!!!\n",
      ".*.*.*.*.*.*.*.*.*.*.*.*.*.*.*.*.*.*.*.*.*.*.*.*.*.*.*.*.*.*.*.*.*.*.*.*.*.*.*.*\n",
      "进口餐具/水杯-*-进口厨具/锅具 LOST!!!!\n",
      ".*.*.*.*.*.*.*.*.*.*.*.*.*.*.*.*.*.*.*.*.*.*.*.*.*.*.*.*.*.*.*.*.*.*.*.*.*.*.*.*\n",
      "进口厨具/锅具-*-进口一次性用品-*-1-*-2-*--*-SAVE进口厨房用品\n",
      "进口母婴用品 "
     ]
    },
    {
     "name": "stderr",
     "output_type": "stream",
     "text": [
      "/home/carlous/.pyenv/versions/anaconda3-5.3.1/lib/python3.7/site-packages/ipykernel_launcher.py:21: DeprecationWarning: use options instead of chrome_options\n"
     ]
    },
    {
     "name": "stdout",
     "output_type": "stream",
     "text": [
      "进口纸尿裤-*-进口母婴洗护 LOST!!!!\n",
      ".*.*.*.*.*.*.*.*.*.*.*.*.*.*.*.*.*.*.*.*.*.*.*.*.*.*.*.*.*.*.*.*.*.*.*.*.*.*.*.*\n",
      "进口母婴洗护-*-进口婴儿奶粉-*-进口辅食-*-进口婴幼儿营养品-*-进口孕产妇营养品 LOST!!!!\n",
      ".*.*.*.*.*.*.*.*.*.*.*.*.*.*.*.*.*.*.*.*.*.*.*.*.*.*.*.*.*.*.*.*.*.*.*.*.*.*.*.*\n",
      "进口孕产妇营养品-*-进口奶瓶/奶嘴/牙胶 LOST!!!!\n",
      ".*.*.*.*.*.*.*.*.*.*.*.*.*.*.*.*.*.*.*.*.*.*.*.*.*.*.*.*.*.*.*.*.*.*.*.*.*.*.*.*\n",
      "进口奶瓶/奶嘴/牙胶-*-进口日常生活用品 LOST!!!!\n",
      ".*.*.*.*.*.*.*.*.*.*.*.*.*.*.*.*.*.*.*.*.*.*.*.*.*.*.*.*.*.*.*.*.*.*.*.*.*.*.*.*\n",
      "进口日常生活用品-*-1-*-2-*-3-*-4-*-5-*-6-*-7-*--*-SAVE进口母婴用品\n",
      "进口牛奶 "
     ]
    },
    {
     "name": "stderr",
     "output_type": "stream",
     "text": [
      "/home/carlous/.pyenv/versions/anaconda3-5.3.1/lib/python3.7/site-packages/ipykernel_launcher.py:21: DeprecationWarning: use options instead of chrome_options\n"
     ]
    },
    {
     "name": "stdout",
     "output_type": "stream",
     "text": [
      "进口纯牛奶-*-进口酸奶-*-进口成人奶粉-*-进口含乳饮料-*-进口有机牛奶-*-进口酸奶粉 LOST!!!!\n",
      ".*.*.*.*.*.*.*.*.*.*.*.*.*.*.*.*.*.*.*.*.*.*.*.*.*.*.*.*.*.*.*.*.*.*.*.*.*.*.*.*\n",
      "进口酸奶粉-*-1-*-2-*-3-*-4-*-5-*--*-SAVE进口牛奶\n",
      "进口粮油_速食_调料 "
     ]
    },
    {
     "name": "stderr",
     "output_type": "stream",
     "text": [
      "/home/carlous/.pyenv/versions/anaconda3-5.3.1/lib/python3.7/site-packages/ipykernel_launcher.py:21: DeprecationWarning: use options instead of chrome_options\n"
     ]
    },
    {
     "name": "stdout",
     "output_type": "stream",
     "text": [
      "进口橄榄油-*-进口其他油 LOST!!!!\n",
      ".*.*.*.*.*.*.*.*.*.*.*.*.*.*.*.*.*.*.*.*.*.*.*.*.*.*.*.*.*.*.*.*.*.*.*.*.*.*.*.*\n",
      "进口其他油-*-进口大米-*-进口方便面-*-进口意面-*-其他速食 LOST!!!!\n",
      ".*.*.*.*.*.*.*.*.*.*.*.*.*.*.*.*.*.*.*.*.*.*.*.*.*.*.*.*.*.*.*.*.*.*.*.*.*.*.*.*\n",
      "其他速食-*-进口罐头-*-进口调味料-*-进口调味酱-*-进口调味汁-*-1-*-2-*-3-*-4-*-5-*-6-*-7-*-8-*-9-*--*-SAVE进口粮油_速食_调料\n",
      "进口酒饮 "
     ]
    },
    {
     "name": "stderr",
     "output_type": "stream",
     "text": [
      "/home/carlous/.pyenv/versions/anaconda3-5.3.1/lib/python3.7/site-packages/ipykernel_launcher.py:21: DeprecationWarning: use options instead of chrome_options\n"
     ]
    },
    {
     "name": "stdout",
     "output_type": "stream",
     "text": [
      "进口葡萄酒-*-进口啤酒-*-进口起泡酒-*-进口洋酒-*-进口果汁-*-进口水-*-进口咖啡饮料-*-进口碳酸饮料-*-1-*-2-*-3-*-4-*-5-*-6-*-7-*--*-SAVE进口酒饮\n",
      "进口零食 "
     ]
    },
    {
     "name": "stderr",
     "output_type": "stream",
     "text": [
      "/home/carlous/.pyenv/versions/anaconda3-5.3.1/lib/python3.7/site-packages/ipykernel_launcher.py:21: DeprecationWarning: use options instead of chrome_options\n"
     ]
    },
    {
     "name": "stdout",
     "output_type": "stream",
     "text": [
      "进口蜜饯果干-*-进口薯片/膨化-*-进口坚果-*-进口糖果-*-进口果冻布丁-*-进口海产品-*-进口肉干 LOST!!!!\n",
      ".*.*.*.*.*.*.*.*.*.*.*.*.*.*.*.*.*.*.*.*.*.*.*.*.*.*.*.*.*.*.*.*.*.*.*.*.*.*.*.*\n",
      "进口肉干-*-进口巧克力-*-1-*-2-*-3-*-4-*-5-*-6-*-7-*--*-SAVE进口零食\n",
      "进口饼干_糕点 "
     ]
    },
    {
     "name": "stderr",
     "output_type": "stream",
     "text": [
      "/home/carlous/.pyenv/versions/anaconda3-5.3.1/lib/python3.7/site-packages/ipykernel_launcher.py:21: DeprecationWarning: use options instead of chrome_options\n"
     ]
    },
    {
     "name": "stdout",
     "output_type": "stream",
     "text": [
      "进口饼干-*-进口糕点-*-进口面包干-*-进口威化-*-进口苏打饼干-*-进口曲奇-*-1-*-2-*-3-*-4-*-5-*--*-SAVE进口饼干_糕点\n",
      "酒类 "
     ]
    },
    {
     "name": "stderr",
     "output_type": "stream",
     "text": [
      "/home/carlous/.pyenv/versions/anaconda3-5.3.1/lib/python3.7/site-packages/ipykernel_launcher.py:21: DeprecationWarning: use options instead of chrome_options\n"
     ]
    },
    {
     "name": "stdout",
     "output_type": "stream",
     "text": [
      "葡萄酒-*-黄酒-*-啤酒-*-白酒-*-洋酒-*-1-*-2-*-3-*-4-*--*-SAVE酒类\n",
      "食用油 "
     ]
    },
    {
     "name": "stderr",
     "output_type": "stream",
     "text": [
      "/home/carlous/.pyenv/versions/anaconda3-5.3.1/lib/python3.7/site-packages/ipykernel_launcher.py:21: DeprecationWarning: use options instead of chrome_options\n"
     ]
    },
    {
     "name": "stdout",
     "output_type": "stream",
     "text": [
      "调和油-*-葵花籽油-*-玉米油-*-豆油-*-花生油-*-橄榄油-*-山茶油-*-菜油-*-核桃油-*-稻米油-*-其他-*-1-*-2-*-3-*-4-*-5-*-6-*-7-*-8-*-9-*-10-*--*-SAVE食用油\n",
      "饮料_水 "
     ]
    },
    {
     "name": "stderr",
     "output_type": "stream",
     "text": [
      "/home/carlous/.pyenv/versions/anaconda3-5.3.1/lib/python3.7/site-packages/ipykernel_launcher.py:21: DeprecationWarning: use options instead of chrome_options\n"
     ]
    },
    {
     "name": "stdout",
     "output_type": "stream",
     "text": [
      "水-*-果蔬饮料-*-茶饮料-*-碳酸饮料-*-功能饮料-*-即饮咖啡-*-酸梅汤-*-1-*-2-*-3-*-4-*-5-*-6-*--*-SAVE饮料_水\n",
      "饼干糕点 "
     ]
    },
    {
     "name": "stderr",
     "output_type": "stream",
     "text": [
      "/home/carlous/.pyenv/versions/anaconda3-5.3.1/lib/python3.7/site-packages/ipykernel_launcher.py:21: DeprecationWarning: use options instead of chrome_options\n"
     ]
    },
    {
     "name": "stdout",
     "output_type": "stream",
     "text": [
      "饼干-*-曲奇-*-糕点-*-蛋卷-*-面包-*-薯片/膨化-*-肉松饼-*-麻花-*-蛋黄派-*-月饼-*-沙琪玛-*-凤梨酥-*-1-*-2-*-3-*-4-*-5-*-6-*-7-*-8-*-9-*-10-*-11-*--*-SAVE饼干糕点\n",
      "驱虫驱蚊 "
     ]
    },
    {
     "name": "stderr",
     "output_type": "stream",
     "text": [
      "/home/carlous/.pyenv/versions/anaconda3-5.3.1/lib/python3.7/site-packages/ipykernel_launcher.py:21: DeprecationWarning: use options instead of chrome_options\n"
     ]
    },
    {
     "name": "stdout",
     "output_type": "stream",
     "text": [
      "蚊香片-*-蚊香液-*-驱虫气雾剂 LOST!!!!\n",
      ".*.*.*.*.*.*.*.*.*.*.*.*.*.*.*.*.*.*.*.*.*.*.*.*.*.*.*.*.*.*.*.*.*.*.*.*.*.*.*.*\n",
      "驱虫气雾剂-*-驱蚊套装-*-驱蚊-*-杀蟑-*-杀螨虫-*-1-*-2-*-3-*-4-*-5-*-6-*--*-SAVE驱虫驱蚊\n"
     ]
    }
   ],
   "source": [
    "import time\n",
    "import random\n",
    "import os \n",
    "import re\n",
    "import pandas as pd\n",
    "from selenium import webdriver\n",
    "def InitChrome():\n",
    "    options = webdriver.ChromeOptions()\n",
    "\n",
    "    options.add_argument('lang=zh_CN.UTF-8')\n",
    "#    options.add_argument('user-agent=\"Mozilla/5.0 (iPod; U; CPU iPhone OS 2_1 like Mac OS X; ja-jp) AppleWebKit/525.18.1 (KHTML, like Gecko) Version/3.1.1 Mobile/5F137 Safari/525.20\"')\n",
    "    prefs = {\n",
    "        'profile.default_content_setting_values': {\n",
    "        'images': 2\n",
    "        }\n",
    "    }\n",
    "#    options.add_argument('--headless') \n",
    "    ip = IP[random.randint(0,len(IP)-1)]\n",
    "#    options.add_argument('--proxy-server='+ip)\n",
    "    options.add_experimental_option('prefs',prefs)\n",
    "    browser = webdriver.Chrome(chrome_options=options)\n",
    "    return browser\n",
    "\n",
    "def FirstTrip(browser,item):\n",
    "    infmoration = []\n",
    "    url = 'https://chaoshi.tmall.com/?targetPage=index'\n",
    "    browser.get(url)\n",
    "    for i in item:\n",
    "        # 清空搜索栏\n",
    "        browser.find_element_by_xpath('//*[@id=\"mq\"]').clear()\n",
    "        # 传入数据\n",
    "        browser.find_element_by_xpath('//*[@id=\"mq\"]').send_keys(i)\n",
    "        time.sleep(random.randint(5,10))\n",
    "        # 点击搜索\n",
    "        browser.find_element_by_xpath('//*[@id=\"mallSearch\"]/form/fieldset/div/button').click()\n",
    "        try:\n",
    "            # 如果有跟多则点击没有就Pass\n",
    "            browser.find_element_by_xpath('//*[@id=\"J_RecommendProp\"]/div/a').click()\n",
    "        except:\n",
    "            pass\n",
    "        try:\n",
    "            temp = browser.find_element_by_xpath('//*[@id=\"J_RecommendProp\"]/div').text\n",
    "        except:\n",
    "            temp = 'LOST'\n",
    "            print(i+ ' LOST!!!!\\n'+'.*'*40)\n",
    "            pass\n",
    "        infmoration.append(temp)\n",
    "\n",
    "        time.sleep(random.randint(10,15))\n",
    "        print(i,end='-*-')\n",
    "    browser.quit()\n",
    "    return infmoration\n",
    "\n",
    "def FeatureEg(name,listToUse):\n",
    "    if listToUse!=\"LOST\":\n",
    "        RegVal = re.compile(r'\\n')\n",
    "        result = re.split(RegVal,listToUse)\n",
    "        if len(result)>2:\n",
    "            temp = pd.DataFrame(result[1:len(result)-2])\n",
    "        else:\n",
    "            temp = pd.DataFrame([result[1]]).T\n",
    "    else:\n",
    "        temp = pd.DataFrame([listToUse])\n",
    "    temp['Third']=name\n",
    "    temp.rename(columns={0:'Brands'},inplace =True)\n",
    "    return temp[['Third','Brands']]\n",
    "\n",
    "def ContralFE(sliceIndex,csv_name,listToUse):\n",
    "    \n",
    "    result = FeatureEg(sliceIndex.iloc[0],listToUse[0])\n",
    "    for i in range(1,len(sliceIndex)):\n",
    "        print(i,end='-*-')\n",
    "        try:\n",
    "            result = result.append(FeatureEg(sliceIndex.iloc[i],listToUse[i]),ignore_index=True)\n",
    "        except:\n",
    "            print(csv_name+ ' has error! ')\n",
    "            pass\n",
    "    result.to_csv('Brands/'+csv_name+'.csv')\n",
    "    print(\"-*-SAVE\"+csv_name)\n",
    "\n",
    "if __name__ == '__main__':\n",
    "    value = pd.read_csv('Items.csv')[['title','text']]\n",
    "    # 对屏蔽词微调\n",
    "    value.text.loc[value['text']=='补肾']='男人保健'\n",
    "    count = 0\n",
    "    DIR = 'Brands' #要统计的文件夹\n",
    "    FilesNumber = len([name for name in os.listdir(DIR) if os.path.isfile(os.path.join(DIR, name))])\n",
    "    print(str(FilesNumber)+' files have existed')\n",
    "    for i in value.groupby('title'):\n",
    "        count+=1\n",
    "        CSV_name = i[0]\n",
    "        CSV_name = re.sub(r'/','_',CSV_name)\n",
    "        if count>FilesNumber:\n",
    "            print(CSV_name,end=' ')\n",
    "            sliceIndex = i[1].text\n",
    "            browser = InitChrome()\n",
    "            listToUse = FirstTrip(browser,sliceIndex)\n",
    "            ContralFE(sliceIndex,CSV_name,listToUse)\n",
    "        else:\n",
    "            print(CSV_name+' aleadry exists')"
   ]
  },
  {
   "cell_type": "code",
   "execution_count": 42,
   "metadata": {},
   "outputs": [
    {
     "data": {
      "text/html": [
       "<div>\n",
       "<style scoped>\n",
       "    .dataframe tbody tr th:only-of-type {\n",
       "        vertical-align: middle;\n",
       "    }\n",
       "\n",
       "    .dataframe tbody tr th {\n",
       "        vertical-align: top;\n",
       "    }\n",
       "\n",
       "    .dataframe thead th {\n",
       "        text-align: right;\n",
       "    }\n",
       "</style>\n",
       "<table border=\"1\" class=\"dataframe\">\n",
       "  <thead>\n",
       "    <tr style=\"text-align: right;\">\n",
       "      <th></th>\n",
       "      <th>0</th>\n",
       "    </tr>\n",
       "  </thead>\n",
       "  <tbody>\n",
       "    <tr>\n",
       "      <th>0</th>\n",
       "      <td>LOST</td>\n",
       "    </tr>\n",
       "  </tbody>\n",
       "</table>\n",
       "</div>"
      ],
      "text/plain": [
       "      0\n",
       "0  LOST"
      ]
     },
     "execution_count": 42,
     "metadata": {},
     "output_type": "execute_result"
    }
   ],
   "source": []
  },
  {
   "cell_type": "code",
   "execution_count": 32,
   "metadata": {},
   "outputs": [
    {
     "name": "stdout",
     "output_type": "stream",
     "text": [
      "1-*-2-*-3-*-4-*-5-*-6-*-7-*-8-*-9-*-10-*--*-SAVE卫浴用具_配件\n"
     ]
    }
   ],
   "source": [
    "import re\n",
    "regVal = re.compile(r'\\\\')\n",
    "CSV_name = re.sub(r'/','_',CSV_name)\n",
    "ContralFE(sliceIndex,CSV_name,listToUse)"
   ]
  },
  {
   "cell_type": "code",
   "execution_count": 10,
   "metadata": {},
   "outputs": [],
   "source": [
    "import pandas as pd"
   ]
  },
  {
   "cell_type": "code",
   "execution_count": 8,
   "metadata": {
    "scrolled": true
   },
   "outputs": [
    {
     "name": "stderr",
     "output_type": "stream",
     "text": [
      "/home/carlous/.pyenv/versions/anaconda3-5.3.1/lib/python3.7/site-packages/ipykernel_launcher.py:13: DeprecationWarning: use options instead of chrome_options\n",
      "  del sys.path[0]\n"
     ]
    }
   ],
   "source": [
    "import selenium\n",
    "from selenium import webdriver\n",
    "\n",
    "options = webdriver.ChromeOptions()\n",
    "p = '/home/carlous/.config/google-chrome/Default'\n",
    "\n",
    "options.add_argument('disable-infobars')\n",
    "\n",
    "options.add_argument('lang=zh_CN.UTF-8')\n",
    "\n",
    "# options.add_argument('user-agent=\"Mozilla/5.0 (iPod; U; CPU iPhone OS 2_1 like Mac OS X; ja-jp) AppleWebKit/525.18.1 (KHTML, like Gecko) Version/3.1.1 Mobile/5F137 Safari/525.20\"')\n",
    "\n",
    "browser = webdriver.Chrome(chrome_options=options)\n",
    "\n",
    "url = 'https://chaoshi.tmall.com/?targetPage=index'\n",
    "browser.get(url)"
   ]
  },
  {
   "cell_type": "code",
   "execution_count": 19,
   "metadata": {},
   "outputs": [],
   "source": [
    "Testurl = pd.read_csv('Items.csv').productLink[1]\n",
    "\n",
    "browser.get(Testurl)"
   ]
  },
  {
   "cell_type": "code",
   "execution_count": 24,
   "metadata": {},
   "outputs": [],
   "source": [
    "import time\n",
    "action = browser.find_element_by_xpath('//*[@id=\"content\"]/div[2]/div[1]/div/div/div[1]/ul/li[1]/h3')\n",
    "action.click()\n",
    "time.sleep(5)\n",
    "action2 = browser.find_element_by_link_text(Testurl)\n",
    "action2.click()"
   ]
  },
  {
   "cell_type": "code",
   "execution_count": 240,
   "metadata": {},
   "outputs": [],
   "source": [
    "value = pd.read_csv('Items.csv')[['title','text']]"
   ]
  },
  {
   "cell_type": "code",
   "execution_count": 260,
   "metadata": {},
   "outputs": [
    {
     "data": {
      "text/plain": [
       "118    补肾\n",
       "Name: text, dtype: object"
      ]
     },
     "execution_count": 260,
     "metadata": {},
     "output_type": "execute_result"
    }
   ],
   "source": [
    "value.loc[value['text']=='补肾']['text']"
   ]
  },
  {
   "cell_type": "code",
   "execution_count": 262,
   "metadata": {},
   "outputs": [],
   "source": [
    "value.text.loc[value['text']=='补肾']='男人保健'"
   ]
  },
  {
   "cell_type": "code",
   "execution_count": 263,
   "metadata": {},
   "outputs": [
    {
     "data": {
      "text/plain": [
       "Series([], Name: text, dtype: object)"
      ]
     },
     "execution_count": 263,
     "metadata": {},
     "output_type": "execute_result"
    }
   ],
   "source": [
    "value.text.loc[value['text']=='补肾']"
   ]
  },
  {
   "cell_type": "code",
   "execution_count": 194,
   "metadata": {},
   "outputs": [
    {
     "name": "stdout",
     "output_type": "stream",
     "text": [
      "1\n",
      "2\n",
      "3\n",
      "4\n",
      "5\n",
      "6\n",
      "7\n",
      "8\n",
      "-*-SAVEIO\n"
     ]
    }
   ],
   "source": [
    "def ContralFE(sliceIndex,csv_name,listToUse):\n",
    "    result = FeatureEg(sliceIndex.iloc[0],listToUse[0])\n",
    "    for i in range(1,len(sliceIndex)):\n",
    "        print(i)\n",
    "        result = result.append(FeatureEg(sliceIndex.iloc[i],listToUse[i]),ignore_index=True)\n",
    "    result.to_csv('Brands/'+csv_name+'.csv')\n",
    "    print(\"-*-SAVE\"+csv_name)\n",
    "\n",
    "ContralFE(sliceIndex,'IO',listToUse)"
   ]
  },
  {
   "cell_type": "code",
   "execution_count": 7,
   "metadata": {},
   "outputs": [],
   "source": [
    "import re"
   ]
  },
  {
   "cell_type": "code",
   "execution_count": 29,
   "metadata": {
    "scrolled": true
   },
   "outputs": [],
   "source": [
    "def FeatureEg(name,listToUse):\n",
    "    RegVal = re.compile(r'\\n')\n",
    "    result = re.split(RegVal,listToUse)\n",
    "    if len(result)>2:\n",
    "        temp = pd.DataFrame(result[1:len(result)-2])\n",
    "    else:\n",
    "        temp = pd.DataFrame([result[1]]).T\n",
    "    temp['Third']=name\n",
    "    temp.rename(columns={0:'Brands'},inplace =True)\n",
    "    return temp[['Third','Brands']]"
   ]
  },
  {
   "cell_type": "code",
   "execution_count": 218,
   "metadata": {},
   "outputs": [],
   "source": [
    "name = sliceIndex.iloc[9]\n",
    "#listToUse = listToUse[9]\n",
    "RegVal = re.compile(r'\\n')\n",
    "result = re.split(RegVal,listToUse)"
   ]
  },
  {
   "cell_type": "code",
   "execution_count": 220,
   "metadata": {},
   "outputs": [
    {
     "data": {
      "text/plain": [
       "'龙'"
      ]
     },
     "execution_count": 220,
     "metadata": {},
     "output_type": "execute_result"
    }
   ],
   "source": [
    "listToUse"
   ]
  },
  {
   "cell_type": "code",
   "execution_count": 216,
   "metadata": {},
   "outputs": [
    {
     "data": {
      "text/plain": [
       "['龙']"
      ]
     },
     "execution_count": 216,
     "metadata": {},
     "output_type": "execute_result"
    }
   ],
   "source": [
    "if len(result)>2:\n",
    "    temp = pd.DataFrame(result[1:len(result)-2])\n",
    "else:\n",
    "    temp = pd.DataFrame([result[1]]).T\n",
    "temp['Third']=name\n",
    "temp.rename(columns={0:'Brands'},inplace =True)\n",
    "temp"
   ]
  },
  {
   "cell_type": "code",
   "execution_count": 213,
   "metadata": {},
   "outputs": [
    {
     "data": {
      "text/plain": [
       "'省份：\\n辽宁省\\n黑龙江省'"
      ]
     },
     "execution_count": 213,
     "metadata": {},
     "output_type": "execute_result"
    }
   ],
   "source": [
    "sliceIndex.iloc[9]\n",
    "listToUse[9]"
   ]
  },
  {
   "cell_type": "code",
   "execution_count": 38,
   "metadata": {
    "scrolled": true
   },
   "outputs": [],
   "source": [
    "def ContralFE(sliceIndex,csv_name):\n",
    "    result = FeatureEg(sliceIndex[0],listToUse[0])\n",
    "    for i in range(1,len(sliceIndex)):\n",
    "        result = result.append(FeatureEg(sliceIndex[i],listToUse[i]),ignore_index=True)\n",
    "    result.to_csv(csv_name+'.csv')"
   ]
  },
  {
   "cell_type": "code",
   "execution_count": 28,
   "metadata": {
    "scrolled": true
   },
   "outputs": [],
   "source": [
    "header = {'User-Agent': 'Mozilla/5.0 (Windows NT 10.0; WOW64) AppleWebKit/537.36 (KHTML, like Gecko) Chrome/47.0.2526.106 Safari/537.36',\n",
    "          'Referer': 'http://search.smzdm.com/?c=home&s=rimowa',\n",
    "          'Host': 'search.smzdm.com'}\n",
    "url = 'https://www.xicidaili.com/nn/'\n",
    "html = requests.get(url,headers = header).content\n",
    "soup = BeautifulSoup(html,'lxml')"
   ]
  }
 ],
 "metadata": {
  "kernelspec": {
   "display_name": "Python 3",
   "language": "python",
   "name": "python3"
  },
  "language_info": {
   "codemirror_mode": {
    "name": "ipython",
    "version": 3
   },
   "file_extension": ".py",
   "mimetype": "text/x-python",
   "name": "python",
   "nbconvert_exporter": "python",
   "pygments_lexer": "ipython3",
   "version": "3.7.0"
  },
  "toc": {
   "base_numbering": 1,
   "nav_menu": {},
   "number_sections": true,
   "sideBar": true,
   "skip_h1_title": false,
   "title_cell": "Table of Contents",
   "title_sidebar": "Contents",
   "toc_cell": false,
   "toc_position": {},
   "toc_section_display": true,
   "toc_window_display": false
  },
  "varInspector": {
   "cols": {
    "lenName": 16,
    "lenType": 16,
    "lenVar": 40
   },
   "kernels_config": {
    "python": {
     "delete_cmd_postfix": "",
     "delete_cmd_prefix": "del ",
     "library": "var_list.py",
     "varRefreshCmd": "print(var_dic_list())"
    },
    "r": {
     "delete_cmd_postfix": ") ",
     "delete_cmd_prefix": "rm(",
     "library": "var_list.r",
     "varRefreshCmd": "cat(var_dic_list()) "
    }
   },
   "types_to_exclude": [
    "module",
    "function",
    "builtin_function_or_method",
    "instance",
    "_Feature"
   ],
   "window_display": false
  }
 },
 "nbformat": 4,
 "nbformat_minor": 2
}
