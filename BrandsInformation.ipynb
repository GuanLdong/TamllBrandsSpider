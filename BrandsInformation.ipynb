{
 "cells": [
  {
   "cell_type": "code",
   "execution_count": 2,
   "metadata": {},
   "outputs": [],
   "source": [
    "import sqlite3\n",
    "import pandas as pd"
   ]
  },
  {
   "cell_type": "code",
   "execution_count": 37,
   "metadata": {
    "scrolled": true
   },
   "outputs": [],
   "source": [
    "sql = 'select * from content;'\n",
    "con =sqlite3.connect('Tmall.db')\n",
    "Data =pd.read_sql(sql,con,index_col=\"Id\")\n",
    "\n",
    "Data['旗舰店']=Data.Content.apply(lambda x:1 if '旗舰店' in x else 0)\n",
    "\n",
    "Data['天猫超市']=Data.Content.apply(lambda x:1 if '天猫超市' in x else 0)\n",
    "\n",
    "Data['海外旗舰店']=Data.Content.apply(lambda x:1 if '海外旗舰店' in x else 0)\n",
    "\n",
    "Data = Data[['旗舰店','天猫超市','海外旗舰店']]"
   ]
  },
  {
   "cell_type": "code",
   "execution_count": 63,
   "metadata": {},
   "outputs": [],
   "source": [
    "primData = pd.read_csv('Result.csv',index_col=0)\n",
    "\n",
    "Data.sort_values(by='Id',inplace=True)\n",
    "\n",
    "primData.reset_index(inplace=True,drop=True)\n",
    "\n",
    "primData.index.name='Id'"
   ]
  },
  {
   "cell_type": "code",
   "execution_count": 64,
   "metadata": {
    "scrolled": true
   },
   "outputs": [],
   "source": [
    "Result = pd.merge(primData,Data,on='Id',how='right')"
   ]
  },
  {
   "cell_type": "code",
   "execution_count": 66,
   "metadata": {},
   "outputs": [],
   "source": [
    "Result.to_csv('AllInformation.csv')"
   ]
  }
 ],
 "metadata": {
  "kernelspec": {
   "display_name": "Python 3",
   "language": "python",
   "name": "python3"
  },
  "language_info": {
   "codemirror_mode": {
    "name": "ipython",
    "version": 3
   },
   "file_extension": ".py",
   "mimetype": "text/x-python",
   "name": "python",
   "nbconvert_exporter": "python",
   "pygments_lexer": "ipython3",
   "version": "3.7.0"
  },
  "toc": {
   "base_numbering": 1,
   "nav_menu": {},
   "number_sections": true,
   "sideBar": true,
   "skip_h1_title": false,
   "title_cell": "Table of Contents",
   "title_sidebar": "Contents",
   "toc_cell": false,
   "toc_position": {},
   "toc_section_display": true,
   "toc_window_display": false
  }
 },
 "nbformat": 4,
 "nbformat_minor": 2
}
