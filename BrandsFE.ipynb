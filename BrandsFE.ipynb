{
 "cells": [
  {
   "cell_type": "code",
   "execution_count": 2,
   "metadata": {},
   "outputs": [],
   "source": [
    "import pandas as pd\n",
    "import os"
   ]
  },
  {
   "cell_type": "markdown",
   "metadata": {},
   "source": [
    "读取所有品牌信息"
   ]
  },
  {
   "cell_type": "code",
   "execution_count": 17,
   "metadata": {},
   "outputs": [],
   "source": [
    "os.chdir('/home/carlous/datamining/WebSpider/Brands')\n",
    "file_path = os.getcwd()\n",
    "\n",
    "file_csv = []\n",
    "for root,dirs,files in os.walk(file_path):\n",
    "    file_csv.append(files)\n",
    "\n",
    "BrandsData = pd.DataFrame()\n",
    "for csv in file_csv[0]:\n",
    "    BrandsData = BrandsData.append(pd.read_csv(csv,header=0,index_col=0,sep=None,),ignore_index=True)"
   ]
  },
  {
   "cell_type": "code",
   "execution_count": 44,
   "metadata": {},
   "outputs": [
    {
     "data": {
      "text/html": [
       "<div>\n",
       "<style scoped>\n",
       "    .dataframe tbody tr th:only-of-type {\n",
       "        vertical-align: middle;\n",
       "    }\n",
       "\n",
       "    .dataframe tbody tr th {\n",
       "        vertical-align: top;\n",
       "    }\n",
       "\n",
       "    .dataframe thead th {\n",
       "        text-align: right;\n",
       "    }\n",
       "</style>\n",
       "<table border=\"1\" class=\"dataframe\">\n",
       "  <thead>\n",
       "    <tr style=\"text-align: right;\">\n",
       "      <th></th>\n",
       "      <th>Third</th>\n",
       "      <th>Brands</th>\n",
       "    </tr>\n",
       "  </thead>\n",
       "  <tbody>\n",
       "    <tr>\n",
       "      <th>0</th>\n",
       "      <td>卫生巾</td>\n",
       "      <td>SOFY/苏菲</td>\n",
       "    </tr>\n",
       "    <tr>\n",
       "      <th>1</th>\n",
       "      <td>卫生巾</td>\n",
       "      <td>whisper/护舒宝</td>\n",
       "    </tr>\n",
       "    <tr>\n",
       "      <th>2</th>\n",
       "      <td>卫生巾</td>\n",
       "      <td>高洁丝</td>\n",
       "    </tr>\n",
       "    <tr>\n",
       "      <th>3</th>\n",
       "      <td>卫生巾</td>\n",
       "      <td>ABC</td>\n",
       "    </tr>\n",
       "    <tr>\n",
       "      <th>4</th>\n",
       "      <td>卫生巾</td>\n",
       "      <td>LAURIER/乐而雅</td>\n",
       "    </tr>\n",
       "  </tbody>\n",
       "</table>\n",
       "</div>"
      ],
      "text/plain": [
       "  Third       Brands\n",
       "0   卫生巾      SOFY/苏菲\n",
       "1   卫生巾  whisper/护舒宝\n",
       "2   卫生巾          高洁丝\n",
       "3   卫生巾          ABC\n",
       "4   卫生巾  LAURIER/乐而雅"
      ]
     },
     "execution_count": 44,
     "metadata": {},
     "output_type": "execute_result"
    }
   ],
   "source": [
    "BrandsData.head()"
   ]
  },
  {
   "cell_type": "code",
   "execution_count": 38,
   "metadata": {
    "scrolled": true
   },
   "outputs": [
    {
     "data": {
      "text/plain": [
       "LOST                             40\n",
       "BE＆CHEERY/百草味                    38\n",
       "Three Squirrels/三只松鼠             34\n",
       "良品铺子                             34\n",
       "Maryya/美丽雅                       27\n",
       "MR/妙然                            26\n",
       "Walch/威露士                        23\n",
       "禾煜                               23\n",
       "Nestle/雀巢                        22\n",
       "妙洁                               22\n",
       "金龙鱼                              21\n",
       "十月稻田                             20\n",
       "edo                              19\n",
       "Gaia Farm/盖亚农场                   18\n",
       "茶花                               18\n",
       "Nivea/妮维雅                        18\n",
       "盛耳                               18\n",
       "蓝月亮                              18\n",
       "PECHOIN/百雀羚                      18\n",
       "Cleafe/净安                        17\n",
       "绿伞                               17\n",
       "隆力奇                              17\n",
       "燕之坊                              16\n",
       "洛娃                               16\n",
       "辉业                               16\n",
       "SeeSang/鲜享                       16\n",
       "美农美季                             15\n",
       "HADAY/海天                         15\n",
       "Zenxin/振兴                        15\n",
       "伊利                               15\n",
       "                                 ..\n",
       "宏途                                1\n",
       "仑巴迪                               1\n",
       "太粮                                1\n",
       "Northeast Peasant Madame/东北农嫂     1\n",
       "福奇（意大利）                           1\n",
       "金御皇（台湾）                           1\n",
       "两面针                               1\n",
       "都市牧场                              1\n",
       "东远（韩国）                            1\n",
       "丹妮丝塔（葡萄牙）                         1\n",
       "JANLEE/简丽                         1\n",
       "农亨                                1\n",
       "八荒                                1\n",
       "台湾江记                              1\n",
       "Miss Candy/糖果小姐                   1\n",
       "和酒                                1\n",
       "Ricola/利口乐                        1\n",
       "CPT/康比特                           1\n",
       "Haowei Farm/昊伟农庄                  1\n",
       "KONOMI/相扑手                        1\n",
       "悠小君                               1\n",
       "洋河                                1\n",
       "WEIMAN/纬曼                         1\n",
       "como tomo/可么多么                    1\n",
       "HAHNE/汉尼                          1\n",
       "好哥们                               1\n",
       "M＆M’S                             1\n",
       "我滋我点                              1\n",
       "Greatwall/长城                      1\n",
       "Deanfun/蝶安芬                       1\n",
       "Name: Brands, Length: 1850, dtype: int64"
      ]
     },
     "execution_count": 38,
     "metadata": {},
     "output_type": "execute_result"
    }
   ],
   "source": [
    "BrandsData.Brands.value_counts()"
   ]
  },
  {
   "cell_type": "markdown",
   "metadata": {},
   "source": [
    "~~写爬虫太烦了，我决定先不管缺失值了。~~\n",
    "\n",
    "上句话是用来打脸的"
   ]
  },
  {
   "cell_type": "code",
   "execution_count": 45,
   "metadata": {},
   "outputs": [
    {
     "data": {
      "text/html": [
       "<div>\n",
       "<style scoped>\n",
       "    .dataframe tbody tr th:only-of-type {\n",
       "        vertical-align: middle;\n",
       "    }\n",
       "\n",
       "    .dataframe tbody tr th {\n",
       "        vertical-align: top;\n",
       "    }\n",
       "\n",
       "    .dataframe thead th {\n",
       "        text-align: right;\n",
       "    }\n",
       "</style>\n",
       "<table border=\"1\" class=\"dataframe\">\n",
       "  <thead>\n",
       "    <tr style=\"text-align: right;\">\n",
       "      <th></th>\n",
       "      <th>Main</th>\n",
       "      <th>title</th>\n",
       "      <th>Third</th>\n",
       "    </tr>\n",
       "  </thead>\n",
       "  <tbody>\n",
       "    <tr>\n",
       "      <th>0</th>\n",
       "      <td>进口食品</td>\n",
       "      <td>进口牛奶</td>\n",
       "      <td>进口纯牛奶</td>\n",
       "    </tr>\n",
       "    <tr>\n",
       "      <th>1</th>\n",
       "      <td>进口食品</td>\n",
       "      <td>进口牛奶</td>\n",
       "      <td>进口酸奶</td>\n",
       "    </tr>\n",
       "    <tr>\n",
       "      <th>2</th>\n",
       "      <td>进口食品</td>\n",
       "      <td>进口牛奶</td>\n",
       "      <td>进口成人奶粉</td>\n",
       "    </tr>\n",
       "    <tr>\n",
       "      <th>3</th>\n",
       "      <td>进口食品</td>\n",
       "      <td>进口牛奶</td>\n",
       "      <td>进口含乳饮料</td>\n",
       "    </tr>\n",
       "    <tr>\n",
       "      <th>4</th>\n",
       "      <td>进口食品</td>\n",
       "      <td>进口牛奶</td>\n",
       "      <td>进口有机牛奶</td>\n",
       "    </tr>\n",
       "  </tbody>\n",
       "</table>\n",
       "</div>"
      ],
      "text/plain": [
       "   Main title   Third\n",
       "0  进口食品  进口牛奶   进口纯牛奶\n",
       "1  进口食品  进口牛奶    进口酸奶\n",
       "2  进口食品  进口牛奶  进口成人奶粉\n",
       "3  进口食品  进口牛奶  进口含乳饮料\n",
       "4  进口食品  进口牛奶  进口有机牛奶"
      ]
     },
     "execution_count": 45,
     "metadata": {},
     "output_type": "execute_result"
    }
   ],
   "source": [
    "ItemsData = pd.read_csv('../Items.csv',index_col=0)[['Main','title','text']]\n",
    "ItemsData.rename(columns={'text':'Third'},inplace=True)\n",
    "ItemsData.head(5)"
   ]
  },
  {
   "cell_type": "code",
   "execution_count": 47,
   "metadata": {
    "scrolled": true
   },
   "outputs": [],
   "source": [
    "Mergedata = pd.merge(ItemsData,BrandsData,on='Third')"
   ]
  },
  {
   "cell_type": "code",
   "execution_count": 98,
   "metadata": {
    "scrolled": true
   },
   "outputs": [],
   "source": [
    "linkData = pd.read_csv('../Items.csv',index_col=0)[['text','productLink']]\n",
    "\n",
    "temp1 = linkData.rename(columns={'text':'Third'})\n",
    "\n",
    "temp2 = Mergedata[Mergedata.Brands=='LOST']\n",
    "\n",
    "LOSTLINK = pd.merge(temp1[['Third','productLink']],temp2[['Third','Brands']],on='Third',how='right')\n",
    "\n",
    "LOSTLINK.to_csv('LOSTLINK.csv')"
   ]
  },
  {
   "cell_type": "code",
   "execution_count": 100,
   "metadata": {},
   "outputs": [
    {
     "name": "stderr",
     "output_type": "stream",
     "text": [
      "/home/carlous/.pyenv/versions/anaconda3-5.3.1/lib/python3.7/site-packages/ipykernel_launcher.py:13: DeprecationWarning: use options instead of chrome_options\n",
      "  del sys.path[0]\n"
     ]
    },
    {
     "name": "stdout",
     "output_type": "stream",
     "text": [
      "https://list.tmall.com/search_product.htm?spm=1.1.0.0.mg24Hs&user_id=725677994&cat=51462017&active=1&is=brand&acm=lb-zebra-26901-351264.1003.4.468294&style=g&sort=s&scm=1003.4.lb-zebra-26901-351264.OTHER_14440854985286_468294&industryCatId=51462017&brand=8551740\n",
      "No value\n"
     ]
    },
    {
     "name": "stderr",
     "output_type": "stream",
     "text": [
      "/home/carlous/.pyenv/versions/anaconda3-5.3.1/lib/python3.7/site-packages/ipykernel_launcher.py:13: DeprecationWarning: use options instead of chrome_options\n",
      "  del sys.path[0]\n"
     ]
    },
    {
     "name": "stdout",
     "output_type": "stream",
     "text": [
      "https://list.tmall.com/search_product.htm?spm=1.1.0.0.jdpEn9&user_id=725677994&cat=51450017&active=1&acm=lb-zebra-26901-330370.1003.4.456139&style=g&search_condition=23&scm=1003.4.lb-zebra-26901-330370.OTHER_14434790976547_456139\n",
      "No value\n"
     ]
    },
    {
     "name": "stderr",
     "output_type": "stream",
     "text": [
      "/home/carlous/.pyenv/versions/anaconda3-5.3.1/lib/python3.7/site-packages/ipykernel_launcher.py:13: DeprecationWarning: use options instead of chrome_options\n",
      "  del sys.path[0]\n"
     ]
    },
    {
     "name": "stdout",
     "output_type": "stream",
     "text": [
      "https://list.tmall.com//search_product.htm?spm=1.1.0.0.5GF3Da&q=%CA%B3%D3%C3%D3%CD&user_id=725677994&cat=51454011&style=g&from=chaoshi..pc_1_searchbutton&acm=lb-zebra-26901-351247.1003.4.468267&sort=s&scm=1003.4.lb-zebra-26901-351247.OTHER_14440868177892_468267&industryCatId=50514008\n",
      "No value\n"
     ]
    },
    {
     "name": "stderr",
     "output_type": "stream",
     "text": [
      "/home/carlous/.pyenv/versions/anaconda3-5.3.1/lib/python3.7/site-packages/ipykernel_launcher.py:13: DeprecationWarning: use options instead of chrome_options\n",
      "  del sys.path[0]\n"
     ]
    },
    {
     "name": "stdout",
     "output_type": "stream",
     "text": [
      "https://list.tmall.com/search_product.htm?spm=1.1.0.0.7McD63&user_id=725677994&cat=51450018&active=1&style=g&acm=lb-zebra-26901-351247.1003.4.468267&sort=td&search_condition=23&scm=1003.4.lb-zebra-26901-351247.OTHER_14440852787936_468267&industryCatId=51462017\n",
      "No value\n"
     ]
    },
    {
     "name": "stderr",
     "output_type": "stream",
     "text": [
      "/home/carlous/.pyenv/versions/anaconda3-5.3.1/lib/python3.7/site-packages/ipykernel_launcher.py:13: DeprecationWarning: use options instead of chrome_options\n",
      "  del sys.path[0]\n"
     ]
    },
    {
     "name": "stdout",
     "output_type": "stream",
     "text": [
      "https://list.tmall.com/search_product.htm?spm=3.405264.315613.171.be1SZA&user_id=725677994&cat=51464019&active=1&acm=lb-zebra-26901-351249.1003.4.468273&style=g&search_condition=23&scm=1003.4.lb-zebra-26901-351249.OTHER_14440868340442_468273\n"
     ]
    },
    {
     "name": "stderr",
     "output_type": "stream",
     "text": [
      "/home/carlous/.pyenv/versions/anaconda3-5.3.1/lib/python3.7/site-packages/ipykernel_launcher.py:13: DeprecationWarning: use options instead of chrome_options\n",
      "  del sys.path[0]\n"
     ]
    },
    {
     "name": "stdout",
     "output_type": "stream",
     "text": [
      "https://list.tmall.com/search_product.htm?spm=1.1.0.0.U8EAaF&user_id=725677994&cat=51458017&active=1&acm=lb-zebra-26901-351249.1003.4.468273&style=g&search_condition=23&scm=1003.4.lb-zebra-26901-351249.OTHER_14440852950486_468273\n",
      "No value\n"
     ]
    },
    {
     "name": "stderr",
     "output_type": "stream",
     "text": [
      "/home/carlous/.pyenv/versions/anaconda3-5.3.1/lib/python3.7/site-packages/ipykernel_launcher.py:13: DeprecationWarning: use options instead of chrome_options\n",
      "  del sys.path[0]\n"
     ]
    },
    {
     "name": "stdout",
     "output_type": "stream",
     "text": [
      "https://list.tmall.com/search_product.htm?spm=1.1.0.0.h5WWue&user_id=725677994&cat=51456024&active=1&acm=lb-zebra-26901-351249.1003.4.468273&style=g&search_condition=23&scm=1003.4.lb-zebra-26901-351249.OTHER_14440864492957_468273\n"
     ]
    },
    {
     "name": "stderr",
     "output_type": "stream",
     "text": [
      "/home/carlous/.pyenv/versions/anaconda3-5.3.1/lib/python3.7/site-packages/ipykernel_launcher.py:13: DeprecationWarning: use options instead of chrome_options\n",
      "  del sys.path[0]\n"
     ]
    },
    {
     "name": "stdout",
     "output_type": "stream",
     "text": [
      "https://list.tmall.com/search_product.htm?spm=1.1.0.0.UF9twS&user_id=725677994&cat=51466014&active=1&acm=lb-zebra-26901-351249.1003.4.468273&style=g&search_condition=23&scm=1003.4.lb-zebra-26901-351249.OTHER_14440860645478_468273\n",
      "No value\n"
     ]
    },
    {
     "name": "stderr",
     "output_type": "stream",
     "text": [
      "/home/carlous/.pyenv/versions/anaconda3-5.3.1/lib/python3.7/site-packages/ipykernel_launcher.py:13: DeprecationWarning: use options instead of chrome_options\n",
      "  del sys.path[0]\n"
     ]
    },
    {
     "name": "stdout",
     "output_type": "stream",
     "text": [
      "https://list.tmall.com/search_product.htm?spm=1.1.0.0.8KbOAa&user_id=725677994&cat=51442021&active=1&style=g&acm=lb-zebra-26901-351256.1003.4.468278&search_condition=23&scm=1003.4.lb-zebra-26901-351256.OTHER_14440872521661_468278\n"
     ]
    },
    {
     "name": "stderr",
     "output_type": "stream",
     "text": [
      "/home/carlous/.pyenv/versions/anaconda3-5.3.1/lib/python3.7/site-packages/ipykernel_launcher.py:13: DeprecationWarning: use options instead of chrome_options\n",
      "  del sys.path[0]\n"
     ]
    },
    {
     "name": "stdout",
     "output_type": "stream",
     "text": [
      "https://list.tmall.com/search_product.htm?spm=1.1.0.0.2xtEik&user_id=725677994&cat=51442020&active=1&style=g&acm=lb-zebra-26901-351256.1003.4.468278&search_condition=23&scm=1003.4.lb-zebra-26901-351256.OTHER_14440868674182_468278\n"
     ]
    },
    {
     "name": "stderr",
     "output_type": "stream",
     "text": [
      "/home/carlous/.pyenv/versions/anaconda3-5.3.1/lib/python3.7/site-packages/ipykernel_launcher.py:13: DeprecationWarning: use options instead of chrome_options\n",
      "  del sys.path[0]\n"
     ]
    },
    {
     "name": "stdout",
     "output_type": "stream",
     "text": [
      "https://list.tmall.com/search_product.htm?s=0&user_id=725677994&area_code=330100&cat=50516039&active=1&style=g&acm=lb-zebra-26901-350791.1003.4.467981&search_condition=1&sort=s&scm=1003.4.lb-zebra-26901-350791.OTHER_14440849397444_467981&n=40\n",
      "No value\n"
     ]
    },
    {
     "name": "stderr",
     "output_type": "stream",
     "text": [
      "/home/carlous/.pyenv/versions/anaconda3-5.3.1/lib/python3.7/site-packages/ipykernel_launcher.py:13: DeprecationWarning: use options instead of chrome_options\n",
      "  del sys.path[0]\n"
     ]
    },
    {
     "name": "stdout",
     "output_type": "stream",
     "text": [
      "https://list.tmall.com/search_product.htm?cat=50498017&sort=s&acm=lb-zebra-26901-350920.1003.8.468083&s=0&style=g&search_condition=23&area_code=330100&n=40&active=1&user_id=725677994&spm=0.0.0.925.ZLijG2&scm=1003.8.lb-zebra-26901-350920.ITEM_14440850489672_468083\n",
      "No value\n"
     ]
    },
    {
     "name": "stderr",
     "output_type": "stream",
     "text": [
      "/home/carlous/.pyenv/versions/anaconda3-5.3.1/lib/python3.7/site-packages/ipykernel_launcher.py:13: DeprecationWarning: use options instead of chrome_options\n",
      "  del sys.path[0]\n"
     ]
    },
    {
     "name": "stdout",
     "output_type": "stream",
     "text": [
      "https://list.tmall.com/search_product.htm?cat=50504029&sort=s&acm=lb-zebra-26901-350936.1003.8.468086&s=0&style=g&search_condition=23&area_code=330100&n=40&active=1&user_id=725677994&spm=0.0.0.984.5i7dQr&scm=1003.8.lb-zebra-26901-350936.ITEM_14440850683722_468086\n",
      "No value\n"
     ]
    },
    {
     "name": "stderr",
     "output_type": "stream",
     "text": [
      "/home/carlous/.pyenv/versions/anaconda3-5.3.1/lib/python3.7/site-packages/ipykernel_launcher.py:13: DeprecationWarning: use options instead of chrome_options\n",
      "  del sys.path[0]\n"
     ]
    },
    {
     "name": "stdout",
     "output_type": "stream",
     "text": [
      "https://list.tmall.com/search_product.htm?cat=52478017&acm=lb-zebra-26901-351054.1003.8.468126&style=g&search_condition=23&active=1&user_id=725677994&spm=1.1.0.0.3aWFtV&scm=1003.8.lb-zebra-26901-351054.ITEM_14440861784844_468126\n"
     ]
    },
    {
     "name": "stderr",
     "output_type": "stream",
     "text": [
      "/home/carlous/.pyenv/versions/anaconda3-5.3.1/lib/python3.7/site-packages/ipykernel_launcher.py:13: DeprecationWarning: use options instead of chrome_options\n",
      "  del sys.path[0]\n"
     ]
    },
    {
     "name": "stdout",
     "output_type": "stream",
     "text": [
      "https://list.tmall.com/search_product.htm?cat=50492010&sort=s&style=g&acm=lb-zebra-26901-351071.1003.8.468146&search_condition=23&industryCatId=50506012&active=1&spm=1.1.0.0.0vYhbx&user_id=725677994&scm=1003.8.lb-zebra-26901-351071.ITEM_14440855628782_468146\n",
      "No value\n"
     ]
    },
    {
     "name": "stderr",
     "output_type": "stream",
     "text": [
      "/home/carlous/.pyenv/versions/anaconda3-5.3.1/lib/python3.7/site-packages/ipykernel_launcher.py:13: DeprecationWarning: use options instead of chrome_options\n",
      "  del sys.path[0]\n"
     ]
    },
    {
     "name": "stdout",
     "output_type": "stream",
     "text": [
      "https://list.tmall.com/search_product.htm?cat=50652006&sort=s&style=g&acm=lb-zebra-26901-351071.1003.8.468146&search_condition=23&industryCatId=50520006&active=1&spm=1.1.0.0.rEJHaL&user_id=725677994&scm=1003.8.lb-zebra-26901-351071.ITEM_14440867171243_468146\n",
      "No value\n"
     ]
    },
    {
     "name": "stderr",
     "output_type": "stream",
     "text": [
      "/home/carlous/.pyenv/versions/anaconda3-5.3.1/lib/python3.7/site-packages/ipykernel_launcher.py:13: DeprecationWarning: use options instead of chrome_options\n",
      "  del sys.path[0]\n"
     ]
    },
    {
     "name": "stdout",
     "output_type": "stream",
     "text": [
      "https://list.tmall.com/search_product.htm?cat=50516030&acm=lb-zebra-26901-351210.1003.8.468254&style=g&search_condition=23&industryCatId=50492019&active=1&user_id=725677994&spm=1.1.0.0.cqonGi&scm=1003.8.lb-zebra-26901-351210.ITEM_14440866747252_468254\n"
     ]
    },
    {
     "name": "stderr",
     "output_type": "stream",
     "text": [
      "/home/carlous/.pyenv/versions/anaconda3-5.3.1/lib/python3.7/site-packages/ipykernel_launcher.py:13: DeprecationWarning: use options instead of chrome_options\n",
      "  del sys.path[0]\n"
     ]
    },
    {
     "name": "stdout",
     "output_type": "stream",
     "text": [
      "https://list.tmall.com/search_product.htm?cat=50520014&acm=lb-zebra-26901-351210.1003.8.468254&style=g&search_condition=23&industryCatId=50492019&active=1&user_id=725677994&spm=1.1.0.0.zCGIWO&scm=1003.8.lb-zebra-26901-351210.ITEM_14440851357296_468254\n"
     ]
    },
    {
     "name": "stderr",
     "output_type": "stream",
     "text": [
      "/home/carlous/.pyenv/versions/anaconda3-5.3.1/lib/python3.7/site-packages/ipykernel_launcher.py:13: DeprecationWarning: use options instead of chrome_options\n",
      "  del sys.path[0]\n"
     ]
    },
    {
     "name": "stdout",
     "output_type": "stream",
     "text": [
      "https://list.tmall.com/search_product.htm?cat=50508025&acm=lb-zebra-26901-351242.1003.8.468260&style=g&search_condition=23&active=1&user_id=725677994&spm=1.1.0.0.n9NzEc&scm=1003.8.lb-zebra-26901-351242.ITEM_14440867470392_468260\n"
     ]
    },
    {
     "name": "stderr",
     "output_type": "stream",
     "text": [
      "/home/carlous/.pyenv/versions/anaconda3-5.3.1/lib/python3.7/site-packages/ipykernel_launcher.py:13: DeprecationWarning: use options instead of chrome_options\n",
      "  del sys.path[0]\n"
     ]
    },
    {
     "name": "stdout",
     "output_type": "stream",
     "text": [
      "https://list.tmall.com/search_product.htm?cat=50540002&acm=lb-zebra-26901-351242.1003.8.468260&style=g&search_condition=23&active=1&user_id=725677994&spm=1.1.0.0.PZsDvf&scm=1003.8.lb-zebra-26901-351242.ITEM_14440852080436_468260\n"
     ]
    },
    {
     "name": "stderr",
     "output_type": "stream",
     "text": [
      "/home/carlous/.pyenv/versions/anaconda3-5.3.1/lib/python3.7/site-packages/ipykernel_launcher.py:13: DeprecationWarning: use options instead of chrome_options\n",
      "  del sys.path[0]\n"
     ]
    },
    {
     "name": "stdout",
     "output_type": "stream",
     "text": [
      "https://list.tmall.com/search_product.htm?cat=50502023&acm=lb-zebra-26901-351242.1003.8.468260&style=g&search_condition=1&active=1&user_id=725677994&spm=1.1.0.0.BCCjh3&scm=1003.8.lb-zebra-26901-351242.ITEM_144408366904710_468260\n"
     ]
    },
    {
     "name": "stderr",
     "output_type": "stream",
     "text": [
      "/home/carlous/.pyenv/versions/anaconda3-5.3.1/lib/python3.7/site-packages/ipykernel_launcher.py:13: DeprecationWarning: use options instead of chrome_options\n",
      "  del sys.path[0]\n"
     ]
    },
    {
     "name": "stdout",
     "output_type": "stream",
     "text": [
      "https://list.tmall.com/search_product.htm?cat=51286003&style=g&acm=lb-zebra-26901-351246.1003.8.468265&search_condition=23&active=1&spm=3.405264.315613.807.uJlTj4&user_id=725677994&scm=1003.8.lb-zebra-26901-351246.ITEM_14440879629953_468265\n"
     ]
    },
    {
     "name": "stderr",
     "output_type": "stream",
     "text": [
      "/home/carlous/.pyenv/versions/anaconda3-5.3.1/lib/python3.7/site-packages/ipykernel_launcher.py:13: DeprecationWarning: use options instead of chrome_options\n",
      "  del sys.path[0]\n"
     ]
    },
    {
     "name": "stdout",
     "output_type": "stream",
     "text": [
      "https://list.tmall.com/search_product.htm?cat=51012003&style=g&acm=lb-zebra-26901-351246.1003.8.468265&search_condition=23&active=1&spm=3.405264.315613.808.uJlTj4&user_id=725677994&scm=1003.8.lb-zebra-26901-351246.ITEM_14440875782464_468265\n"
     ]
    },
    {
     "name": "stderr",
     "output_type": "stream",
     "text": [
      "/home/carlous/.pyenv/versions/anaconda3-5.3.1/lib/python3.7/site-packages/ipykernel_launcher.py:13: DeprecationWarning: use options instead of chrome_options\n",
      "  del sys.path[0]\n"
     ]
    },
    {
     "name": "stdout",
     "output_type": "stream",
     "text": [
      "https://list.tmall.com/search_product.htm?cat=51010006&sort=s&style=g&acm=lb-zebra-26901-351246.1003.8.468265&search_condition=23&industryCatId=50506010&active=1&spm=1.1.0.0.Yr21zg&user_id=725677994&scm=1003.8.lb-zebra-26901-351246.ITEM_14440856545025_468265\n",
      "No value\n"
     ]
    },
    {
     "name": "stderr",
     "output_type": "stream",
     "text": [
      "/home/carlous/.pyenv/versions/anaconda3-5.3.1/lib/python3.7/site-packages/ipykernel_launcher.py:13: DeprecationWarning: use options instead of chrome_options\n",
      "  del sys.path[0]\n"
     ]
    },
    {
     "name": "stdout",
     "output_type": "stream",
     "text": [
      "https://list.tmall.com/search_product.htm?cat=50998003&sort=s&style=g&acm=lb-zebra-26901-351246.1003.8.468265&search_condition=23&industryCatId=50506010&active=1&spm=1.1.0.0.Q5Qhhm&user_id=725677994&scm=1003.8.lb-zebra-26901-351246.ITEM_14440864240007_468265\n",
      "No value\n"
     ]
    },
    {
     "name": "stderr",
     "output_type": "stream",
     "text": [
      "/home/carlous/.pyenv/versions/anaconda3-5.3.1/lib/python3.7/site-packages/ipykernel_launcher.py:13: DeprecationWarning: use options instead of chrome_options\n",
      "  del sys.path[0]\n"
     ]
    },
    {
     "name": "stdout",
     "output_type": "stream",
     "text": [
      "https://list.tmall.com//search_product.htm?cat=50514008&acm=lb-zebra-26901-351259.1003.8.468285&q=%B5%E7%B7%E7%C9%C8&spm=a3204.7933263.a2227oh.d100&user_id=725677994&from=chaoshi..pc_1_searchbutton&type=p&scm=1003.8.lb-zebra-26901-351259.ITEM_14612761669453_468285\n",
      "No value\n"
     ]
    },
    {
     "name": "stderr",
     "output_type": "stream",
     "text": [
      "/home/carlous/.pyenv/versions/anaconda3-5.3.1/lib/python3.7/site-packages/ipykernel_launcher.py:13: DeprecationWarning: use options instead of chrome_options\n",
      "  del sys.path[0]\n"
     ]
    },
    {
     "name": "stdout",
     "output_type": "stream",
     "text": [
      "https://list.tmall.com/search_product.htm?cat=50516022&style=g&acm=lb-zebra-26901-351259.1003.8.468285&search_condition=23&active=1&spm=1.1.0.0.acTFqI&user_id=725677994&scm=1003.8.lb-zebra-26901-351259.ITEM_14612738584555_468285\n"
     ]
    },
    {
     "name": "stderr",
     "output_type": "stream",
     "text": [
      "/home/carlous/.pyenv/versions/anaconda3-5.3.1/lib/python3.7/site-packages/ipykernel_launcher.py:13: DeprecationWarning: use options instead of chrome_options\n",
      "  del sys.path[0]\n"
     ]
    },
    {
     "name": "stdout",
     "output_type": "stream",
     "text": [
      "https://list.tmall.com/search_product.htm?cat=50516017&acm=lb-zebra-26901-351317.1003.8.468312&style=g&q=%D7%A8%D2%B5&industryCatId=50514008&active=1&user_id=725677994&spm=1.1.0.0.iOP8IF&scm=1003.8.lb-zebra-26901-351317.ITEM_14440868363707_468312\n"
     ]
    },
    {
     "name": "stderr",
     "output_type": "stream",
     "text": [
      "/home/carlous/.pyenv/versions/anaconda3-5.3.1/lib/python3.7/site-packages/ipykernel_launcher.py:13: DeprecationWarning: use options instead of chrome_options\n",
      "  del sys.path[0]\n"
     ]
    },
    {
     "name": "stdout",
     "output_type": "stream",
     "text": [
      "https://list.tmall.com/search_product.htm?cat=50490019&acm=lb-zebra-26901-351319.1003.8.468318&style=g&search_condition=23&q=%B3%C8&industryCatId=50508013&user_id=725677994&spm=1.1.0.0.JmikmZ&scm=1003.8.lb-zebra-26901-351319.ITEM_14440880367974_468318\n"
     ]
    },
    {
     "name": "stderr",
     "output_type": "stream",
     "text": [
      "/home/carlous/.pyenv/versions/anaconda3-5.3.1/lib/python3.7/site-packages/ipykernel_launcher.py:13: DeprecationWarning: use options instead of chrome_options\n",
      "  del sys.path[0]\n"
     ]
    },
    {
     "name": "stdout",
     "output_type": "stream",
     "text": [
      "https://list.tmall.com/search_product.htm?cat=51036016&acm=lb-zebra-26901-351331.1003.8.468326&style=g&search_condition=23&q=%C6%F8%CE%ED&industryCatId=50508013&active=1&user_id=725677994&spm=1.1.0.0.oTNUOm&scm=1003.8.lb-zebra-26901-351331.ITEM_14440884971243_468326\n"
     ]
    },
    {
     "name": "stderr",
     "output_type": "stream",
     "text": [
      "/home/carlous/.pyenv/versions/anaconda3-5.3.1/lib/python3.7/site-packages/ipykernel_launcher.py:13: DeprecationWarning: use options instead of chrome_options\n",
      "  del sys.path[0]\n"
     ]
    },
    {
     "name": "stdout",
     "output_type": "stream",
     "text": [
      "https://list.tmall.com/search_product.htm?cat=50502040&style=g&acm=lb-zebra-26901-351355.1003.8.468348&q=%CF%B4%D2%C2&search_condition=23&spm=0.0.0.0.W7NMws&user_id=725677994&scm=1003.8.lb-zebra-26901-351355.ITEM_14440861060286_468348\n"
     ]
    },
    {
     "name": "stderr",
     "output_type": "stream",
     "text": [
      "/home/carlous/.pyenv/versions/anaconda3-5.3.1/lib/python3.7/site-packages/ipykernel_launcher.py:13: DeprecationWarning: use options instead of chrome_options\n",
      "  del sys.path[0]\n"
     ]
    },
    {
     "name": "stdout",
     "output_type": "stream",
     "text": [
      "https://list.tmall.com/search_product.htm?cat=50542009&sort=s&style=g&s=0&acm=lb-zebra-26901-351357.1003.8.468354&area_code=310000&search_condition=23&n=40&active=1&spm=0.0.0.0.gvlis4&user_id=725677994&scm=1003.8.lb-zebra-26901-351357.ITEM_14440865381265_468354\n",
      "No value\n"
     ]
    },
    {
     "name": "stderr",
     "output_type": "stream",
     "text": [
      "/home/carlous/.pyenv/versions/anaconda3-5.3.1/lib/python3.7/site-packages/ipykernel_launcher.py:13: DeprecationWarning: use options instead of chrome_options\n",
      "  del sys.path[0]\n"
     ]
    },
    {
     "name": "stdout",
     "output_type": "stream",
     "text": [
      "https://list.tmall.com/search_product.htm?cat=52020004&style=g&acm=lb-zebra-26901-351357.1003.8.468354&search_condition=23&active=1&spm=0.0.0.0.LvLGrl&user_id=725677994&scm=1003.8.lb-zebra-26901-351357.ITEM_14440873076247_468354\n"
     ]
    },
    {
     "name": "stderr",
     "output_type": "stream",
     "text": [
      "/home/carlous/.pyenv/versions/anaconda3-5.3.1/lib/python3.7/site-packages/ipykernel_launcher.py:13: DeprecationWarning: use options instead of chrome_options\n",
      "  del sys.path[0]\n"
     ]
    },
    {
     "name": "stdout",
     "output_type": "stream",
     "text": [
      "https://list.tmall.com/search_product.htm?cat=52026003&style=g&acm=lb-zebra-26901-351357.1003.8.468354&search_condition=23&active=1&spm=0.0.0.0.QXwBwZ&user_id=725677994&scm=1003.8.lb-zebra-26901-351357.ITEM_14440849991309_468354\n"
     ]
    },
    {
     "name": "stderr",
     "output_type": "stream",
     "text": [
      "/home/carlous/.pyenv/versions/anaconda3-5.3.1/lib/python3.7/site-packages/ipykernel_launcher.py:13: DeprecationWarning: use options instead of chrome_options\n",
      "  del sys.path[0]\n"
     ]
    },
    {
     "name": "stdout",
     "output_type": "stream",
     "text": [
      "https://list.tmall.com/search_product.htm?cat=52012003&style=g&acm=lb-zebra-26901-351357.1003.8.468354&search_condition=23&active=1&spm=0.0.0.0.SntbDW&user_id=725677994&scm=1003.8.lb-zebra-26901-351357.ITEM_144408576862811_468354\n"
     ]
    },
    {
     "name": "stderr",
     "output_type": "stream",
     "text": [
      "/home/carlous/.pyenv/versions/anaconda3-5.3.1/lib/python3.7/site-packages/ipykernel_launcher.py:13: DeprecationWarning: use options instead of chrome_options\n",
      "  del sys.path[0]\n"
     ]
    },
    {
     "name": "stdout",
     "output_type": "stream",
     "text": [
      "https://list.tmall.com/search_product.htm?cat=50490036&sort=s&style=g&s=0&acm=lb-zebra-26901-351358.1003.8.468356&area_code=330100&search_condition=23&n=40&active=1&spm=0.0.0.814.bFDXml&user_id=725677994&scm=1003.8.lb-zebra-26901-351358.ITEM_14440877212312_468356\n",
      "No value\n"
     ]
    },
    {
     "name": "stderr",
     "output_type": "stream",
     "text": [
      "/home/carlous/.pyenv/versions/anaconda3-5.3.1/lib/python3.7/site-packages/ipykernel_launcher.py:13: DeprecationWarning: use options instead of chrome_options\n",
      "  del sys.path[0]\n"
     ]
    },
    {
     "name": "stdout",
     "output_type": "stream",
     "text": [
      "https://list.tmall.com/search_product.htm?cat=51386002&sort=s&style=g&acm=lb-zebra-26901-351359.1003.8.468358&search_condition=23&industryCatId=50546017&active=1&spm=1.1.0.0.QuU2c9&user_id=725677994&smAreaId=330100&scm=1003.8.lb-zebra-26901-351359.ITEM_14440888961003_468358&tmhkmain=0\n",
      "No value\n"
     ]
    },
    {
     "name": "stderr",
     "output_type": "stream",
     "text": [
      "/home/carlous/.pyenv/versions/anaconda3-5.3.1/lib/python3.7/site-packages/ipykernel_launcher.py:13: DeprecationWarning: use options instead of chrome_options\n",
      "  del sys.path[0]\n"
     ]
    },
    {
     "name": "stdout",
     "output_type": "stream",
     "text": [
      "https://list.tmall.com/search_product.htm?cat=51126001&sort=s&style=g&acm=lb-zebra-26901-351367.1003.8.468361&search_condition=1&industryCatId=50514008&active=1&spm=1.1.0.0.Oubvaj&user_id=725677994&smAreaId=330100&scm=1003.8.lb-zebra-26901-351367.ITEM_14440881576001_468361&tmhkmain=0\n",
      "No value\n"
     ]
    },
    {
     "name": "stderr",
     "output_type": "stream",
     "text": [
      "/home/carlous/.pyenv/versions/anaconda3-5.3.1/lib/python3.7/site-packages/ipykernel_launcher.py:13: DeprecationWarning: use options instead of chrome_options\n",
      "  del sys.path[0]\n"
     ]
    },
    {
     "name": "stdout",
     "output_type": "stream",
     "text": [
      "https://list.tmall.com/search_product.htm?cat=51116002&sort=s&style=g&acm=lb-zebra-26901-351367.1003.8.468361&search_condition=23&industryCatId=50514008&active=1&spm=1.1.0.0.braMAI&user_id=725677994&smAreaId=330100&scm=1003.8.lb-zebra-26901-351367.ITEM_14440877728512_468361&tmhkmain=0\n",
      "No value\n"
     ]
    },
    {
     "name": "stderr",
     "output_type": "stream",
     "text": [
      "/home/carlous/.pyenv/versions/anaconda3-5.3.1/lib/python3.7/site-packages/ipykernel_launcher.py:13: DeprecationWarning: use options instead of chrome_options\n",
      "  del sys.path[0]\n"
     ]
    },
    {
     "name": "stdout",
     "output_type": "stream",
     "text": [
      "https://list.tmall.com/search_product.htm?cat=51120002&sort=s&style=g&acm=lb-zebra-26901-351367.1003.8.468361&search_condition=23&industryCatId=50514008&active=1&spm=1.1.0.0.m4nIBm&user_id=725677994&smAreaId=330100&scm=1003.8.lb-zebra-26901-351367.ITEM_14440889270973_468361&tmhkmain=0\n",
      "No value\n"
     ]
    },
    {
     "ename": "TypeError",
     "evalue": "expected string or bytes-like object",
     "output_type": "error",
     "traceback": [
      "\u001b[0;31m---------------------------------------------------------------------------\u001b[0m",
      "\u001b[0;31mTypeError\u001b[0m                                 Traceback (most recent call last)",
      "\u001b[0;32m<ipython-input-100-17d9b827b221>\u001b[0m in \u001b[0;36m<module>\u001b[0;34m()\u001b[0m\n\u001b[1;32m     68\u001b[0m     \u001b[0;32mfor\u001b[0m \u001b[0mi\u001b[0m \u001b[0;32min\u001b[0m \u001b[0marrayLink\u001b[0m\u001b[0;34m:\u001b[0m\u001b[0;34m\u001b[0m\u001b[0m\n\u001b[1;32m     69\u001b[0m         \u001b[0mlistToUse\u001b[0m\u001b[0;34m.\u001b[0m\u001b[0mappend\u001b[0m\u001b[0;34m(\u001b[0m\u001b[0mgetProductLink\u001b[0m\u001b[0;34m(\u001b[0m\u001b[0mi\u001b[0m\u001b[0;34m)\u001b[0m\u001b[0;34m)\u001b[0m\u001b[0;34m\u001b[0m\u001b[0m\n\u001b[0;32m---> 70\u001b[0;31m     \u001b[0mContralFE\u001b[0m\u001b[0;34m(\u001b[0m\u001b[0msliceIndex\u001b[0m\u001b[0;34m,\u001b[0m\u001b[0;34m'LOST.csv'\u001b[0m\u001b[0;34m,\u001b[0m\u001b[0mlistToUse\u001b[0m\u001b[0;34m)\u001b[0m\u001b[0;34m\u001b[0m\u001b[0m\n\u001b[0m",
      "\u001b[0;32m<ipython-input-100-17d9b827b221>\u001b[0m in \u001b[0;36mContralFE\u001b[0;34m(sliceIndex, csv_name, listToUse)\u001b[0m\n\u001b[1;32m     47\u001b[0m \u001b[0;32mdef\u001b[0m \u001b[0mContralFE\u001b[0m\u001b[0;34m(\u001b[0m\u001b[0msliceIndex\u001b[0m\u001b[0;34m,\u001b[0m\u001b[0mcsv_name\u001b[0m\u001b[0;34m,\u001b[0m\u001b[0mlistToUse\u001b[0m\u001b[0;34m)\u001b[0m\u001b[0;34m:\u001b[0m\u001b[0;34m\u001b[0m\u001b[0m\n\u001b[1;32m     48\u001b[0m     \u001b[0;31m# 传入要保存的三级Item名称（列表）、文件名称、和爬去的数据\u001b[0m\u001b[0;34m\u001b[0m\u001b[0;34m\u001b[0m\u001b[0m\n\u001b[0;32m---> 49\u001b[0;31m     \u001b[0mresult\u001b[0m \u001b[0;34m=\u001b[0m \u001b[0mFeatureEg\u001b[0m\u001b[0;34m(\u001b[0m\u001b[0msliceIndex\u001b[0m\u001b[0;34m.\u001b[0m\u001b[0miloc\u001b[0m\u001b[0;34m[\u001b[0m\u001b[0;36m0\u001b[0m\u001b[0;34m]\u001b[0m\u001b[0;34m,\u001b[0m\u001b[0mlistToUse\u001b[0m\u001b[0;34m[\u001b[0m\u001b[0;36m0\u001b[0m\u001b[0;34m]\u001b[0m\u001b[0;34m)\u001b[0m\u001b[0;34m\u001b[0m\u001b[0m\n\u001b[0m\u001b[1;32m     50\u001b[0m     \u001b[0;32mfor\u001b[0m \u001b[0mi\u001b[0m \u001b[0;32min\u001b[0m \u001b[0mrange\u001b[0m\u001b[0;34m(\u001b[0m\u001b[0;36m1\u001b[0m\u001b[0;34m,\u001b[0m\u001b[0mlen\u001b[0m\u001b[0;34m(\u001b[0m\u001b[0msliceIndex\u001b[0m\u001b[0;34m)\u001b[0m\u001b[0;34m)\u001b[0m\u001b[0;34m:\u001b[0m\u001b[0;34m\u001b[0m\u001b[0m\n\u001b[1;32m     51\u001b[0m         \u001b[0mprint\u001b[0m\u001b[0;34m(\u001b[0m\u001b[0mi\u001b[0m\u001b[0;34m,\u001b[0m\u001b[0mend\u001b[0m\u001b[0;34m=\u001b[0m\u001b[0;34m'-*-'\u001b[0m\u001b[0;34m)\u001b[0m\u001b[0;34m\u001b[0m\u001b[0m\n",
      "\u001b[0;32m<ipython-input-100-17d9b827b221>\u001b[0m in \u001b[0;36mFeatureEg\u001b[0;34m(name, listToUse)\u001b[0m\n\u001b[1;32m     36\u001b[0m     \u001b[0;31m# 传入三基变量名称和爬去的变量\u001b[0m\u001b[0;34m\u001b[0m\u001b[0;34m\u001b[0m\u001b[0m\n\u001b[1;32m     37\u001b[0m     \u001b[0mRegVal\u001b[0m \u001b[0;34m=\u001b[0m \u001b[0mre\u001b[0m\u001b[0;34m.\u001b[0m\u001b[0mcompile\u001b[0m\u001b[0;34m(\u001b[0m\u001b[0;34mr'\\n'\u001b[0m\u001b[0;34m)\u001b[0m\u001b[0;34m\u001b[0m\u001b[0m\n\u001b[0;32m---> 38\u001b[0;31m     \u001b[0mresult\u001b[0m \u001b[0;34m=\u001b[0m \u001b[0mre\u001b[0m\u001b[0;34m.\u001b[0m\u001b[0msplit\u001b[0m\u001b[0;34m(\u001b[0m\u001b[0mRegVal\u001b[0m\u001b[0;34m,\u001b[0m\u001b[0mlistToUse\u001b[0m\u001b[0;34m)\u001b[0m\u001b[0;34m\u001b[0m\u001b[0m\n\u001b[0m\u001b[1;32m     39\u001b[0m     \u001b[0;32mif\u001b[0m \u001b[0mlen\u001b[0m\u001b[0;34m(\u001b[0m\u001b[0mresult\u001b[0m\u001b[0;34m)\u001b[0m\u001b[0;34m>\u001b[0m\u001b[0;36m2\u001b[0m\u001b[0;34m:\u001b[0m\u001b[0;34m\u001b[0m\u001b[0m\n\u001b[1;32m     40\u001b[0m         \u001b[0mtemp\u001b[0m \u001b[0;34m=\u001b[0m \u001b[0mpd\u001b[0m\u001b[0;34m.\u001b[0m\u001b[0mDataFrame\u001b[0m\u001b[0;34m(\u001b[0m\u001b[0mresult\u001b[0m\u001b[0;34m[\u001b[0m\u001b[0;36m1\u001b[0m\u001b[0;34m:\u001b[0m\u001b[0mlen\u001b[0m\u001b[0;34m(\u001b[0m\u001b[0mresult\u001b[0m\u001b[0;34m)\u001b[0m\u001b[0;34m-\u001b[0m\u001b[0;36m2\u001b[0m\u001b[0;34m]\u001b[0m\u001b[0;34m)\u001b[0m\u001b[0;34m\u001b[0m\u001b[0m\n",
      "\u001b[0;32m~/.pyenv/versions/anaconda3-5.3.1/lib/python3.7/re.py\u001b[0m in \u001b[0;36msplit\u001b[0;34m(pattern, string, maxsplit, flags)\u001b[0m\n\u001b[1;32m    211\u001b[0m     \u001b[0;32mand\u001b[0m \u001b[0mthe\u001b[0m \u001b[0mremainder\u001b[0m \u001b[0mof\u001b[0m \u001b[0mthe\u001b[0m \u001b[0mstring\u001b[0m \u001b[0;32mis\u001b[0m \u001b[0mreturned\u001b[0m \u001b[0;32mas\u001b[0m \u001b[0mthe\u001b[0m \u001b[0mfinal\u001b[0m \u001b[0melement\u001b[0m\u001b[0;34m\u001b[0m\u001b[0m\n\u001b[1;32m    212\u001b[0m     of the list.\"\"\"\n\u001b[0;32m--> 213\u001b[0;31m     \u001b[0;32mreturn\u001b[0m \u001b[0m_compile\u001b[0m\u001b[0;34m(\u001b[0m\u001b[0mpattern\u001b[0m\u001b[0;34m,\u001b[0m \u001b[0mflags\u001b[0m\u001b[0;34m)\u001b[0m\u001b[0;34m.\u001b[0m\u001b[0msplit\u001b[0m\u001b[0;34m(\u001b[0m\u001b[0mstring\u001b[0m\u001b[0;34m,\u001b[0m \u001b[0mmaxsplit\u001b[0m\u001b[0;34m)\u001b[0m\u001b[0;34m\u001b[0m\u001b[0m\n\u001b[0m\u001b[1;32m    214\u001b[0m \u001b[0;34m\u001b[0m\u001b[0m\n\u001b[1;32m    215\u001b[0m \u001b[0;32mdef\u001b[0m \u001b[0mfindall\u001b[0m\u001b[0;34m(\u001b[0m\u001b[0mpattern\u001b[0m\u001b[0;34m,\u001b[0m \u001b[0mstring\u001b[0m\u001b[0;34m,\u001b[0m \u001b[0mflags\u001b[0m\u001b[0;34m=\u001b[0m\u001b[0;36m0\u001b[0m\u001b[0;34m)\u001b[0m\u001b[0;34m:\u001b[0m\u001b[0;34m\u001b[0m\u001b[0m\n",
      "\u001b[0;31mTypeError\u001b[0m: expected string or bytes-like object"
     ]
    }
   ],
   "source": [
    "import selenium\n",
    "from selenium import webdriver\n",
    "import time\n",
    "import random\n",
    "import re\n",
    "\n",
    "def InitChrome():\n",
    "    options = webdriver.ChromeOptions()\n",
    "    options.add_argument('lang=zh_CN.UTF-8')\n",
    "    \n",
    "    # options.add_argument('user-agent=\"Mozilla/5.0 (iPod; U; CPU iPhone OS 2_1 like Mac OS X; ja-jp) AppleWebKit/525.18.1 (KHTML, like Gecko) Version/3.1.1 Mobile/5F137 Safari/525.20\"')\n",
    "\n",
    "    browser = webdriver.Chrome(chrome_options=options)\n",
    "    # browser.get('https://login.tmall.com/?redirectURL=https%3A%2F%2Flist.tmall.com%2F%2Fsearch_product.htm%3Fq%3DThe%2Bland%252F%25C5%25A6%25CA%25CB%25C0%25BC%26user_id%3D725677994%26type%3Dp%26cat%3D50514008%26spm%3Da3204.7933263.a2227oh.d100%26from%3Dchaoshi..pc_1_searchbutton')\n",
    "    return browser\n",
    "\n",
    "def getProductLink(arrayLink):\n",
    "    browser = InitChrome()\n",
    "    time.sleep(random.randint(2,8))\n",
    "    browser.get(arrayLink)\n",
    "    time.sleep(random.randint(2,8))\n",
    "    print(i)\n",
    "    try:\n",
    "        browser.find_element_by_xpath('//*[@id=\"J_RecommendProp\"]/div/a').click()\n",
    "    except:\n",
    "        pass\n",
    "    try:\n",
    "        temp = browser.find_element_by_xpath('//*[@id=\"J_RecommendProp\"]/div').text\n",
    "    except:\n",
    "        print('No value')\n",
    "        temp = [' ']\n",
    "    browser.quit()\n",
    "    return temp\n",
    "\n",
    "def FeatureEg(name,listToUse):\n",
    "    # 传入三基变量名称和爬去的变量\n",
    "    if listToUse!=[' ']:\n",
    "        RegVal = re.compile(r'\\n')\n",
    "        result = re.split(RegVal,listToUse)\n",
    "        if len(result)>2:\n",
    "            temp = pd.DataFrame(result[1:len(result)-2])\n",
    "        else:\n",
    "            temp = pd.DataFrame([result[1]]).T\n",
    "    else:\n",
    "        temp = pd.DataFrame(listToUse)\n",
    "    temp['Third']=name\n",
    "    temp.rename(columns={0:'Brands'},inplace =True)\n",
    "    return temp[['Third','Brands']]\n",
    "\n",
    "def ContralFE(sliceIndex,csv_name,listToUse):\n",
    "    # 传入要保存的三级Item名称（列表）、文件名称、和爬去的数据\n",
    "    result = FeatureEg(sliceIndex.iloc[0],listToUse[0])\n",
    "    for i in range(1,len(sliceIndex)):\n",
    "        print(i,end='-*-')\n",
    "        try:\n",
    "            result = result.append(FeatureEg(sliceIndex.iloc[i],listToUse[i]),ignore_index=True)\n",
    "        except:\n",
    "            print(csv_name+ ' has error! ')\n",
    "            pass\n",
    "    result.to_csv('LOSTLINK/'+csv_name+'.csv')\n",
    "    print(\"-*-SAVE\"+csv_name)\n",
    "\n",
    "if __name__ == '__main__':\n",
    "    \n",
    "    \n",
    "    value= pd.read_csv('LOSTLINK.csv',index_col=0)\n",
    "    \n",
    "    arrayLink = value.productLink\n",
    "    sliceIndex = value.Third\n",
    "    listToUse = []\n",
    "    for i in arrayLink:\n",
    "        listToUse.append(getProductLink(i))\n",
    "    ContralFE(sliceIndex,'LOST.csv',listToUse)"
   ]
  },
  {
   "cell_type": "code",
   "execution_count": 118,
   "metadata": {},
   "outputs": [
    {
     "name": "stdout",
     "output_type": "stream",
     "text": [
      "1-*-2-*-3-*-4-*-5-*-6-*-7-*-8-*-9-*-10-*-11-*-12-*-13-*-14-*-15-*-16-*-17-*-18-*-19-*-20-*-21-*-22-*-23-*-24-*-25-*-26-*-27-*-28-*-29-*-30-*-31-*-32-*-33-*-34-*-35-*-36-*-37-*-38-*-39-*--*-SAVELOST.csv\n"
     ]
    }
   ],
   "source": [
    "def FeatureEg(name,listToUse):\n",
    "    # 传入三基变量名称和爬去的变量\n",
    "    if listToUse!=[' ']:\n",
    "        RegVal = re.compile(r'\\n')\n",
    "        result = re.split(RegVal,listToUse)\n",
    "        if len(result)>2:\n",
    "            temp = pd.DataFrame(result[1:len(result)-2])\n",
    "        else:\n",
    "            temp = pd.DataFrame([result[1]]).T\n",
    "    else:\n",
    "        temp = pd.DataFrame(listToUse)\n",
    "    temp['Third']=name\n",
    "    temp.rename(columns={0:'Brands'},inplace =True)\n",
    "    return temp[['Third','Brands']]\n",
    "def ContralFE(sliceIndex,csv_name,listToUse):\n",
    "    # 传入要保存的三级Item名称（列表）、文件名称、和爬去的数据\n",
    "    result = FeatureEg(sliceIndex.iloc[0],listToUse[0])\n",
    "    for i in range(1,len(sliceIndex)):\n",
    "        print(i,end='-*-')\n",
    "        try:\n",
    "            result = result.append(FeatureEg(sliceIndex.iloc[i],listToUse[i]),ignore_index=True)\n",
    "        except:\n",
    "            print(csv_name+ ' has error! ')\n",
    "            pass\n",
    "    result.to_csv(csv_name)\n",
    "    print(\"-*-SAVE\"+csv_name)\n",
    "\n",
    "ContralFE(sliceIndex,'LOST.csv',listToUse)"
   ]
  },
  {
   "cell_type": "code",
   "execution_count": 163,
   "metadata": {
    "scrolled": true
   },
   "outputs": [],
   "source": [
    "Mergedata_2 = pd.read_csv('Brands/LOST.csv',index_col=0)\n",
    "\n",
    "Result = pd.merge(Mergedata,Mergedata_2,on = ['Third','Brands'],how='left')\n",
    "SaveValue = Result[Result.Brands!='LOST']\n",
    "\n",
    "SaveValue.to_csv('Result.csv')\n",
    "SaveValue.Brands.to_csv('Brands.csv',index=False)"
   ]
  }
 ],
 "metadata": {
  "kernelspec": {
   "display_name": "Python 3",
   "language": "python",
   "name": "python3"
  },
  "language_info": {
   "codemirror_mode": {
    "name": "ipython",
    "version": 3
   },
   "file_extension": ".py",
   "mimetype": "text/x-python",
   "name": "python",
   "nbconvert_exporter": "python",
   "pygments_lexer": "ipython3",
   "version": "3.7.0"
  },
  "toc": {
   "base_numbering": 1,
   "nav_menu": {},
   "number_sections": true,
   "sideBar": true,
   "skip_h1_title": false,
   "title_cell": "Table of Contents",
   "title_sidebar": "Contents",
   "toc_cell": false,
   "toc_position": {},
   "toc_section_display": true,
   "toc_window_display": false
  },
  "varInspector": {
   "cols": {
    "lenName": 16,
    "lenType": 16,
    "lenVar": 40
   },
   "kernels_config": {
    "python": {
     "delete_cmd_postfix": "",
     "delete_cmd_prefix": "del ",
     "library": "var_list.py",
     "varRefreshCmd": "print(var_dic_list())"
    },
    "r": {
     "delete_cmd_postfix": ") ",
     "delete_cmd_prefix": "rm(",
     "library": "var_list.r",
     "varRefreshCmd": "cat(var_dic_list()) "
    }
   },
   "types_to_exclude": [
    "module",
    "function",
    "builtin_function_or_method",
    "instance",
    "_Feature"
   ],
   "window_display": false
  }
 },
 "nbformat": 4,
 "nbformat_minor": 2
}
